{
 "cells": [
  {
   "cell_type": "code",
   "execution_count": 1,
   "id": "50d50c91",
   "metadata": {},
   "outputs": [],
   "source": [
    "import pandas as pd\n",
    "from sklearn.pipeline import make_pipeline\n",
    "from sklearn.pipeline import make_union\n",
    "from sklearn.compose import make_column_transformer\n",
    "from sklearn.impute import SimpleImputer\n",
    "from sklearn.preprocessing import OneHotEncoder\n",
    "from sklearn.linear_model import Ridge\n",
    "from sklearn.model_selection import train_test_split\n",
    "from sklearn.model_selection import GridSearchCV"
   ]
  },
  {
   "cell_type": "code",
   "execution_count": 2,
   "id": "0fabf860",
   "metadata": {
    "scrolled": true
   },
   "outputs": [],
   "source": [
    "# importing the newest data \n",
    "data=pd.read_csv('../small_business/data/restaurants.csv')\n",
    "data=data.drop(columns='Unnamed: 0')"
   ]
  },
  {
   "cell_type": "code",
   "execution_count": 3,
   "id": "6b66469a",
   "metadata": {},
   "outputs": [
    {
     "data": {
      "text/html": [
       "<div>\n",
       "<style scoped>\n",
       "    .dataframe tbody tr th:only-of-type {\n",
       "        vertical-align: middle;\n",
       "    }\n",
       "\n",
       "    .dataframe tbody tr th {\n",
       "        vertical-align: top;\n",
       "    }\n",
       "\n",
       "    .dataframe thead th {\n",
       "        text-align: right;\n",
       "    }\n",
       "</style>\n",
       "<table border=\"1\" class=\"dataframe\">\n",
       "  <thead>\n",
       "    <tr style=\"text-align: right;\">\n",
       "      <th></th>\n",
       "      <th>name</th>\n",
       "      <th>type</th>\n",
       "      <th>rating</th>\n",
       "      <th>review_count</th>\n",
       "      <th>price</th>\n",
       "      <th>address</th>\n",
       "      <th>label</th>\n",
       "      <th>dine_in</th>\n",
       "      <th>takeaway</th>\n",
       "      <th>delivery</th>\n",
       "      <th>drive_through</th>\n",
       "      <th>no_del_exp</th>\n",
       "      <th>curb_pickup</th>\n",
       "      <th>postal_code</th>\n",
       "      <th>municipality</th>\n",
       "      <th>neighborhood</th>\n",
       "    </tr>\n",
       "  </thead>\n",
       "  <tbody>\n",
       "    <tr>\n",
       "      <th>0</th>\n",
       "      <td>Augusto Lisboa</td>\n",
       "      <td>brunch</td>\n",
       "      <td>4.8</td>\n",
       "      <td>1032.0</td>\n",
       "      <td>2</td>\n",
       "      <td>Rua Santa M.nha 26, 1100-491 Lisboa, Portugal</td>\n",
       "      <td>['dine-in', 'takeaway', 'no delivery']</td>\n",
       "      <td>1</td>\n",
       "      <td>1</td>\n",
       "      <td>0</td>\n",
       "      <td>0</td>\n",
       "      <td>1</td>\n",
       "      <td>0</td>\n",
       "      <td>1100-491</td>\n",
       "      <td>Lisboa</td>\n",
       "      <td>Graça</td>\n",
       "    </tr>\n",
       "    <tr>\n",
       "      <th>1</th>\n",
       "      <td>Tiffin Cafe &amp; Restaurant Lisboa</td>\n",
       "      <td>cafe</td>\n",
       "      <td>4.9</td>\n",
       "      <td>139.0</td>\n",
       "      <td>2</td>\n",
       "      <td>R. do Conde 32, 1200-637 Lisboa, Portugal</td>\n",
       "      <td>['dine-in', 'takeaway', 'delivery']</td>\n",
       "      <td>1</td>\n",
       "      <td>1</td>\n",
       "      <td>1</td>\n",
       "      <td>0</td>\n",
       "      <td>0</td>\n",
       "      <td>0</td>\n",
       "      <td>1200-637</td>\n",
       "      <td>Lisboa</td>\n",
       "      <td>Prazeres</td>\n",
       "    </tr>\n",
       "  </tbody>\n",
       "</table>\n",
       "</div>"
      ],
      "text/plain": [
       "                              name    type  rating  review_count  price  \\\n",
       "0                   Augusto Lisboa  brunch     4.8        1032.0      2   \n",
       "1  Tiffin Cafe & Restaurant Lisboa    cafe     4.9         139.0      2   \n",
       "\n",
       "                                         address  \\\n",
       "0  Rua Santa M.nha 26, 1100-491 Lisboa, Portugal   \n",
       "1      R. do Conde 32, 1200-637 Lisboa, Portugal   \n",
       "\n",
       "                                    label  dine_in  takeaway  delivery  \\\n",
       "0  ['dine-in', 'takeaway', 'no delivery']        1         1         0   \n",
       "1     ['dine-in', 'takeaway', 'delivery']        1         1         1   \n",
       "\n",
       "   drive_through  no_del_exp  curb_pickup postal_code municipality  \\\n",
       "0              0           1            0    1100-491       Lisboa   \n",
       "1              0           0            0    1200-637       Lisboa   \n",
       "\n",
       "  neighborhood  \n",
       "0        Graça  \n",
       "1     Prazeres  "
      ]
     },
     "execution_count": 3,
     "metadata": {},
     "output_type": "execute_result"
    }
   ],
   "source": [
    "data.head(2)"
   ]
  },
  {
   "cell_type": "code",
   "execution_count": 4,
   "id": "d1c8bb93",
   "metadata": {},
   "outputs": [],
   "source": [
    "#Defining X and y and splitting between test and train \n",
    "\n",
    "X = data.drop(columns=['rating','name', 'address', 'label', 'postal_code', 'no_del_exp', 'municipality', 'review_count'])\n",
    "y = data['rating']\n",
    "\n",
    "X_train, X_test, y_train, y_test = train_test_split(X, y, test_size=0.20, random_state=2)"
   ]
  },
  {
   "cell_type": "code",
   "execution_count": 5,
   "id": "7a5a2406",
   "metadata": {},
   "outputs": [
    {
     "data": {
      "text/html": [
       "<div>\n",
       "<style scoped>\n",
       "    .dataframe tbody tr th:only-of-type {\n",
       "        vertical-align: middle;\n",
       "    }\n",
       "\n",
       "    .dataframe tbody tr th {\n",
       "        vertical-align: top;\n",
       "    }\n",
       "\n",
       "    .dataframe thead th {\n",
       "        text-align: right;\n",
       "    }\n",
       "</style>\n",
       "<table border=\"1\" class=\"dataframe\">\n",
       "  <thead>\n",
       "    <tr style=\"text-align: right;\">\n",
       "      <th></th>\n",
       "      <th>type</th>\n",
       "      <th>price</th>\n",
       "      <th>dine_in</th>\n",
       "      <th>takeaway</th>\n",
       "      <th>delivery</th>\n",
       "      <th>drive_through</th>\n",
       "      <th>curb_pickup</th>\n",
       "      <th>neighborhood</th>\n",
       "    </tr>\n",
       "  </thead>\n",
       "  <tbody>\n",
       "    <tr>\n",
       "      <th>0</th>\n",
       "      <td>brunch</td>\n",
       "      <td>2</td>\n",
       "      <td>1</td>\n",
       "      <td>1</td>\n",
       "      <td>0</td>\n",
       "      <td>0</td>\n",
       "      <td>0</td>\n",
       "      <td>Graça</td>\n",
       "    </tr>\n",
       "    <tr>\n",
       "      <th>1</th>\n",
       "      <td>cafe</td>\n",
       "      <td>2</td>\n",
       "      <td>1</td>\n",
       "      <td>1</td>\n",
       "      <td>1</td>\n",
       "      <td>0</td>\n",
       "      <td>0</td>\n",
       "      <td>Prazeres</td>\n",
       "    </tr>\n",
       "    <tr>\n",
       "      <th>2</th>\n",
       "      <td>mediterranean</td>\n",
       "      <td>1</td>\n",
       "      <td>1</td>\n",
       "      <td>1</td>\n",
       "      <td>0</td>\n",
       "      <td>0</td>\n",
       "      <td>0</td>\n",
       "      <td>Santa Engrácia</td>\n",
       "    </tr>\n",
       "  </tbody>\n",
       "</table>\n",
       "</div>"
      ],
      "text/plain": [
       "            type  price  dine_in  takeaway  delivery  drive_through  \\\n",
       "0         brunch      2        1         1         0              0   \n",
       "1           cafe      2        1         1         1              0   \n",
       "2  mediterranean      1        1         1         0              0   \n",
       "\n",
       "   curb_pickup    neighborhood  \n",
       "0            0           Graça  \n",
       "1            0        Prazeres  \n",
       "2            0  Santa Engrácia  "
      ]
     },
     "execution_count": 5,
     "metadata": {},
     "output_type": "execute_result"
    }
   ],
   "source": [
    "X.head(3)"
   ]
  },
  {
   "cell_type": "code",
   "execution_count": 6,
   "id": "368e93fd",
   "metadata": {},
   "outputs": [
    {
     "data": {
      "text/plain": [
       "Pipeline(steps=[('columntransformer',\n",
       "                 ColumnTransformer(remainder='passthrough',\n",
       "                                   transformers=[('simpleimputer',\n",
       "                                                  SimpleImputer(strategy='most_frequent'),\n",
       "                                                  ['price']),\n",
       "                                                 ('onehotencoder',\n",
       "                                                  OneHotEncoder(handle_unknown='ignore'),\n",
       "                                                  ['neighborhood', 'type'])])),\n",
       "                ('ridge', Ridge())])"
      ]
     },
     "execution_count": 6,
     "metadata": {},
     "output_type": "execute_result"
    }
   ],
   "source": [
    "#Creating a Pipeline with one One encoder + filling Na in prices \n",
    "\n",
    "price_transformer = SimpleImputer(strategy=\"most_frequent\")\n",
    "cat_transformer = OneHotEncoder(handle_unknown='ignore')\n",
    "\n",
    "preproc_basic = make_column_transformer((price_transformer, ['price']),\n",
    "                                       (cat_transformer, ['neighborhood', 'type']), remainder='passthrough')\n",
    "\n",
    "pipe = make_pipeline(preproc_basic, Ridge())\n",
    "pipe"
   ]
  },
  {
   "cell_type": "code",
   "execution_count": 7,
   "id": "54c523cc",
   "metadata": {},
   "outputs": [
    {
     "data": {
      "text/plain": [
       "0.005632208301196262"
      ]
     },
     "execution_count": 7,
     "metadata": {},
     "output_type": "execute_result"
    }
   ],
   "source": [
    "pipe.fit(X_train,y_train)\n",
    "pipe.score(X_test,y_test)"
   ]
  },
  {
   "cell_type": "code",
   "execution_count": 8,
   "id": "972e0e7a",
   "metadata": {
    "scrolled": true
   },
   "outputs": [
    {
     "name": "stdout",
     "output_type": "stream",
     "text": [
      "{'ridge__alpha': 10} 0.011467726261738776\n"
     ]
    }
   ],
   "source": [
    "# Make a Grid Search to find the best params of the regression model \n",
    "\n",
    "pipe.get_params()\n",
    "\n",
    "grid_search = GridSearchCV(\n",
    "    pipe, \n",
    "    param_grid={\n",
    "        'ridge__alpha': [0.1, 0.5, 1, 5, 10]},\n",
    "    cv=5,\n",
    "    scoring=\"r2\")\n",
    "\n",
    "grid_search.fit(X_train, y_train)\n",
    "\n",
    "model=grid_search.best_estimator_\n",
    "\n",
    "print(grid_search.best_params_, grid_search.best_score_)"
   ]
  },
  {
   "cell_type": "code",
   "execution_count": 9,
   "id": "38dca6b5",
   "metadata": {},
   "outputs": [
    {
     "data": {
      "text/plain": [
       "array([4.57204436, 4.46435614])"
      ]
     },
     "execution_count": 9,
     "metadata": {},
     "output_type": "execute_result"
    }
   ],
   "source": [
    "# Predicting score for the 2 example below: \n",
    "pipe.predict(X_test.iloc[0:2])"
   ]
  },
  {
   "cell_type": "code",
   "execution_count": 10,
   "id": "fde847f5",
   "metadata": {},
   "outputs": [
    {
     "data": {
      "text/html": [
       "<div>\n",
       "<style scoped>\n",
       "    .dataframe tbody tr th:only-of-type {\n",
       "        vertical-align: middle;\n",
       "    }\n",
       "\n",
       "    .dataframe tbody tr th {\n",
       "        vertical-align: top;\n",
       "    }\n",
       "\n",
       "    .dataframe thead th {\n",
       "        text-align: right;\n",
       "    }\n",
       "</style>\n",
       "<table border=\"1\" class=\"dataframe\">\n",
       "  <thead>\n",
       "    <tr style=\"text-align: right;\">\n",
       "      <th></th>\n",
       "      <th>type</th>\n",
       "      <th>price</th>\n",
       "      <th>dine_in</th>\n",
       "      <th>takeaway</th>\n",
       "      <th>delivery</th>\n",
       "      <th>drive_through</th>\n",
       "      <th>curb_pickup</th>\n",
       "      <th>neighborhood</th>\n",
       "    </tr>\n",
       "  </thead>\n",
       "  <tbody>\n",
       "    <tr>\n",
       "      <th>37</th>\n",
       "      <td>bistro</td>\n",
       "      <td>1</td>\n",
       "      <td>1</td>\n",
       "      <td>1</td>\n",
       "      <td>0</td>\n",
       "      <td>0</td>\n",
       "      <td>0</td>\n",
       "      <td>Anjos</td>\n",
       "    </tr>\n",
       "    <tr>\n",
       "      <th>444</th>\n",
       "      <td>bar</td>\n",
       "      <td>1</td>\n",
       "      <td>1</td>\n",
       "      <td>1</td>\n",
       "      <td>1</td>\n",
       "      <td>0</td>\n",
       "      <td>0</td>\n",
       "      <td>Mercês</td>\n",
       "    </tr>\n",
       "  </tbody>\n",
       "</table>\n",
       "</div>"
      ],
      "text/plain": [
       "       type  price  dine_in  takeaway  delivery  drive_through  curb_pickup  \\\n",
       "37   bistro      1        1         1         0              0            0   \n",
       "444     bar      1        1         1         1              0            0   \n",
       "\n",
       "    neighborhood  \n",
       "37         Anjos  \n",
       "444       Mercês  "
      ]
     },
     "execution_count": 10,
     "metadata": {},
     "output_type": "execute_result"
    }
   ],
   "source": [
    "X_test.iloc[0:2]"
   ]
  },
  {
   "cell_type": "code",
   "execution_count": null,
   "id": "abb49018-5ea8-4124-be22-7b66f801761a",
   "metadata": {},
   "outputs": [],
   "source": []
  }
 ],
 "metadata": {
  "kernelspec": {
   "display_name": "Python 3 (ipykernel)",
   "language": "python",
   "name": "python3"
  },
  "language_info": {
   "codemirror_mode": {
    "name": "ipython",
    "version": 3
   },
   "file_extension": ".py",
   "mimetype": "text/x-python",
   "name": "python",
   "nbconvert_exporter": "python",
   "pygments_lexer": "ipython3",
   "version": "3.8.12"
  },
  "toc": {
   "base_numbering": 1,
   "nav_menu": {},
   "number_sections": true,
   "sideBar": true,
   "skip_h1_title": false,
   "title_cell": "Table of Contents",
   "title_sidebar": "Contents",
   "toc_cell": false,
   "toc_position": {},
   "toc_section_display": true,
   "toc_window_display": false
  }
 },
 "nbformat": 4,
 "nbformat_minor": 5
}
