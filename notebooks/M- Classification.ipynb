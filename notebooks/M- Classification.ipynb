{
 "cells": [
  {
   "cell_type": "markdown",
   "id": "a50743ca",
   "metadata": {},
   "source": [
    "# Classification"
   ]
  },
  {
   "cell_type": "code",
   "execution_count": 271,
   "id": "e67f35f1",
   "metadata": {},
   "outputs": [],
   "source": [
    "import pandas as pd\n",
    "from sklearn.pipeline import make_pipeline\n",
    "from sklearn.pipeline import make_union\n",
    "from sklearn.compose import make_column_transformer\n",
    "from sklearn.impute import SimpleImputer\n",
    "from sklearn.preprocessing import OneHotEncoder\n",
    "from sklearn.linear_model import Ridge\n",
    "from sklearn.linear_model import LogisticRegression\n",
    "from sklearn.model_selection import train_test_split\n",
    "from sklearn.model_selection import GridSearchCV\n",
    "from sklearn.neighbors import KNeighborsClassifier\n",
    "from sklearn.svm import LinearSVC\n",
    "from sklearn.ensemble import RandomForestClassifier\n",
    "from sklearn.metrics import confusion_matrix\n",
    "from imblearn.over_sampling import SMOTE\n",
    "import seaborn as sns\n",
    "from sklearn.svm import SVC\n",
    "from xgboost import XGBClassifier\n",
    "from sklearn.metrics import confusion_matrix, classification_report"
   ]
  },
  {
   "cell_type": "code",
   "execution_count": 272,
   "id": "a9e69214",
   "metadata": {},
   "outputs": [],
   "source": [
    "from sklearn.preprocessing import StandardScaler"
   ]
  },
  {
   "cell_type": "code",
   "execution_count": 273,
   "id": "b481e3e5",
   "metadata": {},
   "outputs": [],
   "source": [
    "data = pd.read_csv('../small_business/data/restaurants.csv')\n",
    "data = data.drop(columns = 'Unnamed: 0')"
   ]
  },
  {
   "cell_type": "code",
   "execution_count": 274,
   "id": "98853ea2",
   "metadata": {},
   "outputs": [],
   "source": [
    "X = data.drop(columns=['curb_pickup', 'drive_through','rating', 'name', 'address', 'label', 'postal_code', 'no_del_exp', 'municipality', 'review_count'])\n",
    "y = data['rating']"
   ]
  },
  {
   "cell_type": "code",
   "execution_count": 275,
   "id": "bdabf6aa",
   "metadata": {},
   "outputs": [
    {
     "data": {
      "text/plain": [
       "count    652.000000\n",
       "mean       4.390644\n",
       "std        0.363447\n",
       "min        1.000000\n",
       "25%        4.200000\n",
       "50%        4.400000\n",
       "75%        4.600000\n",
       "max        5.000000\n",
       "Name: rating, dtype: float64"
      ]
     },
     "execution_count": 275,
     "metadata": {},
     "output_type": "execute_result"
    }
   ],
   "source": [
    "y.describe()"
   ]
  },
  {
   "cell_type": "code",
   "execution_count": 393,
   "id": "94c6aa57",
   "metadata": {},
   "outputs": [],
   "source": [
    "y_class=pd.cut(x=y, bins=[0,4.2, 5], \n",
    "                        labels=[ \"below_average\", \"above average\"])"
   ]
  },
  {
   "cell_type": "code",
   "execution_count": 394,
   "id": "799f7a95",
   "metadata": {},
   "outputs": [
    {
     "data": {
      "text/plain": [
       "above average    482\n",
       "below_average    170\n",
       "Name: rating, dtype: int64"
      ]
     },
     "execution_count": 394,
     "metadata": {},
     "output_type": "execute_result"
    }
   ],
   "source": [
    "y_class.value_counts()"
   ]
  },
  {
   "cell_type": "code",
   "execution_count": 395,
   "id": "1ee5e7ee",
   "metadata": {},
   "outputs": [
    {
     "data": {
      "text/plain": [
       "(array([  1.,   0.,   0.,   1.,   3.,   8.,  21.,  83., 312., 223.]),\n",
       " array([1. , 1.4, 1.8, 2.2, 2.6, 3. , 3.4, 3.8, 4.2, 4.6, 5. ]),\n",
       " <BarContainer object of 10 artists>)"
      ]
     },
     "execution_count": 395,
     "metadata": {},
     "output_type": "execute_result"
    },
    {
     "data": {
      "image/png": "[encoded data removed]",
      "text/plain": [
       "<Figure size 432x288 with 1 Axes>"
      ]
     },
     "metadata": {
      "needs_background": "light"
     },
     "output_type": "display_data"
    }
   ],
   "source": [
    "import matplotlib.pyplot as plt\n",
    "plt.hist(y)"
   ]
  },
  {
   "cell_type": "code",
   "execution_count": 396,
   "id": "0af85fbd",
   "metadata": {},
   "outputs": [
    {
     "data": {
      "text/html": [
       "<div>\n",
       "<style scoped>\n",
       "    .dataframe tbody tr th:only-of-type {\n",
       "        vertical-align: middle;\n",
       "    }\n",
       "\n",
       "    .dataframe tbody tr th {\n",
       "        vertical-align: top;\n",
       "    }\n",
       "\n",
       "    .dataframe thead th {\n",
       "        text-align: right;\n",
       "    }\n",
       "</style>\n",
       "<table border=\"1\" class=\"dataframe\">\n",
       "  <thead>\n",
       "    <tr style=\"text-align: right;\">\n",
       "      <th></th>\n",
       "      <th>type</th>\n",
       "      <th>price</th>\n",
       "      <th>latitude</th>\n",
       "      <th>longitude</th>\n",
       "      <th>dine_in</th>\n",
       "      <th>takeaway</th>\n",
       "      <th>delivery</th>\n",
       "      <th>neighborhood</th>\n",
       "    </tr>\n",
       "  </thead>\n",
       "  <tbody>\n",
       "    <tr>\n",
       "      <th>0</th>\n",
       "      <td>brunch</td>\n",
       "      <td>2</td>\n",
       "      <td>38.714376</td>\n",
       "      <td>-9.130176</td>\n",
       "      <td>1</td>\n",
       "      <td>1</td>\n",
       "      <td>0</td>\n",
       "      <td>Graça</td>\n",
       "    </tr>\n",
       "    <tr>\n",
       "      <th>1</th>\n",
       "      <td>cafe</td>\n",
       "      <td>2</td>\n",
       "      <td>38.706143</td>\n",
       "      <td>-9.161868</td>\n",
       "      <td>1</td>\n",
       "      <td>1</td>\n",
       "      <td>1</td>\n",
       "      <td>Prazeres</td>\n",
       "    </tr>\n",
       "    <tr>\n",
       "      <th>2</th>\n",
       "      <td>mediterranean</td>\n",
       "      <td>1</td>\n",
       "      <td>38.717502</td>\n",
       "      <td>-9.120669</td>\n",
       "      <td>1</td>\n",
       "      <td>1</td>\n",
       "      <td>0</td>\n",
       "      <td>Santa Engrácia</td>\n",
       "    </tr>\n",
       "    <tr>\n",
       "      <th>3</th>\n",
       "      <td>european</td>\n",
       "      <td>4</td>\n",
       "      <td>38.710140</td>\n",
       "      <td>-9.141088</td>\n",
       "      <td>1</td>\n",
       "      <td>1</td>\n",
       "      <td>0</td>\n",
       "      <td>São Paulo</td>\n",
       "    </tr>\n",
       "    <tr>\n",
       "      <th>4</th>\n",
       "      <td>chicken</td>\n",
       "      <td>1</td>\n",
       "      <td>38.707959</td>\n",
       "      <td>-9.158521</td>\n",
       "      <td>1</td>\n",
       "      <td>1</td>\n",
       "      <td>1</td>\n",
       "      <td>Lapa</td>\n",
       "    </tr>\n",
       "    <tr>\n",
       "      <th>...</th>\n",
       "      <td>...</td>\n",
       "      <td>...</td>\n",
       "      <td>...</td>\n",
       "      <td>...</td>\n",
       "      <td>...</td>\n",
       "      <td>...</td>\n",
       "      <td>...</td>\n",
       "      <td>...</td>\n",
       "    </tr>\n",
       "    <tr>\n",
       "      <th>647</th>\n",
       "      <td>mexican</td>\n",
       "      <td>1</td>\n",
       "      <td>38.712775</td>\n",
       "      <td>-9.126086</td>\n",
       "      <td>1</td>\n",
       "      <td>1</td>\n",
       "      <td>0</td>\n",
       "      <td>Santo Estevão</td>\n",
       "    </tr>\n",
       "    <tr>\n",
       "      <th>648</th>\n",
       "      <td>mexican</td>\n",
       "      <td>1</td>\n",
       "      <td>38.716843</td>\n",
       "      <td>-9.141172</td>\n",
       "      <td>1</td>\n",
       "      <td>1</td>\n",
       "      <td>0</td>\n",
       "      <td>Santa Justa</td>\n",
       "    </tr>\n",
       "    <tr>\n",
       "      <th>649</th>\n",
       "      <td>mexican</td>\n",
       "      <td>1</td>\n",
       "      <td>38.708392</td>\n",
       "      <td>-9.145909</td>\n",
       "      <td>1</td>\n",
       "      <td>1</td>\n",
       "      <td>0</td>\n",
       "      <td>São Paulo</td>\n",
       "    </tr>\n",
       "    <tr>\n",
       "      <th>650</th>\n",
       "      <td>mexican</td>\n",
       "      <td>1</td>\n",
       "      <td>38.710863</td>\n",
       "      <td>-9.144949</td>\n",
       "      <td>1</td>\n",
       "      <td>1</td>\n",
       "      <td>0</td>\n",
       "      <td>Encarnação</td>\n",
       "    </tr>\n",
       "    <tr>\n",
       "      <th>651</th>\n",
       "      <td>mexican</td>\n",
       "      <td>2</td>\n",
       "      <td>38.711356</td>\n",
       "      <td>-9.144199</td>\n",
       "      <td>1</td>\n",
       "      <td>1</td>\n",
       "      <td>1</td>\n",
       "      <td>Encarnação</td>\n",
       "    </tr>\n",
       "  </tbody>\n",
       "</table>\n",
       "<p>652 rows × 8 columns</p>\n",
       "</div>"
      ],
      "text/plain": [
       "              type  price   latitude  longitude  dine_in  takeaway  delivery  \\\n",
       "0           brunch      2  38.714376  -9.130176        1         1         0   \n",
       "1             cafe      2  38.706143  -9.161868        1         1         1   \n",
       "2    mediterranean      1  38.717502  -9.120669        1         1         0   \n",
       "3         european      4  38.710140  -9.141088        1         1         0   \n",
       "4          chicken      1  38.707959  -9.158521        1         1         1   \n",
       "..             ...    ...        ...        ...      ...       ...       ...   \n",
       "647        mexican      1  38.712775  -9.126086        1         1         0   \n",
       "648        mexican      1  38.716843  -9.141172        1         1         0   \n",
       "649        mexican      1  38.708392  -9.145909        1         1         0   \n",
       "650        mexican      1  38.710863  -9.144949        1         1         0   \n",
       "651        mexican      2  38.711356  -9.144199        1         1         1   \n",
       "\n",
       "       neighborhood  \n",
       "0             Graça  \n",
       "1          Prazeres  \n",
       "2    Santa Engrácia  \n",
       "3         São Paulo  \n",
       "4              Lapa  \n",
       "..              ...  \n",
       "647   Santo Estevão  \n",
       "648     Santa Justa  \n",
       "649       São Paulo  \n",
       "650      Encarnação  \n",
       "651      Encarnação  \n",
       "\n",
       "[652 rows x 8 columns]"
      ]
     },
     "execution_count": 396,
     "metadata": {},
     "output_type": "execute_result"
    }
   ],
   "source": [
    "X"
   ]
  },
  {
   "cell_type": "code",
   "execution_count": 397,
   "id": "f6a53be3",
   "metadata": {},
   "outputs": [],
   "source": [
    "X_train, X_test, yc_train, yc_test = train_test_split(X, y_class, test_size=0.30, random_state=3)"
   ]
  },
  {
   "cell_type": "code",
   "execution_count": 398,
   "id": "090e4c9f",
   "metadata": {
    "scrolled": false
   },
   "outputs": [],
   "source": [
    "price_transformer = SimpleImputer(strategy=\"most_frequent\")\n",
    "cat_transformer = OneHotEncoder(handle_unknown='ignore')\n",
    "num_transformer = StandardScaler()\n",
    "\n",
    "preproc_basic = make_column_transformer((num_transformer, ['latitude', 'longitude']),\n",
    "                                        (price_transformer, ['price']),\n",
    "                                       (cat_transformer, ['neighborhood', 'type']), remainder='passthrough')\n",
    "\n",
    "preproc = make_pipeline( preproc_basic)\n"
   ]
  },
  {
   "cell_type": "code",
   "execution_count": 399,
   "id": "5d7ec6ba",
   "metadata": {},
   "outputs": [],
   "source": [
    "X_train_t = preproc.fit_transform(X_train)"
   ]
  },
  {
   "cell_type": "code",
   "execution_count": 400,
   "id": "6fee02ab",
   "metadata": {},
   "outputs": [],
   "source": [
    "models= {'KNN':{'model':KNeighborsClassifier(),\n",
    "               'params':{'n_neighbors': [4, 5,6 ], 'weights':['uniform', 'distance']}}\n",
    "        }\n",
    "\n",
    "best = {}      \n",
    "for key, value in models.items():\n",
    "    grid_search = GridSearchCV(value['model'], param_grid= value['params'],\n",
    "                               cv=5, scoring=\"f1_macro\", n_jobs = -1)\n",
    "    grid_search.fit(X_train_t, yc_train)\n",
    "    best[key] = {'params':grid_search.best_params_,\n",
    "                  'score':grid_search.best_score_}"
   ]
  },
  {
   "cell_type": "code",
   "execution_count": 401,
   "id": "ead9ace1",
   "metadata": {
    "scrolled": true
   },
   "outputs": [
    {
     "data": {
      "text/plain": [
       "{'KNN': {'params': {'n_neighbors': 5, 'weights': 'distance'},\n",
       "  'score': 0.578549940041954}}"
      ]
     },
     "execution_count": 401,
     "metadata": {},
     "output_type": "execute_result"
    }
   ],
   "source": [
    "best"
   ]
  },
  {
   "cell_type": "code",
   "execution_count": 402,
   "id": "64a1eef6",
   "metadata": {},
   "outputs": [
    {
     "data": {
      "text/plain": [
       "Pipeline(steps=[('pipeline',\n",
       "                 Pipeline(steps=[('columntransformer',\n",
       "                                  ColumnTransformer(remainder='passthrough',\n",
       "                                                    transformers=[('standardscaler',\n",
       "                                                                   StandardScaler(),\n",
       "                                                                   ['latitude',\n",
       "                                                                    'longitude']),\n",
       "                                                                  ('simpleimputer',\n",
       "                                                                   SimpleImputer(strategy='most_frequent'),\n",
       "                                                                   ['price']),\n",
       "                                                                  ('onehotencoder',\n",
       "                                                                   OneHotEncoder(handle_unknown='ignore'),\n",
       "                                                                   ['neighborhood',\n",
       "                                                                    'type'])]))]))])"
      ]
     },
     "execution_count": 402,
     "metadata": {},
     "output_type": "execute_result"
    }
   ],
   "source": [
    "pipe = make_pipeline(preproc)\n",
    "pipe"
   ]
  },
  {
   "cell_type": "code",
   "execution_count": 403,
   "id": "1ce8d66e",
   "metadata": {},
   "outputs": [],
   "source": [
    "import numpy as np\n",
    "probs = []\n",
    "def thresholdsvm(probabilities):\n",
    "    for i in probabilities[:,0]:\n",
    "        if i< 0.875:\n",
    "            probs.append('below_average')  \n",
    "        else:\n",
    "            probs.append('above average')\n",
    "\n",
    "    return np.array(probs)\n",
    "        "
   ]
  },
  {
   "cell_type": "code",
   "execution_count": 404,
   "id": "ab7871c2",
   "metadata": {},
   "outputs": [],
   "source": [
    "def thresholdknn(probabilities,threshold):\n",
    "    probsknn = []\n",
    "    for i in probabilities[:,0]:\n",
    "        if i< threshold:\n",
    "            probsknn.append('below_average')  \n",
    "        else:\n",
    "            probsknn.append('above average')\n",
    "\n",
    "    return np.array(probsknn)"
   ]
  },
  {
   "cell_type": "code",
   "execution_count": 405,
   "id": "5aac3613",
   "metadata": {},
   "outputs": [],
   "source": [
    "probsxgb = []\n",
    "def thresholdxgb(probabilities):\n",
    "    for i in probabilities[:,0]:\n",
    "        if i< 0.9:\n",
    "            probsxgb.append('below_average')  \n",
    "        else:\n",
    "            probsxgb.append('above average')\n",
    "\n",
    "    return np.array(probsxgb)"
   ]
  },
  {
   "cell_type": "code",
   "execution_count": 406,
   "id": "5f9394d9",
   "metadata": {},
   "outputs": [
    {
     "name": "stderr",
     "output_type": "stream",
     "text": [
      "/Users/malou/.pyenv/versions/3.8.12/envs/small_business/lib/python3.8/site-packages/xgboost/sklearn.py:1224: UserWarning: The use of label encoder in XGBClassifier is deprecated and will be removed in a future release. To remove this warning, do the following: 1) Pass option use_label_encoder=False when constructing XGBClassifier object; and 2) Encode your labels (y) as integers starting with 0, i.e. 0, 1, 2, ..., [num_class - 1].\n",
      "  warnings.warn(label_encoder_deprecation_msg, UserWarning)\n"
     ]
    },
    {
     "name": "stdout",
     "output_type": "stream",
     "text": [
      "[17:11:42] WARNING: /Users/runner/work/xgboost/xgboost/src/learner.cc:1115: Starting in XGBoost 1.3.0, the default evaluation metric used with the objective 'binary:logistic' was changed from 'error' to 'logloss'. Explicitly set eval_metric if you'd like to restore the old behavior.\n",
      "               precision    recall  f1-score   support\n",
      "\n",
      "above average       0.85      0.43      0.57       141\n",
      "below_average       0.35      0.80      0.49        55\n",
      "\n",
      "     accuracy                           0.54       196\n",
      "    macro avg       0.60      0.62      0.53       196\n",
      " weighted avg       0.71      0.54      0.55       196\n",
      "\n"
     ]
    },
    {
     "data": {
      "image/png": "[encoded data removed]",
      "text/plain": [
       "<Figure size 360x360 with 1 Axes>"
      ]
     },
     "metadata": {
      "needs_background": "light"
     },
     "output_type": "display_data"
    }
   ],
   "source": [
    "xgb = XGBClassifier(learning_rate = 0.1, max_depth= 20, n_estimators =50)\n",
    "xgb.fit(pipe.fit_transform(X_train),yc_train)\n",
    "y_predxgb = xgb.predict(pipe.transform(X_test))\n",
    "y_probxgb = xgb.predict_proba(pipe.transform(X_test))\n",
    "res = pd.DataFrame({'prob': y_probxgb[:,0],\n",
    "                   'target':yc_test})\n",
    "sns.catplot(data = res, x = 'target', y = 'prob', kind = 'box')\n",
    "thresholdxgb(y_probxgb)\n",
    "print(classification_report(yc_test, probsxgb))"
   ]
  },
  {
   "cell_type": "code",
   "execution_count": 410,
   "id": "31e54e30",
   "metadata": {
    "scrolled": false
   },
   "outputs": [
    {
     "name": "stdout",
     "output_type": "stream",
     "text": [
      "               precision    recall  f1-score   support\n",
      "\n",
      "above average       0.76      0.70      0.73       141\n",
      "below_average       0.36      0.44      0.39        55\n",
      "\n",
      "     accuracy                           0.62       196\n",
      "    macro avg       0.56      0.57      0.56       196\n",
      " weighted avg       0.65      0.62      0.63       196\n",
      "\n"
     ]
    },
    {
     "data": {
      "image/png": "[encoded data removed]",
      "text/plain": [
       "<Figure size 360x360 with 1 Axes>"
      ]
     },
     "metadata": {
      "needs_background": "light"
     },
     "output_type": "display_data"
    }
   ],
   "source": [
    "knn = KNeighborsClassifier(n_neighbors = 5,weights= 'uniform' )\n",
    "knn.fit(pipe.fit_transform(X_train),yc_train)\n",
    "y_predknn = knn.predict(pipe.transform(X_test))\n",
    "y_probknn = knn.predict_proba(pipe.transform(X_test))\n",
    "res = pd.DataFrame({'prob': y_probknn[:,0],\n",
    "                   'target':yc_test})\n",
    "sns.catplot(data = res, x = 'target', y = 'prob', kind = 'box')\n",
    "pred = thresholdknn(y_probknn, 0.8\n",
    "                   )\n",
    "print(classification_report(yc_test, pred))"
   ]
  },
  {
   "cell_type": "code",
   "execution_count": 362,
   "id": "1388ccda",
   "metadata": {},
   "outputs": [
    {
     "name": "stdout",
     "output_type": "stream",
     "text": [
      "               precision    recall  f1-score   support\n",
      "\n",
      "above average       0.91      0.69      0.79       170\n",
      "below_average       0.21      0.54      0.30        26\n",
      "\n",
      "     accuracy                           0.67       196\n",
      "    macro avg       0.56      0.62      0.55       196\n",
      " weighted avg       0.82      0.67      0.72       196\n",
      "\n"
     ]
    },
    {
     "data": {
      "image/png": "[encoded data removed]",
      "text/plain": [
       "<Figure size 360x360 with 1 Axes>"
      ]
     },
     "metadata": {
      "needs_background": "light"
     },
     "output_type": "display_data"
    }
   ],
   "source": [
    "svm = SVC(C= 0.1, class_weight='balanced', probability = True, kernel = 'linear')\n",
    "svm.fit(pipe.fit_transform(X_train),yc_train)\n",
    "y_pred = svm.predict(pipe.transform(X_test))\n",
    "y_prob = svm.predict_proba(pipe.transform(X_test))\n",
    "res = pd.DataFrame({'prob': y_prob[:,0],\n",
    "                   'target':yc_test})\n",
    "sns.catplot(data = res, x = 'target', y = 'prob', kind = 'box')\n",
    "thresholdsvm(y_prob)\n",
    "print(classification_report(yc_test,probs))"
   ]
  },
  {
   "cell_type": "code",
   "execution_count": 411,
   "id": "0c8afab1",
   "metadata": {},
   "outputs": [
    {
     "name": "stdout",
     "output_type": "stream",
     "text": [
      "Accuracy = 0.63\n",
      "Precision = 0.65\n",
      "Recall = 0.63\n",
      "F1 score = 0.64\n"
     ]
    }
   ],
   "source": [
    "from sklearn.metrics import accuracy_score, precision_score, recall_score, f1_score\n",
    "print('Accuracy =', round(accuracy_score(yc_test, y_pred), 2)) # Accuracy\n",
    "\n",
    "print('Precision =', round(precision_score(yc_test, y_pred, average='weighted'), 2)) # Precision\n",
    "\n",
    "print('Recall =', round(recall_score(yc_test, y_pred, average='weighted'), 2)) # Recall\n",
    "\n",
    "print('F1 score =', round(f1_score(yc_test, y_pred, average='weighted'), 2)) # F1 score"
   ]
  },
  {
   "cell_type": "code",
   "execution_count": 412,
   "id": "6aeaeb10",
   "metadata": {},
   "outputs": [],
   "source": [
    "y_predknn = knn.predict(pipe.transform(X_test))"
   ]
  },
  {
   "cell_type": "code",
   "execution_count": 413,
   "id": "b023d08c",
   "metadata": {},
   "outputs": [],
   "source": [
    "predictions = pd.Series(y_predknn)"
   ]
  },
  {
   "cell_type": "code",
   "execution_count": 414,
   "id": "dabdb7a8",
   "metadata": {},
   "outputs": [
    {
     "data": {
      "text/plain": [
       "above average    174\n",
       "below_average     22\n",
       "dtype: int64"
      ]
     },
     "execution_count": 414,
     "metadata": {},
     "output_type": "execute_result"
    }
   ],
   "source": [
    "predictions.value_counts()"
   ]
  },
  {
   "cell_type": "markdown",
   "id": "f61a246e",
   "metadata": {},
   "source": [
    "## Find nearest neighbours "
   ]
  },
  {
   "cell_type": "code",
   "execution_count": 314,
   "id": "d4e6155a",
   "metadata": {},
   "outputs": [
    {
     "data": {
      "text/plain": [
       "array([[  5,  17, 373, 416, 253, 319, 318,  39, 367, 341]])"
      ]
     },
     "execution_count": 314,
     "metadata": {},
     "output_type": "execute_result"
    }
   ],
   "source": [
    "knn.kneighbors(X_train_t[5],n_neighbors=10, return_distance=False)"
   ]
  },
  {
   "cell_type": "code",
   "execution_count": 175,
   "id": "25593e76",
   "metadata": {},
   "outputs": [],
   "source": [
    "def predict_score(data, type_of_food, neighborhood, price):\n",
    "    #putting the input in the right format\n",
    "    new_X=pd.DataFrame(columns=['type','price','latitude','longitude', 'dine_in', 'takeaway','delivery', 'drive_through', 'curb_pickup', 'neighborhood'])\n",
    "    new_row = {'type':type_of_food, 'price': price, 'latitude':'0','longitude':'0', 'takeaway':1,'dine_in':1,'delivery':1, 'drive_through':1, 'curb_pickup':1, 'neighborhood': neighborhood }\n",
    "    new_X=new_X.append(new_row, ignore_index=True)\n",
    "    y_predxgb = model.predict(pipe.transform(new_X))\n",
    "    return y_predxgb "
   ]
  },
  {
   "cell_type": "code",
   "execution_count": 216,
   "id": "d2104694",
   "metadata": {},
   "outputs": [],
   "source": [
    "def restaurant_data():\n",
    "\n",
    "    data = pd.read_csv('../small_business/data/restaurants.csv')\n",
    "    data = data.drop(columns = 'Unnamed: 0')\n",
    "    X = data.drop(columns=['rating','name', 'address', 'label', 'curb_pickup', 'drive_through', 'postal_code', 'no_del_exp', 'municipality', 'review_count'])\n",
    "    y = data['rating']\n",
    "    return X, y\n"
   ]
  },
  {
   "cell_type": "code",
   "execution_count": 221,
   "id": "8458435c",
   "metadata": {},
   "outputs": [],
   "source": [
    "def get_pipe(X, y):\n",
    "    y_class=pd.cut(x=y, bins=[0,4, 5],\n",
    "                        labels=[ \"below_average\", \"above_average\"])\n",
    "    coordinate_transformer = SimpleImputer(strategy=\"most_frequent\")\n",
    "    price_transformer = SimpleImputer(strategy=\"mean\")\n",
    "    cat_transformer = OneHotEncoder(handle_unknown='ignore')\n",
    "    preproc = make_column_transformer((price_transformer, ['price']),\n",
    "                                       (coordinate_transformer, ['latitude', 'longitude']),\n",
    "                                        (cat_transformer, ['neighborhood', 'type']), remainder='passthrough')\n",
    "    pipe = make_pipeline(preproc)\n",
    "    pipe.fit_transform(X)"
   ]
  },
  {
   "cell_type": "code",
   "execution_count": 222,
   "id": "5993e4a6",
   "metadata": {},
   "outputs": [],
   "source": [
    "X, y = restaurant_data()"
   ]
  },
  {
   "cell_type": "code",
   "execution_count": 223,
   "id": "62232278",
   "metadata": {},
   "outputs": [],
   "source": [
    "get_pipe(X, y)"
   ]
  },
  {
   "cell_type": "code",
   "execution_count": 234,
   "id": "f6c097e0",
   "metadata": {},
   "outputs": [],
   "source": [
    "longitude = pd.Series(X['longitude'].groupby(X['neighborhood']).mean())"
   ]
  },
  {
   "cell_type": "code",
   "execution_count": 247,
   "id": "d7a3f7dc",
   "metadata": {},
   "outputs": [
    {
     "data": {
      "text/plain": [
       "-9.135643283333332"
      ]
     },
     "execution_count": 247,
     "metadata": {},
     "output_type": "execute_result"
    }
   ],
   "source": [
    "all_longitude[]"
   ]
  },
  {
   "cell_type": "code",
   "execution_count": 259,
   "id": "1d85e940",
   "metadata": {},
   "outputs": [],
   "source": [
    "all_latitude = pd.DataFrame(X['latitude'].groupby(X['neighborhood']).mean())\n",
    "all_longitude = pd.DataFrame(X['longitude'].groupby(X['neighborhood']).mean())\n",
    "\n",
    "\n",
    "    "
   ]
  },
  {
   "cell_type": "code",
   "execution_count": 270,
   "id": "c31b88cb",
   "metadata": {},
   "outputs": [
    {
     "name": "stdout",
     "output_type": "stream",
     "text": [
      "38.7162168\n"
     ]
    }
   ],
   "source": [
    "i = 'Socorro'\n",
    "for neighborhood in all_latitude.index:\n",
    "    if neighborhood == i:\n",
    "        print(all_latitude.loc[i].values[0])\n",
    "\n",
    "   "
   ]
  },
  {
   "cell_type": "code",
   "execution_count": 268,
   "id": "b34195f6",
   "metadata": {},
   "outputs": [
    {
     "data": {
      "text/plain": [
       "38.7162168"
      ]
     },
     "execution_count": 268,
     "metadata": {},
     "output_type": "execute_result"
    }
   ],
   "source": [
    "all_latitude.loc[i].values[0]"
   ]
  },
  {
   "cell_type": "code",
   "execution_count": null,
   "id": "1184e2c2",
   "metadata": {},
   "outputs": [],
   "source": []
  }
 ],
 "metadata": {
  "kernelspec": {
   "display_name": "Python 3 (ipykernel)",
   "language": "python",
   "name": "python3"
  },
  "language_info": {
   "codemirror_mode": {
    "name": "ipython",
    "version": 3
   },
   "file_extension": ".py",
   "mimetype": "text/x-python",
   "name": "python",
   "nbconvert_exporter": "python",
   "pygments_lexer": "ipython3",
   "version": "3.8.12"
  },
  "toc": {
   "base_numbering": 1,
   "nav_menu": {},
   "number_sections": true,
   "sideBar": true,
   "skip_h1_title": false,
   "title_cell": "Table of Contents",
   "title_sidebar": "Contents",
   "toc_cell": false,
   "toc_position": {},
   "toc_section_display": true,
   "toc_window_display": false
  }
 },
 "nbformat": 4,
 "nbformat_minor": 5
}
