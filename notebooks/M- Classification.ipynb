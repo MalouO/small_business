{
 "cells": [
  {
   "cell_type": "markdown",
   "id": "a50743ca",
   "metadata": {},
   "source": [
    "# Classification"
   ]
  },
  {
   "cell_type": "code",
   "execution_count": 19,
   "id": "e67f35f1",
   "metadata": {},
   "outputs": [],
   "source": [
    "import pandas as pd\n",
    "from sklearn.pipeline import make_pipeline\n",
    "from sklearn.pipeline import make_union\n",
    "from sklearn.compose import make_column_transformer\n",
    "from sklearn.impute import SimpleImputer\n",
    "from sklearn.preprocessing import OneHotEncoder\n",
    "from sklearn.linear_model import Ridge\n",
    "from sklearn.model_selection import train_test_split\n",
    "from sklearn.model_selection import GridSearchCV\n",
    "from sklearn.neighbors import KNeighborsClassifier\n",
    "from sklearn.svm import LinearSVC\n",
    "from sklearn.ensemble import RandomForestClassifier"
   ]
  },
  {
   "cell_type": "code",
   "execution_count": 29,
   "id": "b481e3e5",
   "metadata": {},
   "outputs": [],
   "source": [
    "data = pd.read_csv('../small_business/data/restaurants.csv')\n",
    "data = data.drop(columns = 'Unnamed: 0')"
   ]
  },
  {
   "cell_type": "code",
   "execution_count": 59,
   "id": "98853ea2",
   "metadata": {},
   "outputs": [],
   "source": [
    "X = data.drop(columns=['rating','name', 'address', 'label', 'postal_code', 'no_del_exp', 'municipality', 'review_count'])\n",
    "y = data['rating']"
   ]
  },
  {
   "cell_type": "code",
   "execution_count": 60,
   "id": "4b540b3e",
   "metadata": {},
   "outputs": [],
   "source": [
    "y_class=pd.cut(x=y, bins=[0, 4.2,4.4,4.6, 5], \n",
    "                        labels=[\"below_avg\", \"2_q\", \"3_q\",\"4_q\"])"
   ]
  },
  {
   "cell_type": "code",
   "execution_count": 61,
   "id": "f6a53be3",
   "metadata": {},
   "outputs": [],
   "source": [
    "X_train, X_test, yc_train, yc_test = train_test_split(X, y_class, test_size=0.20, random_state=42)"
   ]
  },
  {
   "cell_type": "code",
   "execution_count": 67,
   "id": "090e4c9f",
   "metadata": {
    "scrolled": false
   },
   "outputs": [
    {
     "data": {
      "text/plain": [
       "Pipeline(steps=[('columntransformer',\n",
       "                 ColumnTransformer(remainder='passthrough',\n",
       "                                   transformers=[('simpleimputer',\n",
       "                                                  SimpleImputer(strategy='most_frequent'),\n",
       "                                                  ['price']),\n",
       "                                                 ('onehotencoder',\n",
       "                                                  OneHotEncoder(handle_unknown='ignore'),\n",
       "                                                  ['neighborhood', 'type'])]))])"
      ]
     },
     "execution_count": 67,
     "metadata": {},
     "output_type": "execute_result"
    }
   ],
   "source": [
    "price_transformer = SimpleImputer(strategy=\"most_frequent\")\n",
    "cat_transformer = OneHotEncoder(handle_unknown='ignore')\n",
    "\n",
    "preproc_basic = make_column_transformer((price_transformer, ['price']),\n",
    "                                       (cat_transformer, ['neighborhood', 'type']), remainder='passthrough')\n",
    "\n",
    "pipe = make_pipeline(preproc_basic)\n",
    "pipe"
   ]
  },
  {
   "cell_type": "code",
   "execution_count": 73,
   "id": "5d7ec6ba",
   "metadata": {},
   "outputs": [],
   "source": [
    "X_train_t = pipe.fit_transform(X_train)"
   ]
  },
  {
   "cell_type": "code",
   "execution_count": 104,
   "id": "6fee02ab",
   "metadata": {},
   "outputs": [
    {
     "name": "stderr",
     "output_type": "stream",
     "text": [
      "/Users/malou/.pyenv/versions/3.8.12/envs/small_business/lib/python3.8/site-packages/sklearn/svm/_base.py:1206: ConvergenceWarning: Liblinear failed to converge, increase the number of iterations.\n",
      "  warnings.warn(\n"
     ]
    }
   ],
   "source": [
    "models= {'KNN':{'model':KNeighborsClassifier(),\n",
    "               'params':{'n_neighbors': [5, 10, 20, 50, 100]}},\n",
    "        'RandomForest':{'model':RandomForestClassifier(),\n",
    "                        'params':{'n_estimators':[50, 100]}},\n",
    "         'SVC':{'model':LinearSVC(), \n",
    "                'params':{'C':[1, 2,3]}}\n",
    "        }\n",
    "\n",
    "best = {}      \n",
    "for key, value in models.items():\n",
    "    grid_search = GridSearchCV(value['model'], param_grid= value['params'],\n",
    "                               cv=5, scoring=\"accuracy\", n_jobs = -1)\n",
    "    grid_search.fit(X_train_t, yc_train)\n",
    "    best[key] = {'params':grid_search.best_params_,\n",
    "                   'score':grid_search.best_score_}"
   ]
  },
  {
   "cell_type": "code",
   "execution_count": 108,
   "id": "08abfa88",
   "metadata": {},
   "outputs": [
    {
     "data": {
      "text/plain": [
       "{'KNN': {'params': {'n_neighbors': 50}, 'score': 0.4261172161172161},\n",
       " 'RandomForest': {'params': {'n_estimators': 100},\n",
       "  'score': 0.39333333333333337},\n",
       " 'SVC': {'params': {'C': 1}, 'score': 0.33216117216117214}}"
      ]
     },
     "execution_count": 108,
     "metadata": {},
     "output_type": "execute_result"
    }
   ],
   "source": [
    "best"
   ]
  },
  {
   "cell_type": "code",
   "execution_count": null,
   "id": "1608604f",
   "metadata": {},
   "outputs": [],
   "source": []
  },
  {
   "cell_type": "code",
   "execution_count": 69,
   "id": "15e5d5bc",
   "metadata": {},
   "outputs": [],
   "source": [
    "#pipe.get_params()"
   ]
  },
  {
   "cell_type": "code",
   "execution_count": 76,
   "id": "ca6c1259",
   "metadata": {},
   "outputs": [
    {
     "data": {
      "text/plain": [
       "{'n_neighbors': 50}"
      ]
     },
     "execution_count": 76,
     "metadata": {},
     "output_type": "execute_result"
    }
   ],
   "source": [
    "grid_search.fit(X_train_t, yc_train)\n",
    "grid_search.best_params_"
   ]
  },
  {
   "cell_type": "code",
   "execution_count": 109,
   "id": "64a1eef6",
   "metadata": {},
   "outputs": [
    {
     "data": {
      "text/plain": [
       "Pipeline(steps=[('columntransformer',\n",
       "                 ColumnTransformer(remainder='passthrough',\n",
       "                                   transformers=[('simpleimputer',\n",
       "                                                  SimpleImputer(strategy='most_frequent'),\n",
       "                                                  ['price']),\n",
       "                                                 ('onehotencoder',\n",
       "                                                  OneHotEncoder(handle_unknown='ignore'),\n",
       "                                                  ['neighborhood', 'type'])])),\n",
       "                ('kneighborsclassifier', KNeighborsClassifier(n_neighbors=50))])"
      ]
     },
     "execution_count": 109,
     "metadata": {},
     "output_type": "execute_result"
    }
   ],
   "source": [
    "price_transformer = SimpleImputer(strategy=\"most_frequent\")\n",
    "cat_transformer = OneHotEncoder(handle_unknown='ignore')\n",
    "\n",
    "preproc_basic = make_column_transformer((price_transformer, ['price']),\n",
    "                                       (cat_transformer, ['neighborhood', 'type']), remainder='passthrough')\n",
    "\n",
    "pipe = make_pipeline(preproc_basic, KNeighborsClassifier(n_neighbors=50))\n",
    "pipe"
   ]
  },
  {
   "cell_type": "code",
   "execution_count": 112,
   "id": "6ba812d4",
   "metadata": {},
   "outputs": [
    {
     "data": {
      "text/plain": [
       "0.5114503816793893"
      ]
     },
     "execution_count": 112,
     "metadata": {},
     "output_type": "execute_result"
    }
   ],
   "source": [
    "pipe.fit(X_train,yc_train)\n",
    "pipe.score(X_test,yc_test)"
   ]
  },
  {
   "cell_type": "code",
   "execution_count": 113,
   "id": "35ecafb4",
   "metadata": {},
   "outputs": [],
   "source": [
    "y_pred = pipe.predict(X_test)"
   ]
  },
  {
   "cell_type": "code",
   "execution_count": 114,
   "id": "27416874",
   "metadata": {},
   "outputs": [
    {
     "data": {
      "text/plain": [
       "array(['3_q', '3_q', '3_q', '3_q', '3_q', '3_q', 'below_avg', '3_q',\n",
       "       '3_q', '3_q', '3_q', 'below_avg', '3_q', '3_q', '3_q', 'below_avg',\n",
       "       '3_q', '3_q', '3_q', 'below_avg', '3_q', 'below_avg', 'below_avg',\n",
       "       '3_q', '3_q', '3_q', '3_q', '3_q', '3_q', '3_q', '3_q', '3_q',\n",
       "       '3_q', '3_q', '3_q', '3_q', '3_q', '3_q', '3_q', '3_q', '3_q',\n",
       "       '3_q', '3_q', '3_q', '3_q', '3_q', '3_q', 'below_avg', '3_q',\n",
       "       '3_q', '3_q', '3_q', '3_q', '3_q', '3_q', '3_q', '3_q', '3_q',\n",
       "       '3_q', '3_q', '3_q', '3_q', '3_q', '3_q', 'below_avg', 'below_avg',\n",
       "       'below_avg', '3_q', '3_q', '4_q', '3_q', '3_q', '3_q', '3_q',\n",
       "       '3_q', 'below_avg', '3_q', '3_q', '3_q', '3_q', '3_q', '3_q',\n",
       "       'below_avg', '3_q', '3_q', '3_q', '3_q', '3_q', '3_q', 'below_avg',\n",
       "       '3_q', '3_q', '3_q', '3_q', '3_q', '3_q', 'below_avg', '3_q',\n",
       "       '4_q', '3_q', '3_q', '3_q', '3_q', '3_q', '3_q', '3_q', '3_q',\n",
       "       '3_q', '3_q', '3_q', '3_q', '3_q', '3_q', 'below_avg', '3_q',\n",
       "       '3_q', '3_q', '3_q', '3_q', 'below_avg', '3_q', '3_q', '3_q',\n",
       "       '3_q', 'below_avg', '3_q', '3_q', '3_q', '3_q', '3_q', '3_q'],\n",
       "      dtype=object)"
      ]
     },
     "execution_count": 114,
     "metadata": {},
     "output_type": "execute_result"
    }
   ],
   "source": []
  },
  {
   "cell_type": "code",
   "execution_count": null,
   "id": "357d6f07",
   "metadata": {},
   "outputs": [],
   "source": []
  }
 ],
 "metadata": {
  "kernelspec": {
   "display_name": "Python 3 (ipykernel)",
   "language": "python",
   "name": "python3"
  },
  "language_info": {
   "codemirror_mode": {
    "name": "ipython",
    "version": 3
   },
   "file_extension": ".py",
   "mimetype": "text/x-python",
   "name": "python",
   "nbconvert_exporter": "python",
   "pygments_lexer": "ipython3",
   "version": "3.8.12"
  },
  "toc": {
   "base_numbering": 1,
   "nav_menu": {},
   "number_sections": true,
   "sideBar": true,
   "skip_h1_title": false,
   "title_cell": "Table of Contents",
   "title_sidebar": "Contents",
   "toc_cell": false,
   "toc_position": {},
   "toc_section_display": true,
   "toc_window_display": false
  }
 },
 "nbformat": 4,
 "nbformat_minor": 5
}
