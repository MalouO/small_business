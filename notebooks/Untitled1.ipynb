{
 "cells": [
  {
   "cell_type": "code",
   "execution_count": 23,
   "id": "60a277a4",
   "metadata": {
    "scrolled": true
   },
   "outputs": [],
   "source": [
    "#import streamlit as st\n",
    "from os import X_OK\n",
    "import pandas as pd\n",
    "import numpy as np\n",
    "from sklearn.pipeline import make_pipeline\n",
    "from sklearn.compose import make_column_transformer\n",
    "from sklearn.impute import SimpleImputer\n",
    "from sklearn.preprocessing import OneHotEncoder\n",
    "from sklearn.preprocessing import StandardScaler\n",
    "from sklearn.neighbors import KNeighborsClassifier\n",
    "\n",
    "import joblib\n",
    "\n",
    "from scipy.sparse import csr_matrix"
   ]
  },
  {
   "cell_type": "code",
   "execution_count": 24,
   "id": "b3f52cd8",
   "metadata": {},
   "outputs": [],
   "source": [
    "import googlemaps"
   ]
  },
  {
   "cell_type": "code",
   "execution_count": null,
   "id": "2c6a5f48",
   "metadata": {},
   "outputs": [],
   "source": [
    "def latitude(column):\n",
    "    key = pd.read_csv(\"../raw_data/api_key_vb.csv\", header=None)\n",
    "    key = key.loc[0,0]\n",
    "    gmaps = googlemaps.Client(key=key)\n",
    "    # Geocoding an address\n",
    "    geocode_result = gmaps.geocode(column)\n",
    "    return float(geocode_result[0]['geometry']['location']['lat'])\n",
    "\n",
    "def longitude(column):\n",
    "    key = pd.read_csv(\"../raw_data/api_key_vb.csv\", header=None)\n",
    "    key = key.loc[0,0]\n",
    "    gmaps = googlemaps.Client(key=key)\n",
    "    # Geocoding an address\n",
    "    geocode_result = gmaps.geocode(column)\n",
    "    return float(geocode_result[0]['geometry']['location']['lng'])\n",
    "\n",
    "def get_fitted_pipe(X, y):\n",
    "    coordinate_transformer = SimpleImputer(strategy=\"most_frequent\")\n",
    "    price_transformer = SimpleImputer(strategy=\"mean\")\n",
    "    cat_transformer = OneHotEncoder(handle_unknown='ignore')\n",
    "    preproc = make_column_transformer((price_transformer, ['price']),\n",
    "                                       (coordinate_transformer, ['latitude', 'longitude']),\n",
    "                                        (cat_transformer, ['neighborhood', 'type']), remainder='passthrough')\n",
    "    pipe = make_pipeline(preproc)\n",
    "    pipe.fit_transform(X) #y_class)\n",
    "    return pipe\n",
    "\n",
    "def target_X(type_of_food, price, neighborhood, takeaway, latitude, longitude):\n",
    "    new_df=pd.DataFrame(columns=['type','price','latitude','longitude', 'dine_in', 'takeaway','delivery', 'neighborhood'])\n",
    "    new_row = {'type':type_of_food, 'price': price, 'latitude':latitude,'longitude':longitude,'takeaway':takeaway,'dine_in':1,'delivery':1,  'neighborhood': neighborhood}\n",
    "    X_user= new_df.append(new_row, ignore_index=True)\n",
    "    return X_user\n",
    "\n",
    "def build_y(y):\n",
    "    y_class=pd.cut(x=y, bins=[0,4, 5],\n",
    "                        labels=[ \"below_average\", \"above_average\"])\n",
    "    return y_class\n",
    "#target_X(type_of_food = 'brunch', price = '2', neighborhood = 'Graça', takeaway = 1, latitude =38.714376, longitude = -9.130176)\n",
    "# target X function not yet finalised, name, and other factors to be seen\n",
    "\n",
    "def train_model(pipeline, X, y_class):\n",
    "\n",
    "    knn = KNeighborsClassifier(n_neighbors = 5,weights= 'uniform')\n",
    "    knn.fit(pipeline.fit_transform(X), y_class)\n",
    "    filename = 'knn_model.joblib'\n",
    "    joblib.dump(knn, filename)\n",
    "\n",
    "\n",
    "\n",
    "def predict(X_user_transformed):\n",
    "\n",
    "    loaded_model = joblib.load('knn_model.joblib')\n",
    "    print('model loaded')\n",
    "    y_probxgb = loaded_model.predict_proba(X_user_transformed)\n",
    "    print(y_probxgb[0][1])\n",
    "    if y_probxgb[0][1]< 0.8:\n",
    "            pred =  'below_average'\n",
    "    else:\n",
    "            pred = 'above average'\n",
    "    neighbors =  loaded_model.kneighbors(X_user_transformed, n_neighbors=10, return_distance=False)\n",
    "    print(neighbors)\n",
    "    return neighbors, pred\n",
    "\n",
    "\n"
   ]
  },
  {
   "cell_type": "code",
   "execution_count": 2,
   "id": "e1336937",
   "metadata": {},
   "outputs": [],
   "source": [
    "def restaurant_data():\n",
    "\n",
    "    data = pd.read_csv('../small_business/data/restaurants.csv')\n",
    "    data = data.drop(columns = 'Unnamed: 0')\n",
    "    X = data.drop(columns=['rating','name', 'address', 'label', 'curb_pickup', 'drive_through', 'postal_code', 'no_del_exp', 'municipality', 'review_count'])\n",
    "    y = data['rating']\n",
    "    return X, y"
   ]
  },
  {
   "cell_type": "code",
   "execution_count": 12,
   "id": "1c7fb07b",
   "metadata": {},
   "outputs": [],
   "source": [
    "\n",
    "\n",
    "\n",
    "def latitude(column):\n",
    "    key = pd.read_csv(\"../raw_data/api_key_vb.csv\", header=None)\n",
    "    key = key.loc[0,0]\n",
    "    gmaps = googlemaps.Client(key=key)\n",
    "    # Geocoding an address\n",
    "    geocode_result = gmaps.geocode(column)\n",
    "    return float(geocode_result[0]['geometry']['location']['lat'])\n",
    "\n",
    "def longitude(column):\n",
    "    key = pd.read_csv(\"../raw_data/api_key_vb.csv\", header=None)\n",
    "    key = key.loc[0,0]\n",
    "    gmaps = googlemaps.Client(key=key)\n",
    "    # Geocoding an address\n",
    "    geocode_result = gmaps.geocode(column)\n",
    "    return float(geocode_result[0]['geometry']['location']['lng'])\n",
    "\n",
    "def get_fitted_pipe(X, y):\n",
    "    coordinate_transformer = SimpleImputer(strategy=\"most_frequent\")\n",
    "    price_transformer = SimpleImputer(strategy=\"mean\")\n",
    "    cat_transformer = OneHotEncoder(handle_unknown='ignore')\n",
    "    preproc = make_column_transformer((price_transformer, ['price']),\n",
    "                                       (coordinate_transformer, ['latitude', 'longitude']),\n",
    "                                        (cat_transformer, ['neighborhood', 'type']), remainder='passthrough')\n",
    "    pipe = make_pipeline(preproc)\n",
    "    pipe.fit_transform(X) #y_class)\n",
    "    return pipe\n",
    "\n",
    "def target_X(type_of_food, price, neighborhood, takeaway, latitude, longitude):\n",
    "    new_df=pd.DataFrame(columns=['type','price','latitude','longitude', 'dine_in', 'takeaway','delivery', 'neighborhood'])\n",
    "    new_row = {'type':type_of_food, 'price': price, 'latitude':latitude,'longitude':longitude,'takeaway':takeaway,'dine_in':1,'delivery':1,  'neighborhood': neighborhood}\n",
    "    X_user= new_df.append(new_row, ignore_index=True)\n",
    "    return X_user\n",
    "\n",
    "def build_y(y):\n",
    "    y_class=pd.cut(x=y, bins=[0,4, 5],\n",
    "                        labels=[ \"below_average\", \"above_average\"])\n",
    "    return y_class\n",
    "#target_X(type_of_food = 'brunch', price = '2', neighborhood = 'Graça', takeaway = 1, latitude =38.714376, longitude = -9.130176)\n",
    "# target X function not yet finalised, name, and other factors to be seen\n",
    "\n",
    "def train_model(pipeline, X, y_class):\n",
    "\n",
    "    knn = KNeighborsClassifier(n_neighbors = 5,weights= 'uniform')\n",
    "    knn.fit(pipeline.fit_transform(X), y_class)\n",
    "    filename = 'knn_model.joblib'\n",
    "    joblib.dump(knn, filename)\n",
    "\n",
    "\n",
    "\n",
    "def predict(X_user_transformed):\n",
    "\n",
    "    loaded_model = joblib.load('knn_model.joblib')\n",
    "    print('model loaded')\n",
    "    y_probxgb = loaded_model.predict_proba(X_user_transformed)\n",
    "    print(y_probxgb[0][1])\n",
    "    if y_probxgb[0][1]< 0.8:\n",
    "            pred =  'below_average'\n",
    "    else:\n",
    "            pred = 'above average'\n",
    "    neighbors =  loaded_model.kneighbors(X_user_transformed, n_neighbors=10, return_distance=False)\n",
    "    print(neighbors)\n",
    "    return neighbors, pred\n",
    "\n",
    "\n",
    "\n",
    "\n"
   ]
  },
  {
   "cell_type": "code",
   "execution_count": 13,
   "id": "e05b0b8e",
   "metadata": {},
   "outputs": [],
   "source": [
    " X, y = restaurant_data()"
   ]
  },
  {
   "cell_type": "code",
   "execution_count": 14,
   "id": "d5cc329c",
   "metadata": {},
   "outputs": [],
   "source": [
    "pipeline = get_fitted_pipe(X, y)"
   ]
  },
  {
   "cell_type": "code",
   "execution_count": 15,
   "id": "349df92a",
   "metadata": {},
   "outputs": [],
   "source": [
    "X_user = target_X(type_of_food = 'brunch', price = '2', neighborhood = 'Graça', takeaway = 1, latitude =38.714376, longitude = -9.130176)"
   ]
  },
  {
   "cell_type": "code",
   "execution_count": 16,
   "id": "fb747ec4",
   "metadata": {},
   "outputs": [],
   "source": [
    "X_user_transformed = pipeline.transform(X_user)"
   ]
  },
  {
   "cell_type": "code",
   "execution_count": 17,
   "id": "84f2e458",
   "metadata": {},
   "outputs": [
    {
     "name": "stdout",
     "output_type": "stream",
     "text": [
      "(1, 69)\n"
     ]
    }
   ],
   "source": [
    "print(X_user_transformed.shape)"
   ]
  },
  {
   "cell_type": "code",
   "execution_count": 18,
   "id": "f479b29d",
   "metadata": {},
   "outputs": [],
   "source": [
    "y_class = build_y(y)"
   ]
  },
  {
   "cell_type": "code",
   "execution_count": 19,
   "id": "f8a4f659",
   "metadata": {},
   "outputs": [],
   "source": [
    "train_model(pipeline, X, y_class)"
   ]
  },
  {
   "cell_type": "code",
   "execution_count": 20,
   "id": "658cd30f",
   "metadata": {},
   "outputs": [
    {
     "name": "stdout",
     "output_type": "stream",
     "text": [
      "model loaded\n",
      "0.0\n",
      "[[ 32   0 161 633 284 495 556 332 428 574]]\n"
     ]
    },
    {
     "data": {
      "text/plain": [
       "(array([[ 32,   0, 161, 633, 284, 495, 556, 332, 428, 574]]), 'below_average')"
      ]
     },
     "execution_count": 20,
     "metadata": {},
     "output_type": "execute_result"
    }
   ],
   "source": [
    "predict(X_user_transformed)"
   ]
  },
  {
   "cell_type": "code",
   "execution_count": 21,
   "id": "ad9b5612",
   "metadata": {},
   "outputs": [
    {
     "data": {
      "text/plain": [
       "matrix([[ 2.      , 38.714376, -9.130176,  0.      ,  0.      ,\n",
       "          0.      ,  0.      ,  0.      ,  0.      ,  0.      ,\n",
       "          0.      ,  1.      ,  0.      ,  0.      ,  0.      ,\n",
       "          0.      ,  0.      ,  0.      ,  0.      ,  0.      ,\n",
       "          0.      ,  0.      ,  0.      ,  0.      ,  0.      ,\n",
       "          0.      ,  0.      ,  0.      ,  0.      ,  0.      ,\n",
       "          0.      ,  0.      ,  0.      ,  0.      ,  0.      ,\n",
       "          0.      ,  0.      ,  0.      ,  0.      ,  0.      ,\n",
       "          0.      ,  0.      ,  0.      ,  0.      ,  0.      ,\n",
       "          0.      ,  1.      ,  0.      ,  0.      ,  0.      ,\n",
       "          0.      ,  0.      ,  0.      ,  0.      ,  0.      ,\n",
       "          0.      ,  0.      ,  0.      ,  0.      ,  0.      ,\n",
       "          0.      ,  0.      ,  0.      ,  0.      ,  0.      ,\n",
       "          0.      ,  1.      ,  1.      ,  1.      ]])"
      ]
     },
     "execution_count": 21,
     "metadata": {},
     "output_type": "execute_result"
    }
   ],
   "source": [
    "csr_matrix.todense(X_user_transformed)"
   ]
  },
  {
   "cell_type": "code",
   "execution_count": null,
   "id": "bc8a449a",
   "metadata": {},
   "outputs": [],
   "source": [
    "pipeline"
   ]
  },
  {
   "cell_type": "code",
   "execution_count": null,
   "id": "5a089241",
   "metadata": {},
   "outputs": [],
   "source": [
    "X_user"
   ]
  },
  {
   "cell_type": "code",
   "execution_count": null,
   "id": "10440b8a",
   "metadata": {},
   "outputs": [],
   "source": [
    "!ls"
   ]
  },
  {
   "cell_type": "code",
   "execution_count": null,
   "id": "42d9199d",
   "metadata": {},
   "outputs": [],
   "source": []
  }
 ],
 "metadata": {
  "kernelspec": {
   "display_name": "Python 3 (ipykernel)",
   "language": "python",
   "name": "python3"
  },
  "language_info": {
   "codemirror_mode": {
    "name": "ipython",
    "version": 3
   },
   "file_extension": ".py",
   "mimetype": "text/x-python",
   "name": "python",
   "nbconvert_exporter": "python",
   "pygments_lexer": "ipython3",
   "version": "3.8.12"
  },
  "toc": {
   "base_numbering": 1,
   "nav_menu": {},
   "number_sections": true,
   "sideBar": true,
   "skip_h1_title": false,
   "title_cell": "Table of Contents",
   "title_sidebar": "Contents",
   "toc_cell": false,
   "toc_position": {},
   "toc_section_display": true,
   "toc_window_display": false
  }
 },
 "nbformat": 4,
 "nbformat_minor": 5
}
