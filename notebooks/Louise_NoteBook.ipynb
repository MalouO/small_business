{
 "cells": [
  {
   "cell_type": "code",
   "execution_count": 216,
   "id": "26fefb6c",
   "metadata": {},
   "outputs": [
    {
     "name": "stdout",
     "output_type": "stream",
     "text": [
      "Requirement already satisfied: folium in /Users/louisecaucheteux/.pyenv/versions/3.8.12/envs/small_business/lib/python3.8/site-packages (0.12.1.post1)\n",
      "Requirement already satisfied: requests in /Users/louisecaucheteux/.pyenv/versions/3.8.12/envs/small_business/lib/python3.8/site-packages (from folium) (2.26.0)\n",
      "Requirement already satisfied: jinja2>=2.9 in /Users/louisecaucheteux/.pyenv/versions/3.8.12/envs/small_business/lib/python3.8/site-packages (from folium) (3.0.3)\n",
      "Requirement already satisfied: numpy in /Users/louisecaucheteux/.pyenv/versions/3.8.12/envs/small_business/lib/python3.8/site-packages (from folium) (1.21.4)\n",
      "Requirement already satisfied: branca>=0.3.0 in /Users/louisecaucheteux/.pyenv/versions/3.8.12/envs/small_business/lib/python3.8/site-packages (from folium) (0.4.2)\n",
      "Requirement already satisfied: MarkupSafe>=2.0 in /Users/louisecaucheteux/.pyenv/versions/3.8.12/envs/small_business/lib/python3.8/site-packages (from jinja2>=2.9->folium) (2.0.1)\n",
      "Requirement already satisfied: urllib3<1.27,>=1.21.1 in /Users/louisecaucheteux/.pyenv/versions/3.8.12/envs/small_business/lib/python3.8/site-packages (from requests->folium) (1.26.7)\n",
      "Requirement already satisfied: idna<4,>=2.5 in /Users/louisecaucheteux/.pyenv/versions/3.8.12/envs/small_business/lib/python3.8/site-packages (from requests->folium) (3.3)\n",
      "Requirement already satisfied: charset-normalizer~=2.0.0 in /Users/louisecaucheteux/.pyenv/versions/3.8.12/envs/small_business/lib/python3.8/site-packages (from requests->folium) (2.0.8)\n",
      "Requirement already satisfied: certifi>=2017.4.17 in /Users/louisecaucheteux/.pyenv/versions/3.8.12/envs/small_business/lib/python3.8/site-packages (from requests->folium) (2021.10.8)\n"
     ]
    }
   ],
   "source": [
    "! pip install folium"
   ]
  },
  {
   "cell_type": "code",
   "execution_count": 226,
   "id": "75814933",
   "metadata": {},
   "outputs": [],
   "source": [
    "import pickle\n",
    "import pandas as pd\n",
    "import numpy as np\n",
    "import matplotlib.pyplot as plt"
   ]
  },
  {
   "cell_type": "code",
   "execution_count": 218,
   "id": "82f3ecdc",
   "metadata": {},
   "outputs": [],
   "source": [
    "file = open(\"../raw_data/cleaned_businesses.pickle\",'rb')\n",
    "data_reviews = pickle.load(file)\n",
    "file.close()"
   ]
  },
  {
   "cell_type": "markdown",
   "id": "6f80df0a",
   "metadata": {},
   "source": [
    "# Preprocessing "
   ]
  },
  {
   "cell_type": "markdown",
   "id": "29f921cb",
   "metadata": {},
   "source": [
    "## Deleting columns "
   ]
  },
  {
   "cell_type": "code",
   "execution_count": 219,
   "id": "e8ece783",
   "metadata": {},
   "outputs": [],
   "source": [
    "#Dropping is closed because everything is closed\n",
    "#Dropping distance because no sense \n",
    "#Dropping transactions because only composed of: []\n",
    "data_reviews.head(2)\n",
    "data_use=data_reviews.drop(columns=['image_url', 'is_closed', 'distance', 'transactions'])"
   ]
  },
  {
   "cell_type": "markdown",
   "id": "93f3c746",
   "metadata": {},
   "source": [
    "## Handling the price field\n"
   ]
  },
  {
   "cell_type": "code",
   "execution_count": 151,
   "id": "d6d1aeaa",
   "metadata": {},
   "outputs": [
    {
     "data": {
      "text/plain": [
       "€€      1558\n",
       "€        785\n",
       "€€€      539\n",
       "€€€€      64\n",
       "Name: price, dtype: int64"
      ]
     },
     "execution_count": 151,
     "metadata": {},
     "output_type": "execute_result"
    }
   ],
   "source": [
    "data_use.price.value_counts()"
   ]
  },
  {
   "cell_type": "code",
   "execution_count": 152,
   "id": "09546c45",
   "metadata": {},
   "outputs": [],
   "source": [
    "def replace_price(x):\n",
    "    if x == \"€\":\n",
    "        return 1\n",
    "    if x == \"€€\": \n",
    "        return 2 \n",
    "    if x == \"€€€\": \n",
    "        return 3 \n",
    "    if x == \"€€€€\": \n",
    "        return 4 "
   ]
  },
  {
   "cell_type": "code",
   "execution_count": 154,
   "id": "4a383b0b",
   "metadata": {},
   "outputs": [],
   "source": [
    "data_use.price = data_use.price.map(replace_price)"
   ]
  },
  {
   "cell_type": "markdown",
   "id": "d3a8f826",
   "metadata": {},
   "source": [
    "## Others "
   ]
  },
  {
   "cell_type": "code",
   "execution_count": 127,
   "id": "6c0bedf4",
   "metadata": {
    "scrolled": true
   },
   "outputs": [
    {
     "data": {
      "text/plain": [
       "Index(['id', 'alias', 'name', 'url', 'review_count', 'rating', 'phone',\n",
       "       'display_phone', 'price', 'latitude', 'longitude', 'address1',\n",
       "       'address2', 'address3', 'city', 'zip_code', 'country', 'state',\n",
       "       'display_address', 'alias_1', 'title_1', 'alias_2', 'title_2',\n",
       "       'alias_3', 'title_3'],\n",
       "      dtype='object')"
      ]
     },
     "execution_count": 127,
     "metadata": {},
     "output_type": "execute_result"
    }
   ],
   "source": [
    "data_use.columns"
   ]
  },
  {
   "cell_type": "code",
   "execution_count": 136,
   "id": "ae21a2ab",
   "metadata": {},
   "outputs": [
    {
     "data": {
      "text/html": [
       "<div>\n",
       "<style scoped>\n",
       "    .dataframe tbody tr th:only-of-type {\n",
       "        vertical-align: middle;\n",
       "    }\n",
       "\n",
       "    .dataframe tbody tr th {\n",
       "        vertical-align: top;\n",
       "    }\n",
       "\n",
       "    .dataframe thead th {\n",
       "        text-align: right;\n",
       "    }\n",
       "</style>\n",
       "<table border=\"1\" class=\"dataframe\">\n",
       "  <thead>\n",
       "    <tr style=\"text-align: right;\">\n",
       "      <th></th>\n",
       "      <th>id</th>\n",
       "      <th>alias</th>\n",
       "      <th>name</th>\n",
       "      <th>url</th>\n",
       "      <th>review_count</th>\n",
       "      <th>rating</th>\n",
       "      <th>phone</th>\n",
       "      <th>display_phone</th>\n",
       "      <th>price</th>\n",
       "      <th>latitude</th>\n",
       "      <th>...</th>\n",
       "      <th>zip_code</th>\n",
       "      <th>country</th>\n",
       "      <th>state</th>\n",
       "      <th>display_address</th>\n",
       "      <th>alias_1</th>\n",
       "      <th>title_1</th>\n",
       "      <th>alias_2</th>\n",
       "      <th>title_2</th>\n",
       "      <th>alias_3</th>\n",
       "      <th>title_3</th>\n",
       "    </tr>\n",
       "  </thead>\n",
       "  <tbody>\n",
       "    <tr>\n",
       "      <th>0</th>\n",
       "      <td>LLwMMNR2X84qnYWEjL8iJQ</td>\n",
       "      <td>atelier-de-impressão-cadigital-lisboa</td>\n",
       "      <td>Atelier de Impressão - Cadigital</td>\n",
       "      <td>https://www.yelp.com/biz/atelier-de-impress%C3...</td>\n",
       "      <td>1</td>\n",
       "      <td>3.0</td>\n",
       "      <td>+351217122442</td>\n",
       "      <td>+351 21 712 2442</td>\n",
       "      <td>NaN</td>\n",
       "      <td>38.754582</td>\n",
       "      <td>...</td>\n",
       "      <td>1500-545</td>\n",
       "      <td>PT</td>\n",
       "      <td>11</td>\n",
       "      <td>[R. República da Bolívia, 97, 1500-545 Lisbon,...</td>\n",
       "      <td>copyshops</td>\n",
       "      <td>Printing Services</td>\n",
       "      <td>3dprinting</td>\n",
       "      <td>3D Printing</td>\n",
       "      <td>screen_printing_tshirt_printing</td>\n",
       "      <td>Screen Printing/T-Shirt Printing</td>\n",
       "    </tr>\n",
       "    <tr>\n",
       "      <th>1</th>\n",
       "      <td>FcXRFTG4mH9n_0K3GQXR9w</td>\n",
       "      <td>feel-rio-lisboa</td>\n",
       "      <td>Feel Rio</td>\n",
       "      <td>https://www.yelp.com/biz/feel-rio-lisboa?adjus...</td>\n",
       "      <td>5</td>\n",
       "      <td>4.0</td>\n",
       "      <td>+351215888645</td>\n",
       "      <td>+351 21 588 8645</td>\n",
       "      <td>€</td>\n",
       "      <td>38.710996</td>\n",
       "      <td>...</td>\n",
       "      <td>1100-185</td>\n",
       "      <td>PT</td>\n",
       "      <td>11</td>\n",
       "      <td>[R. Crucifixo, 108, 1100-185 Lisbon, Portugal]</td>\n",
       "      <td>brazilian</td>\n",
       "      <td>Brazilian</td>\n",
       "      <td>juicebars</td>\n",
       "      <td>Juice Bars &amp; Smoothies</td>\n",
       "      <td>acaibowls</td>\n",
       "      <td>Acai Bowls</td>\n",
       "    </tr>\n",
       "    <tr>\n",
       "      <th>2</th>\n",
       "      <td>OC-bzpOIFvqjmk-3JMu23Q</td>\n",
       "      <td>bowl-lisboa</td>\n",
       "      <td>Bowl</td>\n",
       "      <td>https://www.yelp.com/biz/bowl-lisboa?adjust_cr...</td>\n",
       "      <td>2</td>\n",
       "      <td>4.5</td>\n",
       "      <td>+351215879592</td>\n",
       "      <td>+351 21 587 9592</td>\n",
       "      <td>NaN</td>\n",
       "      <td>38.717801</td>\n",
       "      <td>...</td>\n",
       "      <td>1350-166</td>\n",
       "      <td>PT</td>\n",
       "      <td>11</td>\n",
       "      <td>[R. Francisco Metrass, 34, 1350-166 Lisbon, Po...</td>\n",
       "      <td>juicebars</td>\n",
       "      <td>Juice Bars &amp; Smoothies</td>\n",
       "      <td>acaibowls</td>\n",
       "      <td>Acai Bowls</td>\n",
       "      <td>NaN</td>\n",
       "      <td>NaN</td>\n",
       "    </tr>\n",
       "    <tr>\n",
       "      <th>3</th>\n",
       "      <td>my5oNNumojOxC0BbCXRxhw</td>\n",
       "      <td>luvaria-ulisses-lisboa</td>\n",
       "      <td>Luvaria Ulisses</td>\n",
       "      <td>https://www.yelp.com/biz/luvaria-ulisses-lisbo...</td>\n",
       "      <td>19</td>\n",
       "      <td>4.5</td>\n",
       "      <td>+351213420295</td>\n",
       "      <td>+351 21 342 0295</td>\n",
       "      <td>€€€</td>\n",
       "      <td>38.712356</td>\n",
       "      <td>...</td>\n",
       "      <td>1200-093</td>\n",
       "      <td>PT</td>\n",
       "      <td>11</td>\n",
       "      <td>[R. do Carmo, 87, 1200-093 Lisbon, Portugal]</td>\n",
       "      <td>accessories</td>\n",
       "      <td>Accessories</td>\n",
       "      <td>NaN</td>\n",
       "      <td>NaN</td>\n",
       "      <td>NaN</td>\n",
       "      <td>NaN</td>\n",
       "    </tr>\n",
       "    <tr>\n",
       "      <th>4</th>\n",
       "      <td>0DyhgfjZBeyPbU0VxdHkZg</td>\n",
       "      <td>modistas-de-lisboa-lisboa</td>\n",
       "      <td>Modistas de Lisboa</td>\n",
       "      <td>https://www.yelp.com/biz/modistas-de-lisboa-li...</td>\n",
       "      <td>4</td>\n",
       "      <td>4.5</td>\n",
       "      <td>+351938716732</td>\n",
       "      <td>+351 938 716 732</td>\n",
       "      <td>NaN</td>\n",
       "      <td>38.712132</td>\n",
       "      <td>...</td>\n",
       "      <td>1200-246</td>\n",
       "      <td>PT</td>\n",
       "      <td>11</td>\n",
       "      <td>[R. Luz Soriano, 67, 1200-246 Lisbon, Portugal]</td>\n",
       "      <td>sewingalterations</td>\n",
       "      <td>Sewing &amp; Alterations</td>\n",
       "      <td>accessories</td>\n",
       "      <td>Accessories</td>\n",
       "      <td>fabricstores</td>\n",
       "      <td>Fabric Stores</td>\n",
       "    </tr>\n",
       "  </tbody>\n",
       "</table>\n",
       "<p>5 rows × 25 columns</p>\n",
       "</div>"
      ],
      "text/plain": [
       "                       id                                  alias  \\\n",
       "0  LLwMMNR2X84qnYWEjL8iJQ  atelier-de-impressão-cadigital-lisboa   \n",
       "1  FcXRFTG4mH9n_0K3GQXR9w                        feel-rio-lisboa   \n",
       "2  OC-bzpOIFvqjmk-3JMu23Q                            bowl-lisboa   \n",
       "3  my5oNNumojOxC0BbCXRxhw                 luvaria-ulisses-lisboa   \n",
       "4  0DyhgfjZBeyPbU0VxdHkZg              modistas-de-lisboa-lisboa   \n",
       "\n",
       "                               name  \\\n",
       "0  Atelier de Impressão - Cadigital   \n",
       "1                          Feel Rio   \n",
       "2                              Bowl   \n",
       "3                   Luvaria Ulisses   \n",
       "4                Modistas de Lisboa   \n",
       "\n",
       "                                                 url  review_count  rating  \\\n",
       "0  https://www.yelp.com/biz/atelier-de-impress%C3...             1     3.0   \n",
       "1  https://www.yelp.com/biz/feel-rio-lisboa?adjus...             5     4.0   \n",
       "2  https://www.yelp.com/biz/bowl-lisboa?adjust_cr...             2     4.5   \n",
       "3  https://www.yelp.com/biz/luvaria-ulisses-lisbo...            19     4.5   \n",
       "4  https://www.yelp.com/biz/modistas-de-lisboa-li...             4     4.5   \n",
       "\n",
       "           phone     display_phone price   latitude  ...  zip_code country  \\\n",
       "0  +351217122442  +351 21 712 2442   NaN  38.754582  ...  1500-545      PT   \n",
       "1  +351215888645  +351 21 588 8645     €  38.710996  ...  1100-185      PT   \n",
       "2  +351215879592  +351 21 587 9592   NaN  38.717801  ...  1350-166      PT   \n",
       "3  +351213420295  +351 21 342 0295   €€€  38.712356  ...  1200-093      PT   \n",
       "4  +351938716732  +351 938 716 732   NaN  38.712132  ...  1200-246      PT   \n",
       "\n",
       "  state                                    display_address            alias_1  \\\n",
       "0    11  [R. República da Bolívia, 97, 1500-545 Lisbon,...          copyshops   \n",
       "1    11     [R. Crucifixo, 108, 1100-185 Lisbon, Portugal]          brazilian   \n",
       "2    11  [R. Francisco Metrass, 34, 1350-166 Lisbon, Po...          juicebars   \n",
       "3    11       [R. do Carmo, 87, 1200-093 Lisbon, Portugal]        accessories   \n",
       "4    11    [R. Luz Soriano, 67, 1200-246 Lisbon, Portugal]  sewingalterations   \n",
       "\n",
       "                  title_1      alias_2                 title_2  \\\n",
       "0       Printing Services   3dprinting             3D Printing   \n",
       "1               Brazilian    juicebars  Juice Bars & Smoothies   \n",
       "2  Juice Bars & Smoothies    acaibowls              Acai Bowls   \n",
       "3             Accessories          NaN                     NaN   \n",
       "4    Sewing & Alterations  accessories             Accessories   \n",
       "\n",
       "                           alias_3                           title_3  \n",
       "0  screen_printing_tshirt_printing  Screen Printing/T-Shirt Printing  \n",
       "1                        acaibowls                        Acai Bowls  \n",
       "2                              NaN                               NaN  \n",
       "3                              NaN                               NaN  \n",
       "4                     fabricstores                     Fabric Stores  \n",
       "\n",
       "[5 rows x 25 columns]"
      ]
     },
     "execution_count": 136,
     "metadata": {},
     "output_type": "execute_result"
    }
   ],
   "source": [
    "data_use.head()"
   ]
  },
  {
   "cell_type": "markdown",
   "id": "f20cea6f",
   "metadata": {},
   "source": [
    "# Exploration and Data Viz "
   ]
  },
  {
   "cell_type": "markdown",
   "id": "a4349233",
   "metadata": {},
   "source": [
    "## Repartition of reviews : "
   ]
  },
  {
   "cell_type": "code",
   "execution_count": 134,
   "id": "82c370a9",
   "metadata": {},
   "outputs": [
    {
     "data": {
      "text/plain": [
       "(array([1.000e+00, 0.000e+00, 1.170e+02, 1.700e+01, 1.720e+02, 1.990e+02,\n",
       "        1.926e+03, 1.375e+03, 2.689e+03, 1.999e+03]),\n",
       " array([0. , 0.5, 1. , 1.5, 2. , 2.5, 3. , 3.5, 4. , 4.5, 5. ]),\n",
       " <BarContainer object of 10 artists>)"
      ]
     },
     "execution_count": 134,
     "metadata": {},
     "output_type": "execute_result"
    },
    {
     "data": {
      "image/png": "[encoded data removed]",
      "text/plain": [
       "<Figure size 432x288 with 1 Axes>"
      ]
     },
     "metadata": {
      "needs_background": "light"
     },
     "output_type": "display_data"
    }
   ],
   "source": [
    "# Repartition of reviews\n",
    "plt.hist(data_use.rating)"
   ]
  },
  {
   "cell_type": "code",
   "execution_count": 311,
   "id": "38a48c48",
   "metadata": {},
   "outputs": [
    {
     "ename": "AttributeError",
     "evalue": "'Series' object has no attribute 'box'",
     "output_type": "error",
     "traceback": [
      "\u001b[0;31m---------------------------------------------------------------------------\u001b[0m",
      "\u001b[0;31mAttributeError\u001b[0m                            Traceback (most recent call last)",
      "\u001b[0;32m/var/folders/hd/90spmq897k17xxlkwtc99v200000gn/T/ipykernel_25282/570584355.py\u001b[0m in \u001b[0;36m<module>\u001b[0;34m\u001b[0m\n\u001b[1;32m      1\u001b[0m \u001b[0;31m# number of reviews per store:\u001b[0m\u001b[0;34m\u001b[0m\u001b[0;34m\u001b[0m\u001b[0;34m\u001b[0m\u001b[0m\n\u001b[0;32m----> 2\u001b[0;31m \u001b[0mdata_use\u001b[0m\u001b[0;34m.\u001b[0m\u001b[0mreview_count\u001b[0m\u001b[0;34m.\u001b[0m\u001b[0mbox\u001b[0m\u001b[0;34m(\u001b[0m\u001b[0;34m)\u001b[0m\u001b[0;34m\u001b[0m\u001b[0;34m\u001b[0m\u001b[0m\n\u001b[0m",
      "\u001b[0;32m~/.pyenv/versions/3.8.12/envs/small_business/lib/python3.8/site-packages/pandas/core/generic.py\u001b[0m in \u001b[0;36m__getattr__\u001b[0;34m(self, name)\u001b[0m\n\u001b[1;32m   5485\u001b[0m         ):\n\u001b[1;32m   5486\u001b[0m             \u001b[0;32mreturn\u001b[0m \u001b[0mself\u001b[0m\u001b[0;34m[\u001b[0m\u001b[0mname\u001b[0m\u001b[0;34m]\u001b[0m\u001b[0;34m\u001b[0m\u001b[0;34m\u001b[0m\u001b[0m\n\u001b[0;32m-> 5487\u001b[0;31m         \u001b[0;32mreturn\u001b[0m \u001b[0mobject\u001b[0m\u001b[0;34m.\u001b[0m\u001b[0m__getattribute__\u001b[0m\u001b[0;34m(\u001b[0m\u001b[0mself\u001b[0m\u001b[0;34m,\u001b[0m \u001b[0mname\u001b[0m\u001b[0;34m)\u001b[0m\u001b[0;34m\u001b[0m\u001b[0;34m\u001b[0m\u001b[0m\n\u001b[0m\u001b[1;32m   5488\u001b[0m \u001b[0;34m\u001b[0m\u001b[0m\n\u001b[1;32m   5489\u001b[0m     \u001b[0;32mdef\u001b[0m \u001b[0m__setattr__\u001b[0m\u001b[0;34m(\u001b[0m\u001b[0mself\u001b[0m\u001b[0;34m,\u001b[0m \u001b[0mname\u001b[0m\u001b[0;34m:\u001b[0m \u001b[0mstr\u001b[0m\u001b[0;34m,\u001b[0m \u001b[0mvalue\u001b[0m\u001b[0;34m)\u001b[0m \u001b[0;34m->\u001b[0m \u001b[0;32mNone\u001b[0m\u001b[0;34m:\u001b[0m\u001b[0;34m\u001b[0m\u001b[0;34m\u001b[0m\u001b[0m\n",
      "\u001b[0;31mAttributeError\u001b[0m: 'Series' object has no attribute 'box'"
     ]
    }
   ],
   "source": [
    "# number of reviews per store: \n",
    "data_use.review_count.box()"
   ]
  },
  {
   "cell_type": "code",
   "execution_count": 144,
   "id": "2889df02",
   "metadata": {},
   "outputs": [
    {
     "name": "stdout",
     "output_type": "stream",
     "text": [
      "average number of review per store: 4.553384343731607\n",
      "Some outliers with many reviews: \n"
     ]
    },
    {
     "data": {
      "image/png": "[encoded data removed]",
      "text/plain": [
       "<Figure size 432x288 with 1 Axes>"
      ]
     },
     "metadata": {
      "needs_background": "light"
     },
     "output_type": "display_data"
    }
   ],
   "source": [
    "# number of reviews per store: \n",
    "plt.boxplot(data_use.review_count)\n",
    "\n",
    "print('average number of review per store:', data_use.review_count.mean())\n",
    "print('Some outliers with many reviews: ')"
   ]
  },
  {
   "cell_type": "markdown",
   "id": "34353810",
   "metadata": {},
   "source": [
    "## Relationship between number of reviews and review score: \n"
   ]
  },
  {
   "cell_type": "code",
   "execution_count": 146,
   "id": "26497c88",
   "metadata": {},
   "outputs": [
    {
     "data": {
      "text/plain": [
       "<matplotlib.collections.PathCollection at 0x12d9f5b50>"
      ]
     },
     "execution_count": 146,
     "metadata": {},
     "output_type": "execute_result"
    },
    {
     "data": {
      "image/png": "[encoded data removed]",
      "text/plain": [
       "<Figure size 432x288 with 1 Axes>"
      ]
     },
     "metadata": {
      "needs_background": "light"
     },
     "output_type": "display_data"
    }
   ],
   "source": [
    "plt.scatter(data_use.rating, data_use.review_count,  edgecolor='#333333', alpha=0.75)"
   ]
  },
  {
   "cell_type": "markdown",
   "id": "578facca",
   "metadata": {},
   "source": [
    "## Mapping of coordinates of restaurant with folium "
   ]
  },
  {
   "cell_type": "code",
   "execution_count": 161,
   "id": "496742ef",
   "metadata": {},
   "outputs": [
    {
     "data": {
      "text/html": [
       "<div>\n",
       "<style scoped>\n",
       "    .dataframe tbody tr th:only-of-type {\n",
       "        vertical-align: middle;\n",
       "    }\n",
       "\n",
       "    .dataframe tbody tr th {\n",
       "        vertical-align: top;\n",
       "    }\n",
       "\n",
       "    .dataframe thead th {\n",
       "        text-align: right;\n",
       "    }\n",
       "</style>\n",
       "<table border=\"1\" class=\"dataframe\">\n",
       "  <thead>\n",
       "    <tr style=\"text-align: right;\">\n",
       "      <th></th>\n",
       "      <th>id</th>\n",
       "      <th>name</th>\n",
       "      <th>rating</th>\n",
       "      <th>latitude</th>\n",
       "      <th>longitude</th>\n",
       "    </tr>\n",
       "  </thead>\n",
       "  <tbody>\n",
       "    <tr>\n",
       "      <th>0</th>\n",
       "      <td>LLwMMNR2X84qnYWEjL8iJQ</td>\n",
       "      <td>Atelier de Impressão - Cadigital</td>\n",
       "      <td>3.0</td>\n",
       "      <td>38.754582</td>\n",
       "      <td>-9.196797</td>\n",
       "    </tr>\n",
       "    <tr>\n",
       "      <th>1</th>\n",
       "      <td>FcXRFTG4mH9n_0K3GQXR9w</td>\n",
       "      <td>Feel Rio</td>\n",
       "      <td>4.0</td>\n",
       "      <td>38.710996</td>\n",
       "      <td>-9.139010</td>\n",
       "    </tr>\n",
       "    <tr>\n",
       "      <th>2</th>\n",
       "      <td>OC-bzpOIFvqjmk-3JMu23Q</td>\n",
       "      <td>Bowl</td>\n",
       "      <td>4.5</td>\n",
       "      <td>38.717801</td>\n",
       "      <td>-9.166361</td>\n",
       "    </tr>\n",
       "    <tr>\n",
       "      <th>3</th>\n",
       "      <td>my5oNNumojOxC0BbCXRxhw</td>\n",
       "      <td>Luvaria Ulisses</td>\n",
       "      <td>4.5</td>\n",
       "      <td>38.712356</td>\n",
       "      <td>-9.139726</td>\n",
       "    </tr>\n",
       "    <tr>\n",
       "      <th>4</th>\n",
       "      <td>0DyhgfjZBeyPbU0VxdHkZg</td>\n",
       "      <td>Modistas de Lisboa</td>\n",
       "      <td>4.5</td>\n",
       "      <td>38.712132</td>\n",
       "      <td>-9.145770</td>\n",
       "    </tr>\n",
       "    <tr>\n",
       "      <th>...</th>\n",
       "      <td>...</td>\n",
       "      <td>...</td>\n",
       "      <td>...</td>\n",
       "      <td>...</td>\n",
       "      <td>...</td>\n",
       "    </tr>\n",
       "    <tr>\n",
       "      <th>19179</th>\n",
       "      <td>_g2EOpB6NqRJtBMDYCkuHA</td>\n",
       "      <td>Muse</td>\n",
       "      <td>4.0</td>\n",
       "      <td>NaN</td>\n",
       "      <td>NaN</td>\n",
       "    </tr>\n",
       "    <tr>\n",
       "      <th>19184</th>\n",
       "      <td>TMmDKbsgV9Ym2TGKo9gblQ</td>\n",
       "      <td>Casa Mami</td>\n",
       "      <td>3.0</td>\n",
       "      <td>NaN</td>\n",
       "      <td>NaN</td>\n",
       "    </tr>\n",
       "    <tr>\n",
       "      <th>19185</th>\n",
       "      <td>VBQVXDzvEp4NUHX6wzkiXA</td>\n",
       "      <td>Fashionrio</td>\n",
       "      <td>3.5</td>\n",
       "      <td>NaN</td>\n",
       "      <td>NaN</td>\n",
       "    </tr>\n",
       "    <tr>\n",
       "      <th>19187</th>\n",
       "      <td>OqJ6DdCA8C7Xq1BjhAOFQA</td>\n",
       "      <td>SedNoc</td>\n",
       "      <td>2.5</td>\n",
       "      <td>NaN</td>\n",
       "      <td>NaN</td>\n",
       "    </tr>\n",
       "    <tr>\n",
       "      <th>19188</th>\n",
       "      <td>hPjtzncV8t81AUqrT2h06w</td>\n",
       "      <td>Egzotis</td>\n",
       "      <td>2.5</td>\n",
       "      <td>NaN</td>\n",
       "      <td>NaN</td>\n",
       "    </tr>\n",
       "  </tbody>\n",
       "</table>\n",
       "<p>8495 rows × 5 columns</p>\n",
       "</div>"
      ],
      "text/plain": [
       "                           id                              name  rating  \\\n",
       "0      LLwMMNR2X84qnYWEjL8iJQ  Atelier de Impressão - Cadigital     3.0   \n",
       "1      FcXRFTG4mH9n_0K3GQXR9w                          Feel Rio     4.0   \n",
       "2      OC-bzpOIFvqjmk-3JMu23Q                              Bowl     4.5   \n",
       "3      my5oNNumojOxC0BbCXRxhw                   Luvaria Ulisses     4.5   \n",
       "4      0DyhgfjZBeyPbU0VxdHkZg                Modistas de Lisboa     4.5   \n",
       "...                       ...                               ...     ...   \n",
       "19179  _g2EOpB6NqRJtBMDYCkuHA                              Muse     4.0   \n",
       "19184  TMmDKbsgV9Ym2TGKo9gblQ                         Casa Mami     3.0   \n",
       "19185  VBQVXDzvEp4NUHX6wzkiXA                        Fashionrio     3.5   \n",
       "19187  OqJ6DdCA8C7Xq1BjhAOFQA                            SedNoc     2.5   \n",
       "19188  hPjtzncV8t81AUqrT2h06w                           Egzotis     2.5   \n",
       "\n",
       "        latitude  longitude  \n",
       "0      38.754582  -9.196797  \n",
       "1      38.710996  -9.139010  \n",
       "2      38.717801  -9.166361  \n",
       "3      38.712356  -9.139726  \n",
       "4      38.712132  -9.145770  \n",
       "...          ...        ...  \n",
       "19179        NaN        NaN  \n",
       "19184        NaN        NaN  \n",
       "19185        NaN        NaN  \n",
       "19187        NaN        NaN  \n",
       "19188        NaN        NaN  \n",
       "\n",
       "[8495 rows x 5 columns]"
      ]
     },
     "execution_count": 161,
     "metadata": {},
     "output_type": "execute_result"
    }
   ],
   "source": [
    "data_use[['id', 'name', 'rating', 'latitude', 'longitude']]"
   ]
  },
  {
   "cell_type": "code",
   "execution_count": 244,
   "id": "a6ead9ff",
   "metadata": {},
   "outputs": [],
   "source": [
    "import os \n",
    "import folium"
   ]
  },
  {
   "cell_type": "code",
   "execution_count": 221,
   "id": "3142283d",
   "metadata": {},
   "outputs": [],
   "source": [
    "m.save(\"map_project.html\")"
   ]
  },
  {
   "cell_type": "code",
   "execution_count": 292,
   "id": "deac6a99",
   "metadata": {
    "scrolled": true
   },
   "outputs": [
    {
     "data": {
      "text/html": [
       "<div style=\"width:100%;\"><div style=\"position:relative;width:100%;height:0;padding-bottom:60%;\"><span style=\"color:#565656\">Make this Notebook Trusted to load map: File -> Trust Notebook</span><iframe src=\"about:blank\" style=\"position:absolute;width:100%;height:100%;left:0;top:0;border:none !important;\" data-html=%3C%21DOCTYPE%20html%3E%0A%3Chead%3E%20%20%20%20%0A%20%20%20%20%3Cmeta%20http-equiv%3D%22content-type%22%20content%3D%22text/html%3B%20charset%3DUTF-8%22%20/%3E%0A%20%20%20%20%0A%20%20%20%20%20%20%20%20%3Cscript%3E%0A%20%20%20%20%20%20%20%20%20%20%20%20L_NO_TOUCH%20%3D%20false%3B%0A%20%20%20%20%20%20%20%20%20%20%20%20L_DISABLE_3D%20%3D%20false%3B%0A%20%20%20%20%20%20%20%20%3C/script%3E%0A%20%20%20%20%0A%20%20%20%20%3Cstyle%3Ehtml%2C%20body%20%7Bwidth%3A%20100%25%3Bheight%3A%20100%25%3Bmargin%3A%200%3Bpadding%3A%200%3B%7D%3C/style%3E%0A%20%20%20%20%3Cstyle%3E%23map%20%7Bposition%3Aabsolute%3Btop%3A0%3Bbottom%3A0%3Bright%3A0%3Bleft%3A0%3B%7D%3C/style%3E%0A%20%20%20%20%3Cscript%20src%3D%22https%3A//cdn.jsdelivr.net/npm/leaflet%401.6.0/dist/leaflet.js%22%3E%3C/script%3E%0A%20%20%20%20%3Cscript%20src%3D%22https%3A//code.jquery.com/jquery-1.12.4.min.js%22%3E%3C/script%3E%0A%20%20%20%20%3Cscript%20src%3D%22https%3A//maxcdn.bootstrapcdn.com/bootstrap/3.2.0/js/bootstrap.min.js%22%3E%3C/script%3E%0A%20%20%20%20%3Cscript%20src%3D%22https%3A//cdnjs.cloudflare.com/ajax/libs/Leaflet.awesome-markers/2.0.2/leaflet.awesome-markers.js%22%3E%3C/script%3E%0A%20%20%20%20%3Clink%20rel%3D%22stylesheet%22%20href%3D%22https%3A//cdn.jsdelivr.net/npm/leaflet%401.6.0/dist/leaflet.css%22/%3E%0A%20%20%20%20%3Clink%20rel%3D%22stylesheet%22%20href%3D%22https%3A//maxcdn.bootstrapcdn.com/bootstrap/3.2.0/css/bootstrap.min.css%22/%3E%0A%20%20%20%20%3Clink%20rel%3D%22stylesheet%22%20href%3D%22https%3A//maxcdn.bootstrapcdn.com/bootstrap/3.2.0/css/bootstrap-theme.min.css%22/%3E%0A%20%20%20%20%3Clink%20rel%3D%22stylesheet%22%20href%3D%22https%3A//maxcdn.bootstrapcdn.com/font-awesome/4.6.3/css/font-awesome.min.css%22/%3E%0A%20%20%20%20%3Clink%20rel%3D%22stylesheet%22%20href%3D%22https%3A//cdnjs.cloudflare.com/ajax/libs/Leaflet.awesome-markers/2.0.2/leaflet.awesome-markers.css%22/%3E%0A%20%20%20%20%3Clink%20rel%3D%22stylesheet%22%20href%3D%22https%3A//cdn.jsdelivr.net/gh/python-visualization/folium/folium/templates/leaflet.awesome.rotate.min.css%22/%3E%0A%20%20%20%20%0A%20%20%20%20%20%20%20%20%20%20%20%20%3Cmeta%20name%3D%22viewport%22%20content%3D%22width%3Ddevice-width%2C%0A%20%20%20%20%20%20%20%20%20%20%20%20%20%20%20%20initial-scale%3D1.0%2C%20maximum-scale%3D1.0%2C%20user-scalable%3Dno%22%20/%3E%0A%20%20%20%20%20%20%20%20%20%20%20%20%3Cstyle%3E%0A%20%20%20%20%20%20%20%20%20%20%20%20%20%20%20%20%23map_c734710e63eb4901b10e6cbd62473014%20%7B%0A%20%20%20%20%20%20%20%20%20%20%20%20%20%20%20%20%20%20%20%20position%3A%20relative%3B%0A%20%20%20%20%20%20%20%20%20%20%20%20%20%20%20%20%20%20%20%20width%3A%20100.0%25%3B%0A%20%20%20%20%20%20%20%20%20%20%20%20%20%20%20%20%20%20%20%20height%3A%20100.0%25%3B%0A%20%20%20%20%20%20%20%20%20%20%20%20%20%20%20%20%20%20%20%20left%3A%200.0%25%3B%0A%20%20%20%20%20%20%20%20%20%20%20%20%20%20%20%20%20%20%20%20top%3A%200.0%25%3B%0A%20%20%20%20%20%20%20%20%20%20%20%20%20%20%20%20%7D%0A%20%20%20%20%20%20%20%20%20%20%20%20%3C/style%3E%0A%20%20%20%20%20%20%20%20%0A%3C/head%3E%0A%3Cbody%3E%20%20%20%20%0A%20%20%20%20%0A%20%20%20%20%20%20%20%20%20%20%20%20%3Cdiv%20class%3D%22folium-map%22%20id%3D%22map_c734710e63eb4901b10e6cbd62473014%22%20%3E%3C/div%3E%0A%20%20%20%20%20%20%20%20%0A%3C/body%3E%0A%3Cscript%3E%20%20%20%20%0A%20%20%20%20%0A%20%20%20%20%20%20%20%20%20%20%20%20var%20map_c734710e63eb4901b10e6cbd62473014%20%3D%20L.map%28%0A%20%20%20%20%20%20%20%20%20%20%20%20%20%20%20%20%22map_c734710e63eb4901b10e6cbd62473014%22%2C%0A%20%20%20%20%20%20%20%20%20%20%20%20%20%20%20%20%7B%0A%20%20%20%20%20%20%20%20%20%20%20%20%20%20%20%20%20%20%20%20center%3A%20%5B38.7166%2C%20-9.1483%5D%2C%0A%20%20%20%20%20%20%20%20%20%20%20%20%20%20%20%20%20%20%20%20crs%3A%20L.CRS.EPSG3857%2C%0A%20%20%20%20%20%20%20%20%20%20%20%20%20%20%20%20%20%20%20%20zoom%3A%2014%2C%0A%20%20%20%20%20%20%20%20%20%20%20%20%20%20%20%20%20%20%20%20zoomControl%3A%20true%2C%0A%20%20%20%20%20%20%20%20%20%20%20%20%20%20%20%20%20%20%20%20preferCanvas%3A%20false%2C%0A%20%20%20%20%20%20%20%20%20%20%20%20%20%20%20%20%20%20%20%20titles%3A%20%22small%20businesses%22%2C%0A%20%20%20%20%20%20%20%20%20%20%20%20%20%20%20%20%7D%0A%20%20%20%20%20%20%20%20%20%20%20%20%29%3B%0A%0A%20%20%20%20%20%20%20%20%20%20%20%20%0A%0A%20%20%20%20%20%20%20%20%0A%20%20%20%20%0A%20%20%20%20%20%20%20%20%20%20%20%20var%20tile_layer_3ba2b58398ce4438a31b6ab8846722d0%20%3D%20L.tileLayer%28%0A%20%20%20%20%20%20%20%20%20%20%20%20%20%20%20%20%22https%3A//%7Bs%7D.tile.openstreetmap.org/%7Bz%7D/%7Bx%7D/%7By%7D.png%22%2C%0A%20%20%20%20%20%20%20%20%20%20%20%20%20%20%20%20%7B%22attribution%22%3A%20%22Data%20by%20%5Cu0026copy%3B%20%5Cu003ca%20href%3D%5C%22http%3A//openstreetmap.org%5C%22%5Cu003eOpenStreetMap%5Cu003c/a%5Cu003e%2C%20under%20%5Cu003ca%20href%3D%5C%22http%3A//www.openstreetmap.org/copyright%5C%22%5Cu003eODbL%5Cu003c/a%5Cu003e.%22%2C%20%22detectRetina%22%3A%20false%2C%20%22maxNativeZoom%22%3A%2018%2C%20%22maxZoom%22%3A%2018%2C%20%22minZoom%22%3A%200%2C%20%22noWrap%22%3A%20false%2C%20%22opacity%22%3A%201%2C%20%22subdomains%22%3A%20%22abc%22%2C%20%22tms%22%3A%20false%7D%0A%20%20%20%20%20%20%20%20%20%20%20%20%29.addTo%28map_c734710e63eb4901b10e6cbd62473014%29%3B%0A%20%20%20%20%20%20%20%20%0A%20%20%20%20%0A%20%20%20%20%20%20%20%20%20%20%20%20var%20marker_14ab8832920744858c854dc352dfa6c9%20%3D%20L.marker%28%0A%20%20%20%20%20%20%20%20%20%20%20%20%20%20%20%20%5B38.7117347%2C%20-9.1445127%5D%2C%0A%20%20%20%20%20%20%20%20%20%20%20%20%20%20%20%20%7B%22fillColor%22%3A%20%22%2343d9de%22%2C%20%22radius%22%3A%208%7D%0A%20%20%20%20%20%20%20%20%20%20%20%20%29.addTo%28map_c734710e63eb4901b10e6cbd62473014%29%3B%0A%20%20%20%20%20%20%20%20%0A%20%20%20%20%0A%20%20%20%20%20%20%20%20var%20popup_4a341701d5a54bd1bad051fb09a388ac%20%3D%20L.popup%28%7B%22maxWidth%22%3A%20%22100%25%22%7D%29%3B%0A%0A%20%20%20%20%20%20%20%20%0A%20%20%20%20%20%20%20%20%20%20%20%20var%20html_3d8012827a5b4674b86a000b2416e92b%20%3D%20%24%28%60%3Cdiv%20id%3D%22html_3d8012827a5b4674b86a000b2416e92b%22%20style%3D%22width%3A%20100.0%25%3B%20height%3A%20100.0%25%3B%22%3E%28%27Retrox%27%2C%20%27%E2%82%AC%E2%82%AC%27%2C%205.0%29%3C/div%3E%60%29%5B0%5D%3B%0A%20%20%20%20%20%20%20%20%20%20%20%20popup_4a341701d5a54bd1bad051fb09a388ac.setContent%28html_3d8012827a5b4674b86a000b2416e92b%29%3B%0A%20%20%20%20%20%20%20%20%0A%0A%20%20%20%20%20%20%20%20marker_14ab8832920744858c854dc352dfa6c9.bindPopup%28popup_4a341701d5a54bd1bad051fb09a388ac%29%0A%20%20%20%20%20%20%20%20%3B%0A%0A%20%20%20%20%20%20%20%20%0A%20%20%20%20%0A%20%20%20%20%0A%20%20%20%20%20%20%20%20%20%20%20%20var%20marker_de9e7b16dcf24d11bc592ec624c35dfc%20%3D%20L.marker%28%0A%20%20%20%20%20%20%20%20%20%20%20%20%20%20%20%20%5B38.732315%2C%20-9.1289052%5D%2C%0A%20%20%20%20%20%20%20%20%20%20%20%20%20%20%20%20%7B%22fillColor%22%3A%20%22%2343d9de%22%2C%20%22radius%22%3A%208%7D%0A%20%20%20%20%20%20%20%20%20%20%20%20%29.addTo%28map_c734710e63eb4901b10e6cbd62473014%29%3B%0A%20%20%20%20%20%20%20%20%0A%20%20%20%20%0A%20%20%20%20%20%20%20%20var%20popup_0b7728bd987f452fa9de5181f3e21db1%20%3D%20L.popup%28%7B%22maxWidth%22%3A%20%22100%25%22%7D%29%3B%0A%0A%20%20%20%20%20%20%20%20%0A%20%20%20%20%20%20%20%20%20%20%20%20var%20html_acdc8c17d9c24cfc85c9271bede0b8f8%20%3D%20%24%28%60%3Cdiv%20id%3D%22html_acdc8c17d9c24cfc85c9271bede0b8f8%22%20style%3D%22width%3A%20100.0%25%3B%20height%3A%20100.0%25%3B%22%3E%28%27Combilux%20-%20Material%20El%C3%A9ctrico%20e%20Electrodom%C3%A9sticos%27%2C%20%27%E2%82%AC%27%2C%204.0%29%3C/div%3E%60%29%5B0%5D%3B%0A%20%20%20%20%20%20%20%20%20%20%20%20popup_0b7728bd987f452fa9de5181f3e21db1.setContent%28html_acdc8c17d9c24cfc85c9271bede0b8f8%29%3B%0A%20%20%20%20%20%20%20%20%0A%0A%20%20%20%20%20%20%20%20marker_de9e7b16dcf24d11bc592ec624c35dfc.bindPopup%28popup_0b7728bd987f452fa9de5181f3e21db1%29%0A%20%20%20%20%20%20%20%20%3B%0A%0A%20%20%20%20%20%20%20%20%0A%20%20%20%20%0A%20%20%20%20%0A%20%20%20%20%20%20%20%20%20%20%20%20var%20marker_c6e619184a6c405890d5fe96a8b73106%20%3D%20L.marker%28%0A%20%20%20%20%20%20%20%20%20%20%20%20%20%20%20%20%5B38.7164953%2C%20-9.1622455%5D%2C%0A%20%20%20%20%20%20%20%20%20%20%20%20%20%20%20%20%7B%22fillColor%22%3A%20%22%2343d9de%22%2C%20%22radius%22%3A%208%7D%0A%20%20%20%20%20%20%20%20%20%20%20%20%29.addTo%28map_c734710e63eb4901b10e6cbd62473014%29%3B%0A%20%20%20%20%20%20%20%20%0A%20%20%20%20%0A%20%20%20%20%20%20%20%20var%20popup_f2bb97ed97b54428b3409a4117655398%20%3D%20L.popup%28%7B%22maxWidth%22%3A%20%22100%25%22%7D%29%3B%0A%0A%20%20%20%20%20%20%20%20%0A%20%20%20%20%20%20%20%20%20%20%20%20var%20html_ad59270853b64c939b9520eae8f431b0%20%3D%20%24%28%60%3Cdiv%20id%3D%22html_ad59270853b64c939b9520eae8f431b0%22%20style%3D%22width%3A%20100.0%25%3B%20height%3A%20100.0%25%3B%22%3E%28%27Harlem%27%2C%20%27%E2%82%AC%E2%82%AC%E2%82%AC%27%2C%204.0%29%3C/div%3E%60%29%5B0%5D%3B%0A%20%20%20%20%20%20%20%20%20%20%20%20popup_f2bb97ed97b54428b3409a4117655398.setContent%28html_ad59270853b64c939b9520eae8f431b0%29%3B%0A%20%20%20%20%20%20%20%20%0A%0A%20%20%20%20%20%20%20%20marker_c6e619184a6c405890d5fe96a8b73106.bindPopup%28popup_f2bb97ed97b54428b3409a4117655398%29%0A%20%20%20%20%20%20%20%20%3B%0A%0A%20%20%20%20%20%20%20%20%0A%20%20%20%20%0A%20%20%20%20%0A%20%20%20%20%20%20%20%20%20%20%20%20var%20marker_1e67125967404077a05a53dcc4d9074d%20%3D%20L.marker%28%0A%20%20%20%20%20%20%20%20%20%20%20%20%20%20%20%20%5B38.7412122%2C%20-9.1170032%5D%2C%0A%20%20%20%20%20%20%20%20%20%20%20%20%20%20%20%20%7B%22fillColor%22%3A%20%22%2343d9de%22%2C%20%22radius%22%3A%208%7D%0A%20%20%20%20%20%20%20%20%20%20%20%20%29.addTo%28map_c734710e63eb4901b10e6cbd62473014%29%3B%0A%20%20%20%20%20%20%20%20%0A%20%20%20%20%0A%20%20%20%20%20%20%20%20var%20popup_bae149c73bbf4af486b97b09f125bb4f%20%3D%20L.popup%28%7B%22maxWidth%22%3A%20%22100%25%22%7D%29%3B%0A%0A%20%20%20%20%20%20%20%20%0A%20%20%20%20%20%20%20%20%20%20%20%20var%20html_b49e0ddf174e411e8bba3492ecd2ff35%20%3D%20%24%28%60%3Cdiv%20id%3D%22html_b49e0ddf174e411e8bba3492ecd2ff35%22%20style%3D%22width%3A%20100.0%25%3B%20height%3A%20100.0%25%3B%22%3E%28%27Aumar%27%2C%20%27%E2%82%AC%E2%82%AC%27%2C%203.0%29%3C/div%3E%60%29%5B0%5D%3B%0A%20%20%20%20%20%20%20%20%20%20%20%20popup_bae149c73bbf4af486b97b09f125bb4f.setContent%28html_b49e0ddf174e411e8bba3492ecd2ff35%29%3B%0A%20%20%20%20%20%20%20%20%0A%0A%20%20%20%20%20%20%20%20marker_1e67125967404077a05a53dcc4d9074d.bindPopup%28popup_bae149c73bbf4af486b97b09f125bb4f%29%0A%20%20%20%20%20%20%20%20%3B%0A%0A%20%20%20%20%20%20%20%20%0A%20%20%20%20%0A%20%20%20%20%0A%20%20%20%20%20%20%20%20%20%20%20%20var%20marker_de89c3ff43ad4d25b6e1572817184c72%20%3D%20L.marker%28%0A%20%20%20%20%20%20%20%20%20%20%20%20%20%20%20%20%5B38.7304011%2C%20-9.1250982%5D%2C%0A%20%20%20%20%20%20%20%20%20%20%20%20%20%20%20%20%7B%22fillColor%22%3A%20%22%2343d9de%22%2C%20%22radius%22%3A%208%7D%0A%20%20%20%20%20%20%20%20%20%20%20%20%29.addTo%28map_c734710e63eb4901b10e6cbd62473014%29%3B%0A%20%20%20%20%20%20%20%20%0A%20%20%20%20%0A%20%20%20%20%20%20%20%20var%20popup_a78ef247576f46a581f02556ea0fbe36%20%3D%20L.popup%28%7B%22maxWidth%22%3A%20%22100%25%22%7D%29%3B%0A%0A%20%20%20%20%20%20%20%20%0A%20%20%20%20%20%20%20%20%20%20%20%20var%20html_77f928ecd8444584bb258eadfe4d9f18%20%3D%20%24%28%60%3Cdiv%20id%3D%22html_77f928ecd8444584bb258eadfe4d9f18%22%20style%3D%22width%3A%20100.0%25%3B%20height%3A%20100.0%25%3B%22%3E%28%27Ceuta%27%2C%20%27%E2%82%AC%27%2C%203.5%29%3C/div%3E%60%29%5B0%5D%3B%0A%20%20%20%20%20%20%20%20%20%20%20%20popup_a78ef247576f46a581f02556ea0fbe36.setContent%28html_77f928ecd8444584bb258eadfe4d9f18%29%3B%0A%20%20%20%20%20%20%20%20%0A%0A%20%20%20%20%20%20%20%20marker_de89c3ff43ad4d25b6e1572817184c72.bindPopup%28popup_a78ef247576f46a581f02556ea0fbe36%29%0A%20%20%20%20%20%20%20%20%3B%0A%0A%20%20%20%20%20%20%20%20%0A%20%20%20%20%0A%20%20%20%20%0A%20%20%20%20%20%20%20%20%20%20%20%20var%20marker_b8fc5ede8c044536be2005bac6d4f01a%20%3D%20L.marker%28%0A%20%20%20%20%20%20%20%20%20%20%20%20%20%20%20%20%5B38.7289133%2C%20-9.1637414%5D%2C%0A%20%20%20%20%20%20%20%20%20%20%20%20%20%20%20%20%7B%22fillColor%22%3A%20%22%2343d9de%22%2C%20%22radius%22%3A%208%7D%0A%20%20%20%20%20%20%20%20%20%20%20%20%29.addTo%28map_c734710e63eb4901b10e6cbd62473014%29%3B%0A%20%20%20%20%20%20%20%20%0A%20%20%20%20%0A%20%20%20%20%20%20%20%20var%20popup_67b750f658b44eff87b5c7e64ae508de%20%3D%20L.popup%28%7B%22maxWidth%22%3A%20%22100%25%22%7D%29%3B%0A%0A%20%20%20%20%20%20%20%20%0A%20%20%20%20%20%20%20%20%20%20%20%20var%20html_03e893e77d104a82a73b30381515db67%20%3D%20%24%28%60%3Cdiv%20id%3D%22html_03e893e77d104a82a73b30381515db67%22%20style%3D%22width%3A%20100.0%25%3B%20height%3A%20100.0%25%3B%22%3E%28%27The%20Old%20Pharmacy%27%2C%20%27%E2%82%AC%E2%82%AC%27%2C%204.0%29%3C/div%3E%60%29%5B0%5D%3B%0A%20%20%20%20%20%20%20%20%20%20%20%20popup_67b750f658b44eff87b5c7e64ae508de.setContent%28html_03e893e77d104a82a73b30381515db67%29%3B%0A%20%20%20%20%20%20%20%20%0A%0A%20%20%20%20%20%20%20%20marker_b8fc5ede8c044536be2005bac6d4f01a.bindPopup%28popup_67b750f658b44eff87b5c7e64ae508de%29%0A%20%20%20%20%20%20%20%20%3B%0A%0A%20%20%20%20%20%20%20%20%0A%20%20%20%20%0A%20%20%20%20%0A%20%20%20%20%20%20%20%20%20%20%20%20var%20marker_89dc9455590f41468bc8fde1b6a5b1b1%20%3D%20L.marker%28%0A%20%20%20%20%20%20%20%20%20%20%20%20%20%20%20%20%5B38.733485%2C%20-9.1349768%5D%2C%0A%20%20%20%20%20%20%20%20%20%20%20%20%20%20%20%20%7B%22fillColor%22%3A%20%22%2343d9de%22%2C%20%22radius%22%3A%208%7D%0A%20%20%20%20%20%20%20%20%20%20%20%20%29.addTo%28map_c734710e63eb4901b10e6cbd62473014%29%3B%0A%20%20%20%20%20%20%20%20%0A%20%20%20%20%0A%20%20%20%20%20%20%20%20var%20popup_b87c97b663a44cbaae185bf71ca7cd21%20%3D%20L.popup%28%7B%22maxWidth%22%3A%20%22100%25%22%7D%29%3B%0A%0A%20%20%20%20%20%20%20%20%0A%20%20%20%20%20%20%20%20%20%20%20%20var%20html_cc866bc5961e4349aacca59a5003e6f2%20%3D%20%24%28%60%3Cdiv%20id%3D%22html_cc866bc5961e4349aacca59a5003e6f2%22%20style%3D%22width%3A%20100.0%25%3B%20height%3A%20100.0%25%3B%22%3E%28%27Italian%20Burger%20House%27%2C%20%27%E2%82%AC%27%2C%204.5%29%3C/div%3E%60%29%5B0%5D%3B%0A%20%20%20%20%20%20%20%20%20%20%20%20popup_b87c97b663a44cbaae185bf71ca7cd21.setContent%28html_cc866bc5961e4349aacca59a5003e6f2%29%3B%0A%20%20%20%20%20%20%20%20%0A%0A%20%20%20%20%20%20%20%20marker_89dc9455590f41468bc8fde1b6a5b1b1.bindPopup%28popup_b87c97b663a44cbaae185bf71ca7cd21%29%0A%20%20%20%20%20%20%20%20%3B%0A%0A%20%20%20%20%20%20%20%20%0A%20%20%20%20%0A%20%20%20%20%0A%20%20%20%20%20%20%20%20%20%20%20%20var%20marker_ecdc23f802344963bfe8eae974de1cbc%20%3D%20L.marker%28%0A%20%20%20%20%20%20%20%20%20%20%20%20%20%20%20%20%5B38.7102977%2C%20-9.131964%5D%2C%0A%20%20%20%20%20%20%20%20%20%20%20%20%20%20%20%20%7B%22fillColor%22%3A%20%22%2343d9de%22%2C%20%22radius%22%3A%208%7D%0A%20%20%20%20%20%20%20%20%20%20%20%20%29.addTo%28map_c734710e63eb4901b10e6cbd62473014%29%3B%0A%20%20%20%20%20%20%20%20%0A%20%20%20%20%0A%20%20%20%20%20%20%20%20var%20popup_1fbe85b11bb54070abc4d55761658ef3%20%3D%20L.popup%28%7B%22maxWidth%22%3A%20%22100%25%22%7D%29%3B%0A%0A%20%20%20%20%20%20%20%20%0A%20%20%20%20%20%20%20%20%20%20%20%20var%20html_7c2f0867c6ed4ce8bf064e24fb37fe7f%20%3D%20%24%28%60%3Cdiv%20id%3D%22html_7c2f0867c6ed4ce8bf064e24fb37fe7f%22%20style%3D%22width%3A%20100.0%25%3B%20height%3A%20100.0%25%3B%22%3E%28%27CHIcora%C3%A7%C3%A3o%27%2C%20%27%E2%82%AC%E2%82%AC%E2%82%AC%27%2C%204.0%29%3C/div%3E%60%29%5B0%5D%3B%0A%20%20%20%20%20%20%20%20%20%20%20%20popup_1fbe85b11bb54070abc4d55761658ef3.setContent%28html_7c2f0867c6ed4ce8bf064e24fb37fe7f%29%3B%0A%20%20%20%20%20%20%20%20%0A%0A%20%20%20%20%20%20%20%20marker_ecdc23f802344963bfe8eae974de1cbc.bindPopup%28popup_1fbe85b11bb54070abc4d55761658ef3%29%0A%20%20%20%20%20%20%20%20%3B%0A%0A%20%20%20%20%20%20%20%20%0A%20%20%20%20%0A%20%20%20%20%0A%20%20%20%20%20%20%20%20%20%20%20%20var%20marker_e6b9a2831cf94958bfb6228e69bda3ab%20%3D%20L.marker%28%0A%20%20%20%20%20%20%20%20%20%20%20%20%20%20%20%20%5B38.7200305%2C%20-9.1440458%5D%2C%0A%20%20%20%20%20%20%20%20%20%20%20%20%20%20%20%20%7B%22fillColor%22%3A%20%22%2343d9de%22%2C%20%22radius%22%3A%208%7D%0A%20%20%20%20%20%20%20%20%20%20%20%20%29.addTo%28map_c734710e63eb4901b10e6cbd62473014%29%3B%0A%20%20%20%20%20%20%20%20%0A%20%20%20%20%0A%20%20%20%20%20%20%20%20var%20popup_8edc56b41cd94d1baa227ba2c9492b87%20%3D%20L.popup%28%7B%22maxWidth%22%3A%20%22100%25%22%7D%29%3B%0A%0A%20%20%20%20%20%20%20%20%0A%20%20%20%20%20%20%20%20%20%20%20%20var%20html_6e390736d087485db7172fa526af58ef%20%3D%20%24%28%60%3Cdiv%20id%3D%22html_6e390736d087485db7172fa526af58ef%22%20style%3D%22width%3A%20100.0%25%3B%20height%3A%20100.0%25%3B%22%3E%28%27Loja%20Minimal%27%2C%20%27%E2%82%AC%E2%82%AC%E2%82%AC%27%2C%204.0%29%3C/div%3E%60%29%5B0%5D%3B%0A%20%20%20%20%20%20%20%20%20%20%20%20popup_8edc56b41cd94d1baa227ba2c9492b87.setContent%28html_6e390736d087485db7172fa526af58ef%29%3B%0A%20%20%20%20%20%20%20%20%0A%0A%20%20%20%20%20%20%20%20marker_e6b9a2831cf94958bfb6228e69bda3ab.bindPopup%28popup_8edc56b41cd94d1baa227ba2c9492b87%29%0A%20%20%20%20%20%20%20%20%3B%0A%0A%20%20%20%20%20%20%20%20%0A%20%20%20%20%0A%20%20%20%20%0A%20%20%20%20%20%20%20%20%20%20%20%20var%20marker_f4e1cf5f04b74701b87824d2c96c933e%20%3D%20L.marker%28%0A%20%20%20%20%20%20%20%20%20%20%20%20%20%20%20%20%5B38.7392007%2C%20-9.1367384%5D%2C%0A%20%20%20%20%20%20%20%20%20%20%20%20%20%20%20%20%7B%22fillColor%22%3A%20%22%2343d9de%22%2C%20%22radius%22%3A%208%7D%0A%20%20%20%20%20%20%20%20%20%20%20%20%29.addTo%28map_c734710e63eb4901b10e6cbd62473014%29%3B%0A%20%20%20%20%20%20%20%20%0A%20%20%20%20%0A%20%20%20%20%20%20%20%20var%20popup_21a3216766ea40e1a3b83d9014e389a8%20%3D%20L.popup%28%7B%22maxWidth%22%3A%20%22100%25%22%7D%29%3B%0A%0A%20%20%20%20%20%20%20%20%0A%20%20%20%20%20%20%20%20%20%20%20%20var%20html_7518ac9085b942fd9039c11c3173b443%20%3D%20%24%28%60%3Cdiv%20id%3D%22html_7518ac9085b942fd9039c11c3173b443%22%20style%3D%22width%3A%20100.0%25%3B%20height%3A%20100.0%25%3B%22%3E%28%27Ratton%27%2C%20%27%E2%82%AC%27%2C%203.5%29%3C/div%3E%60%29%5B0%5D%3B%0A%20%20%20%20%20%20%20%20%20%20%20%20popup_21a3216766ea40e1a3b83d9014e389a8.setContent%28html_7518ac9085b942fd9039c11c3173b443%29%3B%0A%20%20%20%20%20%20%20%20%0A%0A%20%20%20%20%20%20%20%20marker_f4e1cf5f04b74701b87824d2c96c933e.bindPopup%28popup_21a3216766ea40e1a3b83d9014e389a8%29%0A%20%20%20%20%20%20%20%20%3B%0A%0A%20%20%20%20%20%20%20%20%0A%20%20%20%20%0A%20%20%20%20%0A%20%20%20%20%20%20%20%20%20%20%20%20var%20marker_1e23b17c605d4f54aecd3e8784a69270%20%3D%20L.marker%28%0A%20%20%20%20%20%20%20%20%20%20%20%20%20%20%20%20%5B38.7720306%2C%20-9.1200583%5D%2C%0A%20%20%20%20%20%20%20%20%20%20%20%20%20%20%20%20%7B%22fillColor%22%3A%20%22%2343d9de%22%2C%20%22radius%22%3A%208%7D%0A%20%20%20%20%20%20%20%20%20%20%20%20%29.addTo%28map_c734710e63eb4901b10e6cbd62473014%29%3B%0A%20%20%20%20%20%20%20%20%0A%20%20%20%20%0A%20%20%20%20%20%20%20%20var%20popup_ce87f156d86f46ddac9a8bbff56c010a%20%3D%20L.popup%28%7B%22maxWidth%22%3A%20%22100%25%22%7D%29%3B%0A%0A%20%20%20%20%20%20%20%20%0A%20%20%20%20%20%20%20%20%20%20%20%20var%20html_1e746c8df9524bc7bfea2eba58fb57e1%20%3D%20%24%28%60%3Cdiv%20id%3D%22html_1e746c8df9524bc7bfea2eba58fb57e1%22%20style%3D%22width%3A%20100.0%25%3B%20height%3A%20100.0%25%3B%22%3E%28%27Portug%C3%A1lia%27%2C%20%27%E2%82%AC%E2%82%AC%E2%82%AC%27%2C%204.0%29%3C/div%3E%60%29%5B0%5D%3B%0A%20%20%20%20%20%20%20%20%20%20%20%20popup_ce87f156d86f46ddac9a8bbff56c010a.setContent%28html_1e746c8df9524bc7bfea2eba58fb57e1%29%3B%0A%20%20%20%20%20%20%20%20%0A%0A%20%20%20%20%20%20%20%20marker_1e23b17c605d4f54aecd3e8784a69270.bindPopup%28popup_ce87f156d86f46ddac9a8bbff56c010a%29%0A%20%20%20%20%20%20%20%20%3B%0A%0A%20%20%20%20%20%20%20%20%0A%20%20%20%20%0A%20%20%20%20%0A%20%20%20%20%20%20%20%20%20%20%20%20var%20marker_2f179bc0b17d4ee8806113904f608589%20%3D%20L.marker%28%0A%20%20%20%20%20%20%20%20%20%20%20%20%20%20%20%20%5B38.6937141279834%2C%20-9.20770738857732%5D%2C%0A%20%20%20%20%20%20%20%20%20%20%20%20%20%20%20%20%7B%22fillColor%22%3A%20%22%2343d9de%22%2C%20%22radius%22%3A%208%7D%0A%20%20%20%20%20%20%20%20%20%20%20%20%29.addTo%28map_c734710e63eb4901b10e6cbd62473014%29%3B%0A%20%20%20%20%20%20%20%20%0A%20%20%20%20%0A%20%20%20%20%20%20%20%20var%20popup_57712682e36b4c9997de50b93aac8bfa%20%3D%20L.popup%28%7B%22maxWidth%22%3A%20%22100%25%22%7D%29%3B%0A%0A%20%20%20%20%20%20%20%20%0A%20%20%20%20%20%20%20%20%20%20%20%20var%20html_142e0cacd6c14864b5c261654e8e76eb%20%3D%20%24%28%60%3Cdiv%20id%3D%22html_142e0cacd6c14864b5c261654e8e76eb%22%20style%3D%22width%3A%20100.0%25%3B%20height%3A%20100.0%25%3B%22%3E%28%27A%20Padaria%20Portuguesa%27%2C%20%27%E2%82%AC%E2%82%AC%27%2C%203.0%29%3C/div%3E%60%29%5B0%5D%3B%0A%20%20%20%20%20%20%20%20%20%20%20%20popup_57712682e36b4c9997de50b93aac8bfa.setContent%28html_142e0cacd6c14864b5c261654e8e76eb%29%3B%0A%20%20%20%20%20%20%20%20%0A%0A%20%20%20%20%20%20%20%20marker_2f179bc0b17d4ee8806113904f608589.bindPopup%28popup_57712682e36b4c9997de50b93aac8bfa%29%0A%20%20%20%20%20%20%20%20%3B%0A%0A%20%20%20%20%20%20%20%20%0A%20%20%20%20%0A%20%20%20%20%0A%20%20%20%20%20%20%20%20%20%20%20%20var%20marker_1991aa316441412fa7057c21d8d0df7b%20%3D%20L.marker%28%0A%20%20%20%20%20%20%20%20%20%20%20%20%20%20%20%20%5B38.7147294%2C%20-9.1627697%5D%2C%0A%20%20%20%20%20%20%20%20%20%20%20%20%20%20%20%20%7B%22fillColor%22%3A%20%22%2343d9de%22%2C%20%22radius%22%3A%208%7D%0A%20%20%20%20%20%20%20%20%20%20%20%20%29.addTo%28map_c734710e63eb4901b10e6cbd62473014%29%3B%0A%20%20%20%20%20%20%20%20%0A%20%20%20%20%0A%20%20%20%20%20%20%20%20var%20popup_fe89170ce0724163a00debb873e1eeaf%20%3D%20L.popup%28%7B%22maxWidth%22%3A%20%22100%25%22%7D%29%3B%0A%0A%20%20%20%20%20%20%20%20%0A%20%20%20%20%20%20%20%20%20%20%20%20var%20html_307ab085a4954b32bfefc72114aa4b45%20%3D%20%24%28%60%3Cdiv%20id%3D%22html_307ab085a4954b32bfefc72114aa4b45%22%20style%3D%22width%3A%20100.0%25%3B%20height%3A%20100.0%25%3B%22%3E%28%27Gabi%20-%20Bordados%20e%20Tabacos%27%2C%20%27%E2%82%AC%27%2C%203.0%29%3C/div%3E%60%29%5B0%5D%3B%0A%20%20%20%20%20%20%20%20%20%20%20%20popup_fe89170ce0724163a00debb873e1eeaf.setContent%28html_307ab085a4954b32bfefc72114aa4b45%29%3B%0A%20%20%20%20%20%20%20%20%0A%0A%20%20%20%20%20%20%20%20marker_1991aa316441412fa7057c21d8d0df7b.bindPopup%28popup_fe89170ce0724163a00debb873e1eeaf%29%0A%20%20%20%20%20%20%20%20%3B%0A%0A%20%20%20%20%20%20%20%20%0A%20%20%20%20%0A%20%20%20%20%0A%20%20%20%20%20%20%20%20%20%20%20%20var%20marker_a6d16d99e52542ac996bc149969fffcd%20%3D%20L.marker%28%0A%20%20%20%20%20%20%20%20%20%20%20%20%20%20%20%20%5B38.7069835%2C%20-9.1577503%5D%2C%0A%20%20%20%20%20%20%20%20%20%20%20%20%20%20%20%20%7B%22fillColor%22%3A%20%22%2343d9de%22%2C%20%22radius%22%3A%208%7D%0A%20%20%20%20%20%20%20%20%20%20%20%20%29.addTo%28map_c734710e63eb4901b10e6cbd62473014%29%3B%0A%20%20%20%20%20%20%20%20%0A%20%20%20%20%0A%20%20%20%20%20%20%20%20var%20popup_23ef977e4cc94bf8980cd2086e9ab454%20%3D%20L.popup%28%7B%22maxWidth%22%3A%20%22100%25%22%7D%29%3B%0A%0A%20%20%20%20%20%20%20%20%0A%20%20%20%20%20%20%20%20%20%20%20%20var%20html_0c2e5b1b735e44dcb65992057228d421%20%3D%20%24%28%60%3Cdiv%20id%3D%22html_0c2e5b1b735e44dcb65992057228d421%22%20style%3D%22width%3A%20100.0%25%3B%20height%3A%20100.0%25%3B%22%3E%28%27Copenhagen%20Coffee%20Lab%27%2C%20%27%E2%82%AC%E2%82%AC%27%2C%204.5%29%3C/div%3E%60%29%5B0%5D%3B%0A%20%20%20%20%20%20%20%20%20%20%20%20popup_23ef977e4cc94bf8980cd2086e9ab454.setContent%28html_0c2e5b1b735e44dcb65992057228d421%29%3B%0A%20%20%20%20%20%20%20%20%0A%0A%20%20%20%20%20%20%20%20marker_a6d16d99e52542ac996bc149969fffcd.bindPopup%28popup_23ef977e4cc94bf8980cd2086e9ab454%29%0A%20%20%20%20%20%20%20%20%3B%0A%0A%20%20%20%20%20%20%20%20%0A%20%20%20%20%0A%20%20%20%20%0A%20%20%20%20%20%20%20%20%20%20%20%20var%20marker_9ec10795172c42ee9b78caf2cdfeb72c%20%3D%20L.marker%28%0A%20%20%20%20%20%20%20%20%20%20%20%20%20%20%20%20%5B38.7594166%2C%20-9.0962237%5D%2C%0A%20%20%20%20%20%20%20%20%20%20%20%20%20%20%20%20%7B%22fillColor%22%3A%20%22%2343d9de%22%2C%20%22radius%22%3A%208%7D%0A%20%20%20%20%20%20%20%20%20%20%20%20%29.addTo%28map_c734710e63eb4901b10e6cbd62473014%29%3B%0A%20%20%20%20%20%20%20%20%0A%20%20%20%20%0A%20%20%20%20%20%20%20%20var%20popup_838e3282d71041929be09704eb720f3e%20%3D%20L.popup%28%7B%22maxWidth%22%3A%20%22100%25%22%7D%29%3B%0A%0A%20%20%20%20%20%20%20%20%0A%20%20%20%20%20%20%20%20%20%20%20%20var%20html_374772b21f864f349e05b8b66c741333%20%3D%20%24%28%60%3Cdiv%20id%3D%22html_374772b21f864f349e05b8b66c741333%22%20style%3D%22width%3A%20100.0%25%3B%20height%3A%20100.0%25%3B%22%3E%28%27Casa%20do%20Lago%27%2C%20%27%E2%82%AC%E2%82%AC%27%2C%203.5%29%3C/div%3E%60%29%5B0%5D%3B%0A%20%20%20%20%20%20%20%20%20%20%20%20popup_838e3282d71041929be09704eb720f3e.setContent%28html_374772b21f864f349e05b8b66c741333%29%3B%0A%20%20%20%20%20%20%20%20%0A%0A%20%20%20%20%20%20%20%20marker_9ec10795172c42ee9b78caf2cdfeb72c.bindPopup%28popup_838e3282d71041929be09704eb720f3e%29%0A%20%20%20%20%20%20%20%20%3B%0A%0A%20%20%20%20%20%20%20%20%0A%20%20%20%20%0A%20%20%20%20%0A%20%20%20%20%20%20%20%20%20%20%20%20var%20marker_e6c91d5e3ede4b0c90d1a48e0dff5779%20%3D%20L.marker%28%0A%20%20%20%20%20%20%20%20%20%20%20%20%20%20%20%20%5B38.7158807%2C%20-9.1472135%5D%2C%0A%20%20%20%20%20%20%20%20%20%20%20%20%20%20%20%20%7B%22fillColor%22%3A%20%22%2343d9de%22%2C%20%22radius%22%3A%208%7D%0A%20%20%20%20%20%20%20%20%20%20%20%20%29.addTo%28map_c734710e63eb4901b10e6cbd62473014%29%3B%0A%20%20%20%20%20%20%20%20%0A%20%20%20%20%0A%20%20%20%20%20%20%20%20var%20popup_d004e433c0e5422abdc88ffac33c7876%20%3D%20L.popup%28%7B%22maxWidth%22%3A%20%22100%25%22%7D%29%3B%0A%0A%20%20%20%20%20%20%20%20%0A%20%20%20%20%20%20%20%20%20%20%20%20var%20html_6ad3930432204c8b99facd975ba0673c%20%3D%20%24%28%60%3Cdiv%20id%3D%22html_6ad3930432204c8b99facd975ba0673c%22%20style%3D%22width%3A%20100.0%25%3B%20height%3A%20100.0%25%3B%22%3E%28%27LxLife%27%2C%20%27%E2%82%AC%E2%82%AC%27%2C%204.5%29%3C/div%3E%60%29%5B0%5D%3B%0A%20%20%20%20%20%20%20%20%20%20%20%20popup_d004e433c0e5422abdc88ffac33c7876.setContent%28html_6ad3930432204c8b99facd975ba0673c%29%3B%0A%20%20%20%20%20%20%20%20%0A%0A%20%20%20%20%20%20%20%20marker_e6c91d5e3ede4b0c90d1a48e0dff5779.bindPopup%28popup_d004e433c0e5422abdc88ffac33c7876%29%0A%20%20%20%20%20%20%20%20%3B%0A%0A%20%20%20%20%20%20%20%20%0A%20%20%20%20%0A%20%20%20%20%0A%20%20%20%20%20%20%20%20%20%20%20%20var%20marker_defabc8325434a8fb1f8e69fb6786907%20%3D%20L.marker%28%0A%20%20%20%20%20%20%20%20%20%20%20%20%20%20%20%20%5B38.7146889%2C%20-9.1593007%5D%2C%0A%20%20%20%20%20%20%20%20%20%20%20%20%20%20%20%20%7B%22fillColor%22%3A%20%22%2343d9de%22%2C%20%22radius%22%3A%208%7D%0A%20%20%20%20%20%20%20%20%20%20%20%20%29.addTo%28map_c734710e63eb4901b10e6cbd62473014%29%3B%0A%20%20%20%20%20%20%20%20%0A%20%20%20%20%0A%20%20%20%20%20%20%20%20var%20popup_6bdb67de69a84c98addb1cb0c9d2f26a%20%3D%20L.popup%28%7B%22maxWidth%22%3A%20%22100%25%22%7D%29%3B%0A%0A%20%20%20%20%20%20%20%20%0A%20%20%20%20%20%20%20%20%20%20%20%20var%20html_f4597d12ef6346eabca96eedf73f0b00%20%3D%20%24%28%60%3Cdiv%20id%3D%22html_f4597d12ef6346eabca96eedf73f0b00%22%20style%3D%22width%3A%20100.0%25%3B%20height%3A%20100.0%25%3B%22%3E%28%27Frei%20Papinhas%27%2C%20%27%E2%82%AC%E2%82%AC%27%2C%202.5%29%3C/div%3E%60%29%5B0%5D%3B%0A%20%20%20%20%20%20%20%20%20%20%20%20popup_6bdb67de69a84c98addb1cb0c9d2f26a.setContent%28html_f4597d12ef6346eabca96eedf73f0b00%29%3B%0A%20%20%20%20%20%20%20%20%0A%0A%20%20%20%20%20%20%20%20marker_defabc8325434a8fb1f8e69fb6786907.bindPopup%28popup_6bdb67de69a84c98addb1cb0c9d2f26a%29%0A%20%20%20%20%20%20%20%20%3B%0A%0A%20%20%20%20%20%20%20%20%0A%20%20%20%20%0A%20%20%20%20%0A%20%20%20%20%20%20%20%20%20%20%20%20var%20marker_3798346d6dea4922b7172bb6540413f9%20%3D%20L.marker%28%0A%20%20%20%20%20%20%20%20%20%20%20%20%20%20%20%20%5B38.7312774%2C%20-9.1289467%5D%2C%0A%20%20%20%20%20%20%20%20%20%20%20%20%20%20%20%20%7B%22fillColor%22%3A%20%22%2343d9de%22%2C%20%22radius%22%3A%208%7D%0A%20%20%20%20%20%20%20%20%20%20%20%20%29.addTo%28map_c734710e63eb4901b10e6cbd62473014%29%3B%0A%20%20%20%20%20%20%20%20%0A%20%20%20%20%0A%20%20%20%20%20%20%20%20var%20popup_df93baa7f6ce46f396a6d8122ab1fa72%20%3D%20L.popup%28%7B%22maxWidth%22%3A%20%22100%25%22%7D%29%3B%0A%0A%20%20%20%20%20%20%20%20%0A%20%20%20%20%20%20%20%20%20%20%20%20var%20html_0557e2ad75bf4e34b07de570928960ac%20%3D%20%24%28%60%3Cdiv%20id%3D%22html_0557e2ad75bf4e34b07de570928960ac%22%20style%3D%22width%3A%20100.0%25%3B%20height%3A%20100.0%25%3B%22%3E%28%27Fernando%20Gon%C3%A7alves%20Carvalho%27%2C%20%27%E2%82%AC%E2%82%AC%E2%82%AC%27%2C%204.0%29%3C/div%3E%60%29%5B0%5D%3B%0A%20%20%20%20%20%20%20%20%20%20%20%20popup_df93baa7f6ce46f396a6d8122ab1fa72.setContent%28html_0557e2ad75bf4e34b07de570928960ac%29%3B%0A%20%20%20%20%20%20%20%20%0A%0A%20%20%20%20%20%20%20%20marker_3798346d6dea4922b7172bb6540413f9.bindPopup%28popup_df93baa7f6ce46f396a6d8122ab1fa72%29%0A%20%20%20%20%20%20%20%20%3B%0A%0A%20%20%20%20%20%20%20%20%0A%20%20%20%20%0A%20%20%20%20%0A%20%20%20%20%20%20%20%20%20%20%20%20var%20marker_49e2f43703fa4b05a75106b88054b78b%20%3D%20L.marker%28%0A%20%20%20%20%20%20%20%20%20%20%20%20%20%20%20%20%5B38.7166508%2C%20-9.1624939%5D%2C%0A%20%20%20%20%20%20%20%20%20%20%20%20%20%20%20%20%7B%22fillColor%22%3A%20%22%2343d9de%22%2C%20%22radius%22%3A%208%7D%0A%20%20%20%20%20%20%20%20%20%20%20%20%29.addTo%28map_c734710e63eb4901b10e6cbd62473014%29%3B%0A%20%20%20%20%20%20%20%20%0A%20%20%20%20%0A%20%20%20%20%20%20%20%20var%20popup_f656605cba7e40139c46b0e149a63d85%20%3D%20L.popup%28%7B%22maxWidth%22%3A%20%22100%25%22%7D%29%3B%0A%0A%20%20%20%20%20%20%20%20%0A%20%20%20%20%20%20%20%20%20%20%20%20var%20html_e489edaa29a6491cba97a26eec625549%20%3D%20%24%28%60%3Cdiv%20id%3D%22html_e489edaa29a6491cba97a26eec625549%22%20style%3D%22width%3A%20100.0%25%3B%20height%3A%20100.0%25%3B%22%3E%28%27Boteco%20da%20F%C3%A1%27%2C%20%27%E2%82%AC%E2%82%AC%27%2C%204.0%29%3C/div%3E%60%29%5B0%5D%3B%0A%20%20%20%20%20%20%20%20%20%20%20%20popup_f656605cba7e40139c46b0e149a63d85.setContent%28html_e489edaa29a6491cba97a26eec625549%29%3B%0A%20%20%20%20%20%20%20%20%0A%0A%20%20%20%20%20%20%20%20marker_49e2f43703fa4b05a75106b88054b78b.bindPopup%28popup_f656605cba7e40139c46b0e149a63d85%29%0A%20%20%20%20%20%20%20%20%3B%0A%0A%20%20%20%20%20%20%20%20%0A%20%20%20%20%0A%20%20%20%20%0A%20%20%20%20%20%20%20%20%20%20%20%20var%20marker_2bee8dcf9a3741d9bd57afa2439419d3%20%3D%20L.marker%28%0A%20%20%20%20%20%20%20%20%20%20%20%20%20%20%20%20%5B38.7380661%2C%20-9.1619025%5D%2C%0A%20%20%20%20%20%20%20%20%20%20%20%20%20%20%20%20%7B%22fillColor%22%3A%20%22%2343d9de%22%2C%20%22radius%22%3A%208%7D%0A%20%20%20%20%20%20%20%20%20%20%20%20%29.addTo%28map_c734710e63eb4901b10e6cbd62473014%29%3B%0A%20%20%20%20%20%20%20%20%0A%20%20%20%20%0A%20%20%20%20%20%20%20%20var%20popup_f361c7c941184a9494da2898702e422c%20%3D%20L.popup%28%7B%22maxWidth%22%3A%20%22100%25%22%7D%29%3B%0A%0A%20%20%20%20%20%20%20%20%0A%20%20%20%20%20%20%20%20%20%20%20%20var%20html_6da6555ae29c4ab1bd27b787e9eded2b%20%3D%20%24%28%60%3Cdiv%20id%3D%22html_6da6555ae29c4ab1bd27b787e9eded2b%22%20style%3D%22width%3A%20100.0%25%3B%20height%3A%20100.0%25%3B%22%3E%28%27C%C3%A9sar%20Castro%27%2C%20%27%E2%82%AC%E2%82%AC%27%2C%203.5%29%3C/div%3E%60%29%5B0%5D%3B%0A%20%20%20%20%20%20%20%20%20%20%20%20popup_f361c7c941184a9494da2898702e422c.setContent%28html_6da6555ae29c4ab1bd27b787e9eded2b%29%3B%0A%20%20%20%20%20%20%20%20%0A%0A%20%20%20%20%20%20%20%20marker_2bee8dcf9a3741d9bd57afa2439419d3.bindPopup%28popup_f361c7c941184a9494da2898702e422c%29%0A%20%20%20%20%20%20%20%20%3B%0A%0A%20%20%20%20%20%20%20%20%0A%20%20%20%20%0A%20%20%20%20%0A%20%20%20%20%20%20%20%20%20%20%20%20var%20marker_cce574b29dd344ce95e6ac11656d4cb1%20%3D%20L.marker%28%0A%20%20%20%20%20%20%20%20%20%20%20%20%20%20%20%20%5B38.7451897%2C%20-9.1392798%5D%2C%0A%20%20%20%20%20%20%20%20%20%20%20%20%20%20%20%20%7B%22fillColor%22%3A%20%22%2343d9de%22%2C%20%22radius%22%3A%208%7D%0A%20%20%20%20%20%20%20%20%20%20%20%20%29.addTo%28map_c734710e63eb4901b10e6cbd62473014%29%3B%0A%20%20%20%20%20%20%20%20%0A%20%20%20%20%0A%20%20%20%20%20%20%20%20var%20popup_4ccd6604fd504c3992bb4624a631263a%20%3D%20L.popup%28%7B%22maxWidth%22%3A%20%22100%25%22%7D%29%3B%0A%0A%20%20%20%20%20%20%20%20%0A%20%20%20%20%20%20%20%20%20%20%20%20var%20html_a24bc33be7db4262b3daba24bce52542%20%3D%20%24%28%60%3Cdiv%20id%3D%22html_a24bc33be7db4262b3daba24bce52542%22%20style%3D%22width%3A%20100.0%25%3B%20height%3A%20100.0%25%3B%22%3E%28%22O%27Gilins%20IrishPub%22%2C%20%27%E2%82%AC%E2%82%AC%27%2C%204.0%29%3C/div%3E%60%29%5B0%5D%3B%0A%20%20%20%20%20%20%20%20%20%20%20%20popup_4ccd6604fd504c3992bb4624a631263a.setContent%28html_a24bc33be7db4262b3daba24bce52542%29%3B%0A%20%20%20%20%20%20%20%20%0A%0A%20%20%20%20%20%20%20%20marker_cce574b29dd344ce95e6ac11656d4cb1.bindPopup%28popup_4ccd6604fd504c3992bb4624a631263a%29%0A%20%20%20%20%20%20%20%20%3B%0A%0A%20%20%20%20%20%20%20%20%0A%20%20%20%20%0A%20%20%20%20%0A%20%20%20%20%20%20%20%20%20%20%20%20var%20marker_715ee0a605f2444993d68f340621b618%20%3D%20L.marker%28%0A%20%20%20%20%20%20%20%20%20%20%20%20%20%20%20%20%5B38.7472901%2C%20-9.1633681%5D%2C%0A%20%20%20%20%20%20%20%20%20%20%20%20%20%20%20%20%7B%22fillColor%22%3A%20%22%2343d9de%22%2C%20%22radius%22%3A%208%7D%0A%20%20%20%20%20%20%20%20%20%20%20%20%29.addTo%28map_c734710e63eb4901b10e6cbd62473014%29%3B%0A%20%20%20%20%20%20%20%20%0A%20%20%20%20%0A%20%20%20%20%20%20%20%20var%20popup_44fe8d95bded459f9bf280c3bae82620%20%3D%20L.popup%28%7B%22maxWidth%22%3A%20%22100%25%22%7D%29%3B%0A%0A%20%20%20%20%20%20%20%20%0A%20%20%20%20%20%20%20%20%20%20%20%20var%20html_f68acda0b870420e84af3d056d7c8853%20%3D%20%24%28%60%3Cdiv%20id%3D%22html_f68acda0b870420e84af3d056d7c8853%22%20style%3D%22width%3A%20100.0%25%3B%20height%3A%20100.0%25%3B%22%3E%28%27Templ%C3%A1rios%27%2C%20%27%E2%82%AC%E2%82%AC%27%2C%203.5%29%3C/div%3E%60%29%5B0%5D%3B%0A%20%20%20%20%20%20%20%20%20%20%20%20popup_44fe8d95bded459f9bf280c3bae82620.setContent%28html_f68acda0b870420e84af3d056d7c8853%29%3B%0A%20%20%20%20%20%20%20%20%0A%0A%20%20%20%20%20%20%20%20marker_715ee0a605f2444993d68f340621b618.bindPopup%28popup_44fe8d95bded459f9bf280c3bae82620%29%0A%20%20%20%20%20%20%20%20%3B%0A%0A%20%20%20%20%20%20%20%20%0A%20%20%20%20%0A%20%20%20%20%0A%20%20%20%20%20%20%20%20%20%20%20%20var%20marker_5a3f7a3467d943e185af417734d77233%20%3D%20L.marker%28%0A%20%20%20%20%20%20%20%20%20%20%20%20%20%20%20%20%5B38.7501209%2C%20-9.1618924%5D%2C%0A%20%20%20%20%20%20%20%20%20%20%20%20%20%20%20%20%7B%22fillColor%22%3A%20%22%2343d9de%22%2C%20%22radius%22%3A%208%7D%0A%20%20%20%20%20%20%20%20%20%20%20%20%29.addTo%28map_c734710e63eb4901b10e6cbd62473014%29%3B%0A%20%20%20%20%20%20%20%20%0A%20%20%20%20%0A%20%20%20%20%20%20%20%20var%20popup_d7de9997b1a740f39657a5e420679437%20%3D%20L.popup%28%7B%22maxWidth%22%3A%20%22100%25%22%7D%29%3B%0A%0A%20%20%20%20%20%20%20%20%0A%20%20%20%20%20%20%20%20%20%20%20%20var%20html_601f352229e3457c8099fdea01726b6b%20%3D%20%24%28%60%3Cdiv%20id%3D%22html_601f352229e3457c8099fdea01726b6b%22%20style%3D%22width%3A%20100.0%25%3B%20height%3A%20100.0%25%3B%22%3E%28%27Didatic%2C%20Edicare%27%2C%20%27%E2%82%AC%E2%82%AC%27%2C%203.5%29%3C/div%3E%60%29%5B0%5D%3B%0A%20%20%20%20%20%20%20%20%20%20%20%20popup_d7de9997b1a740f39657a5e420679437.setContent%28html_601f352229e3457c8099fdea01726b6b%29%3B%0A%20%20%20%20%20%20%20%20%0A%0A%20%20%20%20%20%20%20%20marker_5a3f7a3467d943e185af417734d77233.bindPopup%28popup_d7de9997b1a740f39657a5e420679437%29%0A%20%20%20%20%20%20%20%20%3B%0A%0A%20%20%20%20%20%20%20%20%0A%20%20%20%20%0A%20%20%20%20%0A%20%20%20%20%20%20%20%20%20%20%20%20var%20marker_75710ee2902e4f0fb342a1359f05872d%20%3D%20L.marker%28%0A%20%20%20%20%20%20%20%20%20%20%20%20%20%20%20%20%5B38.7057454%2C%20-9.1808799%5D%2C%0A%20%20%20%20%20%20%20%20%20%20%20%20%20%20%20%20%7B%22fillColor%22%3A%20%22%2343d9de%22%2C%20%22radius%22%3A%208%7D%0A%20%20%20%20%20%20%20%20%20%20%20%20%29.addTo%28map_c734710e63eb4901b10e6cbd62473014%29%3B%0A%20%20%20%20%20%20%20%20%0A%20%20%20%20%0A%20%20%20%20%20%20%20%20var%20popup_f3fd866402d543c391c714883f3ba303%20%3D%20L.popup%28%7B%22maxWidth%22%3A%20%22100%25%22%7D%29%3B%0A%0A%20%20%20%20%20%20%20%20%0A%20%20%20%20%20%20%20%20%20%20%20%20var%20html_c9513dcf68c7423ca10674df46d5a1f7%20%3D%20%24%28%60%3Cdiv%20id%3D%22html_c9513dcf68c7423ca10674df46d5a1f7%22%20style%3D%22width%3A%20100.0%25%3B%20height%3A%20100.0%25%3B%22%3E%28%27Hotel%20Portugal%27%2C%20%27%E2%82%AC%E2%82%AC%27%2C%204.0%29%3C/div%3E%60%29%5B0%5D%3B%0A%20%20%20%20%20%20%20%20%20%20%20%20popup_f3fd866402d543c391c714883f3ba303.setContent%28html_c9513dcf68c7423ca10674df46d5a1f7%29%3B%0A%20%20%20%20%20%20%20%20%0A%0A%20%20%20%20%20%20%20%20marker_75710ee2902e4f0fb342a1359f05872d.bindPopup%28popup_f3fd866402d543c391c714883f3ba303%29%0A%20%20%20%20%20%20%20%20%3B%0A%0A%20%20%20%20%20%20%20%20%0A%20%20%20%20%0A%20%20%20%20%0A%20%20%20%20%20%20%20%20%20%20%20%20var%20marker_88a9eac46a6049b3b3d305262dff47b3%20%3D%20L.marker%28%0A%20%20%20%20%20%20%20%20%20%20%20%20%20%20%20%20%5B38.7423081%2C%20-9.133584%5D%2C%0A%20%20%20%20%20%20%20%20%20%20%20%20%20%20%20%20%7B%22fillColor%22%3A%20%22%2343d9de%22%2C%20%22radius%22%3A%208%7D%0A%20%20%20%20%20%20%20%20%20%20%20%20%29.addTo%28map_c734710e63eb4901b10e6cbd62473014%29%3B%0A%20%20%20%20%20%20%20%20%0A%20%20%20%20%0A%20%20%20%20%20%20%20%20var%20popup_ea8964d9830d40febdc4e6843dfc896c%20%3D%20L.popup%28%7B%22maxWidth%22%3A%20%22100%25%22%7D%29%3B%0A%0A%20%20%20%20%20%20%20%20%0A%20%20%20%20%20%20%20%20%20%20%20%20var%20html_caed3de01b4a4be586a747427393bee6%20%3D%20%24%28%60%3Cdiv%20id%3D%22html_caed3de01b4a4be586a747427393bee6%22%20style%3D%22width%3A%20100.0%25%3B%20height%3A%20100.0%25%3B%22%3E%28%27Lala%20Nails%20Sal%C3%A3o%27%2C%20%27%E2%82%AC%27%2C%203.0%29%3C/div%3E%60%29%5B0%5D%3B%0A%20%20%20%20%20%20%20%20%20%20%20%20popup_ea8964d9830d40febdc4e6843dfc896c.setContent%28html_caed3de01b4a4be586a747427393bee6%29%3B%0A%20%20%20%20%20%20%20%20%0A%0A%20%20%20%20%20%20%20%20marker_88a9eac46a6049b3b3d305262dff47b3.bindPopup%28popup_ea8964d9830d40febdc4e6843dfc896c%29%0A%20%20%20%20%20%20%20%20%3B%0A%0A%20%20%20%20%20%20%20%20%0A%20%20%20%20%0A%20%20%20%20%0A%20%20%20%20%20%20%20%20%20%20%20%20var%20marker_3574d5b6fe9a4cc686faa419a4c9dccc%20%3D%20L.marker%28%0A%20%20%20%20%20%20%20%20%20%20%20%20%20%20%20%20%5B38.7376151%2C%20-9.1597088%5D%2C%0A%20%20%20%20%20%20%20%20%20%20%20%20%20%20%20%20%7B%22fillColor%22%3A%20%22%2343d9de%22%2C%20%22radius%22%3A%208%7D%0A%20%20%20%20%20%20%20%20%20%20%20%20%29.addTo%28map_c734710e63eb4901b10e6cbd62473014%29%3B%0A%20%20%20%20%20%20%20%20%0A%20%20%20%20%0A%20%20%20%20%20%20%20%20var%20popup_0bd0afcd939448259e6d5a8d070aec00%20%3D%20L.popup%28%7B%22maxWidth%22%3A%20%22100%25%22%7D%29%3B%0A%0A%20%20%20%20%20%20%20%20%0A%20%20%20%20%20%20%20%20%20%20%20%20var%20html_2b9771beae6c487999238c27ac4a3611%20%3D%20%24%28%60%3Cdiv%20id%3D%22html_2b9771beae6c487999238c27ac4a3611%22%20style%3D%22width%3A%20100.0%25%3B%20height%3A%20100.0%25%3B%22%3E%28%27Hotel%20A%C3%A7ores%27%2C%20%27%E2%82%AC%E2%82%AC%E2%82%AC%27%2C%203.5%29%3C/div%3E%60%29%5B0%5D%3B%0A%20%20%20%20%20%20%20%20%20%20%20%20popup_0bd0afcd939448259e6d5a8d070aec00.setContent%28html_2b9771beae6c487999238c27ac4a3611%29%3B%0A%20%20%20%20%20%20%20%20%0A%0A%20%20%20%20%20%20%20%20marker_3574d5b6fe9a4cc686faa419a4c9dccc.bindPopup%28popup_0bd0afcd939448259e6d5a8d070aec00%29%0A%20%20%20%20%20%20%20%20%3B%0A%0A%20%20%20%20%20%20%20%20%0A%20%20%20%20%0A%20%20%20%20%0A%20%20%20%20%20%20%20%20%20%20%20%20var%20marker_f9b3e9b775c44948964b632fd33ec8e1%20%3D%20L.marker%28%0A%20%20%20%20%20%20%20%20%20%20%20%20%20%20%20%20%5B38.7399194%2C%20-9.1459697%5D%2C%0A%20%20%20%20%20%20%20%20%20%20%20%20%20%20%20%20%7B%22fillColor%22%3A%20%22%2343d9de%22%2C%20%22radius%22%3A%208%7D%0A%20%20%20%20%20%20%20%20%20%20%20%20%29.addTo%28map_c734710e63eb4901b10e6cbd62473014%29%3B%0A%20%20%20%20%20%20%20%20%0A%20%20%20%20%0A%20%20%20%20%20%20%20%20var%20popup_a46899b05d1643ce98389fbc7676c855%20%3D%20L.popup%28%7B%22maxWidth%22%3A%20%22100%25%22%7D%29%3B%0A%0A%20%20%20%20%20%20%20%20%0A%20%20%20%20%20%20%20%20%20%20%20%20var%20html_3e2dded43c114becb7d670d8a276bcd9%20%3D%20%24%28%60%3Cdiv%20id%3D%22html_3e2dded43c114becb7d670d8a276bcd9%22%20style%3D%22width%3A%20100.0%25%3B%20height%3A%20100.0%25%3B%22%3E%28%27Coquete%27%2C%20%27%E2%82%AC%E2%82%AC%E2%82%AC%27%2C%204.5%29%3C/div%3E%60%29%5B0%5D%3B%0A%20%20%20%20%20%20%20%20%20%20%20%20popup_a46899b05d1643ce98389fbc7676c855.setContent%28html_3e2dded43c114becb7d670d8a276bcd9%29%3B%0A%20%20%20%20%20%20%20%20%0A%0A%20%20%20%20%20%20%20%20marker_f9b3e9b775c44948964b632fd33ec8e1.bindPopup%28popup_a46899b05d1643ce98389fbc7676c855%29%0A%20%20%20%20%20%20%20%20%3B%0A%0A%20%20%20%20%20%20%20%20%0A%20%20%20%20%0A%20%20%20%20%0A%20%20%20%20%20%20%20%20%20%20%20%20var%20marker_608d46952ac34ca0bcb6aaa6fed84e76%20%3D%20L.marker%28%0A%20%20%20%20%20%20%20%20%20%20%20%20%20%20%20%20%5B38.7535181%2C%20-9.14223%5D%2C%0A%20%20%20%20%20%20%20%20%20%20%20%20%20%20%20%20%7B%22fillColor%22%3A%20%22%2343d9de%22%2C%20%22radius%22%3A%208%7D%0A%20%20%20%20%20%20%20%20%20%20%20%20%29.addTo%28map_c734710e63eb4901b10e6cbd62473014%29%3B%0A%20%20%20%20%20%20%20%20%0A%20%20%20%20%0A%20%20%20%20%20%20%20%20var%20popup_16f3eb0fa62c43768285b6a2327601d6%20%3D%20L.popup%28%7B%22maxWidth%22%3A%20%22100%25%22%7D%29%3B%0A%0A%20%20%20%20%20%20%20%20%0A%20%20%20%20%20%20%20%20%20%20%20%20var%20html_e9f3239ba55841599073e1525a119c21%20%3D%20%24%28%60%3Cdiv%20id%3D%22html_e9f3239ba55841599073e1525a119c21%22%20style%3D%22width%3A%20100.0%25%3B%20height%3A%20100.0%25%3B%22%3E%28%27Vitrine%27%2C%20%27%E2%82%AC%E2%82%AC%E2%82%AC%27%2C%204.0%29%3C/div%3E%60%29%5B0%5D%3B%0A%20%20%20%20%20%20%20%20%20%20%20%20popup_16f3eb0fa62c43768285b6a2327601d6.setContent%28html_e9f3239ba55841599073e1525a119c21%29%3B%0A%20%20%20%20%20%20%20%20%0A%0A%20%20%20%20%20%20%20%20marker_608d46952ac34ca0bcb6aaa6fed84e76.bindPopup%28popup_16f3eb0fa62c43768285b6a2327601d6%29%0A%20%20%20%20%20%20%20%20%3B%0A%0A%20%20%20%20%20%20%20%20%0A%20%20%20%20%0A%20%20%20%20%0A%20%20%20%20%20%20%20%20%20%20%20%20var%20marker_2bd404f3450b425d93ffc5499125d38a%20%3D%20L.marker%28%0A%20%20%20%20%20%20%20%20%20%20%20%20%20%20%20%20%5B38.708126%2C%20-9.1588066%5D%2C%0A%20%20%20%20%20%20%20%20%20%20%20%20%20%20%20%20%7B%22fillColor%22%3A%20%22%2343d9de%22%2C%20%22radius%22%3A%208%7D%0A%20%20%20%20%20%20%20%20%20%20%20%20%29.addTo%28map_c734710e63eb4901b10e6cbd62473014%29%3B%0A%20%20%20%20%20%20%20%20%0A%20%20%20%20%0A%20%20%20%20%20%20%20%20var%20popup_9897cd16e85b4b03a31acd5398107cb0%20%3D%20L.popup%28%7B%22maxWidth%22%3A%20%22100%25%22%7D%29%3B%0A%0A%20%20%20%20%20%20%20%20%0A%20%20%20%20%20%20%20%20%20%20%20%20var%20html_fd7a51a8b222482a9ff430ad341afbf1%20%3D%20%24%28%60%3Cdiv%20id%3D%22html_fd7a51a8b222482a9ff430ad341afbf1%22%20style%3D%22width%3A%20100.0%25%3B%20height%3A%20100.0%25%3B%22%3E%28%27StarSec%27%2C%20%27%E2%82%AC%E2%82%AC%27%2C%203.5%29%3C/div%3E%60%29%5B0%5D%3B%0A%20%20%20%20%20%20%20%20%20%20%20%20popup_9897cd16e85b4b03a31acd5398107cb0.setContent%28html_fd7a51a8b222482a9ff430ad341afbf1%29%3B%0A%20%20%20%20%20%20%20%20%0A%0A%20%20%20%20%20%20%20%20marker_2bd404f3450b425d93ffc5499125d38a.bindPopup%28popup_9897cd16e85b4b03a31acd5398107cb0%29%0A%20%20%20%20%20%20%20%20%3B%0A%0A%20%20%20%20%20%20%20%20%0A%20%20%20%20%0A%20%20%20%20%0A%20%20%20%20%20%20%20%20%20%20%20%20var%20marker_c71e6bc630fe4baca3ac2d31cbc1493e%20%3D%20L.marker%28%0A%20%20%20%20%20%20%20%20%20%20%20%20%20%20%20%20%5B38.7345188%2C%20-9.1322271%5D%2C%0A%20%20%20%20%20%20%20%20%20%20%20%20%20%20%20%20%7B%22fillColor%22%3A%20%22%2343d9de%22%2C%20%22radius%22%3A%208%7D%0A%20%20%20%20%20%20%20%20%20%20%20%20%29.addTo%28map_c734710e63eb4901b10e6cbd62473014%29%3B%0A%20%20%20%20%20%20%20%20%0A%20%20%20%20%0A%20%20%20%20%20%20%20%20var%20popup_6b6d9b3a61994f53b5a41243ca374d8b%20%3D%20L.popup%28%7B%22maxWidth%22%3A%20%22100%25%22%7D%29%3B%0A%0A%20%20%20%20%20%20%20%20%0A%20%20%20%20%20%20%20%20%20%20%20%20var%20html_5481f76dbf07444982a6decd9de7596b%20%3D%20%24%28%60%3Cdiv%20id%3D%22html_5481f76dbf07444982a6decd9de7596b%22%20style%3D%22width%3A%20100.0%25%3B%20height%3A%20100.0%25%3B%22%3E%28%27P%C3%A1teo%20de%20Lisboa%27%2C%20%27%E2%82%AC%27%2C%204.5%29%3C/div%3E%60%29%5B0%5D%3B%0A%20%20%20%20%20%20%20%20%20%20%20%20popup_6b6d9b3a61994f53b5a41243ca374d8b.setContent%28html_5481f76dbf07444982a6decd9de7596b%29%3B%0A%20%20%20%20%20%20%20%20%0A%0A%20%20%20%20%20%20%20%20marker_c71e6bc630fe4baca3ac2d31cbc1493e.bindPopup%28popup_6b6d9b3a61994f53b5a41243ca374d8b%29%0A%20%20%20%20%20%20%20%20%3B%0A%0A%20%20%20%20%20%20%20%20%0A%20%20%20%20%0A%20%20%20%20%0A%20%20%20%20%20%20%20%20%20%20%20%20var%20marker_c12ba92d8ab7495f835685e6586152cb%20%3D%20L.marker%28%0A%20%20%20%20%20%20%20%20%20%20%20%20%20%20%20%20%5B38.7384449%2C%20-9.1245341%5D%2C%0A%20%20%20%20%20%20%20%20%20%20%20%20%20%20%20%20%7B%22fillColor%22%3A%20%22%2343d9de%22%2C%20%22radius%22%3A%208%7D%0A%20%20%20%20%20%20%20%20%20%20%20%20%29.addTo%28map_c734710e63eb4901b10e6cbd62473014%29%3B%0A%20%20%20%20%20%20%20%20%0A%20%20%20%20%0A%20%20%20%20%20%20%20%20var%20popup_7e2ea593aa004ee98280683ea50eb8fb%20%3D%20L.popup%28%7B%22maxWidth%22%3A%20%22100%25%22%7D%29%3B%0A%0A%20%20%20%20%20%20%20%20%0A%20%20%20%20%20%20%20%20%20%20%20%20var%20html_423feb3610104278a0db47d6392d0efa%20%3D%20%24%28%60%3Cdiv%20id%3D%22html_423feb3610104278a0db47d6392d0efa%22%20style%3D%22width%3A%20100.0%25%3B%20height%3A%20100.0%25%3B%22%3E%28%27A%20Ratoeira%20Minhota%27%2C%20%27%E2%82%AC%27%2C%203.0%29%3C/div%3E%60%29%5B0%5D%3B%0A%20%20%20%20%20%20%20%20%20%20%20%20popup_7e2ea593aa004ee98280683ea50eb8fb.setContent%28html_423feb3610104278a0db47d6392d0efa%29%3B%0A%20%20%20%20%20%20%20%20%0A%0A%20%20%20%20%20%20%20%20marker_c12ba92d8ab7495f835685e6586152cb.bindPopup%28popup_7e2ea593aa004ee98280683ea50eb8fb%29%0A%20%20%20%20%20%20%20%20%3B%0A%0A%20%20%20%20%20%20%20%20%0A%20%20%20%20%0A%20%20%20%20%0A%20%20%20%20%20%20%20%20%20%20%20%20var%20marker_68ada4c8696c4767884f6f7f9f9e966b%20%3D%20L.marker%28%0A%20%20%20%20%20%20%20%20%20%20%20%20%20%20%20%20%5B38.7101847%2C%20-9.1616055%5D%2C%0A%20%20%20%20%20%20%20%20%20%20%20%20%20%20%20%20%7B%22fillColor%22%3A%20%22%2343d9de%22%2C%20%22radius%22%3A%208%7D%0A%20%20%20%20%20%20%20%20%20%20%20%20%29.addTo%28map_c734710e63eb4901b10e6cbd62473014%29%3B%0A%20%20%20%20%20%20%20%20%0A%20%20%20%20%0A%20%20%20%20%20%20%20%20var%20popup_a347ad7e158545d9a98ef9bf228442be%20%3D%20L.popup%28%7B%22maxWidth%22%3A%20%22100%25%22%7D%29%3B%0A%0A%20%20%20%20%20%20%20%20%0A%20%20%20%20%20%20%20%20%20%20%20%20var%20html_a55ebbde8ebc4c9d93468f50981ed1e1%20%3D%20%24%28%60%3Cdiv%20id%3D%22html_a55ebbde8ebc4c9d93468f50981ed1e1%22%20style%3D%22width%3A%20100.0%25%3B%20height%3A%20100.0%25%3B%22%3E%28%27Comprima%27%2C%20%27%E2%82%AC%E2%82%AC%E2%82%AC%27%2C%204.0%29%3C/div%3E%60%29%5B0%5D%3B%0A%20%20%20%20%20%20%20%20%20%20%20%20popup_a347ad7e158545d9a98ef9bf228442be.setContent%28html_a55ebbde8ebc4c9d93468f50981ed1e1%29%3B%0A%20%20%20%20%20%20%20%20%0A%0A%20%20%20%20%20%20%20%20marker_68ada4c8696c4767884f6f7f9f9e966b.bindPopup%28popup_a347ad7e158545d9a98ef9bf228442be%29%0A%20%20%20%20%20%20%20%20%3B%0A%0A%20%20%20%20%20%20%20%20%0A%20%20%20%20%0A%20%20%20%20%0A%20%20%20%20%20%20%20%20%20%20%20%20var%20marker_4a0974ad074147a8b8117e20185e5fca%20%3D%20L.marker%28%0A%20%20%20%20%20%20%20%20%20%20%20%20%20%20%20%20%5B38.7444103%2C%20-9.1450094%5D%2C%0A%20%20%20%20%20%20%20%20%20%20%20%20%20%20%20%20%7B%22fillColor%22%3A%20%22%2343d9de%22%2C%20%22radius%22%3A%208%7D%0A%20%20%20%20%20%20%20%20%20%20%20%20%29.addTo%28map_c734710e63eb4901b10e6cbd62473014%29%3B%0A%20%20%20%20%20%20%20%20%0A%20%20%20%20%0A%20%20%20%20%20%20%20%20var%20popup_0fb3111b07f0428bbfe2b37cd45d5bb8%20%3D%20L.popup%28%7B%22maxWidth%22%3A%20%22100%25%22%7D%29%3B%0A%0A%20%20%20%20%20%20%20%20%0A%20%20%20%20%20%20%20%20%20%20%20%20var%20html_4fd29db0c76743d8aa85e2d1d1980130%20%3D%20%24%28%60%3Cdiv%20id%3D%22html_4fd29db0c76743d8aa85e2d1d1980130%22%20style%3D%22width%3A%20100.0%25%3B%20height%3A%20100.0%25%3B%22%3E%28%27Museu%20da%20Cerveja%27%2C%20%27%E2%82%AC%E2%82%AC%27%2C%203.5%29%3C/div%3E%60%29%5B0%5D%3B%0A%20%20%20%20%20%20%20%20%20%20%20%20popup_0fb3111b07f0428bbfe2b37cd45d5bb8.setContent%28html_4fd29db0c76743d8aa85e2d1d1980130%29%3B%0A%20%20%20%20%20%20%20%20%0A%0A%20%20%20%20%20%20%20%20marker_4a0974ad074147a8b8117e20185e5fca.bindPopup%28popup_0fb3111b07f0428bbfe2b37cd45d5bb8%29%0A%20%20%20%20%20%20%20%20%3B%0A%0A%20%20%20%20%20%20%20%20%0A%20%20%20%20%0A%20%20%20%20%0A%20%20%20%20%20%20%20%20%20%20%20%20var%20marker_0fe55a2edc9a4793b2b257dd49f90319%20%3D%20L.marker%28%0A%20%20%20%20%20%20%20%20%20%20%20%20%20%20%20%20%5B38.6977695%2C%20-9.2039011%5D%2C%0A%20%20%20%20%20%20%20%20%20%20%20%20%20%20%20%20%7B%22fillColor%22%3A%20%22%2343d9de%22%2C%20%22radius%22%3A%208%7D%0A%20%20%20%20%20%20%20%20%20%20%20%20%29.addTo%28map_c734710e63eb4901b10e6cbd62473014%29%3B%0A%20%20%20%20%20%20%20%20%0A%20%20%20%20%0A%20%20%20%20%20%20%20%20var%20popup_646ab0200a8b46468f92d989945a031d%20%3D%20L.popup%28%7B%22maxWidth%22%3A%20%22100%25%22%7D%29%3B%0A%0A%20%20%20%20%20%20%20%20%0A%20%20%20%20%20%20%20%20%20%20%20%20var%20html_5f716a6611ed43bf9401096ee65ca308%20%3D%20%24%28%60%3Cdiv%20id%3D%22html_5f716a6611ed43bf9401096ee65ca308%22%20style%3D%22width%3A%20100.0%25%3B%20height%3A%20100.0%25%3B%22%3E%28%27DoubleTree%20by%20Hilton%20Hotel%20Lisbon%20-%20Fontana%20Park%27%2C%20%27%E2%82%AC%E2%82%AC%27%2C%204.0%29%3C/div%3E%60%29%5B0%5D%3B%0A%20%20%20%20%20%20%20%20%20%20%20%20popup_646ab0200a8b46468f92d989945a031d.setContent%28html_5f716a6611ed43bf9401096ee65ca308%29%3B%0A%20%20%20%20%20%20%20%20%0A%0A%20%20%20%20%20%20%20%20marker_0fe55a2edc9a4793b2b257dd49f90319.bindPopup%28popup_646ab0200a8b46468f92d989945a031d%29%0A%20%20%20%20%20%20%20%20%3B%0A%0A%20%20%20%20%20%20%20%20%0A%20%20%20%20%0A%20%20%20%20%0A%20%20%20%20%20%20%20%20%20%20%20%20var%20marker_ab534e7f0d6c4f1a82d1b91e960a0371%20%3D%20L.marker%28%0A%20%20%20%20%20%20%20%20%20%20%20%20%20%20%20%20%5B38.7392256%2C%20-9.1361787%5D%2C%0A%20%20%20%20%20%20%20%20%20%20%20%20%20%20%20%20%7B%22fillColor%22%3A%20%22%2343d9de%22%2C%20%22radius%22%3A%208%7D%0A%20%20%20%20%20%20%20%20%20%20%20%20%29.addTo%28map_c734710e63eb4901b10e6cbd62473014%29%3B%0A%20%20%20%20%20%20%20%20%0A%20%20%20%20%0A%20%20%20%20%20%20%20%20var%20popup_3acbbe4c78d74d7e988bc9098a591bdf%20%3D%20L.popup%28%7B%22maxWidth%22%3A%20%22100%25%22%7D%29%3B%0A%0A%20%20%20%20%20%20%20%20%0A%20%20%20%20%20%20%20%20%20%20%20%20var%20html_b9760b4e75574fd885081c23919036ac%20%3D%20%24%28%60%3Cdiv%20id%3D%22html_b9760b4e75574fd885081c23919036ac%22%20style%3D%22width%3A%20100.0%25%3B%20height%3A%20100.0%25%3B%22%3E%28%27Pastelaria%20Emenda%27%2C%20%27%E2%82%AC%27%2C%204.0%29%3C/div%3E%60%29%5B0%5D%3B%0A%20%20%20%20%20%20%20%20%20%20%20%20popup_3acbbe4c78d74d7e988bc9098a591bdf.setContent%28html_b9760b4e75574fd885081c23919036ac%29%3B%0A%20%20%20%20%20%20%20%20%0A%0A%20%20%20%20%20%20%20%20marker_ab534e7f0d6c4f1a82d1b91e960a0371.bindPopup%28popup_3acbbe4c78d74d7e988bc9098a591bdf%29%0A%20%20%20%20%20%20%20%20%3B%0A%0A%20%20%20%20%20%20%20%20%0A%20%20%20%20%0A%20%20%20%20%0A%20%20%20%20%20%20%20%20%20%20%20%20var%20marker_4ad7925f4fa947bda24e8eb8f77cbe57%20%3D%20L.marker%28%0A%20%20%20%20%20%20%20%20%20%20%20%20%20%20%20%20%5B38.7545125%2C%20-9.1425034%5D%2C%0A%20%20%20%20%20%20%20%20%20%20%20%20%20%20%20%20%7B%22fillColor%22%3A%20%22%2343d9de%22%2C%20%22radius%22%3A%208%7D%0A%20%20%20%20%20%20%20%20%20%20%20%20%29.addTo%28map_c734710e63eb4901b10e6cbd62473014%29%3B%0A%20%20%20%20%20%20%20%20%0A%20%20%20%20%0A%20%20%20%20%20%20%20%20var%20popup_4446a311f9e34e7ea99c6e572a3eccb4%20%3D%20L.popup%28%7B%22maxWidth%22%3A%20%22100%25%22%7D%29%3B%0A%0A%20%20%20%20%20%20%20%20%0A%20%20%20%20%20%20%20%20%20%20%20%20var%20html_657d30c7164e46038b4f0a52a7fa3fec%20%3D%20%24%28%60%3Cdiv%20id%3D%22html_657d30c7164e46038b4f0a52a7fa3fec%22%20style%3D%22width%3A%20100.0%25%3B%20height%3A%20100.0%25%3B%22%3E%28%27Chimarr%C3%A3o%20Campo%20Grande%27%2C%20%27%E2%82%AC%E2%82%AC%27%2C%203.0%29%3C/div%3E%60%29%5B0%5D%3B%0A%20%20%20%20%20%20%20%20%20%20%20%20popup_4446a311f9e34e7ea99c6e572a3eccb4.setContent%28html_657d30c7164e46038b4f0a52a7fa3fec%29%3B%0A%20%20%20%20%20%20%20%20%0A%0A%20%20%20%20%20%20%20%20marker_4ad7925f4fa947bda24e8eb8f77cbe57.bindPopup%28popup_4446a311f9e34e7ea99c6e572a3eccb4%29%0A%20%20%20%20%20%20%20%20%3B%0A%0A%20%20%20%20%20%20%20%20%0A%20%20%20%20%0A%20%20%20%20%0A%20%20%20%20%20%20%20%20%20%20%20%20var%20marker_3a9a6a59478e42329c0a0f7e707c6462%20%3D%20L.marker%28%0A%20%20%20%20%20%20%20%20%20%20%20%20%20%20%20%20%5B38.717426%2C%20-9.166078%5D%2C%0A%20%20%20%20%20%20%20%20%20%20%20%20%20%20%20%20%7B%22fillColor%22%3A%20%22%2343d9de%22%2C%20%22radius%22%3A%208%7D%0A%20%20%20%20%20%20%20%20%20%20%20%20%29.addTo%28map_c734710e63eb4901b10e6cbd62473014%29%3B%0A%20%20%20%20%20%20%20%20%0A%20%20%20%20%0A%20%20%20%20%20%20%20%20var%20popup_eb8d17b0e67542e498dbadcf16e75415%20%3D%20L.popup%28%7B%22maxWidth%22%3A%20%22100%25%22%7D%29%3B%0A%0A%20%20%20%20%20%20%20%20%0A%20%20%20%20%20%20%20%20%20%20%20%20var%20html_d96a9eed1715489e83ea2e0f380918f5%20%3D%20%24%28%60%3Cdiv%20id%3D%22html_d96a9eed1715489e83ea2e0f380918f5%22%20style%3D%22width%3A%20100.0%25%3B%20height%3A%20100.0%25%3B%22%3E%28%27Sacolinha%27%2C%20%27%E2%82%AC%E2%82%AC%27%2C%203.5%29%3C/div%3E%60%29%5B0%5D%3B%0A%20%20%20%20%20%20%20%20%20%20%20%20popup_eb8d17b0e67542e498dbadcf16e75415.setContent%28html_d96a9eed1715489e83ea2e0f380918f5%29%3B%0A%20%20%20%20%20%20%20%20%0A%0A%20%20%20%20%20%20%20%20marker_3a9a6a59478e42329c0a0f7e707c6462.bindPopup%28popup_eb8d17b0e67542e498dbadcf16e75415%29%0A%20%20%20%20%20%20%20%20%3B%0A%0A%20%20%20%20%20%20%20%20%0A%20%20%20%20%0A%20%20%20%20%0A%20%20%20%20%20%20%20%20%20%20%20%20var%20marker_fd0419a745a24e598dcbcf2e7d8e4586%20%3D%20L.marker%28%0A%20%20%20%20%20%20%20%20%20%20%20%20%20%20%20%20%5B38.7260616%2C%20-9.1187027%5D%2C%0A%20%20%20%20%20%20%20%20%20%20%20%20%20%20%20%20%7B%22fillColor%22%3A%20%22%2343d9de%22%2C%20%22radius%22%3A%208%7D%0A%20%20%20%20%20%20%20%20%20%20%20%20%29.addTo%28map_c734710e63eb4901b10e6cbd62473014%29%3B%0A%20%20%20%20%20%20%20%20%0A%20%20%20%20%0A%20%20%20%20%20%20%20%20var%20popup_e33ef8e53b52437d846445984b046002%20%3D%20L.popup%28%7B%22maxWidth%22%3A%20%22100%25%22%7D%29%3B%0A%0A%20%20%20%20%20%20%20%20%0A%20%20%20%20%20%20%20%20%20%20%20%20var%20html_6b9ddc597b5d4c9a98bcd77928ce1267%20%3D%20%24%28%60%3Cdiv%20id%3D%22html_6b9ddc597b5d4c9a98bcd77928ce1267%22%20style%3D%22width%3A%20100.0%25%3B%20height%3A%20100.0%25%3B%22%3E%28%27%C3%80%20Margem%27%2C%20%27%E2%82%AC%E2%82%AC%27%2C%204.0%29%3C/div%3E%60%29%5B0%5D%3B%0A%20%20%20%20%20%20%20%20%20%20%20%20popup_e33ef8e53b52437d846445984b046002.setContent%28html_6b9ddc597b5d4c9a98bcd77928ce1267%29%3B%0A%20%20%20%20%20%20%20%20%0A%0A%20%20%20%20%20%20%20%20marker_fd0419a745a24e598dcbcf2e7d8e4586.bindPopup%28popup_e33ef8e53b52437d846445984b046002%29%0A%20%20%20%20%20%20%20%20%3B%0A%0A%20%20%20%20%20%20%20%20%0A%20%20%20%20%0A%20%20%20%20%0A%20%20%20%20%20%20%20%20%20%20%20%20var%20marker_7c458950f00a4640a97a7269a0ad1cc9%20%3D%20L.marker%28%0A%20%20%20%20%20%20%20%20%20%20%20%20%20%20%20%20%5B38.7130198%2C%20-9.1279487%5D%2C%0A%20%20%20%20%20%20%20%20%20%20%20%20%20%20%20%20%7B%22fillColor%22%3A%20%22%2343d9de%22%2C%20%22radius%22%3A%208%7D%0A%20%20%20%20%20%20%20%20%20%20%20%20%29.addTo%28map_c734710e63eb4901b10e6cbd62473014%29%3B%0A%20%20%20%20%20%20%20%20%0A%20%20%20%20%0A%20%20%20%20%20%20%20%20var%20popup_f4d4b876e72041e2b07a163c457fe275%20%3D%20L.popup%28%7B%22maxWidth%22%3A%20%22100%25%22%7D%29%3B%0A%0A%20%20%20%20%20%20%20%20%0A%20%20%20%20%20%20%20%20%20%20%20%20var%20html_9369ba53cb7b4a049399078b4c61c2f7%20%3D%20%24%28%60%3Cdiv%20id%3D%22html_9369ba53cb7b4a049399078b4c61c2f7%22%20style%3D%22width%3A%20100.0%25%3B%20height%3A%20100.0%25%3B%22%3E%28%27Pastelaria%20Delta%27%2C%20%27%E2%82%AC%27%2C%203.0%29%3C/div%3E%60%29%5B0%5D%3B%0A%20%20%20%20%20%20%20%20%20%20%20%20popup_f4d4b876e72041e2b07a163c457fe275.setContent%28html_9369ba53cb7b4a049399078b4c61c2f7%29%3B%0A%20%20%20%20%20%20%20%20%0A%0A%20%20%20%20%20%20%20%20marker_7c458950f00a4640a97a7269a0ad1cc9.bindPopup%28popup_f4d4b876e72041e2b07a163c457fe275%29%0A%20%20%20%20%20%20%20%20%3B%0A%0A%20%20%20%20%20%20%20%20%0A%20%20%20%20%0A%20%20%20%20%0A%20%20%20%20%20%20%20%20%20%20%20%20var%20marker_0a0c637590be4966b5a14db2881c19de%20%3D%20L.marker%28%0A%20%20%20%20%20%20%20%20%20%20%20%20%20%20%20%20%5B38.7171606%2C%20-9.1334649%5D%2C%0A%20%20%20%20%20%20%20%20%20%20%20%20%20%20%20%20%7B%22fillColor%22%3A%20%22%2343d9de%22%2C%20%22radius%22%3A%208%7D%0A%20%20%20%20%20%20%20%20%20%20%20%20%29.addTo%28map_c734710e63eb4901b10e6cbd62473014%29%3B%0A%20%20%20%20%20%20%20%20%0A%20%20%20%20%0A%20%20%20%20%20%20%20%20var%20popup_5e739209a5b74c3e9b65092e405410f2%20%3D%20L.popup%28%7B%22maxWidth%22%3A%20%22100%25%22%7D%29%3B%0A%0A%20%20%20%20%20%20%20%20%0A%20%20%20%20%20%20%20%20%20%20%20%20var%20html_3a771ea60cf946b59729384864b13dda%20%3D%20%24%28%60%3Cdiv%20id%3D%22html_3a771ea60cf946b59729384864b13dda%22%20style%3D%22width%3A%20100.0%25%3B%20height%3A%20100.0%25%3B%22%3E%28%27Ervan%C3%A1ria%20S%C3%A3o%20Jo%C3%A3o%20de%20Brito%27%2C%20%27%E2%82%AC%E2%82%AC%27%2C%203.5%29%3C/div%3E%60%29%5B0%5D%3B%0A%20%20%20%20%20%20%20%20%20%20%20%20popup_5e739209a5b74c3e9b65092e405410f2.setContent%28html_3a771ea60cf946b59729384864b13dda%29%3B%0A%20%20%20%20%20%20%20%20%0A%0A%20%20%20%20%20%20%20%20marker_0a0c637590be4966b5a14db2881c19de.bindPopup%28popup_5e739209a5b74c3e9b65092e405410f2%29%0A%20%20%20%20%20%20%20%20%3B%0A%0A%20%20%20%20%20%20%20%20%0A%20%20%20%20%0A%20%20%20%20%0A%20%20%20%20%20%20%20%20%20%20%20%20var%20marker_e28759d983f04111a68196e1eec788f7%20%3D%20L.marker%28%0A%20%20%20%20%20%20%20%20%20%20%20%20%20%20%20%20%5B38.7138756%2C%20-9.1390916%5D%2C%0A%20%20%20%20%20%20%20%20%20%20%20%20%20%20%20%20%7B%22fillColor%22%3A%20%22%2343d9de%22%2C%20%22radius%22%3A%208%7D%0A%20%20%20%20%20%20%20%20%20%20%20%20%29.addTo%28map_c734710e63eb4901b10e6cbd62473014%29%3B%0A%20%20%20%20%20%20%20%20%0A%20%20%20%20%0A%20%20%20%20%20%20%20%20var%20popup_e44a5b01294d421e86f9035f12bd9e42%20%3D%20L.popup%28%7B%22maxWidth%22%3A%20%22100%25%22%7D%29%3B%0A%0A%20%20%20%20%20%20%20%20%0A%20%20%20%20%20%20%20%20%20%20%20%20var%20html_ccd35a98198a4ff4b5ade98992137fe9%20%3D%20%24%28%60%3Cdiv%20id%3D%22html_ccd35a98198a4ff4b5ade98992137fe9%22%20style%3D%22width%3A%20100.0%25%3B%20height%3A%20100.0%25%3B%22%3E%28%27Papelaria%20Janeca%27%2C%20%27%E2%82%AC%E2%82%AC%27%2C%203.5%29%3C/div%3E%60%29%5B0%5D%3B%0A%20%20%20%20%20%20%20%20%20%20%20%20popup_e44a5b01294d421e86f9035f12bd9e42.setContent%28html_ccd35a98198a4ff4b5ade98992137fe9%29%3B%0A%20%20%20%20%20%20%20%20%0A%0A%20%20%20%20%20%20%20%20marker_e28759d983f04111a68196e1eec788f7.bindPopup%28popup_e44a5b01294d421e86f9035f12bd9e42%29%0A%20%20%20%20%20%20%20%20%3B%0A%0A%20%20%20%20%20%20%20%20%0A%20%20%20%20%0A%20%20%20%20%0A%20%20%20%20%20%20%20%20%20%20%20%20var%20marker_a19f91b87a244bd5a655b33dd4f68274%20%3D%20L.marker%28%0A%20%20%20%20%20%20%20%20%20%20%20%20%20%20%20%20%5B38.7546343%2C%20-9.1425612%5D%2C%0A%20%20%20%20%20%20%20%20%20%20%20%20%20%20%20%20%7B%22fillColor%22%3A%20%22%2343d9de%22%2C%20%22radius%22%3A%208%7D%0A%20%20%20%20%20%20%20%20%20%20%20%20%29.addTo%28map_c734710e63eb4901b10e6cbd62473014%29%3B%0A%20%20%20%20%20%20%20%20%0A%20%20%20%20%0A%20%20%20%20%20%20%20%20var%20popup_de8e28b897d24aa783403a4ef02e21be%20%3D%20L.popup%28%7B%22maxWidth%22%3A%20%22100%25%22%7D%29%3B%0A%0A%20%20%20%20%20%20%20%20%0A%20%20%20%20%20%20%20%20%20%20%20%20var%20html_acb583f32f384dcda50f5b94683d3e70%20%3D%20%24%28%60%3Cdiv%20id%3D%22html_acb583f32f384dcda50f5b94683d3e70%22%20style%3D%22width%3A%20100.0%25%3B%20height%3A%20100.0%25%3B%22%3E%28%27Leitaria%20Acad%C3%A9mica%27%2C%20%27%E2%82%AC%27%2C%204.0%29%3C/div%3E%60%29%5B0%5D%3B%0A%20%20%20%20%20%20%20%20%20%20%20%20popup_de8e28b897d24aa783403a4ef02e21be.setContent%28html_acb583f32f384dcda50f5b94683d3e70%29%3B%0A%20%20%20%20%20%20%20%20%0A%0A%20%20%20%20%20%20%20%20marker_a19f91b87a244bd5a655b33dd4f68274.bindPopup%28popup_de8e28b897d24aa783403a4ef02e21be%29%0A%20%20%20%20%20%20%20%20%3B%0A%0A%20%20%20%20%20%20%20%20%0A%20%20%20%20%0A%20%20%20%20%0A%20%20%20%20%20%20%20%20%20%20%20%20var%20marker_b48943d6009f4b6083cfdc351778f451%20%3D%20L.marker%28%0A%20%20%20%20%20%20%20%20%20%20%20%20%20%20%20%20%5B38.7465354%2C%20-9.1469601%5D%2C%0A%20%20%20%20%20%20%20%20%20%20%20%20%20%20%20%20%7B%22fillColor%22%3A%20%22%2343d9de%22%2C%20%22radius%22%3A%208%7D%0A%20%20%20%20%20%20%20%20%20%20%20%20%29.addTo%28map_c734710e63eb4901b10e6cbd62473014%29%3B%0A%20%20%20%20%20%20%20%20%0A%20%20%20%20%0A%20%20%20%20%20%20%20%20var%20popup_31e38ebb003c40d097f469b4a830df2c%20%3D%20L.popup%28%7B%22maxWidth%22%3A%20%22100%25%22%7D%29%3B%0A%0A%20%20%20%20%20%20%20%20%0A%20%20%20%20%20%20%20%20%20%20%20%20var%20html_0792b5140a974060ba28096bbb34120a%20%3D%20%24%28%60%3Cdiv%20id%3D%22html_0792b5140a974060ba28096bbb34120a%22%20style%3D%22width%3A%20100.0%25%3B%20height%3A%20100.0%25%3B%22%3E%28%27Mercearia%20Vencedora%27%2C%20%27%E2%82%AC%E2%82%AC%E2%82%AC%27%2C%201.0%29%3C/div%3E%60%29%5B0%5D%3B%0A%20%20%20%20%20%20%20%20%20%20%20%20popup_31e38ebb003c40d097f469b4a830df2c.setContent%28html_0792b5140a974060ba28096bbb34120a%29%3B%0A%20%20%20%20%20%20%20%20%0A%0A%20%20%20%20%20%20%20%20marker_b48943d6009f4b6083cfdc351778f451.bindPopup%28popup_31e38ebb003c40d097f469b4a830df2c%29%0A%20%20%20%20%20%20%20%20%3B%0A%0A%20%20%20%20%20%20%20%20%0A%20%20%20%20%0A%20%20%20%20%0A%20%20%20%20%20%20%20%20%20%20%20%20var%20marker_022be8a5ac7b408ab45789e6023a053e%20%3D%20L.marker%28%0A%20%20%20%20%20%20%20%20%20%20%20%20%20%20%20%20%5B38.7318274%2C%20-9.1408009%5D%2C%0A%20%20%20%20%20%20%20%20%20%20%20%20%20%20%20%20%7B%22fillColor%22%3A%20%22%2343d9de%22%2C%20%22radius%22%3A%208%7D%0A%20%20%20%20%20%20%20%20%20%20%20%20%29.addTo%28map_c734710e63eb4901b10e6cbd62473014%29%3B%0A%20%20%20%20%20%20%20%20%0A%20%20%20%20%0A%20%20%20%20%20%20%20%20var%20popup_eeafc061736e403d88736303b68ee484%20%3D%20L.popup%28%7B%22maxWidth%22%3A%20%22100%25%22%7D%29%3B%0A%0A%20%20%20%20%20%20%20%20%0A%20%20%20%20%20%20%20%20%20%20%20%20var%20html_e5c320bde9204c7886485428a8f888e9%20%3D%20%24%28%60%3Cdiv%20id%3D%22html_e5c320bde9204c7886485428a8f888e9%22%20style%3D%22width%3A%20100.0%25%3B%20height%3A%20100.0%25%3B%22%3E%28%27A%20Caravana%27%2C%20%27%E2%82%AC%E2%82%AC%27%2C%203.5%29%3C/div%3E%60%29%5B0%5D%3B%0A%20%20%20%20%20%20%20%20%20%20%20%20popup_eeafc061736e403d88736303b68ee484.setContent%28html_e5c320bde9204c7886485428a8f888e9%29%3B%0A%20%20%20%20%20%20%20%20%0A%0A%20%20%20%20%20%20%20%20marker_022be8a5ac7b408ab45789e6023a053e.bindPopup%28popup_eeafc061736e403d88736303b68ee484%29%0A%20%20%20%20%20%20%20%20%3B%0A%0A%20%20%20%20%20%20%20%20%0A%20%20%20%20%0A%20%20%20%20%0A%20%20%20%20%20%20%20%20%20%20%20%20var%20marker_6c61198bf41a48d7b8dd3bf8eaee2b00%20%3D%20L.marker%28%0A%20%20%20%20%20%20%20%20%20%20%20%20%20%20%20%20%5B38.7584689%2C%20-9.0966619%5D%2C%0A%20%20%20%20%20%20%20%20%20%20%20%20%20%20%20%20%7B%22fillColor%22%3A%20%22%2343d9de%22%2C%20%22radius%22%3A%208%7D%0A%20%20%20%20%20%20%20%20%20%20%20%20%29.addTo%28map_c734710e63eb4901b10e6cbd62473014%29%3B%0A%20%20%20%20%20%20%20%20%0A%20%20%20%20%0A%20%20%20%20%20%20%20%20var%20popup_debdb934c20d4a8e9c9b05611ef1e991%20%3D%20L.popup%28%7B%22maxWidth%22%3A%20%22100%25%22%7D%29%3B%0A%0A%20%20%20%20%20%20%20%20%0A%20%20%20%20%20%20%20%20%20%20%20%20var%20html_4a5e52c6c19f4a56ba34b31952e94dfb%20%3D%20%24%28%60%3Cdiv%20id%3D%22html_4a5e52c6c19f4a56ba34b31952e94dfb%22%20style%3D%22width%3A%20100.0%25%3B%20height%3A%20100.0%25%3B%22%3E%28%27Rice%20Me%27%2C%20%27%E2%82%AC%E2%82%AC%27%2C%202.0%29%3C/div%3E%60%29%5B0%5D%3B%0A%20%20%20%20%20%20%20%20%20%20%20%20popup_debdb934c20d4a8e9c9b05611ef1e991.setContent%28html_4a5e52c6c19f4a56ba34b31952e94dfb%29%3B%0A%20%20%20%20%20%20%20%20%0A%0A%20%20%20%20%20%20%20%20marker_6c61198bf41a48d7b8dd3bf8eaee2b00.bindPopup%28popup_debdb934c20d4a8e9c9b05611ef1e991%29%0A%20%20%20%20%20%20%20%20%3B%0A%0A%20%20%20%20%20%20%20%20%0A%20%20%20%20%0A%20%20%20%20%0A%20%20%20%20%20%20%20%20%20%20%20%20var%20marker_4df0c5713a1e45738c8a8fbdcb571549%20%3D%20L.marker%28%0A%20%20%20%20%20%20%20%20%20%20%20%20%20%20%20%20%5B38.7132999%2C%20-9.15891%5D%2C%0A%20%20%20%20%20%20%20%20%20%20%20%20%20%20%20%20%7B%22fillColor%22%3A%20%22%2343d9de%22%2C%20%22radius%22%3A%208%7D%0A%20%20%20%20%20%20%20%20%20%20%20%20%29.addTo%28map_c734710e63eb4901b10e6cbd62473014%29%3B%0A%20%20%20%20%20%20%20%20%0A%20%20%20%20%0A%20%20%20%20%20%20%20%20var%20popup_f4b76af6e1c544f09b7968265a3ffee7%20%3D%20L.popup%28%7B%22maxWidth%22%3A%20%22100%25%22%7D%29%3B%0A%0A%20%20%20%20%20%20%20%20%0A%20%20%20%20%20%20%20%20%20%20%20%20var%20html_de5033a270a04ed981add279cadbaffa%20%3D%20%24%28%60%3Cdiv%20id%3D%22html_de5033a270a04ed981add279cadbaffa%22%20style%3D%22width%3A%20100.0%25%3B%20height%3A%20100.0%25%3B%22%3E%28%27Prazeres%20da%20Picanha%27%2C%20%27%E2%82%AC%E2%82%AC%27%2C%204.0%29%3C/div%3E%60%29%5B0%5D%3B%0A%20%20%20%20%20%20%20%20%20%20%20%20popup_f4b76af6e1c544f09b7968265a3ffee7.setContent%28html_de5033a270a04ed981add279cadbaffa%29%3B%0A%20%20%20%20%20%20%20%20%0A%0A%20%20%20%20%20%20%20%20marker_4df0c5713a1e45738c8a8fbdcb571549.bindPopup%28popup_f4b76af6e1c544f09b7968265a3ffee7%29%0A%20%20%20%20%20%20%20%20%3B%0A%0A%20%20%20%20%20%20%20%20%0A%20%20%20%20%0A%20%20%20%20%0A%20%20%20%20%20%20%20%20%20%20%20%20var%20marker_1fb0d1bb936a4a64ab07e80d5682ddc1%20%3D%20L.marker%28%0A%20%20%20%20%20%20%20%20%20%20%20%20%20%20%20%20%5B38.7094081%2C%20-9.152328%5D%2C%0A%20%20%20%20%20%20%20%20%20%20%20%20%20%20%20%20%7B%22fillColor%22%3A%20%22%2343d9de%22%2C%20%22radius%22%3A%208%7D%0A%20%20%20%20%20%20%20%20%20%20%20%20%29.addTo%28map_c734710e63eb4901b10e6cbd62473014%29%3B%0A%20%20%20%20%20%20%20%20%0A%20%20%20%20%0A%20%20%20%20%20%20%20%20var%20popup_eddd36dd91404765bde9a857bf27d218%20%3D%20L.popup%28%7B%22maxWidth%22%3A%20%22100%25%22%7D%29%3B%0A%0A%20%20%20%20%20%20%20%20%0A%20%20%20%20%20%20%20%20%20%20%20%20var%20html_0320c228423f4a25a2d2cb45a7a145d3%20%3D%20%24%28%60%3Cdiv%20id%3D%22html_0320c228423f4a25a2d2cb45a7a145d3%22%20style%3D%22width%3A%20100.0%25%3B%20height%3A%20100.0%25%3B%22%3E%28%27Farm%C3%A1cia%20do%20Monte%27%2C%20%27%E2%82%AC%E2%82%AC%27%2C%203.5%29%3C/div%3E%60%29%5B0%5D%3B%0A%20%20%20%20%20%20%20%20%20%20%20%20popup_eddd36dd91404765bde9a857bf27d218.setContent%28html_0320c228423f4a25a2d2cb45a7a145d3%29%3B%0A%20%20%20%20%20%20%20%20%0A%0A%20%20%20%20%20%20%20%20marker_1fb0d1bb936a4a64ab07e80d5682ddc1.bindPopup%28popup_eddd36dd91404765bde9a857bf27d218%29%0A%20%20%20%20%20%20%20%20%3B%0A%0A%20%20%20%20%20%20%20%20%0A%20%20%20%20%0A%20%20%20%20%0A%20%20%20%20%20%20%20%20%20%20%20%20var%20marker_b440e576aeb4425e9ff1d88ddcd23741%20%3D%20L.marker%28%0A%20%20%20%20%20%20%20%20%20%20%20%20%20%20%20%20%5B38.7158095%2C%20-9.1325129%5D%2C%0A%20%20%20%20%20%20%20%20%20%20%20%20%20%20%20%20%7B%22fillColor%22%3A%20%22%2343d9de%22%2C%20%22radius%22%3A%208%7D%0A%20%20%20%20%20%20%20%20%20%20%20%20%29.addTo%28map_c734710e63eb4901b10e6cbd62473014%29%3B%0A%20%20%20%20%20%20%20%20%0A%20%20%20%20%0A%20%20%20%20%20%20%20%20var%20popup_e1d60b81165147e8a430507cc4330dd6%20%3D%20L.popup%28%7B%22maxWidth%22%3A%20%22100%25%22%7D%29%3B%0A%0A%20%20%20%20%20%20%20%20%0A%20%20%20%20%20%20%20%20%20%20%20%20var%20html_439ad1365c3841a393ec43063d14da92%20%3D%20%24%28%60%3Cdiv%20id%3D%22html_439ad1365c3841a393ec43063d14da92%22%20style%3D%22width%3A%20100.0%25%3B%20height%3A%20100.0%25%3B%22%3E%28%27Querquembrulhe%27%2C%20%27%E2%82%AC%E2%82%AC%27%2C%204.0%29%3C/div%3E%60%29%5B0%5D%3B%0A%20%20%20%20%20%20%20%20%20%20%20%20popup_e1d60b81165147e8a430507cc4330dd6.setContent%28html_439ad1365c3841a393ec43063d14da92%29%3B%0A%20%20%20%20%20%20%20%20%0A%0A%20%20%20%20%20%20%20%20marker_b440e576aeb4425e9ff1d88ddcd23741.bindPopup%28popup_e1d60b81165147e8a430507cc4330dd6%29%0A%20%20%20%20%20%20%20%20%3B%0A%0A%20%20%20%20%20%20%20%20%0A%20%20%20%20%0A%20%20%20%20%0A%20%20%20%20%20%20%20%20%20%20%20%20var%20marker_068b2a31460f4598b2d3c1638a05ae6e%20%3D%20L.marker%28%0A%20%20%20%20%20%20%20%20%20%20%20%20%20%20%20%20%5B38.7473929%2C%20-9.1412151%5D%2C%0A%20%20%20%20%20%20%20%20%20%20%20%20%20%20%20%20%7B%22fillColor%22%3A%20%22%2343d9de%22%2C%20%22radius%22%3A%208%7D%0A%20%20%20%20%20%20%20%20%20%20%20%20%29.addTo%28map_c734710e63eb4901b10e6cbd62473014%29%3B%0A%20%20%20%20%20%20%20%20%0A%20%20%20%20%0A%20%20%20%20%20%20%20%20var%20popup_cbd9a9eb34334c5ba3fdf06eea114844%20%3D%20L.popup%28%7B%22maxWidth%22%3A%20%22100%25%22%7D%29%3B%0A%0A%20%20%20%20%20%20%20%20%0A%20%20%20%20%20%20%20%20%20%20%20%20var%20html_59436d159fff435585af75f758dd95d9%20%3D%20%24%28%60%3Cdiv%20id%3D%22html_59436d159fff435585af75f758dd95d9%22%20style%3D%22width%3A%20100.0%25%3B%20height%3A%20100.0%25%3B%22%3E%28%27J.Santos%20%26%20Gomes%27%2C%20%27%E2%82%AC%27%2C%204.0%29%3C/div%3E%60%29%5B0%5D%3B%0A%20%20%20%20%20%20%20%20%20%20%20%20popup_cbd9a9eb34334c5ba3fdf06eea114844.setContent%28html_59436d159fff435585af75f758dd95d9%29%3B%0A%20%20%20%20%20%20%20%20%0A%0A%20%20%20%20%20%20%20%20marker_068b2a31460f4598b2d3c1638a05ae6e.bindPopup%28popup_cbd9a9eb34334c5ba3fdf06eea114844%29%0A%20%20%20%20%20%20%20%20%3B%0A%0A%20%20%20%20%20%20%20%20%0A%20%20%20%20%0A%20%20%20%20%0A%20%20%20%20%20%20%20%20%20%20%20%20var%20marker_30fcc34db9fd4da08a217050bf804fce%20%3D%20L.marker%28%0A%20%20%20%20%20%20%20%20%20%20%20%20%20%20%20%20%5B38.7131488693839%2C%20-9.14000406861305%5D%2C%0A%20%20%20%20%20%20%20%20%20%20%20%20%20%20%20%20%7B%22fillColor%22%3A%20%22%2343d9de%22%2C%20%22radius%22%3A%208%7D%0A%20%20%20%20%20%20%20%20%20%20%20%20%29.addTo%28map_c734710e63eb4901b10e6cbd62473014%29%3B%0A%20%20%20%20%20%20%20%20%0A%20%20%20%20%0A%20%20%20%20%20%20%20%20var%20popup_612aac919e3042d697ae3e0bcf8cc576%20%3D%20L.popup%28%7B%22maxWidth%22%3A%20%22100%25%22%7D%29%3B%0A%0A%20%20%20%20%20%20%20%20%0A%20%20%20%20%20%20%20%20%20%20%20%20var%20html_c851b94fcf644a479bc4ee66d5b3c896%20%3D%20%24%28%60%3Cdiv%20id%3D%22html_c851b94fcf644a479bc4ee66d5b3c896%22%20style%3D%22width%3A%20100.0%25%3B%20height%3A%20100.0%25%3B%22%3E%28%27Copitraje%27%2C%20%27%E2%82%AC%27%2C%203.5%29%3C/div%3E%60%29%5B0%5D%3B%0A%20%20%20%20%20%20%20%20%20%20%20%20popup_612aac919e3042d697ae3e0bcf8cc576.setContent%28html_c851b94fcf644a479bc4ee66d5b3c896%29%3B%0A%20%20%20%20%20%20%20%20%0A%0A%20%20%20%20%20%20%20%20marker_30fcc34db9fd4da08a217050bf804fce.bindPopup%28popup_612aac919e3042d697ae3e0bcf8cc576%29%0A%20%20%20%20%20%20%20%20%3B%0A%0A%20%20%20%20%20%20%20%20%0A%20%20%20%20%0A%20%20%20%20%0A%20%20%20%20%20%20%20%20%20%20%20%20var%20marker_342603bdcc3e43b29a5049c6f6f05699%20%3D%20L.marker%28%0A%20%20%20%20%20%20%20%20%20%20%20%20%20%20%20%20%5B38.726059%2C%20-9.1448803%5D%2C%0A%20%20%20%20%20%20%20%20%20%20%20%20%20%20%20%20%7B%22fillColor%22%3A%20%22%2343d9de%22%2C%20%22radius%22%3A%208%7D%0A%20%20%20%20%20%20%20%20%20%20%20%20%29.addTo%28map_c734710e63eb4901b10e6cbd62473014%29%3B%0A%20%20%20%20%20%20%20%20%0A%20%20%20%20%0A%20%20%20%20%20%20%20%20var%20popup_ee7229f5bbd54be6b63491741295672e%20%3D%20L.popup%28%7B%22maxWidth%22%3A%20%22100%25%22%7D%29%3B%0A%0A%20%20%20%20%20%20%20%20%0A%20%20%20%20%20%20%20%20%20%20%20%20var%20html_6562b5b38ae0495697a7a632e7618f9c%20%3D%20%24%28%60%3Cdiv%20id%3D%22html_6562b5b38ae0495697a7a632e7618f9c%22%20style%3D%22width%3A%20100.0%25%3B%20height%3A%20100.0%25%3B%22%3E%28%27Confeitaria%20Nacional%27%2C%20%27%E2%82%AC%27%2C%204.0%29%3C/div%3E%60%29%5B0%5D%3B%0A%20%20%20%20%20%20%20%20%20%20%20%20popup_ee7229f5bbd54be6b63491741295672e.setContent%28html_6562b5b38ae0495697a7a632e7618f9c%29%3B%0A%20%20%20%20%20%20%20%20%0A%0A%20%20%20%20%20%20%20%20marker_342603bdcc3e43b29a5049c6f6f05699.bindPopup%28popup_ee7229f5bbd54be6b63491741295672e%29%0A%20%20%20%20%20%20%20%20%3B%0A%0A%20%20%20%20%20%20%20%20%0A%20%20%20%20%0A%20%20%20%20%0A%20%20%20%20%20%20%20%20%20%20%20%20var%20marker_35cad91b810c44f4b5f22108ebf21409%20%3D%20L.marker%28%0A%20%20%20%20%20%20%20%20%20%20%20%20%20%20%20%20%5B38.7628679%2C%20-9.1803752%5D%2C%0A%20%20%20%20%20%20%20%20%20%20%20%20%20%20%20%20%7B%22fillColor%22%3A%20%22%2343d9de%22%2C%20%22radius%22%3A%208%7D%0A%20%20%20%20%20%20%20%20%20%20%20%20%29.addTo%28map_c734710e63eb4901b10e6cbd62473014%29%3B%0A%20%20%20%20%20%20%20%20%0A%20%20%20%20%0A%20%20%20%20%20%20%20%20var%20popup_bae1dbf693b040c0b05e089106e4809c%20%3D%20L.popup%28%7B%22maxWidth%22%3A%20%22100%25%22%7D%29%3B%0A%0A%20%20%20%20%20%20%20%20%0A%20%20%20%20%20%20%20%20%20%20%20%20var%20html_fa7e716f956d49b1b14d4254a6466eb1%20%3D%20%24%28%60%3Cdiv%20id%3D%22html_fa7e716f956d49b1b14d4254a6466eb1%22%20style%3D%22width%3A%20100.0%25%3B%20height%3A%20100.0%25%3B%22%3E%28%27Pastelaria%20Doce%20Doce%27%2C%20%27%E2%82%AC%27%2C%203.0%29%3C/div%3E%60%29%5B0%5D%3B%0A%20%20%20%20%20%20%20%20%20%20%20%20popup_bae1dbf693b040c0b05e089106e4809c.setContent%28html_fa7e716f956d49b1b14d4254a6466eb1%29%3B%0A%20%20%20%20%20%20%20%20%0A%0A%20%20%20%20%20%20%20%20marker_35cad91b810c44f4b5f22108ebf21409.bindPopup%28popup_bae1dbf693b040c0b05e089106e4809c%29%0A%20%20%20%20%20%20%20%20%3B%0A%0A%20%20%20%20%20%20%20%20%0A%20%20%20%20%0A%20%20%20%20%0A%20%20%20%20%20%20%20%20%20%20%20%20var%20marker_31dda40bf55b403ba1f200c13613e27a%20%3D%20L.marker%28%0A%20%20%20%20%20%20%20%20%20%20%20%20%20%20%20%20%5B38.7623273%2C%20-9.1799079%5D%2C%0A%20%20%20%20%20%20%20%20%20%20%20%20%20%20%20%20%7B%22fillColor%22%3A%20%22%2343d9de%22%2C%20%22radius%22%3A%208%7D%0A%20%20%20%20%20%20%20%20%20%20%20%20%29.addTo%28map_c734710e63eb4901b10e6cbd62473014%29%3B%0A%20%20%20%20%20%20%20%20%0A%20%20%20%20%0A%20%20%20%20%20%20%20%20var%20popup_ba52c4cee5964f2f993e524bad841355%20%3D%20L.popup%28%7B%22maxWidth%22%3A%20%22100%25%22%7D%29%3B%0A%0A%20%20%20%20%20%20%20%20%0A%20%20%20%20%20%20%20%20%20%20%20%20var%20html_00196a3c25ae4887a929a79376174730%20%3D%20%24%28%60%3Cdiv%20id%3D%22html_00196a3c25ae4887a929a79376174730%22%20style%3D%22width%3A%20100.0%25%3B%20height%3A%20100.0%25%3B%22%3E%28%27San%20Giorgio%27%2C%20%27%E2%82%AC%E2%82%AC%E2%82%AC%27%2C%204.0%29%3C/div%3E%60%29%5B0%5D%3B%0A%20%20%20%20%20%20%20%20%20%20%20%20popup_ba52c4cee5964f2f993e524bad841355.setContent%28html_00196a3c25ae4887a929a79376174730%29%3B%0A%20%20%20%20%20%20%20%20%0A%0A%20%20%20%20%20%20%20%20marker_31dda40bf55b403ba1f200c13613e27a.bindPopup%28popup_ba52c4cee5964f2f993e524bad841355%29%0A%20%20%20%20%20%20%20%20%3B%0A%0A%20%20%20%20%20%20%20%20%0A%20%20%20%20%0A%20%20%20%20%0A%20%20%20%20%20%20%20%20%20%20%20%20var%20marker_eaff4b4ad6874b3dad338106f6a7b18d%20%3D%20L.marker%28%0A%20%20%20%20%20%20%20%20%20%20%20%20%20%20%20%20%5B38.695659%2C%20-9.207535%5D%2C%0A%20%20%20%20%20%20%20%20%20%20%20%20%20%20%20%20%7B%22fillColor%22%3A%20%22%2343d9de%22%2C%20%22radius%22%3A%208%7D%0A%20%20%20%20%20%20%20%20%20%20%20%20%29.addTo%28map_c734710e63eb4901b10e6cbd62473014%29%3B%0A%20%20%20%20%20%20%20%20%0A%20%20%20%20%0A%20%20%20%20%20%20%20%20var%20popup_a0cc1e48c22e48349fe331a05b3b221a%20%3D%20L.popup%28%7B%22maxWidth%22%3A%20%22100%25%22%7D%29%3B%0A%0A%20%20%20%20%20%20%20%20%0A%20%20%20%20%20%20%20%20%20%20%20%20var%20html_895140a348044aef9c747a3037afa741%20%3D%20%24%28%60%3Cdiv%20id%3D%22html_895140a348044aef9c747a3037afa741%22%20style%3D%22width%3A%20100.0%25%3B%20height%3A%20100.0%25%3B%22%3E%28%27O%20Prego%20da%20Peixaria%27%2C%20%27%E2%82%AC%E2%82%AC%27%2C%203.5%29%3C/div%3E%60%29%5B0%5D%3B%0A%20%20%20%20%20%20%20%20%20%20%20%20popup_a0cc1e48c22e48349fe331a05b3b221a.setContent%28html_895140a348044aef9c747a3037afa741%29%3B%0A%20%20%20%20%20%20%20%20%0A%0A%20%20%20%20%20%20%20%20marker_eaff4b4ad6874b3dad338106f6a7b18d.bindPopup%28popup_a0cc1e48c22e48349fe331a05b3b221a%29%0A%20%20%20%20%20%20%20%20%3B%0A%0A%20%20%20%20%20%20%20%20%0A%20%20%20%20%0A%20%20%20%20%0A%20%20%20%20%20%20%20%20%20%20%20%20var%20marker_275030061cf544b3947d51ad2f815495%20%3D%20L.marker%28%0A%20%20%20%20%20%20%20%20%20%20%20%20%20%20%20%20%5B38.7175257%2C%20-9.1552486%5D%2C%0A%20%20%20%20%20%20%20%20%20%20%20%20%20%20%20%20%7B%22fillColor%22%3A%20%22%2343d9de%22%2C%20%22radius%22%3A%208%7D%0A%20%20%20%20%20%20%20%20%20%20%20%20%29.addTo%28map_c734710e63eb4901b10e6cbd62473014%29%3B%0A%20%20%20%20%20%20%20%20%0A%20%20%20%20%0A%20%20%20%20%20%20%20%20var%20popup_4cc88944f58846e78c661c94c72f54e0%20%3D%20L.popup%28%7B%22maxWidth%22%3A%20%22100%25%22%7D%29%3B%0A%0A%20%20%20%20%20%20%20%20%0A%20%20%20%20%20%20%20%20%20%20%20%20var%20html_44f84083a86f4e4495349e4d1c956ec1%20%3D%20%24%28%60%3Cdiv%20id%3D%22html_44f84083a86f4e4495349e4d1c956ec1%22%20style%3D%22width%3A%20100.0%25%3B%20height%3A%20100.0%25%3B%22%3E%28%27Celta%27%2C%20%27%E2%82%AC%E2%82%AC%27%2C%204.0%29%3C/div%3E%60%29%5B0%5D%3B%0A%20%20%20%20%20%20%20%20%20%20%20%20popup_4cc88944f58846e78c661c94c72f54e0.setContent%28html_44f84083a86f4e4495349e4d1c956ec1%29%3B%0A%20%20%20%20%20%20%20%20%0A%0A%20%20%20%20%20%20%20%20marker_275030061cf544b3947d51ad2f815495.bindPopup%28popup_4cc88944f58846e78c661c94c72f54e0%29%0A%20%20%20%20%20%20%20%20%3B%0A%0A%20%20%20%20%20%20%20%20%0A%20%20%20%20%0A%20%20%20%20%0A%20%20%20%20%20%20%20%20%20%20%20%20var%20marker_7b3dc0e14dcb4dc6a427cfd04dcaf310%20%3D%20L.marker%28%0A%20%20%20%20%20%20%20%20%20%20%20%20%20%20%20%20%5B38.7077523%2C%20-9.1472148%5D%2C%0A%20%20%20%20%20%20%20%20%20%20%20%20%20%20%20%20%7B%22fillColor%22%3A%20%22%2343d9de%22%2C%20%22radius%22%3A%208%7D%0A%20%20%20%20%20%20%20%20%20%20%20%20%29.addTo%28map_c734710e63eb4901b10e6cbd62473014%29%3B%0A%20%20%20%20%20%20%20%20%0A%20%20%20%20%0A%20%20%20%20%20%20%20%20var%20popup_1913dc5fbf994c0c9f70d47beb10a945%20%3D%20L.popup%28%7B%22maxWidth%22%3A%20%22100%25%22%7D%29%3B%0A%0A%20%20%20%20%20%20%20%20%0A%20%20%20%20%20%20%20%20%20%20%20%20var%20html_ed7cca0b274c4173b444764f94376b19%20%3D%20%24%28%60%3Cdiv%20id%3D%22html_ed7cca0b274c4173b444764f94376b19%22%20style%3D%22width%3A%20100.0%25%3B%20height%3A%20100.0%25%3B%22%3E%28%27Photus%27%2C%20%27%E2%82%AC%E2%82%AC%E2%82%AC%27%2C%202.5%29%3C/div%3E%60%29%5B0%5D%3B%0A%20%20%20%20%20%20%20%20%20%20%20%20popup_1913dc5fbf994c0c9f70d47beb10a945.setContent%28html_ed7cca0b274c4173b444764f94376b19%29%3B%0A%20%20%20%20%20%20%20%20%0A%0A%20%20%20%20%20%20%20%20marker_7b3dc0e14dcb4dc6a427cfd04dcaf310.bindPopup%28popup_1913dc5fbf994c0c9f70d47beb10a945%29%0A%20%20%20%20%20%20%20%20%3B%0A%0A%20%20%20%20%20%20%20%20%0A%20%20%20%20%0A%20%20%20%20%0A%20%20%20%20%20%20%20%20%20%20%20%20var%20marker_b5f89819a70345e2acae04d7b1668ae6%20%3D%20L.marker%28%0A%20%20%20%20%20%20%20%20%20%20%20%20%20%20%20%20%5B38.7266759%2C%20-9.1644827%5D%2C%0A%20%20%20%20%20%20%20%20%20%20%20%20%20%20%20%20%7B%22fillColor%22%3A%20%22%2343d9de%22%2C%20%22radius%22%3A%208%7D%0A%20%20%20%20%20%20%20%20%20%20%20%20%29.addTo%28map_c734710e63eb4901b10e6cbd62473014%29%3B%0A%20%20%20%20%20%20%20%20%0A%20%20%20%20%0A%20%20%20%20%20%20%20%20var%20popup_aa03441b4f974595a91f4fb9df11851a%20%3D%20L.popup%28%7B%22maxWidth%22%3A%20%22100%25%22%7D%29%3B%0A%0A%20%20%20%20%20%20%20%20%0A%20%20%20%20%20%20%20%20%20%20%20%20var%20html_d687b1efb2784d338f09a7e15e88d520%20%3D%20%24%28%60%3Cdiv%20id%3D%22html_d687b1efb2784d338f09a7e15e88d520%22%20style%3D%22width%3A%20100.0%25%3B%20height%3A%20100.0%25%3B%22%3E%28%27Pastelaria%20S.%20Carlos%27%2C%20%27%E2%82%AC%27%2C%203.5%29%3C/div%3E%60%29%5B0%5D%3B%0A%20%20%20%20%20%20%20%20%20%20%20%20popup_aa03441b4f974595a91f4fb9df11851a.setContent%28html_d687b1efb2784d338f09a7e15e88d520%29%3B%0A%20%20%20%20%20%20%20%20%0A%0A%20%20%20%20%20%20%20%20marker_b5f89819a70345e2acae04d7b1668ae6.bindPopup%28popup_aa03441b4f974595a91f4fb9df11851a%29%0A%20%20%20%20%20%20%20%20%3B%0A%0A%20%20%20%20%20%20%20%20%0A%20%20%20%20%0A%20%20%20%20%0A%20%20%20%20%20%20%20%20%20%20%20%20var%20marker_98c092cba7b541838041b46ba8db0806%20%3D%20L.marker%28%0A%20%20%20%20%20%20%20%20%20%20%20%20%20%20%20%20%5B38.7330584%2C%20-9.143023%5D%2C%0A%20%20%20%20%20%20%20%20%20%20%20%20%20%20%20%20%7B%22fillColor%22%3A%20%22%2343d9de%22%2C%20%22radius%22%3A%208%7D%0A%20%20%20%20%20%20%20%20%20%20%20%20%29.addTo%28map_c734710e63eb4901b10e6cbd62473014%29%3B%0A%20%20%20%20%20%20%20%20%0A%20%20%20%20%0A%20%20%20%20%20%20%20%20var%20popup_3fa37b122be0420393080b73360df512%20%3D%20L.popup%28%7B%22maxWidth%22%3A%20%22100%25%22%7D%29%3B%0A%0A%20%20%20%20%20%20%20%20%0A%20%20%20%20%20%20%20%20%20%20%20%20var%20html_fc551d3f3c7d4c348ad3a632543d1c64%20%3D%20%24%28%60%3Cdiv%20id%3D%22html_fc551d3f3c7d4c348ad3a632543d1c64%22%20style%3D%22width%3A%20100.0%25%3B%20height%3A%20100.0%25%3B%22%3E%28%27Pub%20Lisboeta%27%2C%20%27%E2%82%AC%27%2C%205.0%29%3C/div%3E%60%29%5B0%5D%3B%0A%20%20%20%20%20%20%20%20%20%20%20%20popup_3fa37b122be0420393080b73360df512.setContent%28html_fc551d3f3c7d4c348ad3a632543d1c64%29%3B%0A%20%20%20%20%20%20%20%20%0A%0A%20%20%20%20%20%20%20%20marker_98c092cba7b541838041b46ba8db0806.bindPopup%28popup_3fa37b122be0420393080b73360df512%29%0A%20%20%20%20%20%20%20%20%3B%0A%0A%20%20%20%20%20%20%20%20%0A%20%20%20%20%0A%20%20%20%20%0A%20%20%20%20%20%20%20%20%20%20%20%20var%20marker_60a35043d53d493abb76ae9be319886c%20%3D%20L.marker%28%0A%20%20%20%20%20%20%20%20%20%20%20%20%20%20%20%20%5B38.7129582%2C%20-9.1510953%5D%2C%0A%20%20%20%20%20%20%20%20%20%20%20%20%20%20%20%20%7B%22fillColor%22%3A%20%22%2343d9de%22%2C%20%22radius%22%3A%208%7D%0A%20%20%20%20%20%20%20%20%20%20%20%20%29.addTo%28map_c734710e63eb4901b10e6cbd62473014%29%3B%0A%20%20%20%20%20%20%20%20%0A%20%20%20%20%0A%20%20%20%20%20%20%20%20var%20popup_e15670eea3bc4a88bd77820c0d253a4b%20%3D%20L.popup%28%7B%22maxWidth%22%3A%20%22100%25%22%7D%29%3B%0A%0A%20%20%20%20%20%20%20%20%0A%20%20%20%20%20%20%20%20%20%20%20%20var%20html_bc7467341adb41619a4485cc48f8f802%20%3D%20%24%28%60%3Cdiv%20id%3D%22html_bc7467341adb41619a4485cc48f8f802%22%20style%3D%22width%3A%20100.0%25%3B%20height%3A%20100.0%25%3B%22%3E%28%27O%20Fernando%27%2C%20%27%E2%82%AC%27%2C%203.0%29%3C/div%3E%60%29%5B0%5D%3B%0A%20%20%20%20%20%20%20%20%20%20%20%20popup_e15670eea3bc4a88bd77820c0d253a4b.setContent%28html_bc7467341adb41619a4485cc48f8f802%29%3B%0A%20%20%20%20%20%20%20%20%0A%0A%20%20%20%20%20%20%20%20marker_60a35043d53d493abb76ae9be319886c.bindPopup%28popup_e15670eea3bc4a88bd77820c0d253a4b%29%0A%20%20%20%20%20%20%20%20%3B%0A%0A%20%20%20%20%20%20%20%20%0A%20%20%20%20%0A%20%20%20%20%0A%20%20%20%20%20%20%20%20%20%20%20%20var%20marker_03c092a5c2d042728a2d4c41fe397807%20%3D%20L.marker%28%0A%20%20%20%20%20%20%20%20%20%20%20%20%20%20%20%20%5B38.7258226%2C%20-9.1137773%5D%2C%0A%20%20%20%20%20%20%20%20%20%20%20%20%20%20%20%20%7B%22fillColor%22%3A%20%22%2343d9de%22%2C%20%22radius%22%3A%208%7D%0A%20%20%20%20%20%20%20%20%20%20%20%20%29.addTo%28map_c734710e63eb4901b10e6cbd62473014%29%3B%0A%20%20%20%20%20%20%20%20%0A%20%20%20%20%0A%20%20%20%20%20%20%20%20var%20popup_4b6084ac5880442db2e866992671de90%20%3D%20L.popup%28%7B%22maxWidth%22%3A%20%22100%25%22%7D%29%3B%0A%0A%20%20%20%20%20%20%20%20%0A%20%20%20%20%20%20%20%20%20%20%20%20var%20html_7e0183512cc94e5e868a5697773f50fb%20%3D%20%24%28%60%3Cdiv%20id%3D%22html_7e0183512cc94e5e868a5697773f50fb%22%20style%3D%22width%3A%20100.0%25%3B%20height%3A%20100.0%25%3B%22%3E%28%22Hennessy%27s%20Irish%20Pub%22%2C%20%27%E2%82%AC%E2%82%AC%27%2C%203.5%29%3C/div%3E%60%29%5B0%5D%3B%0A%20%20%20%20%20%20%20%20%20%20%20%20popup_4b6084ac5880442db2e866992671de90.setContent%28html_7e0183512cc94e5e868a5697773f50fb%29%3B%0A%20%20%20%20%20%20%20%20%0A%0A%20%20%20%20%20%20%20%20marker_03c092a5c2d042728a2d4c41fe397807.bindPopup%28popup_4b6084ac5880442db2e866992671de90%29%0A%20%20%20%20%20%20%20%20%3B%0A%0A%20%20%20%20%20%20%20%20%0A%20%20%20%20%0A%20%20%20%20%0A%20%20%20%20%20%20%20%20%20%20%20%20var%20marker_7df0743a49be4267b69c95e5b72b21ac%20%3D%20L.marker%28%0A%20%20%20%20%20%20%20%20%20%20%20%20%20%20%20%20%5B38.7009746%2C%20-9.1745266%5D%2C%0A%20%20%20%20%20%20%20%20%20%20%20%20%20%20%20%20%7B%22fillColor%22%3A%20%22%2343d9de%22%2C%20%22radius%22%3A%208%7D%0A%20%20%20%20%20%20%20%20%20%20%20%20%29.addTo%28map_c734710e63eb4901b10e6cbd62473014%29%3B%0A%20%20%20%20%20%20%20%20%0A%20%20%20%20%0A%20%20%20%20%20%20%20%20var%20popup_26a4e45afd474599a25670fb1dbd0525%20%3D%20L.popup%28%7B%22maxWidth%22%3A%20%22100%25%22%7D%29%3B%0A%0A%20%20%20%20%20%20%20%20%0A%20%20%20%20%20%20%20%20%20%20%20%20var%20html_1f1888c5297644d68d44dcfc435938d1%20%3D%20%24%28%60%3Cdiv%20id%3D%22html_1f1888c5297644d68d44dcfc435938d1%22%20style%3D%22width%3A%20100.0%25%3B%20height%3A%20100.0%25%3B%22%3E%28%27Fun%20Track%27%2C%20%27%E2%82%AC%27%2C%203.5%29%3C/div%3E%60%29%5B0%5D%3B%0A%20%20%20%20%20%20%20%20%20%20%20%20popup_26a4e45afd474599a25670fb1dbd0525.setContent%28html_1f1888c5297644d68d44dcfc435938d1%29%3B%0A%20%20%20%20%20%20%20%20%0A%0A%20%20%20%20%20%20%20%20marker_7df0743a49be4267b69c95e5b72b21ac.bindPopup%28popup_26a4e45afd474599a25670fb1dbd0525%29%0A%20%20%20%20%20%20%20%20%3B%0A%0A%20%20%20%20%20%20%20%20%0A%20%20%20%20%0A%20%20%20%20%0A%20%20%20%20%20%20%20%20%20%20%20%20var%20marker_d15f3de277034a9a9a5dcf5679fb9772%20%3D%20L.marker%28%0A%20%20%20%20%20%20%20%20%20%20%20%20%20%20%20%20%5B38.7231757%2C%20-9.1456112%5D%2C%0A%20%20%20%20%20%20%20%20%20%20%20%20%20%20%20%20%7B%22fillColor%22%3A%20%22%2343d9de%22%2C%20%22radius%22%3A%208%7D%0A%20%20%20%20%20%20%20%20%20%20%20%20%29.addTo%28map_c734710e63eb4901b10e6cbd62473014%29%3B%0A%20%20%20%20%20%20%20%20%0A%20%20%20%20%0A%20%20%20%20%20%20%20%20var%20popup_6791c4aa8faa4940a9b27c98f26224b0%20%3D%20L.popup%28%7B%22maxWidth%22%3A%20%22100%25%22%7D%29%3B%0A%0A%20%20%20%20%20%20%20%20%0A%20%20%20%20%20%20%20%20%20%20%20%20var%20html_6d6e205495884f22ba0b3a8c03e44cf7%20%3D%20%24%28%60%3Cdiv%20id%3D%22html_6d6e205495884f22ba0b3a8c03e44cf7%22%20style%3D%22width%3A%20100.0%25%3B%20height%3A%20100.0%25%3B%22%3E%28%27Perfumaria%20Via%20Vitoria%27%2C%20%27%E2%82%AC%E2%82%AC%27%2C%202.5%29%3C/div%3E%60%29%5B0%5D%3B%0A%20%20%20%20%20%20%20%20%20%20%20%20popup_6791c4aa8faa4940a9b27c98f26224b0.setContent%28html_6d6e205495884f22ba0b3a8c03e44cf7%29%3B%0A%20%20%20%20%20%20%20%20%0A%0A%20%20%20%20%20%20%20%20marker_d15f3de277034a9a9a5dcf5679fb9772.bindPopup%28popup_6791c4aa8faa4940a9b27c98f26224b0%29%0A%20%20%20%20%20%20%20%20%3B%0A%0A%20%20%20%20%20%20%20%20%0A%20%20%20%20%0A%20%20%20%20%0A%20%20%20%20%20%20%20%20%20%20%20%20var%20marker_dea0788a189f417f9da93559a2235dec%20%3D%20L.marker%28%0A%20%20%20%20%20%20%20%20%20%20%20%20%20%20%20%20%5B38.7446387%2C%20-9.1404666%5D%2C%0A%20%20%20%20%20%20%20%20%20%20%20%20%20%20%20%20%7B%22fillColor%22%3A%20%22%2343d9de%22%2C%20%22radius%22%3A%208%7D%0A%20%20%20%20%20%20%20%20%20%20%20%20%29.addTo%28map_c734710e63eb4901b10e6cbd62473014%29%3B%0A%20%20%20%20%20%20%20%20%0A%20%20%20%20%0A%20%20%20%20%20%20%20%20var%20popup_0e352e8d54c042e7b65de25214513b17%20%3D%20L.popup%28%7B%22maxWidth%22%3A%20%22100%25%22%7D%29%3B%0A%0A%20%20%20%20%20%20%20%20%0A%20%20%20%20%20%20%20%20%20%20%20%20var%20html_7c489411639f4eb5beac4efedb1969d4%20%3D%20%24%28%60%3Cdiv%20id%3D%22html_7c489411639f4eb5beac4efedb1969d4%22%20style%3D%22width%3A%20100.0%25%3B%20height%3A%20100.0%25%3B%22%3E%28%27Com%20Tom%27%2C%20%27%E2%82%AC%E2%82%AC%27%2C%204.5%29%3C/div%3E%60%29%5B0%5D%3B%0A%20%20%20%20%20%20%20%20%20%20%20%20popup_0e352e8d54c042e7b65de25214513b17.setContent%28html_7c489411639f4eb5beac4efedb1969d4%29%3B%0A%20%20%20%20%20%20%20%20%0A%0A%20%20%20%20%20%20%20%20marker_dea0788a189f417f9da93559a2235dec.bindPopup%28popup_0e352e8d54c042e7b65de25214513b17%29%0A%20%20%20%20%20%20%20%20%3B%0A%0A%20%20%20%20%20%20%20%20%0A%20%20%20%20%0A%20%20%20%20%0A%20%20%20%20%20%20%20%20%20%20%20%20var%20marker_b5655300abbf4810ba87a98d2489a8f8%20%3D%20L.marker%28%0A%20%20%20%20%20%20%20%20%20%20%20%20%20%20%20%20%5B38.7290054%2C%20-9.1449184%5D%2C%0A%20%20%20%20%20%20%20%20%20%20%20%20%20%20%20%20%7B%22fillColor%22%3A%20%22%2343d9de%22%2C%20%22radius%22%3A%208%7D%0A%20%20%20%20%20%20%20%20%20%20%20%20%29.addTo%28map_c734710e63eb4901b10e6cbd62473014%29%3B%0A%20%20%20%20%20%20%20%20%0A%20%20%20%20%0A%20%20%20%20%20%20%20%20var%20popup_b1a0c83be52b4dd6be7aed038bddd208%20%3D%20L.popup%28%7B%22maxWidth%22%3A%20%22100%25%22%7D%29%3B%0A%0A%20%20%20%20%20%20%20%20%0A%20%20%20%20%20%20%20%20%20%20%20%20var%20html_62eab7834ccb47348b5aa8b12175010c%20%3D%20%24%28%60%3Cdiv%20id%3D%22html_62eab7834ccb47348b5aa8b12175010c%22%20style%3D%22width%3A%20100.0%25%3B%20height%3A%20100.0%25%3B%22%3E%28%27Jeronymo%27%2C%20%27%E2%82%AC%27%2C%205.0%29%3C/div%3E%60%29%5B0%5D%3B%0A%20%20%20%20%20%20%20%20%20%20%20%20popup_b1a0c83be52b4dd6be7aed038bddd208.setContent%28html_62eab7834ccb47348b5aa8b12175010c%29%3B%0A%20%20%20%20%20%20%20%20%0A%0A%20%20%20%20%20%20%20%20marker_b5655300abbf4810ba87a98d2489a8f8.bindPopup%28popup_b1a0c83be52b4dd6be7aed038bddd208%29%0A%20%20%20%20%20%20%20%20%3B%0A%0A%20%20%20%20%20%20%20%20%0A%20%20%20%20%0A%20%20%20%20%0A%20%20%20%20%20%20%20%20%20%20%20%20var%20marker_62fbba98fc24438bbc232062ade6ed9f%20%3D%20L.marker%28%0A%20%20%20%20%20%20%20%20%20%20%20%20%20%20%20%20%5B38.713699%2C%20-9.1219305%5D%2C%0A%20%20%20%20%20%20%20%20%20%20%20%20%20%20%20%20%7B%22fillColor%22%3A%20%22%2343d9de%22%2C%20%22radius%22%3A%208%7D%0A%20%20%20%20%20%20%20%20%20%20%20%20%29.addTo%28map_c734710e63eb4901b10e6cbd62473014%29%3B%0A%20%20%20%20%20%20%20%20%0A%20%20%20%20%0A%20%20%20%20%20%20%20%20var%20popup_42bed14d473f42a49954651feb0f5970%20%3D%20L.popup%28%7B%22maxWidth%22%3A%20%22100%25%22%7D%29%3B%0A%0A%20%20%20%20%20%20%20%20%0A%20%20%20%20%20%20%20%20%20%20%20%20var%20html_8e95c992c7114ce495985f49a112ae9b%20%3D%20%24%28%60%3Cdiv%20id%3D%22html_8e95c992c7114ce495985f49a112ae9b%22%20style%3D%22width%3A%20100.0%25%3B%20height%3A%20100.0%25%3B%22%3E%28%27Melu%27%2C%20%27%E2%82%AC%E2%82%AC%27%2C%204.5%29%3C/div%3E%60%29%5B0%5D%3B%0A%20%20%20%20%20%20%20%20%20%20%20%20popup_42bed14d473f42a49954651feb0f5970.setContent%28html_8e95c992c7114ce495985f49a112ae9b%29%3B%0A%20%20%20%20%20%20%20%20%0A%0A%20%20%20%20%20%20%20%20marker_62fbba98fc24438bbc232062ade6ed9f.bindPopup%28popup_42bed14d473f42a49954651feb0f5970%29%0A%20%20%20%20%20%20%20%20%3B%0A%0A%20%20%20%20%20%20%20%20%0A%20%20%20%20%0A%20%20%20%20%0A%20%20%20%20%20%20%20%20%20%20%20%20var%20marker_3acba935426349ffad9b0856431dc44b%20%3D%20L.marker%28%0A%20%20%20%20%20%20%20%20%20%20%20%20%20%20%20%20%5B38.7110672%2C%20-9.1433659%5D%2C%0A%20%20%20%20%20%20%20%20%20%20%20%20%20%20%20%20%7B%22fillColor%22%3A%20%22%2343d9de%22%2C%20%22radius%22%3A%208%7D%0A%20%20%20%20%20%20%20%20%20%20%20%20%29.addTo%28map_c734710e63eb4901b10e6cbd62473014%29%3B%0A%20%20%20%20%20%20%20%20%0A%20%20%20%20%0A%20%20%20%20%20%20%20%20var%20popup_06c060d724ec4ca48880cdec3f4af652%20%3D%20L.popup%28%7B%22maxWidth%22%3A%20%22100%25%22%7D%29%3B%0A%0A%20%20%20%20%20%20%20%20%0A%20%20%20%20%20%20%20%20%20%20%20%20var%20html_85b5bec3b058455d8ce97aa888c5b1c9%20%3D%20%24%28%60%3Cdiv%20id%3D%22html_85b5bec3b058455d8ce97aa888c5b1c9%22%20style%3D%22width%3A%20100.0%25%3B%20height%3A%20100.0%25%3B%22%3E%28%27Delta%20Q%27%2C%20%27%E2%82%AC%E2%82%AC%27%2C%204.0%29%3C/div%3E%60%29%5B0%5D%3B%0A%20%20%20%20%20%20%20%20%20%20%20%20popup_06c060d724ec4ca48880cdec3f4af652.setContent%28html_85b5bec3b058455d8ce97aa888c5b1c9%29%3B%0A%20%20%20%20%20%20%20%20%0A%0A%20%20%20%20%20%20%20%20marker_3acba935426349ffad9b0856431dc44b.bindPopup%28popup_06c060d724ec4ca48880cdec3f4af652%29%0A%20%20%20%20%20%20%20%20%3B%0A%0A%20%20%20%20%20%20%20%20%0A%20%20%20%20%0A%20%20%20%20%0A%20%20%20%20%20%20%20%20%20%20%20%20var%20marker_19b577364d974bfea391a021edbc2933%20%3D%20L.marker%28%0A%20%20%20%20%20%20%20%20%20%20%20%20%20%20%20%20%5B38.744608%2C%20-9.1833246%5D%2C%0A%20%20%20%20%20%20%20%20%20%20%20%20%20%20%20%20%7B%22fillColor%22%3A%20%22%2343d9de%22%2C%20%22radius%22%3A%208%7D%0A%20%20%20%20%20%20%20%20%20%20%20%20%29.addTo%28map_c734710e63eb4901b10e6cbd62473014%29%3B%0A%20%20%20%20%20%20%20%20%0A%20%20%20%20%0A%20%20%20%20%20%20%20%20var%20popup_81d534a1334241b28f3588fc5c35553f%20%3D%20L.popup%28%7B%22maxWidth%22%3A%20%22100%25%22%7D%29%3B%0A%0A%20%20%20%20%20%20%20%20%0A%20%20%20%20%20%20%20%20%20%20%20%20var%20html_688f1bc7bc0549f7b9ddbe6a8fc0d160%20%3D%20%24%28%60%3Cdiv%20id%3D%22html_688f1bc7bc0549f7b9ddbe6a8fc0d160%22%20style%3D%22width%3A%20100.0%25%3B%20height%3A%20100.0%25%3B%22%3E%28%27Casa%20Camila%27%2C%20%27%E2%82%AC%E2%82%AC%27%2C%203.0%29%3C/div%3E%60%29%5B0%5D%3B%0A%20%20%20%20%20%20%20%20%20%20%20%20popup_81d534a1334241b28f3588fc5c35553f.setContent%28html_688f1bc7bc0549f7b9ddbe6a8fc0d160%29%3B%0A%20%20%20%20%20%20%20%20%0A%0A%20%20%20%20%20%20%20%20marker_19b577364d974bfea391a021edbc2933.bindPopup%28popup_81d534a1334241b28f3588fc5c35553f%29%0A%20%20%20%20%20%20%20%20%3B%0A%0A%20%20%20%20%20%20%20%20%0A%20%20%20%20%0A%20%20%20%20%0A%20%20%20%20%20%20%20%20%20%20%20%20var%20marker_bddd2f20214844a8bfabd9c7def9fc24%20%3D%20L.marker%28%0A%20%20%20%20%20%20%20%20%20%20%20%20%20%20%20%20%5B38.7268857%2C%20-9.1207716%5D%2C%0A%20%20%20%20%20%20%20%20%20%20%20%20%20%20%20%20%7B%22fillColor%22%3A%20%22%2343d9de%22%2C%20%22radius%22%3A%208%7D%0A%20%20%20%20%20%20%20%20%20%20%20%20%29.addTo%28map_c734710e63eb4901b10e6cbd62473014%29%3B%0A%20%20%20%20%20%20%20%20%0A%20%20%20%20%0A%20%20%20%20%20%20%20%20var%20popup_010f25b6df2b414f9ef52c51b075be2f%20%3D%20L.popup%28%7B%22maxWidth%22%3A%20%22100%25%22%7D%29%3B%0A%0A%20%20%20%20%20%20%20%20%0A%20%20%20%20%20%20%20%20%20%20%20%20var%20html_67c49d9ef4ae460084bb41f7070596af%20%3D%20%24%28%60%3Cdiv%20id%3D%22html_67c49d9ef4ae460084bb41f7070596af%22%20style%3D%22width%3A%20100.0%25%3B%20height%3A%20100.0%25%3B%22%3E%28%27Maria%20dos%20Anjos%20Campos%20-%20Cabeleireiros%27%2C%20%27%E2%82%AC%27%2C%203.5%29%3C/div%3E%60%29%5B0%5D%3B%0A%20%20%20%20%20%20%20%20%20%20%20%20popup_010f25b6df2b414f9ef52c51b075be2f.setContent%28html_67c49d9ef4ae460084bb41f7070596af%29%3B%0A%20%20%20%20%20%20%20%20%0A%0A%20%20%20%20%20%20%20%20marker_bddd2f20214844a8bfabd9c7def9fc24.bindPopup%28popup_010f25b6df2b414f9ef52c51b075be2f%29%0A%20%20%20%20%20%20%20%20%3B%0A%0A%20%20%20%20%20%20%20%20%0A%20%20%20%20%0A%20%20%20%20%0A%20%20%20%20%20%20%20%20%20%20%20%20var%20marker_baa7df870cd549cf9d65f1af5c69f63e%20%3D%20L.marker%28%0A%20%20%20%20%20%20%20%20%20%20%20%20%20%20%20%20%5B38.7136235%2C%20-9.1559666%5D%2C%0A%20%20%20%20%20%20%20%20%20%20%20%20%20%20%20%20%7B%22fillColor%22%3A%20%22%2343d9de%22%2C%20%22radius%22%3A%208%7D%0A%20%20%20%20%20%20%20%20%20%20%20%20%29.addTo%28map_c734710e63eb4901b10e6cbd62473014%29%3B%0A%20%20%20%20%20%20%20%20%0A%20%20%20%20%0A%20%20%20%20%20%20%20%20var%20popup_325087df60c0465d927e328984345820%20%3D%20L.popup%28%7B%22maxWidth%22%3A%20%22100%25%22%7D%29%3B%0A%0A%20%20%20%20%20%20%20%20%0A%20%20%20%20%20%20%20%20%20%20%20%20var%20html_f0ff87540f244155badaf05310c62354%20%3D%20%24%28%60%3Cdiv%20id%3D%22html_f0ff87540f244155badaf05310c62354%22%20style%3D%22width%3A%20100.0%25%3B%20height%3A%20100.0%25%3B%22%3E%28%27A%20Vida%20Portuguesa%27%2C%20%27%E2%82%AC%E2%82%AC%27%2C%204.5%29%3C/div%3E%60%29%5B0%5D%3B%0A%20%20%20%20%20%20%20%20%20%20%20%20popup_325087df60c0465d927e328984345820.setContent%28html_f0ff87540f244155badaf05310c62354%29%3B%0A%20%20%20%20%20%20%20%20%0A%0A%20%20%20%20%20%20%20%20marker_baa7df870cd549cf9d65f1af5c69f63e.bindPopup%28popup_325087df60c0465d927e328984345820%29%0A%20%20%20%20%20%20%20%20%3B%0A%0A%20%20%20%20%20%20%20%20%0A%20%20%20%20%0A%20%20%20%20%0A%20%20%20%20%20%20%20%20%20%20%20%20var%20marker_1d817e557cc8401b8c43108ba8727463%20%3D%20L.marker%28%0A%20%20%20%20%20%20%20%20%20%20%20%20%20%20%20%20%5B38.7425348%2C%20-9.1353421%5D%2C%0A%20%20%20%20%20%20%20%20%20%20%20%20%20%20%20%20%7B%22fillColor%22%3A%20%22%2343d9de%22%2C%20%22radius%22%3A%208%7D%0A%20%20%20%20%20%20%20%20%20%20%20%20%29.addTo%28map_c734710e63eb4901b10e6cbd62473014%29%3B%0A%20%20%20%20%20%20%20%20%0A%20%20%20%20%0A%20%20%20%20%20%20%20%20var%20popup_ba249889aa0042fb89278a53cb170fdc%20%3D%20L.popup%28%7B%22maxWidth%22%3A%20%22100%25%22%7D%29%3B%0A%0A%20%20%20%20%20%20%20%20%0A%20%20%20%20%20%20%20%20%20%20%20%20var%20html_f6fe7dad612a4c0d91886a5f91049cc8%20%3D%20%24%28%60%3Cdiv%20id%3D%22html_f6fe7dad612a4c0d91886a5f91049cc8%22%20style%3D%22width%3A%20100.0%25%3B%20height%3A%20100.0%25%3B%22%3E%28%27Tend%C3%AAncias%20Store%27%2C%20%27%E2%82%AC%E2%82%AC%E2%82%AC%27%2C%203.5%29%3C/div%3E%60%29%5B0%5D%3B%0A%20%20%20%20%20%20%20%20%20%20%20%20popup_ba249889aa0042fb89278a53cb170fdc.setContent%28html_f6fe7dad612a4c0d91886a5f91049cc8%29%3B%0A%20%20%20%20%20%20%20%20%0A%0A%20%20%20%20%20%20%20%20marker_1d817e557cc8401b8c43108ba8727463.bindPopup%28popup_ba249889aa0042fb89278a53cb170fdc%29%0A%20%20%20%20%20%20%20%20%3B%0A%0A%20%20%20%20%20%20%20%20%0A%20%20%20%20%0A%20%20%20%20%0A%20%20%20%20%20%20%20%20%20%20%20%20var%20marker_73e55962865644f5ad58e89f20346bb4%20%3D%20L.marker%28%0A%20%20%20%20%20%20%20%20%20%20%20%20%20%20%20%20%5B38.7104396%2C%20-9.1289078%5D%2C%0A%20%20%20%20%20%20%20%20%20%20%20%20%20%20%20%20%7B%22fillColor%22%3A%20%22%2343d9de%22%2C%20%22radius%22%3A%208%7D%0A%20%20%20%20%20%20%20%20%20%20%20%20%29.addTo%28map_c734710e63eb4901b10e6cbd62473014%29%3B%0A%20%20%20%20%20%20%20%20%0A%20%20%20%20%0A%20%20%20%20%20%20%20%20var%20popup_d06bb02ba1324af18946bf67559e2079%20%3D%20L.popup%28%7B%22maxWidth%22%3A%20%22100%25%22%7D%29%3B%0A%0A%20%20%20%20%20%20%20%20%0A%20%20%20%20%20%20%20%20%20%20%20%20var%20html_f58787a52df94a2fa5e466a3e7d2b26c%20%3D%20%24%28%60%3Cdiv%20id%3D%22html_f58787a52df94a2fa5e466a3e7d2b26c%22%20style%3D%22width%3A%20100.0%25%3B%20height%3A%20100.0%25%3B%22%3E%28%27P%C3%A3o%20P%C3%A3o%20Queijo%20Queijo%27%2C%20%27%E2%82%AC%27%2C%204.5%29%3C/div%3E%60%29%5B0%5D%3B%0A%20%20%20%20%20%20%20%20%20%20%20%20popup_d06bb02ba1324af18946bf67559e2079.setContent%28html_f58787a52df94a2fa5e466a3e7d2b26c%29%3B%0A%20%20%20%20%20%20%20%20%0A%0A%20%20%20%20%20%20%20%20marker_73e55962865644f5ad58e89f20346bb4.bindPopup%28popup_d06bb02ba1324af18946bf67559e2079%29%0A%20%20%20%20%20%20%20%20%3B%0A%0A%20%20%20%20%20%20%20%20%0A%20%20%20%20%0A%20%20%20%20%0A%20%20%20%20%20%20%20%20%20%20%20%20var%20marker_e91488abcd1a4b9989720ac1c9150ab1%20%3D%20L.marker%28%0A%20%20%20%20%20%20%20%20%20%20%20%20%20%20%20%20%5B38.7197417%2C%20-9.1554553%5D%2C%0A%20%20%20%20%20%20%20%20%20%20%20%20%20%20%20%20%7B%22fillColor%22%3A%20%22%2343d9de%22%2C%20%22radius%22%3A%208%7D%0A%20%20%20%20%20%20%20%20%20%20%20%20%29.addTo%28map_c734710e63eb4901b10e6cbd62473014%29%3B%0A%20%20%20%20%20%20%20%20%0A%20%20%20%20%0A%20%20%20%20%20%20%20%20var%20popup_0ef7ef5c2ffb4d099460ce6a7153b1c5%20%3D%20L.popup%28%7B%22maxWidth%22%3A%20%22100%25%22%7D%29%3B%0A%0A%20%20%20%20%20%20%20%20%0A%20%20%20%20%20%20%20%20%20%20%20%20var%20html_ce1d919da04a422699c052a2bfcd77fc%20%3D%20%24%28%60%3Cdiv%20id%3D%22html_ce1d919da04a422699c052a2bfcd77fc%22%20style%3D%22width%3A%20100.0%25%3B%20height%3A%20100.0%25%3B%22%3E%28%27Esperan%C3%A7as%20%26%20Silva%27%2C%20%27%E2%82%AC%E2%82%AC%27%2C%204.0%29%3C/div%3E%60%29%5B0%5D%3B%0A%20%20%20%20%20%20%20%20%20%20%20%20popup_0ef7ef5c2ffb4d099460ce6a7153b1c5.setContent%28html_ce1d919da04a422699c052a2bfcd77fc%29%3B%0A%20%20%20%20%20%20%20%20%0A%0A%20%20%20%20%20%20%20%20marker_e91488abcd1a4b9989720ac1c9150ab1.bindPopup%28popup_0ef7ef5c2ffb4d099460ce6a7153b1c5%29%0A%20%20%20%20%20%20%20%20%3B%0A%0A%20%20%20%20%20%20%20%20%0A%20%20%20%20%0A%20%20%20%20%0A%20%20%20%20%20%20%20%20%20%20%20%20var%20marker_093ba19dbfab4095b06ffd48c6389b50%20%3D%20L.marker%28%0A%20%20%20%20%20%20%20%20%20%20%20%20%20%20%20%20%5B38.7254445%2C%20-9.1443151%5D%2C%0A%20%20%20%20%20%20%20%20%20%20%20%20%20%20%20%20%7B%22fillColor%22%3A%20%22%2343d9de%22%2C%20%22radius%22%3A%208%7D%0A%20%20%20%20%20%20%20%20%20%20%20%20%29.addTo%28map_c734710e63eb4901b10e6cbd62473014%29%3B%0A%20%20%20%20%20%20%20%20%0A%20%20%20%20%0A%20%20%20%20%20%20%20%20var%20popup_d79d86690a084adf81c9c556eb79cd8d%20%3D%20L.popup%28%7B%22maxWidth%22%3A%20%22100%25%22%7D%29%3B%0A%0A%20%20%20%20%20%20%20%20%0A%20%20%20%20%20%20%20%20%20%20%20%20var%20html_69be64de0e6543d6adc19b333902d069%20%3D%20%24%28%60%3Cdiv%20id%3D%22html_69be64de0e6543d6adc19b333902d069%22%20style%3D%22width%3A%20100.0%25%3B%20height%3A%20100.0%25%3B%22%3E%28%27Forno%20de%20Sapadores%27%2C%20%27%E2%82%AC%27%2C%204.0%29%3C/div%3E%60%29%5B0%5D%3B%0A%20%20%20%20%20%20%20%20%20%20%20%20popup_d79d86690a084adf81c9c556eb79cd8d.setContent%28html_69be64de0e6543d6adc19b333902d069%29%3B%0A%20%20%20%20%20%20%20%20%0A%0A%20%20%20%20%20%20%20%20marker_093ba19dbfab4095b06ffd48c6389b50.bindPopup%28popup_d79d86690a084adf81c9c556eb79cd8d%29%0A%20%20%20%20%20%20%20%20%3B%0A%0A%20%20%20%20%20%20%20%20%0A%20%20%20%20%0A%20%20%20%20%0A%20%20%20%20%20%20%20%20%20%20%20%20var%20marker_644383be1b9f4dd58563ba0310bc3ef9%20%3D%20L.marker%28%0A%20%20%20%20%20%20%20%20%20%20%20%20%20%20%20%20%5B38.7336516%2C%20-9.1463552%5D%2C%0A%20%20%20%20%20%20%20%20%20%20%20%20%20%20%20%20%7B%22fillColor%22%3A%20%22%2343d9de%22%2C%20%22radius%22%3A%208%7D%0A%20%20%20%20%20%20%20%20%20%20%20%20%29.addTo%28map_c734710e63eb4901b10e6cbd62473014%29%3B%0A%20%20%20%20%20%20%20%20%0A%20%20%20%20%0A%20%20%20%20%20%20%20%20var%20popup_bbdbfe01a3b145ec8ccc4bd6488bc5af%20%3D%20L.popup%28%7B%22maxWidth%22%3A%20%22100%25%22%7D%29%3B%0A%0A%20%20%20%20%20%20%20%20%0A%20%20%20%20%20%20%20%20%20%20%20%20var%20html_993fae53183e4c6f980c15011ceb2c84%20%3D%20%24%28%60%3Cdiv%20id%3D%22html_993fae53183e4c6f980c15011ceb2c84%22%20style%3D%22width%3A%20100.0%25%3B%20height%3A%20100.0%25%3B%22%3E%28%27A%20Casa%20do%20Bacalhau%27%2C%20%27%E2%82%AC%E2%82%AC%27%2C%204.0%29%3C/div%3E%60%29%5B0%5D%3B%0A%20%20%20%20%20%20%20%20%20%20%20%20popup_bbdbfe01a3b145ec8ccc4bd6488bc5af.setContent%28html_993fae53183e4c6f980c15011ceb2c84%29%3B%0A%20%20%20%20%20%20%20%20%0A%0A%20%20%20%20%20%20%20%20marker_644383be1b9f4dd58563ba0310bc3ef9.bindPopup%28popup_bbdbfe01a3b145ec8ccc4bd6488bc5af%29%0A%20%20%20%20%20%20%20%20%3B%0A%0A%20%20%20%20%20%20%20%20%0A%20%20%20%20%0A%20%20%20%20%0A%20%20%20%20%20%20%20%20%20%20%20%20var%20marker_e6a5bd5acdbb496592d186a14e9636a7%20%3D%20L.marker%28%0A%20%20%20%20%20%20%20%20%20%20%20%20%20%20%20%20%5B38.7802627%2C%20-9.1515775%5D%2C%0A%20%20%20%20%20%20%20%20%20%20%20%20%20%20%20%20%7B%22fillColor%22%3A%20%22%2343d9de%22%2C%20%22radius%22%3A%208%7D%0A%20%20%20%20%20%20%20%20%20%20%20%20%29.addTo%28map_c734710e63eb4901b10e6cbd62473014%29%3B%0A%20%20%20%20%20%20%20%20%0A%20%20%20%20%0A%20%20%20%20%20%20%20%20var%20popup_c0819622411c44d8ba9aae35a4e62a3a%20%3D%20L.popup%28%7B%22maxWidth%22%3A%20%22100%25%22%7D%29%3B%0A%0A%20%20%20%20%20%20%20%20%0A%20%20%20%20%20%20%20%20%20%20%20%20var%20html_7a5c93261c5b4a5b81254c1d3ad579b4%20%3D%20%24%28%60%3Cdiv%20id%3D%22html_7a5c93261c5b4a5b81254c1d3ad579b4%22%20style%3D%22width%3A%20100.0%25%3B%20height%3A%20100.0%25%3B%22%3E%28%27Hotel%20Britania%27%2C%20%27%E2%82%AC%E2%82%AC%E2%82%AC%27%2C%204.5%29%3C/div%3E%60%29%5B0%5D%3B%0A%20%20%20%20%20%20%20%20%20%20%20%20popup_c0819622411c44d8ba9aae35a4e62a3a.setContent%28html_7a5c93261c5b4a5b81254c1d3ad579b4%29%3B%0A%20%20%20%20%20%20%20%20%0A%0A%20%20%20%20%20%20%20%20marker_e6a5bd5acdbb496592d186a14e9636a7.bindPopup%28popup_c0819622411c44d8ba9aae35a4e62a3a%29%0A%20%20%20%20%20%20%20%20%3B%0A%0A%20%20%20%20%20%20%20%20%0A%20%20%20%20%0A%20%20%20%20%0A%20%20%20%20%20%20%20%20%20%20%20%20var%20marker_8f35b4e64c794a129472244514af4be5%20%3D%20L.marker%28%0A%20%20%20%20%20%20%20%20%20%20%20%20%20%20%20%20%5B38.71243%2C%20-9.1429815%5D%2C%0A%20%20%20%20%20%20%20%20%20%20%20%20%20%20%20%20%7B%22fillColor%22%3A%20%22%2343d9de%22%2C%20%22radius%22%3A%208%7D%0A%20%20%20%20%20%20%20%20%20%20%20%20%29.addTo%28map_c734710e63eb4901b10e6cbd62473014%29%3B%0A%20%20%20%20%20%20%20%20%0A%20%20%20%20%0A%20%20%20%20%20%20%20%20var%20popup_720fb62325844b1e92eb9b7f3165a61a%20%3D%20L.popup%28%7B%22maxWidth%22%3A%20%22100%25%22%7D%29%3B%0A%0A%20%20%20%20%20%20%20%20%0A%20%20%20%20%20%20%20%20%20%20%20%20var%20html_982bd4c7d69c497caff954137938d5d5%20%3D%20%24%28%60%3Cdiv%20id%3D%22html_982bd4c7d69c497caff954137938d5d5%22%20style%3D%22width%3A%20100.0%25%3B%20height%3A%20100.0%25%3B%22%3E%28%27Espa%C3%A7o%20Ulmeiro%27%2C%20%27%E2%82%AC%27%2C%204.5%29%3C/div%3E%60%29%5B0%5D%3B%0A%20%20%20%20%20%20%20%20%20%20%20%20popup_720fb62325844b1e92eb9b7f3165a61a.setContent%28html_982bd4c7d69c497caff954137938d5d5%29%3B%0A%20%20%20%20%20%20%20%20%0A%0A%20%20%20%20%20%20%20%20marker_8f35b4e64c794a129472244514af4be5.bindPopup%28popup_720fb62325844b1e92eb9b7f3165a61a%29%0A%20%20%20%20%20%20%20%20%3B%0A%0A%20%20%20%20%20%20%20%20%0A%20%20%20%20%0A%20%20%20%20%0A%20%20%20%20%20%20%20%20%20%20%20%20var%20marker_91c544599b974eccb3c3be6d3e62b460%20%3D%20L.marker%28%0A%20%20%20%20%20%20%20%20%20%20%20%20%20%20%20%20%5B38.7201814%2C%20-9.129927%5D%2C%0A%20%20%20%20%20%20%20%20%20%20%20%20%20%20%20%20%7B%22fillColor%22%3A%20%22%2343d9de%22%2C%20%22radius%22%3A%208%7D%0A%20%20%20%20%20%20%20%20%20%20%20%20%29.addTo%28map_c734710e63eb4901b10e6cbd62473014%29%3B%0A%20%20%20%20%20%20%20%20%0A%20%20%20%20%0A%20%20%20%20%20%20%20%20var%20popup_28f6712df4234c9298a8e3fb1f446650%20%3D%20L.popup%28%7B%22maxWidth%22%3A%20%22100%25%22%7D%29%3B%0A%0A%20%20%20%20%20%20%20%20%0A%20%20%20%20%20%20%20%20%20%20%20%20var%20html_71b69394340044a488f2e52a3475afbb%20%3D%20%24%28%60%3Cdiv%20id%3D%22html_71b69394340044a488f2e52a3475afbb%22%20style%3D%22width%3A%20100.0%25%3B%20height%3A%20100.0%25%3B%22%3E%28%27Cervejaria%20Coutinho%20O%20Kikas%27%2C%20%27%E2%82%AC%E2%82%AC%27%2C%204.0%29%3C/div%3E%60%29%5B0%5D%3B%0A%20%20%20%20%20%20%20%20%20%20%20%20popup_28f6712df4234c9298a8e3fb1f446650.setContent%28html_71b69394340044a488f2e52a3475afbb%29%3B%0A%20%20%20%20%20%20%20%20%0A%0A%20%20%20%20%20%20%20%20marker_91c544599b974eccb3c3be6d3e62b460.bindPopup%28popup_28f6712df4234c9298a8e3fb1f446650%29%0A%20%20%20%20%20%20%20%20%3B%0A%0A%20%20%20%20%20%20%20%20%0A%20%20%20%20%0A%20%20%20%20%0A%20%20%20%20%20%20%20%20%20%20%20%20var%20marker_44f17183a8e24ccfb4cb466fbac6c52a%20%3D%20L.marker%28%0A%20%20%20%20%20%20%20%20%20%20%20%20%20%20%20%20%5B38.7195702%2C%20-9.1540404%5D%2C%0A%20%20%20%20%20%20%20%20%20%20%20%20%20%20%20%20%7B%22fillColor%22%3A%20%22%2343d9de%22%2C%20%22radius%22%3A%208%7D%0A%20%20%20%20%20%20%20%20%20%20%20%20%29.addTo%28map_c734710e63eb4901b10e6cbd62473014%29%3B%0A%20%20%20%20%20%20%20%20%0A%20%20%20%20%0A%20%20%20%20%20%20%20%20var%20popup_d109e57b0c954be98b20f7cf8086dbfb%20%3D%20L.popup%28%7B%22maxWidth%22%3A%20%22100%25%22%7D%29%3B%0A%0A%20%20%20%20%20%20%20%20%0A%20%20%20%20%20%20%20%20%20%20%20%20var%20html_363c655f83b14dee94beb56f66716d12%20%3D%20%24%28%60%3Cdiv%20id%3D%22html_363c655f83b14dee94beb56f66716d12%22%20style%3D%22width%3A%20100.0%25%3B%20height%3A%20100.0%25%3B%22%3E%28%27Via%20Veneza%27%2C%20%27%E2%82%AC%27%2C%204.0%29%3C/div%3E%60%29%5B0%5D%3B%0A%20%20%20%20%20%20%20%20%20%20%20%20popup_d109e57b0c954be98b20f7cf8086dbfb.setContent%28html_363c655f83b14dee94beb56f66716d12%29%3B%0A%20%20%20%20%20%20%20%20%0A%0A%20%20%20%20%20%20%20%20marker_44f17183a8e24ccfb4cb466fbac6c52a.bindPopup%28popup_d109e57b0c954be98b20f7cf8086dbfb%29%0A%20%20%20%20%20%20%20%20%3B%0A%0A%20%20%20%20%20%20%20%20%0A%20%20%20%20%0A%20%20%20%20%0A%20%20%20%20%20%20%20%20%20%20%20%20var%20marker_409378a5f8bf459fb058eed6ae1a93ff%20%3D%20L.marker%28%0A%20%20%20%20%20%20%20%20%20%20%20%20%20%20%20%20%5B38.755252%2C%20-9.142632%5D%2C%0A%20%20%20%20%20%20%20%20%20%20%20%20%20%20%20%20%7B%22fillColor%22%3A%20%22%2343d9de%22%2C%20%22radius%22%3A%208%7D%0A%20%20%20%20%20%20%20%20%20%20%20%20%29.addTo%28map_c734710e63eb4901b10e6cbd62473014%29%3B%0A%20%20%20%20%20%20%20%20%0A%20%20%20%20%0A%20%20%20%20%20%20%20%20var%20popup_7b5bbffafb2f4228be23241a8b2e3b52%20%3D%20L.popup%28%7B%22maxWidth%22%3A%20%22100%25%22%7D%29%3B%0A%0A%20%20%20%20%20%20%20%20%0A%20%20%20%20%20%20%20%20%20%20%20%20var%20html_8d3da6d0b3894e60bd9ea6b636aab311%20%3D%20%24%28%60%3Cdiv%20id%3D%22html_8d3da6d0b3894e60bd9ea6b636aab311%22%20style%3D%22width%3A%20100.0%25%3B%20height%3A%20100.0%25%3B%22%3E%28%27Caseiro%27%2C%20%27%E2%82%AC%E2%82%AC%27%2C%203.5%29%3C/div%3E%60%29%5B0%5D%3B%0A%20%20%20%20%20%20%20%20%20%20%20%20popup_7b5bbffafb2f4228be23241a8b2e3b52.setContent%28html_8d3da6d0b3894e60bd9ea6b636aab311%29%3B%0A%20%20%20%20%20%20%20%20%0A%0A%20%20%20%20%20%20%20%20marker_409378a5f8bf459fb058eed6ae1a93ff.bindPopup%28popup_7b5bbffafb2f4228be23241a8b2e3b52%29%0A%20%20%20%20%20%20%20%20%3B%0A%0A%20%20%20%20%20%20%20%20%0A%20%20%20%20%0A%20%20%20%20%0A%20%20%20%20%20%20%20%20%20%20%20%20var%20marker_6d09bc44d25d4a1da49df2c7d6f279cc%20%3D%20L.marker%28%0A%20%20%20%20%20%20%20%20%20%20%20%20%20%20%20%20%5B38.7196666%2C%20-9.1349309%5D%2C%0A%20%20%20%20%20%20%20%20%20%20%20%20%20%20%20%20%7B%22fillColor%22%3A%20%22%2343d9de%22%2C%20%22radius%22%3A%208%7D%0A%20%20%20%20%20%20%20%20%20%20%20%20%29.addTo%28map_c734710e63eb4901b10e6cbd62473014%29%3B%0A%20%20%20%20%20%20%20%20%0A%20%20%20%20%0A%20%20%20%20%20%20%20%20var%20popup_cf85d4f59e654780b925291a26939202%20%3D%20L.popup%28%7B%22maxWidth%22%3A%20%22100%25%22%7D%29%3B%0A%0A%20%20%20%20%20%20%20%20%0A%20%20%20%20%20%20%20%20%20%20%20%20var%20html_3d25dced1b4b4c88b790e3e8aa93f735%20%3D%20%24%28%60%3Cdiv%20id%3D%22html_3d25dced1b4b4c88b790e3e8aa93f735%22%20style%3D%22width%3A%20100.0%25%3B%20height%3A%20100.0%25%3B%22%3E%28%27JM%20Terapias%27%2C%20%27%E2%82%AC%27%2C%205.0%29%3C/div%3E%60%29%5B0%5D%3B%0A%20%20%20%20%20%20%20%20%20%20%20%20popup_cf85d4f59e654780b925291a26939202.setContent%28html_3d25dced1b4b4c88b790e3e8aa93f735%29%3B%0A%20%20%20%20%20%20%20%20%0A%0A%20%20%20%20%20%20%20%20marker_6d09bc44d25d4a1da49df2c7d6f279cc.bindPopup%28popup_cf85d4f59e654780b925291a26939202%29%0A%20%20%20%20%20%20%20%20%3B%0A%0A%20%20%20%20%20%20%20%20%0A%20%20%20%20%0A%20%20%20%20%0A%20%20%20%20%20%20%20%20%20%20%20%20var%20marker_41e923f2c8d94452bf4e7e8a3588bc15%20%3D%20L.marker%28%0A%20%20%20%20%20%20%20%20%20%20%20%20%20%20%20%20%5B38.7098834%2C%20-9.1381269%5D%2C%0A%20%20%20%20%20%20%20%20%20%20%20%20%20%20%20%20%7B%22fillColor%22%3A%20%22%2343d9de%22%2C%20%22radius%22%3A%208%7D%0A%20%20%20%20%20%20%20%20%20%20%20%20%29.addTo%28map_c734710e63eb4901b10e6cbd62473014%29%3B%0A%20%20%20%20%20%20%20%20%0A%20%20%20%20%0A%20%20%20%20%20%20%20%20var%20popup_64c29f65a40b48e2a65a9474c41f6f0b%20%3D%20L.popup%28%7B%22maxWidth%22%3A%20%22100%25%22%7D%29%3B%0A%0A%20%20%20%20%20%20%20%20%0A%20%20%20%20%20%20%20%20%20%20%20%20var%20html_4245915a86fc4fbb8508fd74083bb0e2%20%3D%20%24%28%60%3Cdiv%20id%3D%22html_4245915a86fc4fbb8508fd74083bb0e2%22%20style%3D%22width%3A%20100.0%25%3B%20height%3A%20100.0%25%3B%22%3E%28%27Bossa%27%2C%20%27%E2%82%AC%E2%82%AC%E2%82%AC%27%2C%205.0%29%3C/div%3E%60%29%5B0%5D%3B%0A%20%20%20%20%20%20%20%20%20%20%20%20popup_64c29f65a40b48e2a65a9474c41f6f0b.setContent%28html_4245915a86fc4fbb8508fd74083bb0e2%29%3B%0A%20%20%20%20%20%20%20%20%0A%0A%20%20%20%20%20%20%20%20marker_41e923f2c8d94452bf4e7e8a3588bc15.bindPopup%28popup_64c29f65a40b48e2a65a9474c41f6f0b%29%0A%20%20%20%20%20%20%20%20%3B%0A%0A%20%20%20%20%20%20%20%20%0A%20%20%20%20%0A%20%20%20%20%0A%20%20%20%20%20%20%20%20%20%20%20%20var%20marker_28285b500ce24de59a5a66a91173eeb6%20%3D%20L.marker%28%0A%20%20%20%20%20%20%20%20%20%20%20%20%20%20%20%20%5B38.7065697%2C%20-9.2072496%5D%2C%0A%20%20%20%20%20%20%20%20%20%20%20%20%20%20%20%20%7B%22fillColor%22%3A%20%22%2343d9de%22%2C%20%22radius%22%3A%208%7D%0A%20%20%20%20%20%20%20%20%20%20%20%20%29.addTo%28map_c734710e63eb4901b10e6cbd62473014%29%3B%0A%20%20%20%20%20%20%20%20%0A%20%20%20%20%0A%20%20%20%20%20%20%20%20var%20popup_69f0ff9cd53f476cbd21010634e72aca%20%3D%20L.popup%28%7B%22maxWidth%22%3A%20%22100%25%22%7D%29%3B%0A%0A%20%20%20%20%20%20%20%20%0A%20%20%20%20%20%20%20%20%20%20%20%20var%20html_ace8430258fc4045b2f6006e90aa1ce5%20%3D%20%24%28%60%3Cdiv%20id%3D%22html_ace8430258fc4045b2f6006e90aa1ce5%22%20style%3D%22width%3A%20100.0%25%3B%20height%3A%20100.0%25%3B%22%3E%28%27Povo%27%2C%20%27%E2%82%AC%E2%82%AC%27%2C%204.0%29%3C/div%3E%60%29%5B0%5D%3B%0A%20%20%20%20%20%20%20%20%20%20%20%20popup_69f0ff9cd53f476cbd21010634e72aca.setContent%28html_ace8430258fc4045b2f6006e90aa1ce5%29%3B%0A%20%20%20%20%20%20%20%20%0A%0A%20%20%20%20%20%20%20%20marker_28285b500ce24de59a5a66a91173eeb6.bindPopup%28popup_69f0ff9cd53f476cbd21010634e72aca%29%0A%20%20%20%20%20%20%20%20%3B%0A%0A%20%20%20%20%20%20%20%20%0A%20%20%20%20%0A%20%20%20%20%0A%20%20%20%20%20%20%20%20%20%20%20%20var%20marker_841562f1f536428bbe40b8dff5535052%20%3D%20L.marker%28%0A%20%20%20%20%20%20%20%20%20%20%20%20%20%20%20%20%5B38.715928%2C%20-9.123736%5D%2C%0A%20%20%20%20%20%20%20%20%20%20%20%20%20%20%20%20%7B%22fillColor%22%3A%20%22%2343d9de%22%2C%20%22radius%22%3A%208%7D%0A%20%20%20%20%20%20%20%20%20%20%20%20%29.addTo%28map_c734710e63eb4901b10e6cbd62473014%29%3B%0A%20%20%20%20%20%20%20%20%0A%20%20%20%20%0A%20%20%20%20%20%20%20%20var%20popup_5bb8aa6bf4614b8097633249bc1129e6%20%3D%20L.popup%28%7B%22maxWidth%22%3A%20%22100%25%22%7D%29%3B%0A%0A%20%20%20%20%20%20%20%20%0A%20%20%20%20%20%20%20%20%20%20%20%20var%20html_13ea70c3979644dca17edf2437a40d25%20%3D%20%24%28%60%3Cdiv%20id%3D%22html_13ea70c3979644dca17edf2437a40d25%22%20style%3D%22width%3A%20100.0%25%3B%20height%3A%20100.0%25%3B%22%3E%28%27Romana%27%2C%20%27%E2%82%AC%27%2C%203.0%29%3C/div%3E%60%29%5B0%5D%3B%0A%20%20%20%20%20%20%20%20%20%20%20%20popup_5bb8aa6bf4614b8097633249bc1129e6.setContent%28html_13ea70c3979644dca17edf2437a40d25%29%3B%0A%20%20%20%20%20%20%20%20%0A%0A%20%20%20%20%20%20%20%20marker_841562f1f536428bbe40b8dff5535052.bindPopup%28popup_5bb8aa6bf4614b8097633249bc1129e6%29%0A%20%20%20%20%20%20%20%20%3B%0A%0A%20%20%20%20%20%20%20%20%0A%20%20%20%20%0A%20%20%20%20%0A%20%20%20%20%20%20%20%20%20%20%20%20var%20marker_e776892ac42d43f09804d4f6f2a47330%20%3D%20L.marker%28%0A%20%20%20%20%20%20%20%20%20%20%20%20%20%20%20%20%5B38.7356096%2C%20-9.1338441%5D%2C%0A%20%20%20%20%20%20%20%20%20%20%20%20%20%20%20%20%7B%22fillColor%22%3A%20%22%2343d9de%22%2C%20%22radius%22%3A%208%7D%0A%20%20%20%20%20%20%20%20%20%20%20%20%29.addTo%28map_c734710e63eb4901b10e6cbd62473014%29%3B%0A%20%20%20%20%20%20%20%20%0A%20%20%20%20%0A%20%20%20%20%20%20%20%20var%20popup_2097a021aa184a70a61c4e08a5306410%20%3D%20L.popup%28%7B%22maxWidth%22%3A%20%22100%25%22%7D%29%3B%0A%0A%20%20%20%20%20%20%20%20%0A%20%20%20%20%20%20%20%20%20%20%20%20var%20html_3f7ff59f25af45f198768bc138f216e3%20%3D%20%24%28%60%3Cdiv%20id%3D%22html_3f7ff59f25af45f198768bc138f216e3%22%20style%3D%22width%3A%20100.0%25%3B%20height%3A%20100.0%25%3B%22%3E%28%27Apaixonarte%27%2C%20%27%E2%82%AC%E2%82%AC%27%2C%204.5%29%3C/div%3E%60%29%5B0%5D%3B%0A%20%20%20%20%20%20%20%20%20%20%20%20popup_2097a021aa184a70a61c4e08a5306410.setContent%28html_3f7ff59f25af45f198768bc138f216e3%29%3B%0A%20%20%20%20%20%20%20%20%0A%0A%20%20%20%20%20%20%20%20marker_e776892ac42d43f09804d4f6f2a47330.bindPopup%28popup_2097a021aa184a70a61c4e08a5306410%29%0A%20%20%20%20%20%20%20%20%3B%0A%0A%20%20%20%20%20%20%20%20%0A%20%20%20%20%0A%20%20%20%20%0A%20%20%20%20%20%20%20%20%20%20%20%20var%20marker_17fffe739a9e46d6a53f336a59a7176e%20%3D%20L.marker%28%0A%20%20%20%20%20%20%20%20%20%20%20%20%20%20%20%20%5B38.7115695%2C%20-9.1380176%5D%2C%0A%20%20%20%20%20%20%20%20%20%20%20%20%20%20%20%20%7B%22fillColor%22%3A%20%22%2343d9de%22%2C%20%22radius%22%3A%208%7D%0A%20%20%20%20%20%20%20%20%20%20%20%20%29.addTo%28map_c734710e63eb4901b10e6cbd62473014%29%3B%0A%20%20%20%20%20%20%20%20%0A%20%20%20%20%0A%20%20%20%20%20%20%20%20var%20popup_1b178fb69fb74464b73545ca57b09bd6%20%3D%20L.popup%28%7B%22maxWidth%22%3A%20%22100%25%22%7D%29%3B%0A%0A%20%20%20%20%20%20%20%20%0A%20%20%20%20%20%20%20%20%20%20%20%20var%20html_5c361a832df84f969221cdf3579e1cbb%20%3D%20%24%28%60%3Cdiv%20id%3D%22html_5c361a832df84f969221cdf3579e1cbb%22%20style%3D%22width%3A%20100.0%25%3B%20height%3A%20100.0%25%3B%22%3E%28%27Lisbonense%27%2C%20%27%E2%82%AC%E2%82%AC%E2%82%AC%27%2C%204.0%29%3C/div%3E%60%29%5B0%5D%3B%0A%20%20%20%20%20%20%20%20%20%20%20%20popup_1b178fb69fb74464b73545ca57b09bd6.setContent%28html_5c361a832df84f969221cdf3579e1cbb%29%3B%0A%20%20%20%20%20%20%20%20%0A%0A%20%20%20%20%20%20%20%20marker_17fffe739a9e46d6a53f336a59a7176e.bindPopup%28popup_1b178fb69fb74464b73545ca57b09bd6%29%0A%20%20%20%20%20%20%20%20%3B%0A%0A%20%20%20%20%20%20%20%20%0A%20%20%20%20%0A%20%20%20%20%0A%20%20%20%20%20%20%20%20%20%20%20%20var%20marker_f3f94100d08741b3a98e8eb027beb6ee%20%3D%20L.marker%28%0A%20%20%20%20%20%20%20%20%20%20%20%20%20%20%20%20%5B38.7194326%2C%20-9.1642472%5D%2C%0A%20%20%20%20%20%20%20%20%20%20%20%20%20%20%20%20%7B%22fillColor%22%3A%20%22%2343d9de%22%2C%20%22radius%22%3A%208%7D%0A%20%20%20%20%20%20%20%20%20%20%20%20%29.addTo%28map_c734710e63eb4901b10e6cbd62473014%29%3B%0A%20%20%20%20%20%20%20%20%0A%20%20%20%20%0A%20%20%20%20%20%20%20%20var%20popup_cbdd8a961a084432aad4cc4004d2bf6e%20%3D%20L.popup%28%7B%22maxWidth%22%3A%20%22100%25%22%7D%29%3B%0A%0A%20%20%20%20%20%20%20%20%0A%20%20%20%20%20%20%20%20%20%20%20%20var%20html_edc19f26c78d49c08f6971190c69374b%20%3D%20%24%28%60%3Cdiv%20id%3D%22html_edc19f26c78d49c08f6971190c69374b%22%20style%3D%22width%3A%20100.0%25%3B%20height%3A%20100.0%25%3B%22%3E%28%27Quadrinhos%20da%20M%C3%B3%27%2C%20%27%E2%82%AC%E2%82%AC%E2%82%AC%27%2C%204.0%29%3C/div%3E%60%29%5B0%5D%3B%0A%20%20%20%20%20%20%20%20%20%20%20%20popup_cbdd8a961a084432aad4cc4004d2bf6e.setContent%28html_edc19f26c78d49c08f6971190c69374b%29%3B%0A%20%20%20%20%20%20%20%20%0A%0A%20%20%20%20%20%20%20%20marker_f3f94100d08741b3a98e8eb027beb6ee.bindPopup%28popup_cbdd8a961a084432aad4cc4004d2bf6e%29%0A%20%20%20%20%20%20%20%20%3B%0A%0A%20%20%20%20%20%20%20%20%0A%20%20%20%20%0A%20%20%20%20%0A%20%20%20%20%20%20%20%20%20%20%20%20var%20marker_800d6172778543cb9a428622a8025010%20%3D%20L.marker%28%0A%20%20%20%20%20%20%20%20%20%20%20%20%20%20%20%20%5B38.712731%2C%20-9.126576%5D%2C%0A%20%20%20%20%20%20%20%20%20%20%20%20%20%20%20%20%7B%22fillColor%22%3A%20%22%2343d9de%22%2C%20%22radius%22%3A%208%7D%0A%20%20%20%20%20%20%20%20%20%20%20%20%29.addTo%28map_c734710e63eb4901b10e6cbd62473014%29%3B%0A%20%20%20%20%20%20%20%20%0A%20%20%20%20%0A%20%20%20%20%20%20%20%20var%20popup_3c0ca2b0831c4d4e9b694b3223988b16%20%3D%20L.popup%28%7B%22maxWidth%22%3A%20%22100%25%22%7D%29%3B%0A%0A%20%20%20%20%20%20%20%20%0A%20%20%20%20%20%20%20%20%20%20%20%20var%20html_c76b41cec8704f3db6311ab50bc1835b%20%3D%20%24%28%60%3Cdiv%20id%3D%22html_c76b41cec8704f3db6311ab50bc1835b%22%20style%3D%22width%3A%20100.0%25%3B%20height%3A%20100.0%25%3B%22%3E%28%27Espa%C3%A7o%20Lisbon%27%2C%20%27%E2%82%AC%27%2C%203.0%29%3C/div%3E%60%29%5B0%5D%3B%0A%20%20%20%20%20%20%20%20%20%20%20%20popup_3c0ca2b0831c4d4e9b694b3223988b16.setContent%28html_c76b41cec8704f3db6311ab50bc1835b%29%3B%0A%20%20%20%20%20%20%20%20%0A%0A%20%20%20%20%20%20%20%20marker_800d6172778543cb9a428622a8025010.bindPopup%28popup_3c0ca2b0831c4d4e9b694b3223988b16%29%0A%20%20%20%20%20%20%20%20%3B%0A%0A%20%20%20%20%20%20%20%20%0A%20%20%20%20%0A%20%20%20%20%0A%20%20%20%20%20%20%20%20%20%20%20%20var%20marker_1df3b835b70a47058a6d10cddeccbdc7%20%3D%20L.marker%28%0A%20%20%20%20%20%20%20%20%20%20%20%20%20%20%20%20%5B38.7058119%2C%20-9.1876967%5D%2C%0A%20%20%20%20%20%20%20%20%20%20%20%20%20%20%20%20%7B%22fillColor%22%3A%20%22%2343d9de%22%2C%20%22radius%22%3A%208%7D%0A%20%20%20%20%20%20%20%20%20%20%20%20%29.addTo%28map_c734710e63eb4901b10e6cbd62473014%29%3B%0A%20%20%20%20%20%20%20%20%0A%20%20%20%20%0A%20%20%20%20%20%20%20%20var%20popup_80299dbed094461b99c1558ba9845192%20%3D%20L.popup%28%7B%22maxWidth%22%3A%20%22100%25%22%7D%29%3B%0A%0A%20%20%20%20%20%20%20%20%0A%20%20%20%20%20%20%20%20%20%20%20%20var%20html_1dbd18e49d1640b0bff0a8b64fb50468%20%3D%20%24%28%60%3Cdiv%20id%3D%22html_1dbd18e49d1640b0bff0a8b64fb50468%22%20style%3D%22width%3A%20100.0%25%3B%20height%3A%20100.0%25%3B%22%3E%28%27Farm%C3%A1cia%20Clabel%2C%20Sociedade%27%2C%20%27%E2%82%AC%E2%82%AC%27%2C%205.0%29%3C/div%3E%60%29%5B0%5D%3B%0A%20%20%20%20%20%20%20%20%20%20%20%20popup_80299dbed094461b99c1558ba9845192.setContent%28html_1dbd18e49d1640b0bff0a8b64fb50468%29%3B%0A%20%20%20%20%20%20%20%20%0A%0A%20%20%20%20%20%20%20%20marker_1df3b835b70a47058a6d10cddeccbdc7.bindPopup%28popup_80299dbed094461b99c1558ba9845192%29%0A%20%20%20%20%20%20%20%20%3B%0A%0A%20%20%20%20%20%20%20%20%0A%20%20%20%20%0A%20%20%20%20%0A%20%20%20%20%20%20%20%20%20%20%20%20var%20marker_2715262d43e646b7b403c6d0b85aff77%20%3D%20L.marker%28%0A%20%20%20%20%20%20%20%20%20%20%20%20%20%20%20%20%5B38.7679344%2C%20-9.1691161%5D%2C%0A%20%20%20%20%20%20%20%20%20%20%20%20%20%20%20%20%7B%22fillColor%22%3A%20%22%2343d9de%22%2C%20%22radius%22%3A%208%7D%0A%20%20%20%20%20%20%20%20%20%20%20%20%29.addTo%28map_c734710e63eb4901b10e6cbd62473014%29%3B%0A%20%20%20%20%20%20%20%20%0A%20%20%20%20%0A%20%20%20%20%20%20%20%20var%20popup_a98e9151be464a538b84c041f9d5c23c%20%3D%20L.popup%28%7B%22maxWidth%22%3A%20%22100%25%22%7D%29%3B%0A%0A%20%20%20%20%20%20%20%20%0A%20%20%20%20%20%20%20%20%20%20%20%20var%20html_8a69ffe681d545d2810b327aa459a7e8%20%3D%20%24%28%60%3Cdiv%20id%3D%22html_8a69ffe681d545d2810b327aa459a7e8%22%20style%3D%22width%3A%20100.0%25%3B%20height%3A%20100.0%25%3B%22%3E%28%27Arc%C3%A1dia%27%2C%20%27%E2%82%AC%E2%82%AC%E2%82%AC%27%2C%204.5%29%3C/div%3E%60%29%5B0%5D%3B%0A%20%20%20%20%20%20%20%20%20%20%20%20popup_a98e9151be464a538b84c041f9d5c23c.setContent%28html_8a69ffe681d545d2810b327aa459a7e8%29%3B%0A%20%20%20%20%20%20%20%20%0A%0A%20%20%20%20%20%20%20%20marker_2715262d43e646b7b403c6d0b85aff77.bindPopup%28popup_a98e9151be464a538b84c041f9d5c23c%29%0A%20%20%20%20%20%20%20%20%3B%0A%0A%20%20%20%20%20%20%20%20%0A%20%20%20%20%0A%20%20%20%20%0A%20%20%20%20%20%20%20%20%20%20%20%20var%20marker_462eb8d4ed3c4b65aed705e1ac83159e%20%3D%20L.marker%28%0A%20%20%20%20%20%20%20%20%20%20%20%20%20%20%20%20%5B38.7115138%2C%20-9.1434641%5D%2C%0A%20%20%20%20%20%20%20%20%20%20%20%20%20%20%20%20%7B%22fillColor%22%3A%20%22%2343d9de%22%2C%20%22radius%22%3A%208%7D%0A%20%20%20%20%20%20%20%20%20%20%20%20%29.addTo%28map_c734710e63eb4901b10e6cbd62473014%29%3B%0A%20%20%20%20%20%20%20%20%0A%20%20%20%20%0A%20%20%20%20%20%20%20%20var%20popup_fd66e45ce28e47c2b648fb6a7ca47169%20%3D%20L.popup%28%7B%22maxWidth%22%3A%20%22100%25%22%7D%29%3B%0A%0A%20%20%20%20%20%20%20%20%0A%20%20%20%20%20%20%20%20%20%20%20%20var%20html_cd54ea06dbf54df6a26f121a00ee2495%20%3D%20%24%28%60%3Cdiv%20id%3D%22html_cd54ea06dbf54df6a26f121a00ee2495%22%20style%3D%22width%3A%20100.0%25%3B%20height%3A%20100.0%25%3B%22%3E%28%27Pens%C3%A3o%20Amor%27%2C%20%27%E2%82%AC%E2%82%AC%27%2C%204.0%29%3C/div%3E%60%29%5B0%5D%3B%0A%20%20%20%20%20%20%20%20%20%20%20%20popup_fd66e45ce28e47c2b648fb6a7ca47169.setContent%28html_cd54ea06dbf54df6a26f121a00ee2495%29%3B%0A%20%20%20%20%20%20%20%20%0A%0A%20%20%20%20%20%20%20%20marker_462eb8d4ed3c4b65aed705e1ac83159e.bindPopup%28popup_fd66e45ce28e47c2b648fb6a7ca47169%29%0A%20%20%20%20%20%20%20%20%3B%0A%0A%20%20%20%20%20%20%20%20%0A%20%20%20%20%0A%20%20%20%20%0A%20%20%20%20%20%20%20%20%20%20%20%20var%20marker_c2e7e945220a45cb993b696bfe65ed3e%20%3D%20L.marker%28%0A%20%20%20%20%20%20%20%20%20%20%20%20%20%20%20%20%5B38.7423433%2C%20-9.1378616%5D%2C%0A%20%20%20%20%20%20%20%20%20%20%20%20%20%20%20%20%7B%22fillColor%22%3A%20%22%2343d9de%22%2C%20%22radius%22%3A%208%7D%0A%20%20%20%20%20%20%20%20%20%20%20%20%29.addTo%28map_c734710e63eb4901b10e6cbd62473014%29%3B%0A%20%20%20%20%20%20%20%20%0A%20%20%20%20%0A%20%20%20%20%20%20%20%20var%20popup_cac7d5ad483d434bac692db318dc86de%20%3D%20L.popup%28%7B%22maxWidth%22%3A%20%22100%25%22%7D%29%3B%0A%0A%20%20%20%20%20%20%20%20%0A%20%20%20%20%20%20%20%20%20%20%20%20var%20html_788456ae75234cbb890ce0f2236454b5%20%3D%20%24%28%60%3Cdiv%20id%3D%22html_788456ae75234cbb890ce0f2236454b5%22%20style%3D%22width%3A%20100.0%25%3B%20height%3A%20100.0%25%3B%22%3E%28%27Restaurante%20Resina%27%2C%20%27%E2%82%AC%27%2C%203.5%29%3C/div%3E%60%29%5B0%5D%3B%0A%20%20%20%20%20%20%20%20%20%20%20%20popup_cac7d5ad483d434bac692db318dc86de.setContent%28html_788456ae75234cbb890ce0f2236454b5%29%3B%0A%20%20%20%20%20%20%20%20%0A%0A%20%20%20%20%20%20%20%20marker_c2e7e945220a45cb993b696bfe65ed3e.bindPopup%28popup_cac7d5ad483d434bac692db318dc86de%29%0A%20%20%20%20%20%20%20%20%3B%0A%0A%20%20%20%20%20%20%20%20%0A%20%20%20%20%0A%20%20%20%20%0A%20%20%20%20%20%20%20%20%20%20%20%20var%20marker_c76c0fc8e12b48c880f92b34290ca2ef%20%3D%20L.marker%28%0A%20%20%20%20%20%20%20%20%20%20%20%20%20%20%20%20%5B38.7348147%2C%20-9.1490112%5D%2C%0A%20%20%20%20%20%20%20%20%20%20%20%20%20%20%20%20%7B%22fillColor%22%3A%20%22%2343d9de%22%2C%20%22radius%22%3A%208%7D%0A%20%20%20%20%20%20%20%20%20%20%20%20%29.addTo%28map_c734710e63eb4901b10e6cbd62473014%29%3B%0A%20%20%20%20%20%20%20%20%0A%20%20%20%20%0A%20%20%20%20%20%20%20%20var%20popup_af7fab13d4aa4a3cad57c39c706f6306%20%3D%20L.popup%28%7B%22maxWidth%22%3A%20%22100%25%22%7D%29%3B%0A%0A%20%20%20%20%20%20%20%20%0A%20%20%20%20%20%20%20%20%20%20%20%20var%20html_048cd786a4d14c6f8c8cea4b82441e01%20%3D%20%24%28%60%3Cdiv%20id%3D%22html_048cd786a4d14c6f8c8cea4b82441e01%22%20style%3D%22width%3A%20100.0%25%3B%20height%3A%20100.0%25%3B%22%3E%28%27Velha%20Senhora%27%2C%20%27%E2%82%AC%E2%82%AC%27%2C%203.5%29%3C/div%3E%60%29%5B0%5D%3B%0A%20%20%20%20%20%20%20%20%20%20%20%20popup_af7fab13d4aa4a3cad57c39c706f6306.setContent%28html_048cd786a4d14c6f8c8cea4b82441e01%29%3B%0A%20%20%20%20%20%20%20%20%0A%0A%20%20%20%20%20%20%20%20marker_c76c0fc8e12b48c880f92b34290ca2ef.bindPopup%28popup_af7fab13d4aa4a3cad57c39c706f6306%29%0A%20%20%20%20%20%20%20%20%3B%0A%0A%20%20%20%20%20%20%20%20%0A%20%20%20%20%0A%20%20%20%20%0A%20%20%20%20%20%20%20%20%20%20%20%20var%20marker_0407063225de4b43b11a63ae9f0cca4c%20%3D%20L.marker%28%0A%20%20%20%20%20%20%20%20%20%20%20%20%20%20%20%20%5B38.747294%2C%20-9.2078655%5D%2C%0A%20%20%20%20%20%20%20%20%20%20%20%20%20%20%20%20%7B%22fillColor%22%3A%20%22%2343d9de%22%2C%20%22radius%22%3A%208%7D%0A%20%20%20%20%20%20%20%20%20%20%20%20%29.addTo%28map_c734710e63eb4901b10e6cbd62473014%29%3B%0A%20%20%20%20%20%20%20%20%0A%20%20%20%20%0A%20%20%20%20%20%20%20%20var%20popup_bf8000f2c7da455fb78c12a48dcf3b36%20%3D%20L.popup%28%7B%22maxWidth%22%3A%20%22100%25%22%7D%29%3B%0A%0A%20%20%20%20%20%20%20%20%0A%20%20%20%20%20%20%20%20%20%20%20%20var%20html_a5235750714d4642b2e4ae581651441d%20%3D%20%24%28%60%3Cdiv%20id%3D%22html_a5235750714d4642b2e4ae581651441d%22%20style%3D%22width%3A%20100.0%25%3B%20height%3A%20100.0%25%3B%22%3E%28%27Gast%C3%B3n%20Y%20Daniela%27%2C%20%27%E2%82%AC%E2%82%AC%E2%82%AC%27%2C%204.0%29%3C/div%3E%60%29%5B0%5D%3B%0A%20%20%20%20%20%20%20%20%20%20%20%20popup_bf8000f2c7da455fb78c12a48dcf3b36.setContent%28html_a5235750714d4642b2e4ae581651441d%29%3B%0A%20%20%20%20%20%20%20%20%0A%0A%20%20%20%20%20%20%20%20marker_0407063225de4b43b11a63ae9f0cca4c.bindPopup%28popup_bf8000f2c7da455fb78c12a48dcf3b36%29%0A%20%20%20%20%20%20%20%20%3B%0A%0A%20%20%20%20%20%20%20%20%0A%20%20%20%20%0A%20%20%20%20%0A%20%20%20%20%20%20%20%20%20%20%20%20var%20marker_34ebdd9bdf7447f1a662aedfa9158d8b%20%3D%20L.marker%28%0A%20%20%20%20%20%20%20%20%20%20%20%20%20%20%20%20%5B38.7005164%2C%20-9.1809523%5D%2C%0A%20%20%20%20%20%20%20%20%20%20%20%20%20%20%20%20%7B%22fillColor%22%3A%20%22%2343d9de%22%2C%20%22radius%22%3A%208%7D%0A%20%20%20%20%20%20%20%20%20%20%20%20%29.addTo%28map_c734710e63eb4901b10e6cbd62473014%29%3B%0A%20%20%20%20%20%20%20%20%0A%20%20%20%20%0A%20%20%20%20%20%20%20%20var%20popup_75a37fa1a8304a1b9d194941a9777ab2%20%3D%20L.popup%28%7B%22maxWidth%22%3A%20%22100%25%22%7D%29%3B%0A%0A%20%20%20%20%20%20%20%20%0A%20%20%20%20%20%20%20%20%20%20%20%20var%20html_b8af120b3aef48d4b78f24fed661d40e%20%3D%20%24%28%60%3Cdiv%20id%3D%22html_b8af120b3aef48d4b78f24fed661d40e%22%20style%3D%22width%3A%20100.0%25%3B%20height%3A%20100.0%25%3B%22%3E%28%27Cafetaria%20do%20Museu%20da%20Gulbenkian%27%2C%20%27%E2%82%AC%E2%82%AC%E2%82%AC%27%2C%204.0%29%3C/div%3E%60%29%5B0%5D%3B%0A%20%20%20%20%20%20%20%20%20%20%20%20popup_75a37fa1a8304a1b9d194941a9777ab2.setContent%28html_b8af120b3aef48d4b78f24fed661d40e%29%3B%0A%20%20%20%20%20%20%20%20%0A%0A%20%20%20%20%20%20%20%20marker_34ebdd9bdf7447f1a662aedfa9158d8b.bindPopup%28popup_75a37fa1a8304a1b9d194941a9777ab2%29%0A%20%20%20%20%20%20%20%20%3B%0A%0A%20%20%20%20%20%20%20%20%0A%20%20%20%20%0A%20%20%20%20%0A%20%20%20%20%20%20%20%20%20%20%20%20var%20marker_1ad0480c01ae493091ee34fcc6e523c1%20%3D%20L.marker%28%0A%20%20%20%20%20%20%20%20%20%20%20%20%20%20%20%20%5B38.721029%2C%20-9.135125%5D%2C%0A%20%20%20%20%20%20%20%20%20%20%20%20%20%20%20%20%7B%22fillColor%22%3A%20%22%2343d9de%22%2C%20%22radius%22%3A%208%7D%0A%20%20%20%20%20%20%20%20%20%20%20%20%29.addTo%28map_c734710e63eb4901b10e6cbd62473014%29%3B%0A%20%20%20%20%20%20%20%20%0A%20%20%20%20%0A%20%20%20%20%20%20%20%20var%20popup_72c30dca3a094ae09051c9749fbb085e%20%3D%20L.popup%28%7B%22maxWidth%22%3A%20%22100%25%22%7D%29%3B%0A%0A%20%20%20%20%20%20%20%20%0A%20%20%20%20%20%20%20%20%20%20%20%20var%20html_0707ae46c57248279bab0874e54f9e02%20%3D%20%24%28%60%3Cdiv%20id%3D%22html_0707ae46c57248279bab0874e54f9e02%22%20style%3D%22width%3A%20100.0%25%3B%20height%3A%20100.0%25%3B%22%3E%28%27Proc%C3%B3pio%27%2C%20%27%E2%82%AC%E2%82%AC%E2%82%AC%27%2C%204.5%29%3C/div%3E%60%29%5B0%5D%3B%0A%20%20%20%20%20%20%20%20%20%20%20%20popup_72c30dca3a094ae09051c9749fbb085e.setContent%28html_0707ae46c57248279bab0874e54f9e02%29%3B%0A%20%20%20%20%20%20%20%20%0A%0A%20%20%20%20%20%20%20%20marker_1ad0480c01ae493091ee34fcc6e523c1.bindPopup%28popup_72c30dca3a094ae09051c9749fbb085e%29%0A%20%20%20%20%20%20%20%20%3B%0A%0A%20%20%20%20%20%20%20%20%0A%20%20%20%20%0A%20%20%20%20%0A%20%20%20%20%20%20%20%20%20%20%20%20var%20marker_865757d12a134b74aef0922293b207e3%20%3D%20L.marker%28%0A%20%20%20%20%20%20%20%20%20%20%20%20%20%20%20%20%5B38.7107246%2C%20-9.141842%5D%2C%0A%20%20%20%20%20%20%20%20%20%20%20%20%20%20%20%20%7B%22fillColor%22%3A%20%22%2343d9de%22%2C%20%22radius%22%3A%208%7D%0A%20%20%20%20%20%20%20%20%20%20%20%20%29.addTo%28map_c734710e63eb4901b10e6cbd62473014%29%3B%0A%20%20%20%20%20%20%20%20%0A%20%20%20%20%0A%20%20%20%20%20%20%20%20var%20popup_e61513b9214148bbba81adf273557f22%20%3D%20L.popup%28%7B%22maxWidth%22%3A%20%22100%25%22%7D%29%3B%0A%0A%20%20%20%20%20%20%20%20%0A%20%20%20%20%20%20%20%20%20%20%20%20var%20html_864b891b60a44b0c83725d2f53dc9d4a%20%3D%20%24%28%60%3Cdiv%20id%3D%22html_864b891b60a44b0c83725d2f53dc9d4a%22%20style%3D%22width%3A%20100.0%25%3B%20height%3A%20100.0%25%3B%22%3E%28%27P%C3%A3o%20De%20Mel%27%2C%20%27%E2%82%AC%E2%82%AC%27%2C%205.0%29%3C/div%3E%60%29%5B0%5D%3B%0A%20%20%20%20%20%20%20%20%20%20%20%20popup_e61513b9214148bbba81adf273557f22.setContent%28html_864b891b60a44b0c83725d2f53dc9d4a%29%3B%0A%20%20%20%20%20%20%20%20%0A%0A%20%20%20%20%20%20%20%20marker_865757d12a134b74aef0922293b207e3.bindPopup%28popup_e61513b9214148bbba81adf273557f22%29%0A%20%20%20%20%20%20%20%20%3B%0A%0A%20%20%20%20%20%20%20%20%0A%20%20%20%20%0A%20%20%20%20%0A%20%20%20%20%20%20%20%20%20%20%20%20var%20marker_1704cbb14c7d494289579c5df4187e46%20%3D%20L.marker%28%0A%20%20%20%20%20%20%20%20%20%20%20%20%20%20%20%20%5B38.7212917%2C%20-9.1484709%5D%2C%0A%20%20%20%20%20%20%20%20%20%20%20%20%20%20%20%20%7B%22fillColor%22%3A%20%22%2343d9de%22%2C%20%22radius%22%3A%208%7D%0A%20%20%20%20%20%20%20%20%20%20%20%20%29.addTo%28map_c734710e63eb4901b10e6cbd62473014%29%3B%0A%20%20%20%20%20%20%20%20%0A%20%20%20%20%0A%20%20%20%20%20%20%20%20var%20popup_c86b28b3e41343eeb85599c8626fcebe%20%3D%20L.popup%28%7B%22maxWidth%22%3A%20%22100%25%22%7D%29%3B%0A%0A%20%20%20%20%20%20%20%20%0A%20%20%20%20%20%20%20%20%20%20%20%20var%20html_dbd0b7fca9014a38bc081ad0c6fc65d2%20%3D%20%24%28%60%3Cdiv%20id%3D%22html_dbd0b7fca9014a38bc081ad0c6fc65d2%22%20style%3D%22width%3A%20100.0%25%3B%20height%3A%20100.0%25%3B%22%3E%28%27Ratton%20-%20Doca%20de%20Santo%27%2C%20%27%E2%82%AC%E2%82%AC%27%2C%204.0%29%3C/div%3E%60%29%5B0%5D%3B%0A%20%20%20%20%20%20%20%20%20%20%20%20popup_c86b28b3e41343eeb85599c8626fcebe.setContent%28html_dbd0b7fca9014a38bc081ad0c6fc65d2%29%3B%0A%20%20%20%20%20%20%20%20%0A%0A%20%20%20%20%20%20%20%20marker_1704cbb14c7d494289579c5df4187e46.bindPopup%28popup_c86b28b3e41343eeb85599c8626fcebe%29%0A%20%20%20%20%20%20%20%20%3B%0A%0A%20%20%20%20%20%20%20%20%0A%20%20%20%20%0A%20%20%20%20%0A%20%20%20%20%20%20%20%20%20%20%20%20var%20marker_5cb0184b5fb44c7c9cd68bda5de375b8%20%3D%20L.marker%28%0A%20%20%20%20%20%20%20%20%20%20%20%20%20%20%20%20%5B38.7128878%2C%20-9.1375864%5D%2C%0A%20%20%20%20%20%20%20%20%20%20%20%20%20%20%20%20%7B%22fillColor%22%3A%20%22%2343d9de%22%2C%20%22radius%22%3A%208%7D%0A%20%20%20%20%20%20%20%20%20%20%20%20%29.addTo%28map_c734710e63eb4901b10e6cbd62473014%29%3B%0A%20%20%20%20%20%20%20%20%0A%20%20%20%20%0A%20%20%20%20%20%20%20%20var%20popup_828650bf3dfd45b98e377299f8132a8d%20%3D%20L.popup%28%7B%22maxWidth%22%3A%20%22100%25%22%7D%29%3B%0A%0A%20%20%20%20%20%20%20%20%0A%20%20%20%20%20%20%20%20%20%20%20%20var%20html_82fc2fb8ac4840babd6e04693b5ead24%20%3D%20%24%28%60%3Cdiv%20id%3D%22html_82fc2fb8ac4840babd6e04693b5ead24%22%20style%3D%22width%3A%20100.0%25%3B%20height%3A%20100.0%25%3B%22%3E%28%271001%20ideias%27%2C%20%27%E2%82%AC%E2%82%AC%27%2C%203.5%29%3C/div%3E%60%29%5B0%5D%3B%0A%20%20%20%20%20%20%20%20%20%20%20%20popup_828650bf3dfd45b98e377299f8132a8d.setContent%28html_82fc2fb8ac4840babd6e04693b5ead24%29%3B%0A%20%20%20%20%20%20%20%20%0A%0A%20%20%20%20%20%20%20%20marker_5cb0184b5fb44c7c9cd68bda5de375b8.bindPopup%28popup_828650bf3dfd45b98e377299f8132a8d%29%0A%20%20%20%20%20%20%20%20%3B%0A%0A%20%20%20%20%20%20%20%20%0A%20%20%20%20%0A%20%20%20%20%0A%20%20%20%20%20%20%20%20%20%20%20%20var%20marker_fe295688c8bb4c8288d5f1d1be2b457f%20%3D%20L.marker%28%0A%20%20%20%20%20%20%20%20%20%20%20%20%20%20%20%20%5B38.7098651%2C%20-9.1410556%5D%2C%0A%20%20%20%20%20%20%20%20%20%20%20%20%20%20%20%20%7B%22fillColor%22%3A%20%22%2343d9de%22%2C%20%22radius%22%3A%208%7D%0A%20%20%20%20%20%20%20%20%20%20%20%20%29.addTo%28map_c734710e63eb4901b10e6cbd62473014%29%3B%0A%20%20%20%20%20%20%20%20%0A%20%20%20%20%0A%20%20%20%20%20%20%20%20var%20popup_a11190325e9f49d1b3bdb6296c2999ec%20%3D%20L.popup%28%7B%22maxWidth%22%3A%20%22100%25%22%7D%29%3B%0A%0A%20%20%20%20%20%20%20%20%0A%20%20%20%20%20%20%20%20%20%20%20%20var%20html_b3c76ef08f4548ae9d9b54c06f1f5b19%20%3D%20%24%28%60%3Cdiv%20id%3D%22html_b3c76ef08f4548ae9d9b54c06f1f5b19%22%20style%3D%22width%3A%20100.0%25%3B%20height%3A%20100.0%25%3B%22%3E%28%27Tabacaria%20Bumbinha%20Papelaria%27%2C%20%27%E2%82%AC%27%2C%203.0%29%3C/div%3E%60%29%5B0%5D%3B%0A%20%20%20%20%20%20%20%20%20%20%20%20popup_a11190325e9f49d1b3bdb6296c2999ec.setContent%28html_b3c76ef08f4548ae9d9b54c06f1f5b19%29%3B%0A%20%20%20%20%20%20%20%20%0A%0A%20%20%20%20%20%20%20%20marker_fe295688c8bb4c8288d5f1d1be2b457f.bindPopup%28popup_a11190325e9f49d1b3bdb6296c2999ec%29%0A%20%20%20%20%20%20%20%20%3B%0A%0A%20%20%20%20%20%20%20%20%0A%20%20%20%20%0A%20%20%20%20%0A%20%20%20%20%20%20%20%20%20%20%20%20var%20marker_8245fca4996b427283a4cacb2df644dd%20%3D%20L.marker%28%0A%20%20%20%20%20%20%20%20%20%20%20%20%20%20%20%20%5B38.7164076%2C%20-9.1652442%5D%2C%0A%20%20%20%20%20%20%20%20%20%20%20%20%20%20%20%20%7B%22fillColor%22%3A%20%22%2343d9de%22%2C%20%22radius%22%3A%208%7D%0A%20%20%20%20%20%20%20%20%20%20%20%20%29.addTo%28map_c734710e63eb4901b10e6cbd62473014%29%3B%0A%20%20%20%20%20%20%20%20%0A%20%20%20%20%0A%20%20%20%20%20%20%20%20var%20popup_1991c58db9724b35acde5842bb34f312%20%3D%20L.popup%28%7B%22maxWidth%22%3A%20%22100%25%22%7D%29%3B%0A%0A%20%20%20%20%20%20%20%20%0A%20%20%20%20%20%20%20%20%20%20%20%20var%20html_9e67220f085345eeaa0f1f705e458f3e%20%3D%20%24%28%60%3Cdiv%20id%3D%22html_9e67220f085345eeaa0f1f705e458f3e%22%20style%3D%22width%3A%20100.0%25%3B%20height%3A%20100.0%25%3B%22%3E%28%27Water%20Flower%27%2C%20%27%E2%82%AC%E2%82%AC%27%2C%203.5%29%3C/div%3E%60%29%5B0%5D%3B%0A%20%20%20%20%20%20%20%20%20%20%20%20popup_1991c58db9724b35acde5842bb34f312.setContent%28html_9e67220f085345eeaa0f1f705e458f3e%29%3B%0A%20%20%20%20%20%20%20%20%0A%0A%20%20%20%20%20%20%20%20marker_8245fca4996b427283a4cacb2df644dd.bindPopup%28popup_1991c58db9724b35acde5842bb34f312%29%0A%20%20%20%20%20%20%20%20%3B%0A%0A%20%20%20%20%20%20%20%20%0A%20%20%20%20%0A%3C/script%3E onload=\"this.contentDocument.open();this.contentDocument.write(    decodeURIComponent(this.getAttribute('data-html')));this.contentDocument.close();\" allowfullscreen webkitallowfullscreen mozallowfullscreen></iframe></div></div>"
      ],
      "text/plain": [
       "<folium.folium.Map at 0x137c0ae50>"
      ]
     },
     "execution_count": 292,
     "metadata": {},
     "output_type": "execute_result"
    }
   ],
   "source": [
    "data_2=data_use.dropna().sample(n=100)\n",
    "latlonname= zip(data_2['latitude'],data_2['longitude'], data_2['name'], data_2['price'], data_2['rating'])\n",
    "\n",
    "m = folium.Map(location=[38.7166,  -9.1483], titles='small businesses', zoom_start=14)\n",
    "\n",
    "for coord in latlonname:\n",
    "    folium.Marker(location=[coord[0], coord[1]], popup= (coord[2:5]), fill_color='#43d9de', radius=8 ).add_to(m)\n",
    "    \n",
    "m"
   ]
  },
  {
   "cell_type": "markdown",
   "id": "76aeda74",
   "metadata": {},
   "source": [
    "# Mapping of coordinates of restaurant with Bokhe"
   ]
  },
  {
   "cell_type": "code",
   "execution_count": 302,
   "id": "15314ad2",
   "metadata": {},
   "outputs": [
    {
     "name": "stdout",
     "output_type": "stream",
     "text": [
      "Collecting bokeh\n",
      "  Downloading bokeh-2.4.2-py3-none-any.whl (18.5 MB)\n",
      "     |████████████████████████████████| 18.5 MB 16.3 MB/s            \n",
      "\u001b[?25hRequirement already satisfied: numpy>=1.11.3 in /Users/louisecaucheteux/.pyenv/versions/3.8.12/envs/small_business/lib/python3.8/site-packages (from bokeh) (1.21.4)\n",
      "Requirement already satisfied: packaging>=16.8 in /Users/louisecaucheteux/.pyenv/versions/3.8.12/envs/small_business/lib/python3.8/site-packages (from bokeh) (21.3)\n",
      "Requirement already satisfied: pillow>=7.1.0 in /Users/louisecaucheteux/.pyenv/versions/3.8.12/envs/small_business/lib/python3.8/site-packages (from bokeh) (8.4.0)\n",
      "Collecting PyYAML>=3.10\n",
      "  Downloading PyYAML-6.0-cp38-cp38-macosx_10_9_x86_64.whl (192 kB)\n",
      "     |████████████████████████████████| 192 kB 3.2 MB/s            \n",
      "\u001b[?25hRequirement already satisfied: Jinja2>=2.9 in /Users/louisecaucheteux/.pyenv/versions/3.8.12/envs/small_business/lib/python3.8/site-packages (from bokeh) (3.0.3)\n",
      "Requirement already satisfied: tornado>=5.1 in /Users/louisecaucheteux/.pyenv/versions/3.8.12/envs/small_business/lib/python3.8/site-packages (from bokeh) (6.1)\n",
      "Requirement already satisfied: typing-extensions>=3.10.0 in /Users/louisecaucheteux/.pyenv/versions/3.8.12/envs/small_business/lib/python3.8/site-packages (from bokeh) (4.0.0)\n",
      "Requirement already satisfied: MarkupSafe>=2.0 in /Users/louisecaucheteux/.pyenv/versions/3.8.12/envs/small_business/lib/python3.8/site-packages (from Jinja2>=2.9->bokeh) (2.0.1)\n",
      "Requirement already satisfied: pyparsing!=3.0.5,>=2.0.2 in /Users/louisecaucheteux/.pyenv/versions/3.8.12/envs/small_business/lib/python3.8/site-packages (from packaging>=16.8->bokeh) (3.0.6)\n",
      "Installing collected packages: PyYAML, bokeh\n",
      "Successfully installed PyYAML-6.0 bokeh-2.4.2\n"
     ]
    }
   ],
   "source": [
    "!pip install bokeh"
   ]
  },
  {
   "cell_type": "code",
   "execution_count": 304,
   "id": "b3963309",
   "metadata": {},
   "outputs": [],
   "source": [
    "#import modules\n",
    "\n",
    "import pandas as pd\n",
    "import numpy as np\n",
    "\n",
    "from bokeh.models import *\n",
    "from bokeh.plotting import *\n",
    "from bokeh.io import *\n",
    "from bokeh.tile_providers import *\n",
    "from bokeh.palettes import *\n",
    "from bokeh.transform import *\n",
    "from bokeh.layouts import *"
   ]
  },
  {
   "cell_type": "code",
   "execution_count": 307,
   "id": "0fe0b8fc",
   "metadata": {},
   "outputs": [
    {
     "data": {
      "text/html": [
       "\n",
       "    <div class=\"bk-root\">\n",
       "        <a href=\"https://bokeh.org\" target=\"_blank\" class=\"bk-logo bk-logo-small bk-logo-notebook\"></a>\n",
       "        <span id=\"1114\">Loading BokehJS ...</span>\n",
       "    </div>"
      ]
     },
     "metadata": {},
     "output_type": "display_data"
    },
    {
     "data": {
      "application/javascript": [
       "\n",
       "(function(root) {\n",
       "  function now() {\n",
       "    return new Date();\n",
       "  }\n",
       "\n",
       "  const force = true;\n",
       "\n",
       "  if (typeof root._bokeh_onload_callbacks === \"undefined\" || force === true) {\n",
       "    root._bokeh_onload_callbacks = [];\n",
       "    root._bokeh_is_loading = undefined;\n",
       "  }\n",
       "\n",
       "  const JS_MIME_TYPE = 'application/javascript';\n",
       "  const HTML_MIME_TYPE = 'text/html';\n",
       "  const EXEC_MIME_TYPE = 'application/vnd.bokehjs_exec.v0+json';\n",
       "  const CLASS_NAME = 'output_bokeh rendered_html';\n",
       "\n",
       "  /**\n",
       "   * Render data to the DOM node\n",
       "   */\n",
       "  function render(props, node) {\n",
       "    const script = document.createElement(\"script\");\n",
       "    node.appendChild(script);\n",
       "  }\n",
       "\n",
       "  /**\n",
       "   * Handle when an output is cleared or removed\n",
       "   */\n",
       "  function handleClearOutput(event, handle) {\n",
       "    const cell = handle.cell;\n",
       "\n",
       "    const id = cell.output_area._bokeh_element_id;\n",
       "    const server_id = cell.output_area._bokeh_server_id;\n",
       "    // Clean up Bokeh references\n",
       "    if (id != null && id in Bokeh.index) {\n",
       "      Bokeh.index[id].model.document.clear();\n",
       "      delete Bokeh.index[id];\n",
       "    }\n",
       "\n",
       "    if (server_id !== undefined) {\n",
       "      // Clean up Bokeh references\n",
       "      const cmd_clean = \"from bokeh.io.state import curstate; print(curstate().uuid_to_server['\" + server_id + \"'].get_sessions()[0].document.roots[0]._id)\";\n",
       "      cell.notebook.kernel.execute(cmd_clean, {\n",
       "        iopub: {\n",
       "          output: function(msg) {\n",
       "            const id = msg.content.text.trim();\n",
       "            if (id in Bokeh.index) {\n",
       "              Bokeh.index[id].model.document.clear();\n",
       "              delete Bokeh.index[id];\n",
       "            }\n",
       "          }\n",
       "        }\n",
       "      });\n",
       "      // Destroy server and session\n",
       "      const cmd_destroy = \"import bokeh.io.notebook as ion; ion.destroy_server('\" + server_id + \"')\";\n",
       "      cell.notebook.kernel.execute(cmd_destroy);\n",
       "    }\n",
       "  }\n",
       "\n",
       "  /**\n",
       "   * Handle when a new output is added\n",
       "   */\n",
       "  function handleAddOutput(event, handle) {\n",
       "    const output_area = handle.output_area;\n",
       "    const output = handle.output;\n",
       "\n",
       "    // limit handleAddOutput to display_data with EXEC_MIME_TYPE content only\n",
       "    if ((output.output_type != \"display_data\") || (!Object.prototype.hasOwnProperty.call(output.data, EXEC_MIME_TYPE))) {\n",
       "      return\n",
       "    }\n",
       "\n",
       "    const toinsert = output_area.element.find(\".\" + CLASS_NAME.split(' ')[0]);\n",
       "\n",
       "    if (output.metadata[EXEC_MIME_TYPE][\"id\"] !== undefined) {\n",
       "      toinsert[toinsert.length - 1].firstChild.textContent = output.data[JS_MIME_TYPE];\n",
       "      // store reference to embed id on output_area\n",
       "      output_area._bokeh_element_id = output.metadata[EXEC_MIME_TYPE][\"id\"];\n",
       "    }\n",
       "    if (output.metadata[EXEC_MIME_TYPE][\"server_id\"] !== undefined) {\n",
       "      const bk_div = document.createElement(\"div\");\n",
       "      bk_div.innerHTML = output.data[HTML_MIME_TYPE];\n",
       "      const script_attrs = bk_div.children[0].attributes;\n",
       "      for (let i = 0; i < script_attrs.length; i++) {\n",
       "        toinsert[toinsert.length - 1].firstChild.setAttribute(script_attrs[i].name, script_attrs[i].value);\n",
       "        toinsert[toinsert.length - 1].firstChild.textContent = bk_div.children[0].textContent\n",
       "      }\n",
       "      // store reference to server id on output_area\n",
       "      output_area._bokeh_server_id = output.metadata[EXEC_MIME_TYPE][\"server_id\"];\n",
       "    }\n",
       "  }\n",
       "\n",
       "  function register_renderer(events, OutputArea) {\n",
       "\n",
       "    function append_mime(data, metadata, element) {\n",
       "      // create a DOM node to render to\n",
       "      const toinsert = this.create_output_subarea(\n",
       "        metadata,\n",
       "        CLASS_NAME,\n",
       "        EXEC_MIME_TYPE\n",
       "      );\n",
       "      this.keyboard_manager.register_events(toinsert);\n",
       "      // Render to node\n",
       "      const props = {data: data, metadata: metadata[EXEC_MIME_TYPE]};\n",
       "      render(props, toinsert[toinsert.length - 1]);\n",
       "      element.append(toinsert);\n",
       "      return toinsert\n",
       "    }\n",
       "\n",
       "    /* Handle when an output is cleared or removed */\n",
       "    events.on('clear_output.CodeCell', handleClearOutput);\n",
       "    events.on('delete.Cell', handleClearOutput);\n",
       "\n",
       "    /* Handle when a new output is added */\n",
       "    events.on('output_added.OutputArea', handleAddOutput);\n",
       "\n",
       "    /**\n",
       "     * Register the mime type and append_mime function with output_area\n",
       "     */\n",
       "    OutputArea.prototype.register_mime_type(EXEC_MIME_TYPE, append_mime, {\n",
       "      /* Is output safe? */\n",
       "      safe: true,\n",
       "      /* Index of renderer in `output_area.display_order` */\n",
       "      index: 0\n",
       "    });\n",
       "  }\n",
       "\n",
       "  // register the mime type if in Jupyter Notebook environment and previously unregistered\n",
       "  if (root.Jupyter !== undefined) {\n",
       "    const events = require('base/js/events');\n",
       "    const OutputArea = require('notebook/js/outputarea').OutputArea;\n",
       "\n",
       "    if (OutputArea.prototype.mime_types().indexOf(EXEC_MIME_TYPE) == -1) {\n",
       "      register_renderer(events, OutputArea);\n",
       "    }\n",
       "  }\n",
       "\n",
       "  \n",
       "  if (typeof (root._bokeh_timeout) === \"undefined\" || force === true) {\n",
       "    root._bokeh_timeout = Date.now() + 5000;\n",
       "    root._bokeh_failed_load = false;\n",
       "  }\n",
       "\n",
       "  const NB_LOAD_WARNING = {'data': {'text/html':\n",
       "     \"<div style='background-color: #fdd'>\\n\"+\n",
       "     \"<p>\\n\"+\n",
       "     \"BokehJS does not appear to have successfully loaded. If loading BokehJS from CDN, this \\n\"+\n",
       "     \"may be due to a slow or bad network connection. Possible fixes:\\n\"+\n",
       "     \"</p>\\n\"+\n",
       "     \"<ul>\\n\"+\n",
       "     \"<li>re-rerun `output_notebook()` to attempt to load from CDN again, or</li>\\n\"+\n",
       "     \"<li>use INLINE resources instead, as so:</li>\\n\"+\n",
       "     \"</ul>\\n\"+\n",
       "     \"<code>\\n\"+\n",
       "     \"from bokeh.resources import INLINE\\n\"+\n",
       "     \"output_notebook(resources=INLINE)\\n\"+\n",
       "     \"</code>\\n\"+\n",
       "     \"</div>\"}};\n",
       "\n",
       "  function display_loaded() {\n",
       "    const el = document.getElementById(\"1114\");\n",
       "    if (el != null) {\n",
       "      el.textContent = \"BokehJS is loading...\";\n",
       "    }\n",
       "    if (root.Bokeh !== undefined) {\n",
       "      if (el != null) {\n",
       "        el.textContent = \"BokehJS \" + root.Bokeh.version + \" successfully loaded.\";\n",
       "      }\n",
       "    } else if (Date.now() < root._bokeh_timeout) {\n",
       "      setTimeout(display_loaded, 100)\n",
       "    }\n",
       "  }\n",
       "\n",
       "\n",
       "  function run_callbacks() {\n",
       "    try {\n",
       "      root._bokeh_onload_callbacks.forEach(function(callback) {\n",
       "        if (callback != null)\n",
       "          callback();\n",
       "      });\n",
       "    } finally {\n",
       "      delete root._bokeh_onload_callbacks\n",
       "    }\n",
       "    console.debug(\"Bokeh: all callbacks have finished\");\n",
       "  }\n",
       "\n",
       "  function load_libs(css_urls, js_urls, callback) {\n",
       "    if (css_urls == null) css_urls = [];\n",
       "    if (js_urls == null) js_urls = [];\n",
       "\n",
       "    root._bokeh_onload_callbacks.push(callback);\n",
       "    if (root._bokeh_is_loading > 0) {\n",
       "      console.debug(\"Bokeh: BokehJS is being loaded, scheduling callback at\", now());\n",
       "      return null;\n",
       "    }\n",
       "    if (js_urls == null || js_urls.length === 0) {\n",
       "      run_callbacks();\n",
       "      return null;\n",
       "    }\n",
       "    console.debug(\"Bokeh: BokehJS not loaded, scheduling load and callback at\", now());\n",
       "    root._bokeh_is_loading = css_urls.length + js_urls.length;\n",
       "\n",
       "    function on_load() {\n",
       "      root._bokeh_is_loading--;\n",
       "      if (root._bokeh_is_loading === 0) {\n",
       "        console.debug(\"Bokeh: all BokehJS libraries/stylesheets loaded\");\n",
       "        run_callbacks()\n",
       "      }\n",
       "    }\n",
       "\n",
       "    function on_error(url) {\n",
       "      console.error(\"failed to load \" + url);\n",
       "    }\n",
       "\n",
       "    for (let i = 0; i < css_urls.length; i++) {\n",
       "      const url = css_urls[i];\n",
       "      const element = document.createElement(\"link\");\n",
       "      element.onload = on_load;\n",
       "      element.onerror = on_error.bind(null, url);\n",
       "      element.rel = \"stylesheet\";\n",
       "      element.type = \"text/css\";\n",
       "      element.href = url;\n",
       "      console.debug(\"Bokeh: injecting link tag for BokehJS stylesheet: \", url);\n",
       "      document.body.appendChild(element);\n",
       "    }\n",
       "\n",
       "    for (let i = 0; i < js_urls.length; i++) {\n",
       "      const url = js_urls[i];\n",
       "      const element = document.createElement('script');\n",
       "      element.onload = on_load;\n",
       "      element.onerror = on_error.bind(null, url);\n",
       "      element.async = false;\n",
       "      element.src = url;\n",
       "      console.debug(\"Bokeh: injecting script tag for BokehJS library: \", url);\n",
       "      document.head.appendChild(element);\n",
       "    }\n",
       "  };\n",
       "\n",
       "  function inject_raw_css(css) {\n",
       "    const element = document.createElement(\"style\");\n",
       "    element.appendChild(document.createTextNode(css));\n",
       "    document.body.appendChild(element);\n",
       "  }\n",
       "\n",
       "  \n",
       "  const js_urls = [\"https://cdn.bokeh.org/bokeh/release/bokeh-2.4.2.min.js\", \"https://cdn.bokeh.org/bokeh/release/bokeh-gl-2.4.2.min.js\", \"https://cdn.bokeh.org/bokeh/release/bokeh-widgets-2.4.2.min.js\", \"https://cdn.bokeh.org/bokeh/release/bokeh-tables-2.4.2.min.js\", \"https://cdn.bokeh.org/bokeh/release/bokeh-mathjax-2.4.2.min.js\"];\n",
       "  const css_urls = [];\n",
       "  \n",
       "\n",
       "  const inline_js = [\n",
       "    function(Bokeh) {\n",
       "      Bokeh.set_log_level(\"info\");\n",
       "    },\n",
       "    function(Bokeh) {\n",
       "    \n",
       "    \n",
       "    }\n",
       "  ];\n",
       "\n",
       "  function run_inline_js() {\n",
       "    \n",
       "    if (root.Bokeh !== undefined || force === true) {\n",
       "      \n",
       "    for (let i = 0; i < inline_js.length; i++) {\n",
       "      inline_js[i].call(root, root.Bokeh);\n",
       "    }\n",
       "    if (force === true) {\n",
       "        display_loaded();\n",
       "      }} else if (Date.now() < root._bokeh_timeout) {\n",
       "      setTimeout(run_inline_js, 100);\n",
       "    } else if (!root._bokeh_failed_load) {\n",
       "      console.log(\"Bokeh: BokehJS failed to load within specified timeout.\");\n",
       "      root._bokeh_failed_load = true;\n",
       "    } else if (force !== true) {\n",
       "      const cell = $(document.getElementById(\"1114\")).parents('.cell').data().cell;\n",
       "      cell.output_area.append_execute_result(NB_LOAD_WARNING)\n",
       "    }\n",
       "\n",
       "  }\n",
       "\n",
       "  if (root._bokeh_is_loading === 0) {\n",
       "    console.debug(\"Bokeh: BokehJS loaded, going straight to plotting\");\n",
       "    run_inline_js();\n",
       "  } else {\n",
       "    load_libs(css_urls, js_urls, function() {\n",
       "      console.debug(\"Bokeh: BokehJS plotting callback run at\", now());\n",
       "      run_inline_js();\n",
       "    });\n",
       "  }\n",
       "}(window));"
      ],
      "application/vnd.bokehjs_load.v0+json": "\n(function(root) {\n  function now() {\n    return new Date();\n  }\n\n  const force = true;\n\n  if (typeof root._bokeh_onload_callbacks === \"undefined\" || force === true) {\n    root._bokeh_onload_callbacks = [];\n    root._bokeh_is_loading = undefined;\n  }\n\n  \n\n  \n  if (typeof (root._bokeh_timeout) === \"undefined\" || force === true) {\n    root._bokeh_timeout = Date.now() + 5000;\n    root._bokeh_failed_load = false;\n  }\n\n  const NB_LOAD_WARNING = {'data': {'text/html':\n     \"<div style='background-color: #fdd'>\\n\"+\n     \"<p>\\n\"+\n     \"BokehJS does not appear to have successfully loaded. If loading BokehJS from CDN, this \\n\"+\n     \"may be due to a slow or bad network connection. Possible fixes:\\n\"+\n     \"</p>\\n\"+\n     \"<ul>\\n\"+\n     \"<li>re-rerun `output_notebook()` to attempt to load from CDN again, or</li>\\n\"+\n     \"<li>use INLINE resources instead, as so:</li>\\n\"+\n     \"</ul>\\n\"+\n     \"<code>\\n\"+\n     \"from bokeh.resources import INLINE\\n\"+\n     \"output_notebook(resources=INLINE)\\n\"+\n     \"</code>\\n\"+\n     \"</div>\"}};\n\n  function display_loaded() {\n    const el = document.getElementById(\"1114\");\n    if (el != null) {\n      el.textContent = \"BokehJS is loading...\";\n    }\n    if (root.Bokeh !== undefined) {\n      if (el != null) {\n        el.textContent = \"BokehJS \" + root.Bokeh.version + \" successfully loaded.\";\n      }\n    } else if (Date.now() < root._bokeh_timeout) {\n      setTimeout(display_loaded, 100)\n    }\n  }\n\n\n  function run_callbacks() {\n    try {\n      root._bokeh_onload_callbacks.forEach(function(callback) {\n        if (callback != null)\n          callback();\n      });\n    } finally {\n      delete root._bokeh_onload_callbacks\n    }\n    console.debug(\"Bokeh: all callbacks have finished\");\n  }\n\n  function load_libs(css_urls, js_urls, callback) {\n    if (css_urls == null) css_urls = [];\n    if (js_urls == null) js_urls = [];\n\n    root._bokeh_onload_callbacks.push(callback);\n    if (root._bokeh_is_loading > 0) {\n      console.debug(\"Bokeh: BokehJS is being loaded, scheduling callback at\", now());\n      return null;\n    }\n    if (js_urls == null || js_urls.length === 0) {\n      run_callbacks();\n      return null;\n    }\n    console.debug(\"Bokeh: BokehJS not loaded, scheduling load and callback at\", now());\n    root._bokeh_is_loading = css_urls.length + js_urls.length;\n\n    function on_load() {\n      root._bokeh_is_loading--;\n      if (root._bokeh_is_loading === 0) {\n        console.debug(\"Bokeh: all BokehJS libraries/stylesheets loaded\");\n        run_callbacks()\n      }\n    }\n\n    function on_error(url) {\n      console.error(\"failed to load \" + url);\n    }\n\n    for (let i = 0; i < css_urls.length; i++) {\n      const url = css_urls[i];\n      const element = document.createElement(\"link\");\n      element.onload = on_load;\n      element.onerror = on_error.bind(null, url);\n      element.rel = \"stylesheet\";\n      element.type = \"text/css\";\n      element.href = url;\n      console.debug(\"Bokeh: injecting link tag for BokehJS stylesheet: \", url);\n      document.body.appendChild(element);\n    }\n\n    for (let i = 0; i < js_urls.length; i++) {\n      const url = js_urls[i];\n      const element = document.createElement('script');\n      element.onload = on_load;\n      element.onerror = on_error.bind(null, url);\n      element.async = false;\n      element.src = url;\n      console.debug(\"Bokeh: injecting script tag for BokehJS library: \", url);\n      document.head.appendChild(element);\n    }\n  };\n\n  function inject_raw_css(css) {\n    const element = document.createElement(\"style\");\n    element.appendChild(document.createTextNode(css));\n    document.body.appendChild(element);\n  }\n\n  \n  const js_urls = [\"https://cdn.bokeh.org/bokeh/release/bokeh-2.4.2.min.js\", \"https://cdn.bokeh.org/bokeh/release/bokeh-gl-2.4.2.min.js\", \"https://cdn.bokeh.org/bokeh/release/bokeh-widgets-2.4.2.min.js\", \"https://cdn.bokeh.org/bokeh/release/bokeh-tables-2.4.2.min.js\", \"https://cdn.bokeh.org/bokeh/release/bokeh-mathjax-2.4.2.min.js\"];\n  const css_urls = [];\n  \n\n  const inline_js = [\n    function(Bokeh) {\n      Bokeh.set_log_level(\"info\");\n    },\n    function(Bokeh) {\n    \n    \n    }\n  ];\n\n  function run_inline_js() {\n    \n    if (root.Bokeh !== undefined || force === true) {\n      \n    for (let i = 0; i < inline_js.length; i++) {\n      inline_js[i].call(root, root.Bokeh);\n    }\n    if (force === true) {\n        display_loaded();\n      }} else if (Date.now() < root._bokeh_timeout) {\n      setTimeout(run_inline_js, 100);\n    } else if (!root._bokeh_failed_load) {\n      console.log(\"Bokeh: BokehJS failed to load within specified timeout.\");\n      root._bokeh_failed_load = true;\n    } else if (force !== true) {\n      const cell = $(document.getElementById(\"1114\")).parents('.cell').data().cell;\n      cell.output_area.append_execute_result(NB_LOAD_WARNING)\n    }\n\n  }\n\n  if (root._bokeh_is_loading === 0) {\n    console.debug(\"Bokeh: BokehJS loaded, going straight to plotting\");\n    run_inline_js();\n  } else {\n    load_libs(css_urls, js_urls, function() {\n      console.debug(\"Bokeh: BokehJS plotting callback run at\", now());\n      run_inline_js();\n    });\n  }\n}(window));"
     },
     "metadata": {},
     "output_type": "display_data"
    }
   ],
   "source": [
    "#Bokeh maps are in mercator. Convert lat lon fields to mercator units for plotting\n",
    "\n",
    "def wgs84_to_web_mercator(df, lon, lat):\n",
    "    \"\"\"Converts decimal longitude/latitude to Web Mercator format\"\"\"\n",
    "    k = 6378137\n",
    "    df[\"x\"] = df[lon] * (k * np.pi/180.0)\n",
    "    df[\"y\"] = np.log(np.tan((90 + df[lat]) * np.pi/360.0)) * k\n",
    "    return df\n",
    "\n",
    "df=wgs84_to_web_mercator(data_2,'longitude','latitude')\n",
    "\n",
    "#Establishing a zoom scale for the map. The scale variable will also determine proportions for hexbins and bubble maps so that everything looks visually appealing. \n",
    "\n",
    "scale=2000\n",
    "x=df['x']\n",
    "y=df['y']\n",
    "\n",
    "#The range for the map extents is derived from the lat/lon fields. This way the map is automatically centered on the plot elements.\n",
    "\n",
    "x_min=int(x.mean() - (scale * 350))\n",
    "x_max=int(x.mean() + (scale * 350))\n",
    "y_min=int(y.mean() - (scale * 350))\n",
    "y_max=int(y.mean() + (scale * 350))\n",
    "\n",
    "#Defining the map tiles to use. I use OSM, but you can also use ESRI images or google street maps.\n",
    "\n",
    "tile_provider=get_provider(OSM)\n",
    "\n",
    "#Establish the bokeh plot object and add the map tile as an underlay. Hide x and y axis.\n",
    "\n",
    "plot=figure(\n",
    "    title='2019 Iraq Conflict Events',\n",
    "    match_aspect=True,\n",
    "    tools='wheel_zoom,pan,reset,save',\n",
    "    x_range=(x_min, x_max),\n",
    "    y_range=(y_min, y_max),\n",
    "    x_axis_type='mercator',\n",
    "    y_axis_type='mercator',\n",
    "    width=500\n",
    "    )\n",
    "\n",
    "plot.grid.visible=True\n",
    "\n",
    "map=plot.add_tile(tile_provider)\n",
    "map.level='underlay'\n",
    "\n",
    "plot.xaxis.visible = False\n",
    "plot.yaxis.visible=False\n",
    "plot.title.text_font_size=\"20px\"\n",
    "\n",
    "output_notebook()"
   ]
  },
  {
   "cell_type": "code",
   "execution_count": 308,
   "id": "74bd74d5",
   "metadata": {},
   "outputs": [],
   "source": [
    "def hex_map(plot,df, scale,leg_label='Hexbin Heatmap'):\n",
    "  r,bins=plot.hexbin(x,y,size=scale*10,hover_color='pink',hover_alpha=0.8,legend_label=leg_label)\n",
    "  hex_hover = HoverTool(tooltips=[('count','@c')],mode='mouse',point_policy='follow_mouse',renderers=[r])\n",
    "  hex_hover.renderers.append(r)\n",
    "  plot.tools.append(hex_hover)\n",
    "  \n",
    "  plot.legend.location = \"top_right\"\n",
    "  plot.legend.click_policy=\"hide\""
   ]
  },
  {
   "cell_type": "code",
   "execution_count": 310,
   "id": "ffde9b8a",
   "metadata": {},
   "outputs": [],
   "source": [
    "#Create the hexbin map\n",
    "hex_map(plot=plot,\n",
    "        df=df, \n",
    "        scale=scale,\n",
    "        leg_label='Iraq Conflict Events by Number of Events')"
   ]
  },
  {
   "cell_type": "code",
   "execution_count": null,
   "id": "e3ab7fd5",
   "metadata": {},
   "outputs": [],
   "source": []
  }
 ],
 "metadata": {
  "kernelspec": {
   "display_name": "Python 3 (ipykernel)",
   "language": "python",
   "name": "python3"
  },
  "language_info": {
   "codemirror_mode": {
    "name": "ipython",
    "version": 3
   },
   "file_extension": ".py",
   "mimetype": "text/x-python",
   "name": "python",
   "nbconvert_exporter": "python",
   "pygments_lexer": "ipython3",
   "version": "3.8.12"
  },
  "toc": {
   "base_numbering": 1,
   "nav_menu": {},
   "number_sections": true,
   "sideBar": true,
   "skip_h1_title": false,
   "title_cell": "Table of Contents",
   "title_sidebar": "Contents",
   "toc_cell": false,
   "toc_position": {},
   "toc_section_display": true,
   "toc_window_display": false
  }
 },
 "nbformat": 4,
 "nbformat_minor": 5
}
