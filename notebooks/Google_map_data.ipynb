{
 "cells": [
  {
   "cell_type": "markdown",
   "id": "1d82781b-7181-4075-9b07-a6d249fdda0e",
   "metadata": {},
   "source": [
    "## Analysis of google reviews"
   ]
  },
  {
   "cell_type": "code",
   "execution_count": 240,
   "id": "03bc4296-64af-4954-b779-2492127a4b98",
   "metadata": {},
   "outputs": [],
   "source": [
    "import pandas as pd\n",
    "import pickle\n",
    "import pandas as pd\n",
    "from nltk.tokenize import word_tokenize\n",
    "from nltk.corpus import stopwords \n",
    "import string\n",
    "from sklearn.naive_bayes import MultinomialNB"
   ]
  },
  {
   "cell_type": "markdown",
   "id": "28550321-9d57-4062-bca9-4655538895a8",
   "metadata": {},
   "source": [
    "### import data and drop columns "
   ]
  },
  {
   "cell_type": "code",
   "execution_count": null,
   "id": "7969893e-ada5-437d-8b48-02121cf5979e",
   "metadata": {},
   "outputs": [],
   "source": []
  },
  {
   "cell_type": "code",
   "execution_count": 244,
   "id": "64a5400b-6726-4bb5-9f8e-2c7858e46fc3",
   "metadata": {},
   "outputs": [],
   "source": [
    "df = pd.read_csv(\"../raw_data/reviews.csv\", header=None)\n",
    "\n",
    "df.columns = [\"Index\", \"Restaurant\", \"Reviewer\", \"Score\", \"When\", \"Review\"]\n",
    "\n",
    "df.drop(columns=[\"Index\", \"Reviewer\"], inplace=True)"
   ]
  },
  {
   "cell_type": "code",
   "execution_count": 245,
   "id": "f511da5f-bcb7-4976-9e30-fdaf803f64e3",
   "metadata": {},
   "outputs": [
    {
     "data": {
      "text/html": [
       "<div>\n",
       "<style scoped>\n",
       "    .dataframe tbody tr th:only-of-type {\n",
       "        vertical-align: middle;\n",
       "    }\n",
       "\n",
       "    .dataframe tbody tr th {\n",
       "        vertical-align: top;\n",
       "    }\n",
       "\n",
       "    .dataframe thead th {\n",
       "        text-align: right;\n",
       "    }\n",
       "</style>\n",
       "<table border=\"1\" class=\"dataframe\">\n",
       "  <thead>\n",
       "    <tr style=\"text-align: right;\">\n",
       "      <th></th>\n",
       "      <th>Restaurant</th>\n",
       "      <th>Score</th>\n",
       "      <th>When</th>\n",
       "      <th>Review</th>\n",
       "    </tr>\n",
       "  </thead>\n",
       "  <tbody>\n",
       "    <tr>\n",
       "      <th>3000</th>\n",
       "      <td>Darshan Nepal</td>\n",
       "      <td>Classificação: 4,4 de 5,</td>\n",
       "      <td>há 3 anos</td>\n",
       "      <td>(Traduzido pelo Google) Ótimo restaurante indi...</td>\n",
       "    </tr>\n",
       "    <tr>\n",
       "      <th>3001</th>\n",
       "      <td>Darshan Nepal</td>\n",
       "      <td>Classificação: 4,1 de 5,</td>\n",
       "      <td>há 2 meses</td>\n",
       "      <td>(Traduzido pelo Google) Cancelou a reserva 10 ...</td>\n",
       "    </tr>\n",
       "    <tr>\n",
       "      <th>3002</th>\n",
       "      <td>Darshan Nepal</td>\n",
       "      <td>Classificação: 5,0 de 5,</td>\n",
       "      <td>há 4 meses</td>\n",
       "      <td>(Traduzido pelo Google) Comida saborosa e serv...</td>\n",
       "    </tr>\n",
       "    <tr>\n",
       "      <th>3003</th>\n",
       "      <td>Darshan Nepal</td>\n",
       "      <td>Classificação: 4,6 de 5,</td>\n",
       "      <td>há um ano</td>\n",
       "      <td>(Traduzido pelo Google) Muito bom pequeno rest...</td>\n",
       "    </tr>\n",
       "    <tr>\n",
       "      <th>3004</th>\n",
       "      <td>Darshan Nepal</td>\n",
       "      <td>Classificação: 4,6 de 5,</td>\n",
       "      <td>há 3 anos</td>\n",
       "      <td>(Traduzido pelo Google) Que serviço! Altamente...</td>\n",
       "    </tr>\n",
       "  </tbody>\n",
       "</table>\n",
       "</div>"
      ],
      "text/plain": [
       "         Restaurant                     Score        When  \\\n",
       "3000  Darshan Nepal  Classificação: 4,4 de 5,   há 3 anos   \n",
       "3001  Darshan Nepal  Classificação: 4,1 de 5,  há 2 meses   \n",
       "3002  Darshan Nepal  Classificação: 5,0 de 5,  há 4 meses   \n",
       "3003  Darshan Nepal  Classificação: 4,6 de 5,   há um ano   \n",
       "3004  Darshan Nepal  Classificação: 4,6 de 5,   há 3 anos   \n",
       "\n",
       "                                                 Review  \n",
       "3000  (Traduzido pelo Google) Ótimo restaurante indi...  \n",
       "3001  (Traduzido pelo Google) Cancelou a reserva 10 ...  \n",
       "3002  (Traduzido pelo Google) Comida saborosa e serv...  \n",
       "3003  (Traduzido pelo Google) Muito bom pequeno rest...  \n",
       "3004  (Traduzido pelo Google) Que serviço! Altamente...  "
      ]
     },
     "execution_count": 245,
     "metadata": {},
     "output_type": "execute_result"
    }
   ],
   "source": [
    "df.iloc[3000:3005]"
   ]
  },
  {
   "cell_type": "code",
   "execution_count": 246,
   "id": "86234fd8-459c-463a-86ce-9e1abdaab8bf",
   "metadata": {},
   "outputs": [
    {
     "data": {
      "text/plain": [
       "(90732, 4)"
      ]
     },
     "execution_count": 246,
     "metadata": {},
     "output_type": "execute_result"
    }
   ],
   "source": [
    "df.shape"
   ]
  },
  {
   "cell_type": "code",
   "execution_count": 247,
   "id": "9da32a78-3a27-4792-95c6-8f103efd01ef",
   "metadata": {},
   "outputs": [],
   "source": [
    "df.drop_duplicates(inplace=True)"
   ]
  },
  {
   "cell_type": "code",
   "execution_count": 248,
   "id": "65db4c10-14c6-474e-806f-e8fd2491e7e5",
   "metadata": {},
   "outputs": [
    {
     "data": {
      "text/plain": [
       "(6541, 4)"
      ]
     },
     "execution_count": 248,
     "metadata": {},
     "output_type": "execute_result"
    }
   ],
   "source": [
    "df.shape"
   ]
  },
  {
   "cell_type": "code",
   "execution_count": 249,
   "id": "67c74ea5-41f1-46ef-9e44-d11b3130708e",
   "metadata": {},
   "outputs": [],
   "source": [
    "cleaned_df = df.dropna()"
   ]
  },
  {
   "cell_type": "markdown",
   "id": "199eefd7-290f-4967-bf20-e47539470f8d",
   "metadata": {},
   "source": [
    "### Score column"
   ]
  },
  {
   "cell_type": "code",
   "execution_count": 250,
   "id": "f6ef8765-7636-450f-835e-33d499935376",
   "metadata": {},
   "outputs": [
    {
     "data": {
      "text/plain": [
       "array(['Classificação: 4,5 de 5,', 'Classificação: 4,0 de 5,',\n",
       "       'Classificação: 3,5 de 5,', 'Classificação: 3,0 de 5,',\n",
       "       'Classificação: 2,5 de 5,', 'Classificação: 2,0 de 5,',\n",
       "       'Classificação: 4,4 de 5,', 'Classificação: 4,1 de 5,',\n",
       "       'Classificação: 5,0 de 5,', 'Classificação: 4,6 de 5,',\n",
       "       'Classificação: 4,8 de 5,', 'Classificação: 4,7 de 5,',\n",
       "       'Classificação: 1,0 de 5,', 'Classificação: 4,3 de 5,',\n",
       "       'Classificação: 4,2 de 5,'], dtype=object)"
      ]
     },
     "execution_count": 250,
     "metadata": {},
     "output_type": "execute_result"
    }
   ],
   "source": [
    "cleaned_df.Score.unique()"
   ]
  },
  {
   "cell_type": "code",
   "execution_count": 251,
   "id": "7928d65f-f49f-496d-ac06-5657d42bae4c",
   "metadata": {},
   "outputs": [],
   "source": [
    "def extract_score(series):\n",
    "    return float(series[15:18].replace(\",\",\".\"))"
   ]
  },
  {
   "cell_type": "code",
   "execution_count": 252,
   "id": "14f24cd6-b604-4a9b-8741-e8b49f36e819",
   "metadata": {},
   "outputs": [
    {
     "name": "stderr",
     "output_type": "stream",
     "text": [
      "/tmp/ipykernel_565/3020042498.py:1: SettingWithCopyWarning: \n",
      "A value is trying to be set on a copy of a slice from a DataFrame.\n",
      "Try using .loc[row_indexer,col_indexer] = value instead\n",
      "\n",
      "See the caveats in the documentation: https://pandas.pydata.org/pandas-docs/stable/user_guide/indexing.html#returning-a-view-versus-a-copy\n",
      "  cleaned_df['Score'] = cleaned_df['Score'].apply(extract_score)\n"
     ]
    }
   ],
   "source": [
    "cleaned_df['Score'] = cleaned_df['Score'].apply(extract_score)"
   ]
  },
  {
   "cell_type": "code",
   "execution_count": 253,
   "id": "c11a333e-3258-4546-ba88-e67ea725a7fb",
   "metadata": {
    "tags": []
   },
   "outputs": [
    {
     "data": {
      "text/html": [
       "<div>\n",
       "<style scoped>\n",
       "    .dataframe tbody tr th:only-of-type {\n",
       "        vertical-align: middle;\n",
       "    }\n",
       "\n",
       "    .dataframe tbody tr th {\n",
       "        vertical-align: top;\n",
       "    }\n",
       "\n",
       "    .dataframe thead th {\n",
       "        text-align: right;\n",
       "    }\n",
       "</style>\n",
       "<table border=\"1\" class=\"dataframe\">\n",
       "  <thead>\n",
       "    <tr style=\"text-align: right;\">\n",
       "      <th></th>\n",
       "      <th>Restaurant</th>\n",
       "      <th>Score</th>\n",
       "      <th>When</th>\n",
       "      <th>Review</th>\n",
       "    </tr>\n",
       "  </thead>\n",
       "  <tbody>\n",
       "    <tr>\n",
       "      <th>0</th>\n",
       "      <td>Darshan Nepal</td>\n",
       "      <td>4.5</td>\n",
       "      <td>há um mês</td>\n",
       "      <td>(Traduzido pelo Google) Muito boa comida, boa ...</td>\n",
       "    </tr>\n",
       "    <tr>\n",
       "      <th>1</th>\n",
       "      <td>Darshan Nepal</td>\n",
       "      <td>4.0</td>\n",
       "      <td>há 3 meses</td>\n",
       "      <td>(Traduzido pelo Google) Voe para Lisboa se sen...</td>\n",
       "    </tr>\n",
       "    <tr>\n",
       "      <th>2</th>\n",
       "      <td>Darshan Nepal</td>\n",
       "      <td>3.5</td>\n",
       "      <td>há 2 meses</td>\n",
       "      <td>(Traduzido pelo Google) Comida deliciosa e uma...</td>\n",
       "    </tr>\n",
       "    <tr>\n",
       "      <th>3</th>\n",
       "      <td>Darshan Nepal</td>\n",
       "      <td>3.0</td>\n",
       "      <td>há um mês</td>\n",
       "      <td>(Traduzido pelo Google) Muito boa comida, boa ...</td>\n",
       "    </tr>\n",
       "    <tr>\n",
       "      <th>4</th>\n",
       "      <td>Darshan Nepal</td>\n",
       "      <td>2.5</td>\n",
       "      <td>há 3 meses</td>\n",
       "      <td>(Traduzido pelo Google) Voe para Lisboa se sen...</td>\n",
       "    </tr>\n",
       "  </tbody>\n",
       "</table>\n",
       "</div>"
      ],
      "text/plain": [
       "      Restaurant  Score        When  \\\n",
       "0  Darshan Nepal    4.5   há um mês   \n",
       "1  Darshan Nepal    4.0  há 3 meses   \n",
       "2  Darshan Nepal    3.5  há 2 meses   \n",
       "3  Darshan Nepal    3.0   há um mês   \n",
       "4  Darshan Nepal    2.5  há 3 meses   \n",
       "\n",
       "                                              Review  \n",
       "0  (Traduzido pelo Google) Muito boa comida, boa ...  \n",
       "1  (Traduzido pelo Google) Voe para Lisboa se sen...  \n",
       "2  (Traduzido pelo Google) Comida deliciosa e uma...  \n",
       "3  (Traduzido pelo Google) Muito boa comida, boa ...  \n",
       "4  (Traduzido pelo Google) Voe para Lisboa se sen...  "
      ]
     },
     "execution_count": 253,
     "metadata": {},
     "output_type": "execute_result"
    }
   ],
   "source": [
    "cleaned_df.head()"
   ]
  },
  {
   "cell_type": "code",
   "execution_count": 254,
   "id": "056b646d-2e36-48a9-8c97-2d99e1739bb0",
   "metadata": {},
   "outputs": [
    {
     "data": {
      "text/plain": [
       "array([[<AxesSubplot:title={'center':'Score'}>]], dtype=object)"
      ]
     },
     "execution_count": 254,
     "metadata": {},
     "output_type": "execute_result"
    },
    {
     "data": {
      "image/png": "[encoded data removed]",
      "text/plain": [
       "<Figure size 432x288 with 1 Axes>"
      ]
     },
     "metadata": {
      "needs_background": "light"
     },
     "output_type": "display_data"
    }
   ],
   "source": [
    "cleaned_df.hist()"
   ]
  },
  {
   "cell_type": "markdown",
   "id": "fb31f0c9-4fc8-43b3-b8d6-c51a94687b83",
   "metadata": {},
   "source": [
    "### Clean Reviews"
   ]
  },
  {
   "cell_type": "code",
   "execution_count": 255,
   "id": "cf1fbc20-6b1c-4389-99af-8226dd235ac7",
   "metadata": {},
   "outputs": [],
   "source": [
    "def remove_google_trans_comment(series):\n",
    "    if \"(Traduzido pelo Google)\" in series:\n",
    "        return series.replace(\"(Traduzido pelo Google) \",\"\")\n",
    "    else:\n",
    "        return series    "
   ]
  },
  {
   "cell_type": "code",
   "execution_count": 256,
   "id": "29c5d307-b8c2-4ce8-a477-5131faf4be5e",
   "metadata": {},
   "outputs": [
    {
     "name": "stderr",
     "output_type": "stream",
     "text": [
      "/home/jamie/.pyenv/versions/3.8.12/envs/lewagon/lib/python3.8/site-packages/pandas/core/generic.py:5516: SettingWithCopyWarning: \n",
      "A value is trying to be set on a copy of a slice from a DataFrame.\n",
      "Try using .loc[row_indexer,col_indexer] = value instead\n",
      "\n",
      "See the caveats in the documentation: https://pandas.pydata.org/pandas-docs/stable/user_guide/indexing.html#returning-a-view-versus-a-copy\n",
      "  self[name] = value\n"
     ]
    }
   ],
   "source": [
    "cleaned_df.Review = cleaned_df.Review.apply(remove_google_trans_comment)"
   ]
  },
  {
   "cell_type": "code",
   "execution_count": 257,
   "id": "99042be1-17cd-4733-8923-a9d90ac488bb",
   "metadata": {},
   "outputs": [
    {
     "data": {
      "text/html": [
       "<div>\n",
       "<style scoped>\n",
       "    .dataframe tbody tr th:only-of-type {\n",
       "        vertical-align: middle;\n",
       "    }\n",
       "\n",
       "    .dataframe tbody tr th {\n",
       "        vertical-align: top;\n",
       "    }\n",
       "\n",
       "    .dataframe thead th {\n",
       "        text-align: right;\n",
       "    }\n",
       "</style>\n",
       "<table border=\"1\" class=\"dataframe\">\n",
       "  <thead>\n",
       "    <tr style=\"text-align: right;\">\n",
       "      <th></th>\n",
       "      <th>Restaurant</th>\n",
       "      <th>Score</th>\n",
       "      <th>When</th>\n",
       "      <th>Review</th>\n",
       "    </tr>\n",
       "  </thead>\n",
       "  <tbody>\n",
       "    <tr>\n",
       "      <th>0</th>\n",
       "      <td>Darshan Nepal</td>\n",
       "      <td>4.5</td>\n",
       "      <td>há um mês</td>\n",
       "      <td>Muito boa comida, boa garçonete de senhora. Pe...</td>\n",
       "    </tr>\n",
       "    <tr>\n",
       "      <th>1</th>\n",
       "      <td>Darshan Nepal</td>\n",
       "      <td>4.0</td>\n",
       "      <td>há 3 meses</td>\n",
       "      <td>Voe para Lisboa se sentir falta da autêntica c...</td>\n",
       "    </tr>\n",
       "    <tr>\n",
       "      <th>2</th>\n",
       "      <td>Darshan Nepal</td>\n",
       "      <td>3.5</td>\n",
       "      <td>há 2 meses</td>\n",
       "      <td>Comida deliciosa e uma equipe muito simpática ...</td>\n",
       "    </tr>\n",
       "    <tr>\n",
       "      <th>3</th>\n",
       "      <td>Darshan Nepal</td>\n",
       "      <td>3.0</td>\n",
       "      <td>há um mês</td>\n",
       "      <td>Muito boa comida, boa garçonete de senhora. Pe...</td>\n",
       "    </tr>\n",
       "    <tr>\n",
       "      <th>4</th>\n",
       "      <td>Darshan Nepal</td>\n",
       "      <td>2.5</td>\n",
       "      <td>há 3 meses</td>\n",
       "      <td>Voe para Lisboa se sentir falta da autêntica c...</td>\n",
       "    </tr>\n",
       "    <tr>\n",
       "      <th>...</th>\n",
       "      <td>...</td>\n",
       "      <td>...</td>\n",
       "      <td>...</td>\n",
       "      <td>...</td>\n",
       "    </tr>\n",
       "    <tr>\n",
       "      <th>6305</th>\n",
       "      <td>Spice Hut Tandoori</td>\n",
       "      <td>4.0</td>\n",
       "      <td>há 3 anos</td>\n",
       "      <td>O melhor em qualidade e boas-vindas\\n\\n(Origin...</td>\n",
       "    </tr>\n",
       "    <tr>\n",
       "      <th>6306</th>\n",
       "      <td>Spice Hut Tandoori</td>\n",
       "      <td>5.0</td>\n",
       "      <td>há um ano</td>\n",
       "      <td>Bom</td>\n",
       "    </tr>\n",
       "    <tr>\n",
       "      <th>6307</th>\n",
       "      <td>Spice Hut Tandoori</td>\n",
       "      <td>4.0</td>\n",
       "      <td>há 3 anos</td>\n",
       "      <td>Tratamento impecável e comida imbatível\\n\\n(Or...</td>\n",
       "    </tr>\n",
       "    <tr>\n",
       "      <th>6308</th>\n",
       "      <td>Spice Hut Tandoori</td>\n",
       "      <td>5.0</td>\n",
       "      <td>há 4 anos</td>\n",
       "      <td>Super bom chefe\\n\\n(Original)\\nPatron super sympa</td>\n",
       "    </tr>\n",
       "    <tr>\n",
       "      <th>6309</th>\n",
       "      <td>Spice Hut Tandoori</td>\n",
       "      <td>5.0</td>\n",
       "      <td>há 3 anos</td>\n",
       "      <td>Um momento memorável\\n\\n(Original)\\nUn moment ...</td>\n",
       "    </tr>\n",
       "  </tbody>\n",
       "</table>\n",
       "<p>6310 rows × 4 columns</p>\n",
       "</div>"
      ],
      "text/plain": [
       "              Restaurant  Score        When  \\\n",
       "0          Darshan Nepal    4.5   há um mês   \n",
       "1          Darshan Nepal    4.0  há 3 meses   \n",
       "2          Darshan Nepal    3.5  há 2 meses   \n",
       "3          Darshan Nepal    3.0   há um mês   \n",
       "4          Darshan Nepal    2.5  há 3 meses   \n",
       "...                  ...    ...         ...   \n",
       "6305  Spice Hut Tandoori    4.0   há 3 anos   \n",
       "6306  Spice Hut Tandoori    5.0   há um ano   \n",
       "6307  Spice Hut Tandoori    4.0   há 3 anos   \n",
       "6308  Spice Hut Tandoori    5.0   há 4 anos   \n",
       "6309  Spice Hut Tandoori    5.0   há 3 anos   \n",
       "\n",
       "                                                 Review  \n",
       "0     Muito boa comida, boa garçonete de senhora. Pe...  \n",
       "1     Voe para Lisboa se sentir falta da autêntica c...  \n",
       "2     Comida deliciosa e uma equipe muito simpática ...  \n",
       "3     Muito boa comida, boa garçonete de senhora. Pe...  \n",
       "4     Voe para Lisboa se sentir falta da autêntica c...  \n",
       "...                                                 ...  \n",
       "6305  O melhor em qualidade e boas-vindas\\n\\n(Origin...  \n",
       "6306                                                Bom  \n",
       "6307  Tratamento impecável e comida imbatível\\n\\n(Or...  \n",
       "6308  Super bom chefe\\n\\n(Original)\\nPatron super sympa  \n",
       "6309  Um momento memorável\\n\\n(Original)\\nUn moment ...  \n",
       "\n",
       "[6310 rows x 4 columns]"
      ]
     },
     "execution_count": 257,
     "metadata": {},
     "output_type": "execute_result"
    }
   ],
   "source": [
    "cleaned_df.reset_index(drop=True)"
   ]
  },
  {
   "cell_type": "markdown",
   "id": "80ad718c-3e25-4a94-a5ed-6b992219ad0c",
   "metadata": {},
   "source": [
    "## NLP preproc"
   ]
  },
  {
   "cell_type": "code",
   "execution_count": 258,
   "id": "fb4d0d92-4c71-4dfc-8ca9-8e9ec9359185",
   "metadata": {},
   "outputs": [],
   "source": [
    "good_scores = cleaned_df[ cleaned_df.Score >=4]"
   ]
  },
  {
   "cell_type": "code",
   "execution_count": 259,
   "id": "0dd87f44-194b-4600-9cd7-2a237cfaac06",
   "metadata": {},
   "outputs": [],
   "source": [
    "bad_scores = cleaned_df[ cleaned_df.Score <4]"
   ]
  },
  {
   "cell_type": "code",
   "execution_count": 260,
   "id": "22bf8ffb-b65d-44ee-b3ba-d480181765c9",
   "metadata": {},
   "outputs": [],
   "source": [
    "def clean (text):\n",
    "    \n",
    "    for punctuation in string.punctuation:\n",
    "        text = text.replace(punctuation, ' ') # Remove Punctuation\n",
    "        \n",
    "    lowercased = text.lower() # Lower Case\n",
    "    \n",
    "    #unaccented_string = unidecode.unidecode(lowercased) # remove accents\n",
    "    \n",
    "    tokenized = word_tokenize(lowercased) # Tokenize\n",
    "    \n",
    "    words_only = [word for word in tokenized if word.isalpha()] # Remove numbers\n",
    "    \n",
    "    stop_words = set(stopwords.words('english')) # Make stopword list\n",
    "    \n",
    "    without_stopwords = [word for word in words_only if not word in stop_words] # Remove Stop Words\n",
    "    \n",
    "    return \" \".join(without_stopwords)"
   ]
  },
  {
   "cell_type": "code",
   "execution_count": 261,
   "id": "3ffba985-c287-4ed6-a6fe-7e5ab13f16fd",
   "metadata": {},
   "outputs": [
    {
     "name": "stderr",
     "output_type": "stream",
     "text": [
      "/tmp/ipykernel_565/1163277420.py:1: SettingWithCopyWarning: \n",
      "A value is trying to be set on a copy of a slice from a DataFrame.\n",
      "Try using .loc[row_indexer,col_indexer] = value instead\n",
      "\n",
      "See the caveats in the documentation: https://pandas.pydata.org/pandas-docs/stable/user_guide/indexing.html#returning-a-view-versus-a-copy\n",
      "  good_scores['cleaned_reviews'] = good_scores['Review'].apply(clean)\n"
     ]
    },
    {
     "data": {
      "text/html": [
       "<div>\n",
       "<style scoped>\n",
       "    .dataframe tbody tr th:only-of-type {\n",
       "        vertical-align: middle;\n",
       "    }\n",
       "\n",
       "    .dataframe tbody tr th {\n",
       "        vertical-align: top;\n",
       "    }\n",
       "\n",
       "    .dataframe thead th {\n",
       "        text-align: right;\n",
       "    }\n",
       "</style>\n",
       "<table border=\"1\" class=\"dataframe\">\n",
       "  <thead>\n",
       "    <tr style=\"text-align: right;\">\n",
       "      <th></th>\n",
       "      <th>Restaurant</th>\n",
       "      <th>Score</th>\n",
       "      <th>When</th>\n",
       "      <th>Review</th>\n",
       "      <th>cleaned_reviews</th>\n",
       "    </tr>\n",
       "  </thead>\n",
       "  <tbody>\n",
       "    <tr>\n",
       "      <th>0</th>\n",
       "      <td>Darshan Nepal</td>\n",
       "      <td>4.5</td>\n",
       "      <td>há um mês</td>\n",
       "      <td>Muito boa comida, boa garçonete de senhora. Pe...</td>\n",
       "      <td>muito boa comida boa garçonete de senhora pedi...</td>\n",
       "    </tr>\n",
       "    <tr>\n",
       "      <th>1</th>\n",
       "      <td>Darshan Nepal</td>\n",
       "      <td>4.0</td>\n",
       "      <td>há 3 meses</td>\n",
       "      <td>Voe para Lisboa se sentir falta da autêntica c...</td>\n",
       "      <td>voe para lisboa se sentir falta da autêntica c...</td>\n",
       "    </tr>\n",
       "    <tr>\n",
       "      <th>6</th>\n",
       "      <td>Darshan Nepal</td>\n",
       "      <td>4.4</td>\n",
       "      <td>há um mês</td>\n",
       "      <td>Que lugar ótimo para relaxar com comida tranqu...</td>\n",
       "      <td>que lugar ótimo para relaxar com comida tranqu...</td>\n",
       "    </tr>\n",
       "    <tr>\n",
       "      <th>7</th>\n",
       "      <td>Darshan Nepal</td>\n",
       "      <td>4.1</td>\n",
       "      <td>há uma semana</td>\n",
       "      <td>The foods are delicious, the place is clean an...</td>\n",
       "      <td>foods delicious place clean staff super respec...</td>\n",
       "    </tr>\n",
       "    <tr>\n",
       "      <th>8</th>\n",
       "      <td>Darshan Nepal</td>\n",
       "      <td>4.1</td>\n",
       "      <td>há um mês</td>\n",
       "      <td>Boa comida e funcionários simpáticos. A comida...</td>\n",
       "      <td>boa comida e funcionários simpáticos comida er...</td>\n",
       "    </tr>\n",
       "  </tbody>\n",
       "</table>\n",
       "</div>"
      ],
      "text/plain": [
       "      Restaurant  Score           When  \\\n",
       "0  Darshan Nepal    4.5      há um mês   \n",
       "1  Darshan Nepal    4.0     há 3 meses   \n",
       "6  Darshan Nepal    4.4      há um mês   \n",
       "7  Darshan Nepal    4.1  há uma semana   \n",
       "8  Darshan Nepal    4.1      há um mês   \n",
       "\n",
       "                                              Review  \\\n",
       "0  Muito boa comida, boa garçonete de senhora. Pe...   \n",
       "1  Voe para Lisboa se sentir falta da autêntica c...   \n",
       "6  Que lugar ótimo para relaxar com comida tranqu...   \n",
       "7  The foods are delicious, the place is clean an...   \n",
       "8  Boa comida e funcionários simpáticos. A comida...   \n",
       "\n",
       "                                     cleaned_reviews  \n",
       "0  muito boa comida boa garçonete de senhora pedi...  \n",
       "1  voe para lisboa se sentir falta da autêntica c...  \n",
       "6  que lugar ótimo para relaxar com comida tranqu...  \n",
       "7  foods delicious place clean staff super respec...  \n",
       "8  boa comida e funcionários simpáticos comida er...  "
      ]
     },
     "execution_count": 261,
     "metadata": {},
     "output_type": "execute_result"
    }
   ],
   "source": [
    "good_scores['cleaned_reviews'] = good_scores['Review'].apply(clean)\n",
    "good_scores.head()"
   ]
  },
  {
   "cell_type": "code",
   "execution_count": 262,
   "id": "283c6717-fa5c-40d4-839a-cc063eac5273",
   "metadata": {},
   "outputs": [
    {
     "name": "stderr",
     "output_type": "stream",
     "text": [
      "/tmp/ipykernel_565/3365364549.py:1: SettingWithCopyWarning: \n",
      "A value is trying to be set on a copy of a slice from a DataFrame.\n",
      "Try using .loc[row_indexer,col_indexer] = value instead\n",
      "\n",
      "See the caveats in the documentation: https://pandas.pydata.org/pandas-docs/stable/user_guide/indexing.html#returning-a-view-versus-a-copy\n",
      "  bad_scores['cleaned_reviews'] = bad_scores['Review'].apply(clean)\n"
     ]
    },
    {
     "data": {
      "text/html": [
       "<div>\n",
       "<style scoped>\n",
       "    .dataframe tbody tr th:only-of-type {\n",
       "        vertical-align: middle;\n",
       "    }\n",
       "\n",
       "    .dataframe tbody tr th {\n",
       "        vertical-align: top;\n",
       "    }\n",
       "\n",
       "    .dataframe thead th {\n",
       "        text-align: right;\n",
       "    }\n",
       "</style>\n",
       "<table border=\"1\" class=\"dataframe\">\n",
       "  <thead>\n",
       "    <tr style=\"text-align: right;\">\n",
       "      <th></th>\n",
       "      <th>Restaurant</th>\n",
       "      <th>Score</th>\n",
       "      <th>When</th>\n",
       "      <th>Review</th>\n",
       "      <th>cleaned_reviews</th>\n",
       "    </tr>\n",
       "  </thead>\n",
       "  <tbody>\n",
       "    <tr>\n",
       "      <th>2</th>\n",
       "      <td>Darshan Nepal</td>\n",
       "      <td>3.5</td>\n",
       "      <td>há 2 meses</td>\n",
       "      <td>Comida deliciosa e uma equipe muito simpática ...</td>\n",
       "      <td>comida deliciosa e uma equipe muito simpática ...</td>\n",
       "    </tr>\n",
       "    <tr>\n",
       "      <th>3</th>\n",
       "      <td>Darshan Nepal</td>\n",
       "      <td>3.0</td>\n",
       "      <td>há um mês</td>\n",
       "      <td>Muito boa comida, boa garçonete de senhora. Pe...</td>\n",
       "      <td>muito boa comida boa garçonete de senhora pedi...</td>\n",
       "    </tr>\n",
       "    <tr>\n",
       "      <th>4</th>\n",
       "      <td>Darshan Nepal</td>\n",
       "      <td>2.5</td>\n",
       "      <td>há 3 meses</td>\n",
       "      <td>Voe para Lisboa se sentir falta da autêntica c...</td>\n",
       "      <td>voe para lisboa se sentir falta da autêntica c...</td>\n",
       "    </tr>\n",
       "    <tr>\n",
       "      <th>5</th>\n",
       "      <td>Darshan Nepal</td>\n",
       "      <td>2.0</td>\n",
       "      <td>há 2 meses</td>\n",
       "      <td>Comida deliciosa e uma equipe muito simpática ...</td>\n",
       "      <td>comida deliciosa e uma equipe muito simpática ...</td>\n",
       "    </tr>\n",
       "    <tr>\n",
       "      <th>56</th>\n",
       "      <td>Darshan Nepal</td>\n",
       "      <td>3.0</td>\n",
       "      <td>há um ano</td>\n",
       "      <td>Um dos melhores restaurantes nepaleses de Lisb...</td>\n",
       "      <td>um dos melhores restaurantes nepaleses de lisb...</td>\n",
       "    </tr>\n",
       "  </tbody>\n",
       "</table>\n",
       "</div>"
      ],
      "text/plain": [
       "       Restaurant  Score        When  \\\n",
       "2   Darshan Nepal    3.5  há 2 meses   \n",
       "3   Darshan Nepal    3.0   há um mês   \n",
       "4   Darshan Nepal    2.5  há 3 meses   \n",
       "5   Darshan Nepal    2.0  há 2 meses   \n",
       "56  Darshan Nepal    3.0   há um ano   \n",
       "\n",
       "                                               Review  \\\n",
       "2   Comida deliciosa e uma equipe muito simpática ...   \n",
       "3   Muito boa comida, boa garçonete de senhora. Pe...   \n",
       "4   Voe para Lisboa se sentir falta da autêntica c...   \n",
       "5   Comida deliciosa e uma equipe muito simpática ...   \n",
       "56  Um dos melhores restaurantes nepaleses de Lisb...   \n",
       "\n",
       "                                      cleaned_reviews  \n",
       "2   comida deliciosa e uma equipe muito simpática ...  \n",
       "3   muito boa comida boa garçonete de senhora pedi...  \n",
       "4   voe para lisboa se sentir falta da autêntica c...  \n",
       "5   comida deliciosa e uma equipe muito simpática ...  \n",
       "56  um dos melhores restaurantes nepaleses de lisb...  "
      ]
     },
     "execution_count": 262,
     "metadata": {},
     "output_type": "execute_result"
    }
   ],
   "source": [
    "bad_scores['cleaned_reviews'] = bad_scores['Review'].apply(clean)\n",
    "bad_scores.head()"
   ]
  },
  {
   "cell_type": "markdown",
   "id": "4fcb53fa-bd85-4d93-9a0b-dad66c6083d2",
   "metadata": {},
   "source": [
    "## Tfidf"
   ]
  },
  {
   "cell_type": "code",
   "execution_count": 263,
   "id": "e8344dec-6c3d-4a90-b15f-ffc11687aa79",
   "metadata": {},
   "outputs": [],
   "source": [
    "from sklearn.feature_extraction.text import TfidfVectorizer\n",
    "\n",
    "# Tuned TFidfvectorizer\n",
    "def Tfidf_fit(series):\n",
    "    vec = TfidfVectorizer(ngram_range = (2,2), min_df=0.01, max_df = 0.05).fit(series)\n",
    "    return vec\n",
    "\n",
    "def transform_create_list(series):\n",
    "    vectors = Tfidf_fit(series).transform(series) # Transform text to vectors\n",
    "\n",
    "    sum_tfidf = vectors.sum(axis=0) # Sum of tfidf weighting by word\n",
    "\n",
    "    tfidf_list = [(word, sum_tfidf[0, idx]) for word, idx in     Tfidf_fit(series).vocabulary_.items()]  # Get the word and associated weight\n",
    "\n",
    "    sorted_tfidf_list =sorted(tfidf_list, key = lambda x: x[1], reverse=True)  # Sort\n",
    "\n",
    "    return sorted_tfidf_list"
   ]
  },
  {
   "cell_type": "code",
   "execution_count": 264,
   "id": "2e5dc1c2-453d-480e-800e-db76cfc56827",
   "metadata": {},
   "outputs": [
    {
     "data": {
      "text/plain": [
       "TfidfVectorizer(analyzer='word', binary=False, decode_error='strict',\n",
       "                dtype=<class 'numpy.float64'>, encoding='utf-8',\n",
       "                input='content', lowercase=True, max_df=0.05, max_features=None,\n",
       "                min_df=0.01, ngram_range=(2, 2), norm='l2', preprocessor=None,\n",
       "                smooth_idf=True, stop_words=None, strip_accents=None,\n",
       "                sublinear_tf=False, token_pattern='(?u)\\\\b\\\\w\\\\w+\\\\b',\n",
       "                tokenizer=None, use_idf=True, vocabulary=None)"
      ]
     },
     "execution_count": 264,
     "metadata": {},
     "output_type": "execute_result"
    }
   ],
   "source": [
    "Tfidf_fit(good_scores.cleaned_reviews)"
   ]
  },
  {
   "cell_type": "code",
   "execution_count": 265,
   "id": "fdb801a3-d662-489b-9545-bc881eef44ae",
   "metadata": {},
   "outputs": [
    {
     "data": {
      "text/plain": [
       "[('muito boa', 176.8788889669308),\n",
       " ('em lisboa', 169.79401188416622),\n",
       " ('comida deliciosa', 140.31197471148948),\n",
       " ('excelente comida', 129.8684381650837),\n",
       " ('comida muito', 112.42729292987775),\n",
       " ('um pouco', 111.21700253475086),\n",
       " ('comida era', 105.59968651337506),\n",
       " ('este lugar', 87.97854965618677),\n",
       " ('muito bem', 87.74704357225889),\n",
       " ('de lisboa', 86.82240450120591),\n",
       " ('comida indiana', 84.93134215288596),\n",
       " ('ótima comida', 77.56544866294374),\n",
       " ('comida serviço', 72.84837763629325),\n",
       " ('serviço muito', 72.53103784935153),\n",
       " ('muito agradável', 72.44162466580072)]"
      ]
     },
     "execution_count": 265,
     "metadata": {},
     "output_type": "execute_result"
    }
   ],
   "source": [
    "transform_create_list(good_scores.cleaned_reviews)[:15]"
   ]
  },
  {
   "cell_type": "code",
   "execution_count": 266,
   "id": "4d43d286-467f-4c49-84c5-620982ce24b7",
   "metadata": {},
   "outputs": [
    {
     "data": {
      "text/plain": [
       "TfidfVectorizer(analyzer='word', binary=False, decode_error='strict',\n",
       "                dtype=<class 'numpy.float64'>, encoding='utf-8',\n",
       "                input='content', lowercase=True, max_df=0.05, max_features=None,\n",
       "                min_df=0.01, ngram_range=(2, 2), norm='l2', preprocessor=None,\n",
       "                smooth_idf=True, stop_words=None, strip_accents=None,\n",
       "                sublinear_tf=False, token_pattern='(?u)\\\\b\\\\w\\\\w+\\\\b',\n",
       "                tokenizer=None, use_idf=True, vocabulary=None)"
      ]
     },
     "execution_count": 266,
     "metadata": {},
     "output_type": "execute_result"
    }
   ],
   "source": [
    "Tfidf_fit(bad_scores.cleaned_reviews)"
   ]
  },
  {
   "cell_type": "code",
   "execution_count": 267,
   "id": "ec6e88da-2178-4f29-bd5b-ae9ea6dfd96f",
   "metadata": {},
   "outputs": [
    {
     "data": {
      "text/plain": [
       "[('comida deliciosa', 16.67136230411481),\n",
       " ('comida indiana', 16.04512887488765),\n",
       " ('um pouco', 15.90006884244471),\n",
       " ('muito bem', 14.181006997635555),\n",
       " ('de lisboa', 14.009779830278664),\n",
       " ('com um', 13.755132094811207),\n",
       " ('excelente comida', 13.466374624784518),\n",
       " ('serviço muito', 13.427579567297242),\n",
       " ('comida era', 12.834573646515905),\n",
       " ('este lugar', 12.5088287662679),\n",
       " ('altamente recomendado', 12.346122549468364),\n",
       " ('comida muito', 11.773115651177438),\n",
       " ('que já', 11.665563769615927),\n",
       " ('este restaurante', 11.322426940208327),\n",
       " ('um restaurante', 11.032450275137796)]"
      ]
     },
     "execution_count": 267,
     "metadata": {},
     "output_type": "execute_result"
    }
   ],
   "source": [
    "transform_create_list(bad_scores.cleaned_reviews)[:15]"
   ]
  },
  {
   "cell_type": "markdown",
   "id": "4e6e2f67-cabf-43e2-acd4-76dffcca057a",
   "metadata": {},
   "source": [
    "## Multibinomial"
   ]
  },
  {
   "cell_type": "code",
   "execution_count": null,
   "id": "aa78138d-d429-4d6b-a9a6-86329b0d94b3",
   "metadata": {},
   "outputs": [],
   "source": [
    "cleaned_df"
   ]
  }
 ],
 "metadata": {
  "kernelspec": {
   "display_name": "Python 3 (ipykernel)",
   "language": "python",
   "name": "python3"
  },
  "language_info": {
   "codemirror_mode": {
    "name": "ipython",
    "version": 3
   },
   "file_extension": ".py",
   "mimetype": "text/x-python",
   "name": "python",
   "nbconvert_exporter": "python",
   "pygments_lexer": "ipython3",
   "version": "3.8.12"
  }
 },
 "nbformat": 4,
 "nbformat_minor": 5
}
