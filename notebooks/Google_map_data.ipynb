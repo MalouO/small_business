{
 "cells": [
  {
   "cell_type": "markdown",
   "id": "1d82781b-7181-4075-9b07-a6d249fdda0e",
   "metadata": {},
   "source": [
    "## Analysis of google reviews"
   ]
  },
  {
   "cell_type": "code",
   "execution_count": 1,
   "id": "03bc4296-64af-4954-b779-2492127a4b98",
   "metadata": {},
   "outputs": [],
   "source": [
    "import pandas as pd"
   ]
  },
  {
   "cell_type": "markdown",
   "id": "28550321-9d57-4062-bca9-4655538895a8",
   "metadata": {},
   "source": [
    "### import data and drop columns "
   ]
  },
  {
   "cell_type": "code",
   "execution_count": 117,
   "id": "64a5400b-6726-4bb5-9f8e-2c7858e46fc3",
   "metadata": {},
   "outputs": [],
   "source": [
    "df = pd.read_csv(\"../raw_data/reviews.csv\", header=None)\n",
    "\n",
    "df.columns = [\"Index\", \"Restaurant\", \"Reviewer\", \"Score\", \"When\", \"Review\"]\n",
    "\n",
    "df.drop(columns=[\"Index\", \"Reviewer\", \"When\"], inplace=True)"
   ]
  },
  {
   "cell_type": "code",
   "execution_count": 147,
   "id": "f511da5f-bcb7-4976-9e30-fdaf803f64e3",
   "metadata": {},
   "outputs": [
    {
     "data": {
      "text/html": [
       "<div>\n",
       "<style scoped>\n",
       "    .dataframe tbody tr th:only-of-type {\n",
       "        vertical-align: middle;\n",
       "    }\n",
       "\n",
       "    .dataframe tbody tr th {\n",
       "        vertical-align: top;\n",
       "    }\n",
       "\n",
       "    .dataframe thead th {\n",
       "        text-align: right;\n",
       "    }\n",
       "</style>\n",
       "<table border=\"1\" class=\"dataframe\">\n",
       "  <thead>\n",
       "    <tr style=\"text-align: right;\">\n",
       "      <th></th>\n",
       "      <th>Restaurant</th>\n",
       "      <th>Score</th>\n",
       "      <th>Review</th>\n",
       "    </tr>\n",
       "  </thead>\n",
       "  <tbody>\n",
       "    <tr>\n",
       "      <th>0</th>\n",
       "      <td>Darshan Nepal</td>\n",
       "      <td>Classificação: 4,5 de 5,</td>\n",
       "      <td>(Traduzido pelo Google) Muito boa comida, boa ...</td>\n",
       "    </tr>\n",
       "    <tr>\n",
       "      <th>1</th>\n",
       "      <td>Darshan Nepal</td>\n",
       "      <td>Classificação: 4,0 de 5,</td>\n",
       "      <td>(Traduzido pelo Google) Voe para Lisboa se sen...</td>\n",
       "    </tr>\n",
       "    <tr>\n",
       "      <th>2</th>\n",
       "      <td>Darshan Nepal</td>\n",
       "      <td>Classificação: 3,5 de 5,</td>\n",
       "      <td>(Traduzido pelo Google) Comida deliciosa e uma...</td>\n",
       "    </tr>\n",
       "    <tr>\n",
       "      <th>3</th>\n",
       "      <td>Darshan Nepal</td>\n",
       "      <td>Classificação: 3,0 de 5,</td>\n",
       "      <td>(Traduzido pelo Google) Muito boa comida, boa ...</td>\n",
       "    </tr>\n",
       "    <tr>\n",
       "      <th>4</th>\n",
       "      <td>Darshan Nepal</td>\n",
       "      <td>Classificação: 2,5 de 5,</td>\n",
       "      <td>(Traduzido pelo Google) Voe para Lisboa se sen...</td>\n",
       "    </tr>\n",
       "  </tbody>\n",
       "</table>\n",
       "</div>"
      ],
      "text/plain": [
       "      Restaurant                     Score  \\\n",
       "0  Darshan Nepal  Classificação: 4,5 de 5,   \n",
       "1  Darshan Nepal  Classificação: 4,0 de 5,   \n",
       "2  Darshan Nepal  Classificação: 3,5 de 5,   \n",
       "3  Darshan Nepal  Classificação: 3,0 de 5,   \n",
       "4  Darshan Nepal  Classificação: 2,5 de 5,   \n",
       "\n",
       "                                              Review  \n",
       "0  (Traduzido pelo Google) Muito boa comida, boa ...  \n",
       "1  (Traduzido pelo Google) Voe para Lisboa se sen...  \n",
       "2  (Traduzido pelo Google) Comida deliciosa e uma...  \n",
       "3  (Traduzido pelo Google) Muito boa comida, boa ...  \n",
       "4  (Traduzido pelo Google) Voe para Lisboa se sen...  "
      ]
     },
     "execution_count": 147,
     "metadata": {},
     "output_type": "execute_result"
    }
   ],
   "source": [
    "df.head()"
   ]
  },
  {
   "cell_type": "code",
   "execution_count": 156,
   "id": "86234fd8-459c-463a-86ce-9e1abdaab8bf",
   "metadata": {},
   "outputs": [
    {
     "data": {
      "text/plain": [
       "(90732, 3)"
      ]
     },
     "execution_count": 156,
     "metadata": {},
     "output_type": "execute_result"
    }
   ],
   "source": [
    "df.shape"
   ]
  },
  {
   "cell_type": "code",
   "execution_count": 159,
   "id": "9da32a78-3a27-4792-95c6-8f103efd01ef",
   "metadata": {},
   "outputs": [
    {
     "data": {
      "text/html": [
       "<div>\n",
       "<style scoped>\n",
       "    .dataframe tbody tr th:only-of-type {\n",
       "        vertical-align: middle;\n",
       "    }\n",
       "\n",
       "    .dataframe tbody tr th {\n",
       "        vertical-align: top;\n",
       "    }\n",
       "\n",
       "    .dataframe thead th {\n",
       "        text-align: right;\n",
       "    }\n",
       "</style>\n",
       "<table border=\"1\" class=\"dataframe\">\n",
       "  <thead>\n",
       "    <tr style=\"text-align: right;\">\n",
       "      <th></th>\n",
       "      <th>Restaurant</th>\n",
       "      <th>Score</th>\n",
       "      <th>Review</th>\n",
       "    </tr>\n",
       "  </thead>\n",
       "  <tbody>\n",
       "    <tr>\n",
       "      <th>0</th>\n",
       "      <td>Darshan Nepal</td>\n",
       "      <td>Classificação: 4,5 de 5,</td>\n",
       "      <td>(Traduzido pelo Google) Muito boa comida, boa ...</td>\n",
       "    </tr>\n",
       "    <tr>\n",
       "      <th>1</th>\n",
       "      <td>Darshan Nepal</td>\n",
       "      <td>Classificação: 4,0 de 5,</td>\n",
       "      <td>(Traduzido pelo Google) Voe para Lisboa se sen...</td>\n",
       "    </tr>\n",
       "    <tr>\n",
       "      <th>2</th>\n",
       "      <td>Darshan Nepal</td>\n",
       "      <td>Classificação: 3,5 de 5,</td>\n",
       "      <td>(Traduzido pelo Google) Comida deliciosa e uma...</td>\n",
       "    </tr>\n",
       "    <tr>\n",
       "      <th>3</th>\n",
       "      <td>Darshan Nepal</td>\n",
       "      <td>Classificação: 3,0 de 5,</td>\n",
       "      <td>(Traduzido pelo Google) Muito boa comida, boa ...</td>\n",
       "    </tr>\n",
       "    <tr>\n",
       "      <th>4</th>\n",
       "      <td>Darshan Nepal</td>\n",
       "      <td>Classificação: 2,5 de 5,</td>\n",
       "      <td>(Traduzido pelo Google) Voe para Lisboa se sen...</td>\n",
       "    </tr>\n",
       "    <tr>\n",
       "      <th>...</th>\n",
       "      <td>...</td>\n",
       "      <td>...</td>\n",
       "      <td>...</td>\n",
       "    </tr>\n",
       "    <tr>\n",
       "      <th>90662</th>\n",
       "      <td>Spice Hut Tandoori</td>\n",
       "      <td>Classificação: 5,0 de 5,</td>\n",
       "      <td>(Traduzido pelo Google) Discreto e caro\\n\\n(Or...</td>\n",
       "    </tr>\n",
       "    <tr>\n",
       "      <th>90663</th>\n",
       "      <td>Spice Hut Tandoori</td>\n",
       "      <td>Classificação: 4,0 de 5,</td>\n",
       "      <td>(Traduzido pelo Google) O melhor em qualidade ...</td>\n",
       "    </tr>\n",
       "    <tr>\n",
       "      <th>90665</th>\n",
       "      <td>Spice Hut Tandoori</td>\n",
       "      <td>Classificação: 4,0 de 5,</td>\n",
       "      <td>(Traduzido pelo Google) Tratamento impecável e...</td>\n",
       "    </tr>\n",
       "    <tr>\n",
       "      <th>90666</th>\n",
       "      <td>Spice Hut Tandoori</td>\n",
       "      <td>Classificação: 5,0 de 5,</td>\n",
       "      <td>(Traduzido pelo Google) Super bom chefe\\n\\n(Or...</td>\n",
       "    </tr>\n",
       "    <tr>\n",
       "      <th>90667</th>\n",
       "      <td>Spice Hut Tandoori</td>\n",
       "      <td>Classificação: 5,0 de 5,</td>\n",
       "      <td>(Traduzido pelo Google) Um momento memorável\\n...</td>\n",
       "    </tr>\n",
       "  </tbody>\n",
       "</table>\n",
       "<p>6310 rows × 3 columns</p>\n",
       "</div>"
      ],
      "text/plain": [
       "               Restaurant                     Score  \\\n",
       "0           Darshan Nepal  Classificação: 4,5 de 5,   \n",
       "1           Darshan Nepal  Classificação: 4,0 de 5,   \n",
       "2           Darshan Nepal  Classificação: 3,5 de 5,   \n",
       "3           Darshan Nepal  Classificação: 3,0 de 5,   \n",
       "4           Darshan Nepal  Classificação: 2,5 de 5,   \n",
       "...                   ...                       ...   \n",
       "90662  Spice Hut Tandoori  Classificação: 5,0 de 5,   \n",
       "90663  Spice Hut Tandoori  Classificação: 4,0 de 5,   \n",
       "90665  Spice Hut Tandoori  Classificação: 4,0 de 5,   \n",
       "90666  Spice Hut Tandoori  Classificação: 5,0 de 5,   \n",
       "90667  Spice Hut Tandoori  Classificação: 5,0 de 5,   \n",
       "\n",
       "                                                  Review  \n",
       "0      (Traduzido pelo Google) Muito boa comida, boa ...  \n",
       "1      (Traduzido pelo Google) Voe para Lisboa se sen...  \n",
       "2      (Traduzido pelo Google) Comida deliciosa e uma...  \n",
       "3      (Traduzido pelo Google) Muito boa comida, boa ...  \n",
       "4      (Traduzido pelo Google) Voe para Lisboa se sen...  \n",
       "...                                                  ...  \n",
       "90662  (Traduzido pelo Google) Discreto e caro\\n\\n(Or...  \n",
       "90663  (Traduzido pelo Google) O melhor em qualidade ...  \n",
       "90665  (Traduzido pelo Google) Tratamento impecável e...  \n",
       "90666  (Traduzido pelo Google) Super bom chefe\\n\\n(Or...  \n",
       "90667  (Traduzido pelo Google) Um momento memorável\\n...  \n",
       "\n",
       "[6310 rows x 3 columns]"
      ]
     },
     "execution_count": 159,
     "metadata": {},
     "output_type": "execute_result"
    }
   ],
   "source": [
    "df.drop_duplicates()"
   ]
  },
  {
   "cell_type": "code",
   "execution_count": 148,
   "id": "65db4c10-14c6-474e-806f-e8fd2491e7e5",
   "metadata": {},
   "outputs": [
    {
     "data": {
      "text/plain": [
       "(90732, 3)"
      ]
     },
     "execution_count": 148,
     "metadata": {},
     "output_type": "execute_result"
    }
   ],
   "source": [
    "df.shape"
   ]
  },
  {
   "cell_type": "code",
   "execution_count": 153,
   "id": "949d1e38-097d-4e89-8929-c26cfacacff5",
   "metadata": {},
   "outputs": [
    {
     "ename": "AttributeError",
     "evalue": "'Series' object has no attribute 'uniques'",
     "output_type": "error",
     "traceback": [
      "\u001b[0;31m---------------------------------------------------------------------------\u001b[0m",
      "\u001b[0;31mAttributeError\u001b[0m                            Traceback (most recent call last)",
      "\u001b[0;32m/tmp/ipykernel_565/4104940365.py\u001b[0m in \u001b[0;36m<module>\u001b[0;34m\u001b[0m\n\u001b[0;32m----> 1\u001b[0;31m \u001b[0mdf\u001b[0m\u001b[0;34m.\u001b[0m\u001b[0mRestaurant\u001b[0m\u001b[0;34m.\u001b[0m\u001b[0muniques\u001b[0m\u001b[0;34m(\u001b[0m\u001b[0;34m)\u001b[0m\u001b[0;34m\u001b[0m\u001b[0;34m\u001b[0m\u001b[0m\n\u001b[0m",
      "\u001b[0;32m~/.pyenv/versions/3.8.12/envs/lewagon/lib/python3.8/site-packages/pandas/core/generic.py\u001b[0m in \u001b[0;36m__getattr__\u001b[0;34m(self, name)\u001b[0m\n\u001b[1;32m   5485\u001b[0m         ):\n\u001b[1;32m   5486\u001b[0m             \u001b[0;32mreturn\u001b[0m \u001b[0mself\u001b[0m\u001b[0;34m[\u001b[0m\u001b[0mname\u001b[0m\u001b[0;34m]\u001b[0m\u001b[0;34m\u001b[0m\u001b[0;34m\u001b[0m\u001b[0m\n\u001b[0;32m-> 5487\u001b[0;31m         \u001b[0;32mreturn\u001b[0m \u001b[0mobject\u001b[0m\u001b[0;34m.\u001b[0m\u001b[0m__getattribute__\u001b[0m\u001b[0;34m(\u001b[0m\u001b[0mself\u001b[0m\u001b[0;34m,\u001b[0m \u001b[0mname\u001b[0m\u001b[0;34m)\u001b[0m\u001b[0;34m\u001b[0m\u001b[0;34m\u001b[0m\u001b[0m\n\u001b[0m\u001b[1;32m   5488\u001b[0m \u001b[0;34m\u001b[0m\u001b[0m\n\u001b[1;32m   5489\u001b[0m     \u001b[0;32mdef\u001b[0m \u001b[0m__setattr__\u001b[0m\u001b[0;34m(\u001b[0m\u001b[0mself\u001b[0m\u001b[0;34m,\u001b[0m \u001b[0mname\u001b[0m\u001b[0;34m:\u001b[0m \u001b[0mstr\u001b[0m\u001b[0;34m,\u001b[0m \u001b[0mvalue\u001b[0m\u001b[0;34m)\u001b[0m \u001b[0;34m->\u001b[0m \u001b[0;32mNone\u001b[0m\u001b[0;34m:\u001b[0m\u001b[0;34m\u001b[0m\u001b[0;34m\u001b[0m\u001b[0m\n",
      "\u001b[0;31mAttributeError\u001b[0m: 'Series' object has no attribute 'uniques'"
     ]
    }
   ],
   "source": [
    "df.Restaurant.c"
   ]
  },
  {
   "cell_type": "code",
   "execution_count": 118,
   "id": "67c74ea5-41f1-46ef-9e44-d11b3130708e",
   "metadata": {},
   "outputs": [],
   "source": [
    "cleaned_df = df.dropna()"
   ]
  },
  {
   "cell_type": "markdown",
   "id": "199eefd7-290f-4967-bf20-e47539470f8d",
   "metadata": {},
   "source": [
    "### Score column"
   ]
  },
  {
   "cell_type": "code",
   "execution_count": 113,
   "id": "f6ef8765-7636-450f-835e-33d499935376",
   "metadata": {},
   "outputs": [
    {
     "data": {
      "text/plain": [
       "array(['Classificação: 4,5 de 5,', 'Classificação: 4,0 de 5,',\n",
       "       'Classificação: 3,5 de 5,', 'Classificação: 3,0 de 5,',\n",
       "       'Classificação: 2,5 de 5,', 'Classificação: 2,0 de 5,',\n",
       "       'Classificação: 4,4 de 5,', 'Classificação: 4,1 de 5,',\n",
       "       'Classificação: 5,0 de 5,', 'Classificação: 4,6 de 5,',\n",
       "       'Classificação: 4,8 de 5,', 'Classificação: 4,7 de 5,',\n",
       "       'Classificação: 1,0 de 5,', nan, 'Classificação: 4,3 de 5,',\n",
       "       'Classificação: 4,2 de 5,'], dtype=object)"
      ]
     },
     "execution_count": 113,
     "metadata": {},
     "output_type": "execute_result"
    }
   ],
   "source": [
    "df.Score.unique()"
   ]
  },
  {
   "cell_type": "code",
   "execution_count": 121,
   "id": "7928d65f-f49f-496d-ac06-5657d42bae4c",
   "metadata": {},
   "outputs": [],
   "source": [
    "def extract_score(series):\n",
    "    return float(series[15:18].replace(\",\",\".\"))"
   ]
  },
  {
   "cell_type": "code",
   "execution_count": 122,
   "id": "14f24cd6-b604-4a9b-8741-e8b49f36e819",
   "metadata": {},
   "outputs": [
    {
     "name": "stderr",
     "output_type": "stream",
     "text": [
      "/tmp/ipykernel_565/3020042498.py:1: SettingWithCopyWarning: \n",
      "A value is trying to be set on a copy of a slice from a DataFrame.\n",
      "Try using .loc[row_indexer,col_indexer] = value instead\n",
      "\n",
      "See the caveats in the documentation: https://pandas.pydata.org/pandas-docs/stable/user_guide/indexing.html#returning-a-view-versus-a-copy\n",
      "  cleaned_df['Score'] = cleaned_df['Score'].apply(extract_score)\n"
     ]
    }
   ],
   "source": [
    "cleaned_df['Score'] = cleaned_df['Score'].apply(extract_score)"
   ]
  },
  {
   "cell_type": "code",
   "execution_count": 123,
   "id": "c11a333e-3258-4546-ba88-e67ea725a7fb",
   "metadata": {
    "tags": []
   },
   "outputs": [
    {
     "data": {
      "text/html": [
       "<div>\n",
       "<style scoped>\n",
       "    .dataframe tbody tr th:only-of-type {\n",
       "        vertical-align: middle;\n",
       "    }\n",
       "\n",
       "    .dataframe tbody tr th {\n",
       "        vertical-align: top;\n",
       "    }\n",
       "\n",
       "    .dataframe thead th {\n",
       "        text-align: right;\n",
       "    }\n",
       "</style>\n",
       "<table border=\"1\" class=\"dataframe\">\n",
       "  <thead>\n",
       "    <tr style=\"text-align: right;\">\n",
       "      <th></th>\n",
       "      <th>Restaurant</th>\n",
       "      <th>Score</th>\n",
       "      <th>Review</th>\n",
       "    </tr>\n",
       "  </thead>\n",
       "  <tbody>\n",
       "    <tr>\n",
       "      <th>0</th>\n",
       "      <td>Darshan Nepal</td>\n",
       "      <td>4.5</td>\n",
       "      <td>(Traduzido pelo Google) Muito boa comida, boa ...</td>\n",
       "    </tr>\n",
       "    <tr>\n",
       "      <th>1</th>\n",
       "      <td>Darshan Nepal</td>\n",
       "      <td>4.0</td>\n",
       "      <td>(Traduzido pelo Google) Voe para Lisboa se sen...</td>\n",
       "    </tr>\n",
       "    <tr>\n",
       "      <th>2</th>\n",
       "      <td>Darshan Nepal</td>\n",
       "      <td>3.5</td>\n",
       "      <td>(Traduzido pelo Google) Comida deliciosa e uma...</td>\n",
       "    </tr>\n",
       "    <tr>\n",
       "      <th>3</th>\n",
       "      <td>Darshan Nepal</td>\n",
       "      <td>3.0</td>\n",
       "      <td>(Traduzido pelo Google) Muito boa comida, boa ...</td>\n",
       "    </tr>\n",
       "    <tr>\n",
       "      <th>4</th>\n",
       "      <td>Darshan Nepal</td>\n",
       "      <td>2.5</td>\n",
       "      <td>(Traduzido pelo Google) Voe para Lisboa se sen...</td>\n",
       "    </tr>\n",
       "  </tbody>\n",
       "</table>\n",
       "</div>"
      ],
      "text/plain": [
       "      Restaurant  Score                                             Review\n",
       "0  Darshan Nepal    4.5  (Traduzido pelo Google) Muito boa comida, boa ...\n",
       "1  Darshan Nepal    4.0  (Traduzido pelo Google) Voe para Lisboa se sen...\n",
       "2  Darshan Nepal    3.5  (Traduzido pelo Google) Comida deliciosa e uma...\n",
       "3  Darshan Nepal    3.0  (Traduzido pelo Google) Muito boa comida, boa ...\n",
       "4  Darshan Nepal    2.5  (Traduzido pelo Google) Voe para Lisboa se sen..."
      ]
     },
     "execution_count": 123,
     "metadata": {},
     "output_type": "execute_result"
    }
   ],
   "source": [
    "cleaned_df.head()"
   ]
  },
  {
   "cell_type": "code",
   "execution_count": 124,
   "id": "056b646d-2e36-48a9-8c97-2d99e1739bb0",
   "metadata": {},
   "outputs": [
    {
     "data": {
      "text/plain": [
       "array([[<AxesSubplot:title={'center':'Score'}>]], dtype=object)"
      ]
     },
     "execution_count": 124,
     "metadata": {},
     "output_type": "execute_result"
    },
    {
     "data": {
      "image/png": "[encoded data removed]",
      "text/plain": [
       "<Figure size 432x288 with 1 Axes>"
      ]
     },
     "metadata": {
      "needs_background": "light"
     },
     "output_type": "display_data"
    }
   ],
   "source": [
    "cleaned_df.hist()"
   ]
  },
  {
   "cell_type": "markdown",
   "id": "fb31f0c9-4fc8-43b3-b8d6-c51a94687b83",
   "metadata": {},
   "source": [
    "### Clean Reviews"
   ]
  },
  {
   "cell_type": "code",
   "execution_count": 141,
   "id": "cf1fbc20-6b1c-4389-99af-8226dd235ac7",
   "metadata": {},
   "outputs": [],
   "source": [
    "def remove_google_trans_comment(series):\n",
    "    if \"(Traduzido pelo Google)\" in series:\n",
    "        return series.replace(\"(Traduzido pelo Google) \",\"\")\n",
    "    else:\n",
    "        return series    "
   ]
  },
  {
   "cell_type": "code",
   "execution_count": 145,
   "id": "29c5d307-b8c2-4ce8-a477-5131faf4be5e",
   "metadata": {},
   "outputs": [
    {
     "name": "stderr",
     "output_type": "stream",
     "text": [
      "/home/jamie/.pyenv/versions/3.8.12/envs/lewagon/lib/python3.8/site-packages/pandas/core/generic.py:5516: SettingWithCopyWarning: \n",
      "A value is trying to be set on a copy of a slice from a DataFrame.\n",
      "Try using .loc[row_indexer,col_indexer] = value instead\n",
      "\n",
      "See the caveats in the documentation: https://pandas.pydata.org/pandas-docs/stable/user_guide/indexing.html#returning-a-view-versus-a-copy\n",
      "  self[name] = value\n"
     ]
    }
   ],
   "source": [
    "cleaned_df.Review = cleaned_df.Review.apply(remove_google_trans_comment)"
   ]
  },
  {
   "cell_type": "code",
   "execution_count": 146,
   "id": "99042be1-17cd-4733-8923-a9d90ac488bb",
   "metadata": {},
   "outputs": [
    {
     "data": {
      "text/html": [
       "<div>\n",
       "<style scoped>\n",
       "    .dataframe tbody tr th:only-of-type {\n",
       "        vertical-align: middle;\n",
       "    }\n",
       "\n",
       "    .dataframe tbody tr th {\n",
       "        vertical-align: top;\n",
       "    }\n",
       "\n",
       "    .dataframe thead th {\n",
       "        text-align: right;\n",
       "    }\n",
       "</style>\n",
       "<table border=\"1\" class=\"dataframe\">\n",
       "  <thead>\n",
       "    <tr style=\"text-align: right;\">\n",
       "      <th></th>\n",
       "      <th>Restaurant</th>\n",
       "      <th>Score</th>\n",
       "      <th>Review</th>\n",
       "    </tr>\n",
       "  </thead>\n",
       "  <tbody>\n",
       "    <tr>\n",
       "      <th>0</th>\n",
       "      <td>Darshan Nepal</td>\n",
       "      <td>4.5</td>\n",
       "      <td>Muito boa comida, boa garçonete de senhora. Pe...</td>\n",
       "    </tr>\n",
       "    <tr>\n",
       "      <th>1</th>\n",
       "      <td>Darshan Nepal</td>\n",
       "      <td>4.0</td>\n",
       "      <td>Voe para Lisboa se sentir falta da autêntica c...</td>\n",
       "    </tr>\n",
       "    <tr>\n",
       "      <th>2</th>\n",
       "      <td>Darshan Nepal</td>\n",
       "      <td>3.5</td>\n",
       "      <td>Comida deliciosa e uma equipe muito simpática ...</td>\n",
       "    </tr>\n",
       "    <tr>\n",
       "      <th>3</th>\n",
       "      <td>Darshan Nepal</td>\n",
       "      <td>3.0</td>\n",
       "      <td>Muito boa comida, boa garçonete de senhora. Pe...</td>\n",
       "    </tr>\n",
       "    <tr>\n",
       "      <th>4</th>\n",
       "      <td>Darshan Nepal</td>\n",
       "      <td>2.5</td>\n",
       "      <td>Voe para Lisboa se sentir falta da autêntica c...</td>\n",
       "    </tr>\n",
       "    <tr>\n",
       "      <th>...</th>\n",
       "      <td>...</td>\n",
       "      <td>...</td>\n",
       "      <td>...</td>\n",
       "    </tr>\n",
       "    <tr>\n",
       "      <th>90663</th>\n",
       "      <td>Spice Hut Tandoori</td>\n",
       "      <td>4.0</td>\n",
       "      <td>O melhor em qualidade e boas-vindas\\n\\n(Origin...</td>\n",
       "    </tr>\n",
       "    <tr>\n",
       "      <th>90664</th>\n",
       "      <td>Spice Hut Tandoori</td>\n",
       "      <td>5.0</td>\n",
       "      <td>Bom</td>\n",
       "    </tr>\n",
       "    <tr>\n",
       "      <th>90665</th>\n",
       "      <td>Spice Hut Tandoori</td>\n",
       "      <td>4.0</td>\n",
       "      <td>Tratamento impecável e comida imbatível\\n\\n(Or...</td>\n",
       "    </tr>\n",
       "    <tr>\n",
       "      <th>90666</th>\n",
       "      <td>Spice Hut Tandoori</td>\n",
       "      <td>5.0</td>\n",
       "      <td>Super bom chefe\\n\\n(Original)\\nPatron super sympa</td>\n",
       "    </tr>\n",
       "    <tr>\n",
       "      <th>90667</th>\n",
       "      <td>Spice Hut Tandoori</td>\n",
       "      <td>5.0</td>\n",
       "      <td>Um momento memorável\\n\\n(Original)\\nUn moment ...</td>\n",
       "    </tr>\n",
       "  </tbody>\n",
       "</table>\n",
       "<p>65872 rows × 3 columns</p>\n",
       "</div>"
      ],
      "text/plain": [
       "               Restaurant  Score  \\\n",
       "0           Darshan Nepal    4.5   \n",
       "1           Darshan Nepal    4.0   \n",
       "2           Darshan Nepal    3.5   \n",
       "3           Darshan Nepal    3.0   \n",
       "4           Darshan Nepal    2.5   \n",
       "...                   ...    ...   \n",
       "90663  Spice Hut Tandoori    4.0   \n",
       "90664  Spice Hut Tandoori    5.0   \n",
       "90665  Spice Hut Tandoori    4.0   \n",
       "90666  Spice Hut Tandoori    5.0   \n",
       "90667  Spice Hut Tandoori    5.0   \n",
       "\n",
       "                                                  Review  \n",
       "0      Muito boa comida, boa garçonete de senhora. Pe...  \n",
       "1      Voe para Lisboa se sentir falta da autêntica c...  \n",
       "2      Comida deliciosa e uma equipe muito simpática ...  \n",
       "3      Muito boa comida, boa garçonete de senhora. Pe...  \n",
       "4      Voe para Lisboa se sentir falta da autêntica c...  \n",
       "...                                                  ...  \n",
       "90663  O melhor em qualidade e boas-vindas\\n\\n(Origin...  \n",
       "90664                                                Bom  \n",
       "90665  Tratamento impecável e comida imbatível\\n\\n(Or...  \n",
       "90666  Super bom chefe\\n\\n(Original)\\nPatron super sympa  \n",
       "90667  Um momento memorável\\n\\n(Original)\\nUn moment ...  \n",
       "\n",
       "[65872 rows x 3 columns]"
      ]
     },
     "execution_count": 146,
     "metadata": {},
     "output_type": "execute_result"
    }
   ],
   "source": [
    "cleaned_df.du"
   ]
  }
 ],
 "metadata": {
  "kernelspec": {
   "display_name": "Python 3 (ipykernel)",
   "language": "python",
   "name": "python3"
  },
  "language_info": {
   "codemirror_mode": {
    "name": "ipython",
    "version": 3
   },
   "file_extension": ".py",
   "mimetype": "text/x-python",
   "name": "python",
   "nbconvert_exporter": "python",
   "pygments_lexer": "ipython3",
   "version": "3.8.12"
  }
 },
 "nbformat": 4,
 "nbformat_minor": 5
}
