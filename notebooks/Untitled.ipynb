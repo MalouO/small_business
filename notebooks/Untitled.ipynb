{
 "cells": [
  {
   "cell_type": "code",
   "execution_count": 95,
   "id": "2b53f57a",
   "metadata": {},
   "outputs": [
    {
     "name": "stdout",
     "output_type": "stream",
     "text": [
      "Name: streamlit\r\n",
      "Version: 1.2.0\r\n",
      "Summary: The fastest way to build data apps in Python\r\n",
      "Home-page: https://streamlit.io\r\n",
      "Author: Streamlit Inc\r\n",
      "Author-email: hello@streamlit.io\r\n",
      "License: Apache 2\r\n",
      "Location: /Users/louisecaucheteux/.pyenv/versions/3.8.12/envs/small_business/lib/python3.8/site-packages\r\n",
      "Requires: altair, astor, attrs, base58, blinker, cachetools, click, gitpython, numpy, packaging, pandas, pillow, protobuf, pyarrow, pydeck, pympler, python-dateutil, requests, toml, tornado, tzlocal, validators\r\n",
      "Required-by: \r\n"
     ]
    }
   ],
   "source": [
    "! pip show streamlit"
   ]
  },
  {
   "cell_type": "code",
   "execution_count": 1,
   "id": "0f58a211",
   "metadata": {},
   "outputs": [],
   "source": [
    "import streamlit as st"
   ]
  },
  {
   "cell_type": "code",
   "execution_count": 2,
   "id": "e13f8dae",
   "metadata": {},
   "outputs": [
    {
     "name": "stderr",
     "output_type": "stream",
     "text": [
      "2021-12-06 17:14:01.841 \n",
      "  \u001b[33m\u001b[1mWarning:\u001b[0m to view this Streamlit app on a browser, run it with the following\n",
      "  command:\n",
      "\n",
      "    streamlit run /Users/louisecaucheteux/.pyenv/versions/3.8.12/envs/small_business/lib/python3.8/site-packages/ipykernel_launcher.py [ARGUMENTS]\n"
     ]
    },
    {
     "data": {
      "text/html": [
       "<div>\n",
       "<style scoped>\n",
       "    .dataframe tbody tr th:only-of-type {\n",
       "        vertical-align: middle;\n",
       "    }\n",
       "\n",
       "    .dataframe tbody tr th {\n",
       "        vertical-align: top;\n",
       "    }\n",
       "\n",
       "    .dataframe thead th {\n",
       "        text-align: right;\n",
       "    }\n",
       "</style>\n",
       "<table border=\"1\" class=\"dataframe\">\n",
       "  <thead>\n",
       "    <tr style=\"text-align: right;\">\n",
       "      <th></th>\n",
       "      <th>first column</th>\n",
       "      <th>second column</th>\n",
       "    </tr>\n",
       "  </thead>\n",
       "  <tbody>\n",
       "    <tr>\n",
       "      <th>0</th>\n",
       "      <td>1</td>\n",
       "      <td>10</td>\n",
       "    </tr>\n",
       "    <tr>\n",
       "      <th>1</th>\n",
       "      <td>2</td>\n",
       "      <td>20</td>\n",
       "    </tr>\n",
       "    <tr>\n",
       "      <th>2</th>\n",
       "      <td>3</td>\n",
       "      <td>30</td>\n",
       "    </tr>\n",
       "  </tbody>\n",
       "</table>\n",
       "</div>"
      ],
      "text/plain": [
       "   first column  second column\n",
       "0             1             10\n",
       "1             2             20\n",
       "2             3             30"
      ]
     },
     "execution_count": 2,
     "metadata": {},
     "output_type": "execute_result"
    }
   ],
   "source": [
    "import numpy as np\n",
    "import pandas as pd\n",
    "\n",
    "st.markdown(\"\"\"# This is a header\n",
    "## This is a sub header\n",
    "This is text\"\"\")\n",
    "\n",
    "df = pd.DataFrame({\n",
    "          'first column': list(range(1, 11)),\n",
    "          'second column': np.arange(10, 101, 10)\n",
    "        })\n",
    "\n",
    "# this slider allows the user to select a number of lines\n",
    "# to display in the dataframe\n",
    "# the selected value is returned by st.slider\n",
    "line_count = st.slider('Select a line count', 1, 10, 3)\n",
    "\n",
    "# and used in order to select the displayed lines\n",
    "head_df = df.head(line_count)\n",
    "\n",
    "head_df"
   ]
  },
  {
   "cell_type": "code",
   "execution_count": null,
   "id": "8ed51bb1",
   "metadata": {},
   "outputs": [],
   "source": []
  },
  {
   "cell_type": "code",
   "execution_count": 5,
   "id": "72a5b5e3",
   "metadata": {},
   "outputs": [
    {
     "ename": "SyntaxError",
     "evalue": "invalid syntax (3737097518.py, line 1)",
     "output_type": "error",
     "traceback": [
      "\u001b[0;36m  File \u001b[0;32m\"/var/folders/hd/90spmq897k17xxlkwtc99v200000gn/T/ipykernel_51952/3737097518.py\"\u001b[0;36m, line \u001b[0;32m1\u001b[0m\n\u001b[0;31m    streamlit run app.py\u001b[0m\n\u001b[0m              ^\u001b[0m\n\u001b[0;31mSyntaxError\u001b[0m\u001b[0;31m:\u001b[0m invalid syntax\n"
     ]
    }
   ],
   "source": [
    "streamlit run app.py"
   ]
  },
  {
   "cell_type": "code",
   "execution_count": null,
   "id": "b61f68b0",
   "metadata": {},
   "outputs": [],
   "source": []
  },
  {
   "cell_type": "code",
   "execution_count": null,
   "id": "53bd2616",
   "metadata": {},
   "outputs": [],
   "source": []
  },
  {
   "cell_type": "markdown",
   "id": "a50743ca",
   "metadata": {},
   "source": [
    "# Classification"
   ]
  },
  {
   "cell_type": "code",
   "execution_count": null,
   "id": "ffa34640",
   "metadata": {},
   "outputs": [],
   "source": []
  },
  {
   "cell_type": "code",
   "execution_count": null,
   "id": "ecfb14db",
   "metadata": {},
   "outputs": [],
   "source": []
  },
  {
   "cell_type": "code",
   "execution_count": null,
   "id": "085d12f1",
   "metadata": {},
   "outputs": [],
   "source": []
  },
  {
   "cell_type": "code",
   "execution_count": 24,
   "id": "e67f35f1",
   "metadata": {},
   "outputs": [],
   "source": [
    "import pandas as pd\n",
    "from sklearn.pipeline import make_pipeline\n",
    "from sklearn.pipeline import make_union\n",
    "from sklearn.compose import make_column_transformer\n",
    "from sklearn.impute import SimpleImputer\n",
    "from sklearn.preprocessing import OneHotEncoder\n",
    "from sklearn.linear_model import Ridge\n",
    "from sklearn.linear_model import LogisticRegression\n",
    "from sklearn.model_selection import train_test_split\n",
    "from sklearn.model_selection import GridSearchCV\n",
    "from sklearn.neighbors import KNeighborsClassifier\n",
    "from sklearn.svm import LinearSVC\n",
    "from sklearn.ensemble import RandomForestClassifier\n",
    "from sklearn.metrics import confusion_matrix\n",
    "from imblearn.over_sampling import SMOTE\n",
    "import seaborn as sns\n",
    "from sklearn.svm import SVC\n",
    "from xgboost import XGBClassifier\n",
    "from sklearn.metrics import confusion_matrix, classification_report"
   ]
  },
  {
   "cell_type": "code",
   "execution_count": 25,
   "id": "b481e3e5",
   "metadata": {},
   "outputs": [],
   "source": [
    "data = pd.read_csv('../small_business/data/restaurants.csv')\n",
    "data = data.drop(columns = 'Unnamed: 0')"
   ]
  },
  {
   "cell_type": "code",
   "execution_count": 26,
   "id": "98853ea2",
   "metadata": {},
   "outputs": [],
   "source": [
    "X = data.drop(columns=['rating','name', 'address', 'label', 'postal_code', 'no_del_exp', 'municipality', 'review_count'])\n",
    "y = data['rating']"
   ]
  },
  {
   "cell_type": "code",
   "execution_count": 27,
   "id": "bdabf6aa",
   "metadata": {},
   "outputs": [
    {
     "data": {
      "text/plain": [
       "count    652.000000\n",
       "mean       4.390644\n",
       "std        0.363447\n",
       "min        1.000000\n",
       "25%        4.200000\n",
       "50%        4.400000\n",
       "75%        4.600000\n",
       "max        5.000000\n",
       "Name: rating, dtype: float64"
      ]
     },
     "execution_count": 27,
     "metadata": {},
     "output_type": "execute_result"
    }
   ],
   "source": [
    "y.describe()"
   ]
  },
  {
   "cell_type": "code",
   "execution_count": 28,
   "id": "94c6aa57",
   "metadata": {},
   "outputs": [],
   "source": [
    "y_class=pd.cut(x=y, bins=[0,4, 5], \n",
    "                        labels=[ \"below_average\", \"above average\"])"
   ]
  },
  {
   "cell_type": "code",
   "execution_count": 29,
   "id": "799f7a95",
   "metadata": {},
   "outputs": [
    {
     "data": {
      "text/plain": [
       "above average    573\n",
       "below_average     79\n",
       "Name: rating, dtype: int64"
      ]
     },
     "execution_count": 29,
     "metadata": {},
     "output_type": "execute_result"
    }
   ],
   "source": [
    "y_class.value_counts()"
   ]
  },
  {
   "cell_type": "code",
   "execution_count": 30,
   "id": "1ee5e7ee",
   "metadata": {},
   "outputs": [
    {
     "data": {
      "text/plain": [
       "(array([  1.,   0.,   0.,   1.,   3.,   8.,  21.,  83., 312., 223.]),\n",
       " array([1. , 1.4, 1.8, 2.2, 2.6, 3. , 3.4, 3.8, 4.2, 4.6, 5. ]),\n",
       " <BarContainer object of 10 artists>)"
      ]
     },
     "execution_count": 30,
     "metadata": {},
     "output_type": "execute_result"
    },
    {
     "data": {
      "image/png": "[encoded data removed]",
      "text/plain": [
       "<Figure size 432x288 with 1 Axes>"
      ]
     },
     "metadata": {
      "needs_background": "light"
     },
     "output_type": "display_data"
    }
   ],
   "source": [
    "import matplotlib.pyplot as plt\n",
    "plt.hist(y)"
   ]
  },
  {
   "cell_type": "code",
   "execution_count": 31,
   "id": "f6a53be3",
   "metadata": {},
   "outputs": [],
   "source": [
    "X_train, X_test, yc_train, yc_test = train_test_split(X, y_class, test_size=0.30, random_state=42)"
   ]
  },
  {
   "cell_type": "code",
   "execution_count": 32,
   "id": "090e4c9f",
   "metadata": {
    "scrolled": false
   },
   "outputs": [],
   "source": [
    "price_transformer = SimpleImputer(strategy=\"most_frequent\")\n",
    "cat_transformer = OneHotEncoder(handle_unknown='ignore')\n",
    "\n",
    "preproc_basic = make_column_transformer((price_transformer, ['price']),\n",
    "                                       (cat_transformer, ['neighborhood', 'type']), remainder='passthrough')\n",
    "\n",
    "preproc = make_pipeline( preproc_basic)\n"
   ]
  },
  {
   "cell_type": "code",
   "execution_count": 33,
   "id": "5d7ec6ba",
   "metadata": {},
   "outputs": [],
   "source": [
    "X_train_t = preproc.fit_transform(X_train)"
   ]
  },
  {
   "cell_type": "code",
   "execution_count": 34,
   "id": "b556c951",
   "metadata": {},
   "outputs": [
    {
     "name": "stdout",
     "output_type": "stream",
     "text": [
      "450    above average\n",
      "212    above average\n",
      "9      above average\n",
      "299    above average\n",
      "302    above average\n",
      "           ...      \n",
      "71     above average\n",
      "106    below_average\n",
      "270    above average\n",
      "435    above average\n",
      "102    above average\n",
      "Name: rating, Length: 456, dtype: category\n",
      "Categories (2, object): ['below_average' < 'above average']\n"
     ]
    }
   ],
   "source": [
    "print(yc_train)"
   ]
  },
  {
   "cell_type": "code",
   "execution_count": 35,
   "id": "6fee02ab",
   "metadata": {},
   "outputs": [
    {
     "name": "stdout",
     "output_type": "stream",
     "text": [
      "[16:38:54] WARNING: /Users/runner/work/xgboost/xgboost/src/learner.cc:1115: Starting in XGBoost 1.3.0, the default evaluation metric used with the objective 'binary:logistic' was changed from 'error' to 'logloss'. Explicitly set eval_metric if you'd like to restore the old behavior.\n"
     ]
    },
    {
     "name": "stderr",
     "output_type": "stream",
     "text": [
      "/Users/louisecaucheteux/.pyenv/versions/3.8.12/envs/small_business/lib/python3.8/site-packages/xgboost/sklearn.py:1224: UserWarning: The use of label encoder in XGBClassifier is deprecated and will be removed in a future release. To remove this warning, do the following: 1) Pass option use_label_encoder=False when constructing XGBClassifier object; and 2) Encode your labels (y) as integers starting with 0, i.e. 0, 1, 2, ..., [num_class - 1].\n",
      "  warnings.warn(label_encoder_deprecation_msg, UserWarning)\n"
     ]
    }
   ],
   "source": [
    "models= {'KNN':{'model':KNeighborsClassifier(),\n",
    "               'params':{'n_neighbors': [1, 2, 3, 4, 5, 6, 7,8, 9], 'weights':['uniform', 'distance']}},\n",
    "        'RandomForest':{'model':RandomForestClassifier(class_weight='balanced'),\n",
    "                        'params':{'n_estimators':[50, 100]}},\n",
    "         'SVC':{'model':SVC(class_weight='balanced'), \n",
    "                'params':{'kernel':['linear', 'poly', 'rbf', 'sigmoid'], 'C':[0.1, 0.5, 1, 2,3]}},\n",
    "        'boosters':{'model':XGBClassifier(), 'params': {'max_depth':[5, 10, 20, 50],  'n_estimators': [10, 50, 100, 150], 'learning_rate':[0.01, 0.1, 1]}\n",
    "        }}\n",
    "\n",
    "best = {}      \n",
    "for key, value in models.items():\n",
    "    grid_search = GridSearchCV(value['model'], param_grid= value['params'],\n",
    "                               cv=5, scoring=\"f1_macro\", n_jobs = -1)\n",
    "    grid_search.fit(X_train_t, yc_train)\n",
    "    best[key] = {'params':grid_search.best_params_,\n",
    "                  'score':grid_search.best_score_}"
   ]
  },
  {
   "cell_type": "code",
   "execution_count": 36,
   "id": "ead9ace1",
   "metadata": {
    "scrolled": true
   },
   "outputs": [
    {
     "data": {
      "text/plain": [
       "{'KNN': {'params': {'n_neighbors': 5, 'weights': 'uniform'},\n",
       "  'score': 0.5931950004348227},\n",
       " 'RandomForest': {'params': {'n_estimators': 50}, 'score': 0.5781246959985443},\n",
       " 'SVC': {'params': {'C': 0.1, 'kernel': 'linear'}, 'score': 0.538010189353279},\n",
       " 'boosters': {'params': {'learning_rate': 0.1,\n",
       "   'max_depth': 20,\n",
       "   'n_estimators': 50},\n",
       "  'score': 0.5932059660327956}}"
      ]
     },
     "execution_count": 36,
     "metadata": {},
     "output_type": "execute_result"
    }
   ],
   "source": [
    "best"
   ]
  },
  {
   "cell_type": "code",
   "execution_count": 37,
   "id": "64a1eef6",
   "metadata": {},
   "outputs": [
    {
     "data": {
      "text/plain": [
       "Pipeline(steps=[('pipeline',\n",
       "                 Pipeline(steps=[('columntransformer',\n",
       "                                  ColumnTransformer(remainder='passthrough',\n",
       "                                                    transformers=[('simpleimputer',\n",
       "                                                                   SimpleImputer(strategy='most_frequent'),\n",
       "                                                                   ['price']),\n",
       "                                                                  ('onehotencoder',\n",
       "                                                                   OneHotEncoder(handle_unknown='ignore'),\n",
       "                                                                   ['neighborhood',\n",
       "                                                                    'type'])]))]))])"
      ]
     },
     "execution_count": 37,
     "metadata": {},
     "output_type": "execute_result"
    }
   ],
   "source": [
    "pipe = make_pipeline(preproc)\n",
    "pipe"
   ]
  },
  {
   "cell_type": "code",
   "execution_count": 38,
   "id": "1ce8d66e",
   "metadata": {},
   "outputs": [],
   "source": [
    "import numpy as np\n",
    "probs = []\n",
    "def thresholdsvm(probabilities):\n",
    "    for i in probabilities[:,0]:\n",
    "        if i< 0.875:\n",
    "            probs.append('below_average')  \n",
    "        else:\n",
    "            probs.append('above average')\n",
    "\n",
    "    return np.array(probs)\n",
    "        "
   ]
  },
  {
   "cell_type": "code",
   "execution_count": 39,
   "id": "ab7871c2",
   "metadata": {},
   "outputs": [],
   "source": [
    "probsknn = []\n",
    "def thresholdknn(probabilities):\n",
    "    for i in probabilities[:,0]:\n",
    "        if i< 0.8:\n",
    "            probsknn.append('below_average')  \n",
    "        else:\n",
    "            probsknn.append('above average')\n",
    "\n",
    "    return np.array(probsknn)"
   ]
  },
  {
   "cell_type": "code",
   "execution_count": 40,
   "id": "5aac3613",
   "metadata": {},
   "outputs": [],
   "source": [
    "probsxgb = []\n",
    "def thresholdxgb(probabilities):\n",
    "    for i in probabilities[:,0]:\n",
    "        if i< 0.9:\n",
    "            probsxgb.append('below_average')  \n",
    "        else:\n",
    "            probsxgb.append('above average')\n",
    "\n",
    "    return np.array(probsxgb)"
   ]
  },
  {
   "cell_type": "code",
   "execution_count": 41,
   "id": "5f9394d9",
   "metadata": {
    "scrolled": true
   },
   "outputs": [
    {
     "name": "stderr",
     "output_type": "stream",
     "text": [
      "/Users/louisecaucheteux/.pyenv/versions/3.8.12/envs/small_business/lib/python3.8/site-packages/xgboost/sklearn.py:1224: UserWarning: The use of label encoder in XGBClassifier is deprecated and will be removed in a future release. To remove this warning, do the following: 1) Pass option use_label_encoder=False when constructing XGBClassifier object; and 2) Encode your labels (y) as integers starting with 0, i.e. 0, 1, 2, ..., [num_class - 1].\n",
      "  warnings.warn(label_encoder_deprecation_msg, UserWarning)\n"
     ]
    },
    {
     "name": "stdout",
     "output_type": "stream",
     "text": [
      "[16:38:55] WARNING: /Users/runner/work/xgboost/xgboost/src/learner.cc:1115: Starting in XGBoost 1.3.0, the default evaluation metric used with the objective 'binary:logistic' was changed from 'error' to 'logloss'. Explicitly set eval_metric if you'd like to restore the old behavior.\n",
      "               precision    recall  f1-score   support\n",
      "\n",
      "above average       0.93      0.70      0.80       176\n",
      "below_average       0.17      0.55      0.27        20\n",
      "\n",
      "     accuracy                           0.69       196\n",
      "    macro avg       0.55      0.63      0.53       196\n",
      " weighted avg       0.86      0.69      0.75       196\n",
      "\n"
     ]
    },
    {
     "data": {
      "image/png": "[encoded data removed]",
      "text/plain": [
       "<Figure size 360x360 with 1 Axes>"
      ]
     },
     "metadata": {
      "needs_background": "light"
     },
     "output_type": "display_data"
    }
   ],
   "source": [
    "xgb = XGBClassifier(learning_rate = 0.1, max_depth= 20, n_estimators =50)\n",
    "xgb.fit(pipe.fit_transform(X_train),yc_train)\n",
    "y_predxgb = xgb.predict(pipe.transform(X_test))\n",
    "y_probxgb = xgb.predict_proba(pipe.transform(X_test))\n",
    "res = pd.DataFrame({'prob': y_probxgb[:,0],\n",
    "                   'target':yc_test})\n",
    "sns.catplot(data = res, x = 'target', y = 'prob', kind = 'box')\n",
    "thresholdxgb(y_probxgb)\n",
    "print(classification_report(yc_test, probsxgb))"
   ]
  },
  {
   "cell_type": "code",
   "execution_count": 79,
   "id": "07b30d3b",
   "metadata": {},
   "outputs": [
    {
     "data": {
      "text/html": [
       "<div>\n",
       "<style scoped>\n",
       "    .dataframe tbody tr th:only-of-type {\n",
       "        vertical-align: middle;\n",
       "    }\n",
       "\n",
       "    .dataframe tbody tr th {\n",
       "        vertical-align: top;\n",
       "    }\n",
       "\n",
       "    .dataframe thead th {\n",
       "        text-align: right;\n",
       "    }\n",
       "</style>\n",
       "<table border=\"1\" class=\"dataframe\">\n",
       "  <thead>\n",
       "    <tr style=\"text-align: right;\">\n",
       "      <th></th>\n",
       "      <th>type</th>\n",
       "      <th>price</th>\n",
       "      <th>latitude</th>\n",
       "      <th>longitude</th>\n",
       "      <th>dine_in</th>\n",
       "      <th>takeaway</th>\n",
       "      <th>delivery</th>\n",
       "      <th>drive_through</th>\n",
       "      <th>curb_pickup</th>\n",
       "      <th>neighborhood</th>\n",
       "    </tr>\n",
       "  </thead>\n",
       "  <tbody>\n",
       "    <tr>\n",
       "      <th>639</th>\n",
       "      <td>mexican</td>\n",
       "      <td>2</td>\n",
       "      <td>38.715687</td>\n",
       "      <td>-9.146375</td>\n",
       "      <td>1</td>\n",
       "      <td>1</td>\n",
       "      <td>1</td>\n",
       "      <td>0</td>\n",
       "      <td>0</td>\n",
       "      <td>Encarnação</td>\n",
       "    </tr>\n",
       "  </tbody>\n",
       "</table>\n",
       "</div>"
      ],
      "text/plain": [
       "        type  price   latitude  longitude  dine_in  takeaway  delivery  \\\n",
       "639  mexican      2  38.715687  -9.146375        1         1         1   \n",
       "\n",
       "     drive_through  curb_pickup neighborhood  \n",
       "639              0            0   Encarnação  "
      ]
     },
     "execution_count": 79,
     "metadata": {},
     "output_type": "execute_result"
    }
   ],
   "source": [
    "X_test[0:1]"
   ]
  },
  {
   "cell_type": "code",
   "execution_count": 85,
   "id": "7dd95035",
   "metadata": {},
   "outputs": [
    {
     "data": {
      "text/html": [
       "<div>\n",
       "<style scoped>\n",
       "    .dataframe tbody tr th:only-of-type {\n",
       "        vertical-align: middle;\n",
       "    }\n",
       "\n",
       "    .dataframe tbody tr th {\n",
       "        vertical-align: top;\n",
       "    }\n",
       "\n",
       "    .dataframe thead th {\n",
       "        text-align: right;\n",
       "    }\n",
       "</style>\n",
       "<table border=\"1\" class=\"dataframe\">\n",
       "  <thead>\n",
       "    <tr style=\"text-align: right;\">\n",
       "      <th></th>\n",
       "      <th>type</th>\n",
       "      <th>price</th>\n",
       "      <th>latitude</th>\n",
       "      <th>longitude</th>\n",
       "      <th>dine_in</th>\n",
       "      <th>takeway</th>\n",
       "      <th>delivery</th>\n",
       "      <th>drive_through</th>\n",
       "      <th>curb_pickup</th>\n",
       "      <th>neighborhood</th>\n",
       "    </tr>\n",
       "  </thead>\n",
       "  <tbody>\n",
       "    <tr>\n",
       "      <th>0</th>\n",
       "      <td>mexican</td>\n",
       "      <td>2</td>\n",
       "      <td>0</td>\n",
       "      <td>0</td>\n",
       "      <td>1</td>\n",
       "      <td>1</td>\n",
       "      <td>1</td>\n",
       "      <td>1</td>\n",
       "      <td>1</td>\n",
       "      <td>Encarnação</td>\n",
       "    </tr>\n",
       "  </tbody>\n",
       "</table>\n",
       "</div>"
      ],
      "text/plain": [
       "      type price latitude longitude dine_in takeway delivery drive_through  \\\n",
       "0  mexican     2        0         0       1       1        1             1   \n",
       "\n",
       "  curb_pickup neighborhood  \n",
       "0           1   Encarnação  "
      ]
     },
     "execution_count": 85,
     "metadata": {},
     "output_type": "execute_result"
    }
   ],
   "source": [
    "new_X"
   ]
  },
  {
   "cell_type": "code",
   "execution_count": 66,
   "id": "dd039b9f",
   "metadata": {},
   "outputs": [],
   "source": [
    "new_row = {'type':'mexican', 'neigborhood': 'Encarnação'}\n",
    "#append row to the dataframe\n",
    "#df_marks = df_marks.append(new_row, ignore_index=True)"
   ]
  },
  {
   "cell_type": "code",
   "execution_count": 86,
   "id": "ff4c88b4",
   "metadata": {},
   "outputs": [],
   "source": [
    "new_X=pd.DataFrame(columns=['type','price','latitude','longitude', 'dine_in', 'takeway','delivery', 'drive_through', 'curb_pickup', 'neighborhood'])\n",
    "new_row = {'type':'mexican', 'price': 2, 'latitude':'0','longitude':'0', 'takeaway':1,'dine_in':1,'delivery':1, 'drive_through':1, 'curb_pickup':1, 'neighborhood': 'Encarnação' }\n",
    "new_X=new_X.append(new_row, ignore_index=True)"
   ]
  },
  {
   "cell_type": "code",
   "execution_count": 89,
   "id": "db7f187a",
   "metadata": {},
   "outputs": [
    {
     "ename": "ValueError",
     "evalue": "If using all scalar values, you must pass an index",
     "output_type": "error",
     "traceback": [
      "\u001b[0;31m---------------------------------------------------------------------------\u001b[0m",
      "\u001b[0;31mValueError\u001b[0m                                Traceback (most recent call last)",
      "\u001b[0;32m/var/folders/hd/90spmq897k17xxlkwtc99v200000gn/T/ipykernel_51786/2251997604.py\u001b[0m in \u001b[0;36m<module>\u001b[0;34m\u001b[0m\n\u001b[0;32m----> 1\u001b[0;31m \u001b[0mpd\u001b[0m\u001b[0;34m.\u001b[0m\u001b[0mDataFrame\u001b[0m\u001b[0;34m(\u001b[0m\u001b[0;34m{\u001b[0m\u001b[0;34m'type'\u001b[0m\u001b[0;34m:\u001b[0m\u001b[0;34m'mexican'\u001b[0m\u001b[0;34m,\u001b[0m \u001b[0;34m'price'\u001b[0m\u001b[0;34m:\u001b[0m \u001b[0;36m2\u001b[0m\u001b[0;34m,\u001b[0m \u001b[0;34m'latitude'\u001b[0m\u001b[0;34m:\u001b[0m\u001b[0;34m'0'\u001b[0m\u001b[0;34m,\u001b[0m\u001b[0;34m'longitude'\u001b[0m\u001b[0;34m:\u001b[0m\u001b[0;34m'0'\u001b[0m\u001b[0;34m,\u001b[0m \u001b[0;34m'takeaway'\u001b[0m\u001b[0;34m:\u001b[0m\u001b[0;36m1\u001b[0m\u001b[0;34m,\u001b[0m\u001b[0;34m'dine_in'\u001b[0m\u001b[0;34m:\u001b[0m\u001b[0;36m1\u001b[0m\u001b[0;34m,\u001b[0m\u001b[0;34m'delivery'\u001b[0m\u001b[0;34m:\u001b[0m\u001b[0;36m1\u001b[0m\u001b[0;34m,\u001b[0m \u001b[0;34m'drive_through'\u001b[0m\u001b[0;34m:\u001b[0m\u001b[0;36m1\u001b[0m\u001b[0;34m,\u001b[0m \u001b[0;34m'curb_pickup'\u001b[0m\u001b[0;34m:\u001b[0m\u001b[0;36m1\u001b[0m\u001b[0;34m,\u001b[0m \u001b[0;34m'neighborhood'\u001b[0m\u001b[0;34m:\u001b[0m \u001b[0;34m'Encarnação'\u001b[0m \u001b[0;34m}\u001b[0m\u001b[0;34m)\u001b[0m\u001b[0;34m\u001b[0m\u001b[0;34m\u001b[0m\u001b[0m\n\u001b[0m",
      "\u001b[0;32m~/.pyenv/versions/3.8.12/envs/small_business/lib/python3.8/site-packages/pandas/core/frame.py\u001b[0m in \u001b[0;36m__init__\u001b[0;34m(self, data, index, columns, dtype, copy)\u001b[0m\n\u001b[1;32m    612\u001b[0m         \u001b[0;32melif\u001b[0m \u001b[0misinstance\u001b[0m\u001b[0;34m(\u001b[0m\u001b[0mdata\u001b[0m\u001b[0;34m,\u001b[0m \u001b[0mdict\u001b[0m\u001b[0;34m)\u001b[0m\u001b[0;34m:\u001b[0m\u001b[0;34m\u001b[0m\u001b[0;34m\u001b[0m\u001b[0m\n\u001b[1;32m    613\u001b[0m             \u001b[0;31m# GH#38939 de facto copy defaults to False only in non-dict cases\u001b[0m\u001b[0;34m\u001b[0m\u001b[0;34m\u001b[0m\u001b[0;34m\u001b[0m\u001b[0m\n\u001b[0;32m--> 614\u001b[0;31m             \u001b[0mmgr\u001b[0m \u001b[0;34m=\u001b[0m \u001b[0mdict_to_mgr\u001b[0m\u001b[0;34m(\u001b[0m\u001b[0mdata\u001b[0m\u001b[0;34m,\u001b[0m \u001b[0mindex\u001b[0m\u001b[0;34m,\u001b[0m \u001b[0mcolumns\u001b[0m\u001b[0;34m,\u001b[0m \u001b[0mdtype\u001b[0m\u001b[0;34m=\u001b[0m\u001b[0mdtype\u001b[0m\u001b[0;34m,\u001b[0m \u001b[0mcopy\u001b[0m\u001b[0;34m=\u001b[0m\u001b[0mcopy\u001b[0m\u001b[0;34m,\u001b[0m \u001b[0mtyp\u001b[0m\u001b[0;34m=\u001b[0m\u001b[0mmanager\u001b[0m\u001b[0;34m)\u001b[0m\u001b[0;34m\u001b[0m\u001b[0;34m\u001b[0m\u001b[0m\n\u001b[0m\u001b[1;32m    615\u001b[0m         \u001b[0;32melif\u001b[0m \u001b[0misinstance\u001b[0m\u001b[0;34m(\u001b[0m\u001b[0mdata\u001b[0m\u001b[0;34m,\u001b[0m \u001b[0mma\u001b[0m\u001b[0;34m.\u001b[0m\u001b[0mMaskedArray\u001b[0m\u001b[0;34m)\u001b[0m\u001b[0;34m:\u001b[0m\u001b[0;34m\u001b[0m\u001b[0;34m\u001b[0m\u001b[0m\n\u001b[1;32m    616\u001b[0m             \u001b[0;32mimport\u001b[0m \u001b[0mnumpy\u001b[0m\u001b[0;34m.\u001b[0m\u001b[0mma\u001b[0m\u001b[0;34m.\u001b[0m\u001b[0mmrecords\u001b[0m \u001b[0;32mas\u001b[0m \u001b[0mmrecords\u001b[0m\u001b[0;34m\u001b[0m\u001b[0;34m\u001b[0m\u001b[0m\n",
      "\u001b[0;32m~/.pyenv/versions/3.8.12/envs/small_business/lib/python3.8/site-packages/pandas/core/internals/construction.py\u001b[0m in \u001b[0;36mdict_to_mgr\u001b[0;34m(data, index, columns, dtype, typ, copy)\u001b[0m\n\u001b[1;32m    462\u001b[0m         \u001b[0;31m# TODO: can we get rid of the dt64tz special case above?\u001b[0m\u001b[0;34m\u001b[0m\u001b[0;34m\u001b[0m\u001b[0;34m\u001b[0m\u001b[0m\n\u001b[1;32m    463\u001b[0m \u001b[0;34m\u001b[0m\u001b[0m\n\u001b[0;32m--> 464\u001b[0;31m     return arrays_to_mgr(\n\u001b[0m\u001b[1;32m    465\u001b[0m         \u001b[0marrays\u001b[0m\u001b[0;34m,\u001b[0m \u001b[0mdata_names\u001b[0m\u001b[0;34m,\u001b[0m \u001b[0mindex\u001b[0m\u001b[0;34m,\u001b[0m \u001b[0mcolumns\u001b[0m\u001b[0;34m,\u001b[0m \u001b[0mdtype\u001b[0m\u001b[0;34m=\u001b[0m\u001b[0mdtype\u001b[0m\u001b[0;34m,\u001b[0m \u001b[0mtyp\u001b[0m\u001b[0;34m=\u001b[0m\u001b[0mtyp\u001b[0m\u001b[0;34m,\u001b[0m \u001b[0mconsolidate\u001b[0m\u001b[0;34m=\u001b[0m\u001b[0mcopy\u001b[0m\u001b[0;34m\u001b[0m\u001b[0;34m\u001b[0m\u001b[0m\n\u001b[1;32m    466\u001b[0m     )\n",
      "\u001b[0;32m~/.pyenv/versions/3.8.12/envs/small_business/lib/python3.8/site-packages/pandas/core/internals/construction.py\u001b[0m in \u001b[0;36marrays_to_mgr\u001b[0;34m(arrays, arr_names, index, columns, dtype, verify_integrity, typ, consolidate)\u001b[0m\n\u001b[1;32m    117\u001b[0m         \u001b[0;31m# figure out the index, if necessary\u001b[0m\u001b[0;34m\u001b[0m\u001b[0;34m\u001b[0m\u001b[0;34m\u001b[0m\u001b[0m\n\u001b[1;32m    118\u001b[0m         \u001b[0;32mif\u001b[0m \u001b[0mindex\u001b[0m \u001b[0;32mis\u001b[0m \u001b[0;32mNone\u001b[0m\u001b[0;34m:\u001b[0m\u001b[0;34m\u001b[0m\u001b[0;34m\u001b[0m\u001b[0m\n\u001b[0;32m--> 119\u001b[0;31m             \u001b[0mindex\u001b[0m \u001b[0;34m=\u001b[0m \u001b[0m_extract_index\u001b[0m\u001b[0;34m(\u001b[0m\u001b[0marrays\u001b[0m\u001b[0;34m)\u001b[0m\u001b[0;34m\u001b[0m\u001b[0;34m\u001b[0m\u001b[0m\n\u001b[0m\u001b[1;32m    120\u001b[0m         \u001b[0;32melse\u001b[0m\u001b[0;34m:\u001b[0m\u001b[0;34m\u001b[0m\u001b[0;34m\u001b[0m\u001b[0m\n\u001b[1;32m    121\u001b[0m             \u001b[0mindex\u001b[0m \u001b[0;34m=\u001b[0m \u001b[0mensure_index\u001b[0m\u001b[0;34m(\u001b[0m\u001b[0mindex\u001b[0m\u001b[0;34m)\u001b[0m\u001b[0;34m\u001b[0m\u001b[0;34m\u001b[0m\u001b[0m\n",
      "\u001b[0;32m~/.pyenv/versions/3.8.12/envs/small_business/lib/python3.8/site-packages/pandas/core/internals/construction.py\u001b[0m in \u001b[0;36m_extract_index\u001b[0;34m(data)\u001b[0m\n\u001b[1;32m    623\u001b[0m \u001b[0;34m\u001b[0m\u001b[0m\n\u001b[1;32m    624\u001b[0m         \u001b[0;32mif\u001b[0m \u001b[0;32mnot\u001b[0m \u001b[0mindexes\u001b[0m \u001b[0;32mand\u001b[0m \u001b[0;32mnot\u001b[0m \u001b[0mraw_lengths\u001b[0m\u001b[0;34m:\u001b[0m\u001b[0;34m\u001b[0m\u001b[0;34m\u001b[0m\u001b[0m\n\u001b[0;32m--> 625\u001b[0;31m             \u001b[0;32mraise\u001b[0m \u001b[0mValueError\u001b[0m\u001b[0;34m(\u001b[0m\u001b[0;34m\"If using all scalar values, you must pass an index\"\u001b[0m\u001b[0;34m)\u001b[0m\u001b[0;34m\u001b[0m\u001b[0;34m\u001b[0m\u001b[0m\n\u001b[0m\u001b[1;32m    626\u001b[0m \u001b[0;34m\u001b[0m\u001b[0m\n\u001b[1;32m    627\u001b[0m         \u001b[0;32mif\u001b[0m \u001b[0mhave_series\u001b[0m\u001b[0;34m:\u001b[0m\u001b[0;34m\u001b[0m\u001b[0;34m\u001b[0m\u001b[0m\n",
      "\u001b[0;31mValueError\u001b[0m: If using all scalar values, you must pass an index"
     ]
    }
   ],
   "source": [
    "pd.DataFrame({'type':'mexican', 'price': 2, 'latitude':'0','longitude':'0', 'takeaway':1,'dine_in':1,'delivery':1, 'drive_through':1, 'curb_pickup':1, 'neighborhood': 'Encarnação' })"
   ]
  },
  {
   "cell_type": "code",
   "execution_count": 88,
   "id": "554e9a8c",
   "metadata": {},
   "outputs": [],
   "source": [
    "y_predknn = knn.predict(pipe.transform(new_X))\n",
    "#y_predknn = knn.predict(pipe.transform(X_test[0:1]))\n"
   ]
  },
  {
   "cell_type": "code",
   "execution_count": 63,
   "id": "31e54e30",
   "metadata": {
    "scrolled": true
   },
   "outputs": [
    {
     "name": "stdout",
     "output_type": "stream",
     "text": [
      "               precision    recall  f1-score   support\n",
      "\n",
      "above average       0.94      0.91      0.93       176\n",
      "below_average       0.38      0.45      0.41        20\n",
      "\n",
      "     accuracy                           0.87       196\n",
      "    macro avg       0.66      0.68      0.67       196\n",
      " weighted avg       0.88      0.87      0.87       196\n",
      "\n"
     ]
    },
    {
     "data": {
      "image/png": "[encoded data removed]",
      "text/plain": [
       "<Figure size 360x360 with 1 Axes>"
      ]
     },
     "metadata": {
      "needs_background": "light"
     },
     "output_type": "display_data"
    }
   ],
   "source": [
    "knn = KNeighborsClassifier(n_neighbors = 5,weights= 'uniform' )\n",
    "knn.fit(pipe.fit_transform(X_train),yc_train)\n",
    "y_predknn = knn.predict(pipe.transform(X_test))\n",
    "y_probknn = knn.predict_proba(pipe.transform(X_test))\n",
    "res = pd.DataFrame({'prob': y_probknn[:,0],\n",
    "                   'target':yc_test})\n",
    "sns.catplot(data = res, x = 'target', y = 'prob', kind = 'box')\n",
    "thresholdknn(y_probknn)\n",
    "print(classification_report(yc_test, probsknn))"
   ]
  },
  {
   "cell_type": "code",
   "execution_count": null,
   "id": "b09fef28",
   "metadata": {},
   "outputs": [],
   "source": [
    "\n"
   ]
  },
  {
   "cell_type": "code",
   "execution_count": 38,
   "id": "1388ccda",
   "metadata": {},
   "outputs": [
    {
     "name": "stdout",
     "output_type": "stream",
     "text": [
      "               precision    recall  f1-score   support\n",
      "\n",
      "above average       0.95      0.65      0.77       176\n",
      "below_average       0.19      0.70      0.29        20\n",
      "\n",
      "     accuracy                           0.66       196\n",
      "    macro avg       0.57      0.68      0.53       196\n",
      " weighted avg       0.87      0.66      0.73       196\n",
      "\n"
     ]
    },
    {
     "data": {
      "image/png": "[encoded data removed]",
      "text/plain": [
       "<Figure size 360x360 with 1 Axes>"
      ]
     },
     "metadata": {
      "needs_background": "light"
     },
     "output_type": "display_data"
    }
   ],
   "source": [
    "svm = SVC(C= 0.1, class_weight='balanced', probability = True, kernel = 'linear')\n",
    "svm.fit(pipe.fit_transform(X_train),yc_train)\n",
    "y_pred = svm.predict(pipe.transform(X_test))\n",
    "y_prob = svm.predict_proba(pipe.transform(X_test))\n",
    "res = pd.DataFrame({'prob': y_prob[:,0],\n",
    "                   'target':yc_test})\n",
    "sns.catplot(data = res, x = 'target', y = 'prob', kind = 'box')\n",
    "thresholdsvm(y_prob)\n",
    "print(classification_report(yc_test,probs))"
   ]
  },
  {
   "cell_type": "code",
   "execution_count": 39,
   "id": "0c8afab1",
   "metadata": {},
   "outputs": [
    {
     "name": "stdout",
     "output_type": "stream",
     "text": [
      "Accuracy = 0.74\n",
      "Precision = 0.87\n",
      "Recall = 0.74\n",
      "F1 score = 0.79\n"
     ]
    }
   ],
   "source": [
    "from sklearn.metrics import accuracy_score, precision_score, recall_score, f1_score\n",
    "print('Accuracy =', round(accuracy_score(yc_test, y_pred), 2)) # Accuracy\n",
    "\n",
    "print('Precision =', round(precision_score(yc_test, y_pred, average='weighted'), 2)) # Precision\n",
    "\n",
    "print('Recall =', round(recall_score(yc_test, y_pred, average='weighted'), 2)) # Recall\n",
    "\n",
    "print('F1 score =', round(f1_score(yc_test, y_pred, average='weighted'), 2)) # F1 score"
   ]
  },
  {
   "cell_type": "markdown",
   "id": "f61a246e",
   "metadata": {},
   "source": [
    "## Find nearest neighbours "
   ]
  },
  {
   "cell_type": "code",
   "execution_count": 45,
   "id": "d4e6155a",
   "metadata": {},
   "outputs": [
    {
     "data": {
      "text/plain": [
       "array([[  5,  17, 373, 416, 253]])"
      ]
     },
     "execution_count": 45,
     "metadata": {},
     "output_type": "execute_result"
    }
   ],
   "source": [
    "knn.kneighbors(X_train_t[5], return_distance=False)"
   ]
  },
  {
   "cell_type": "code",
   "execution_count": null,
   "id": "25593e76",
   "metadata": {},
   "outputs": [],
   "source": []
  },
  {
   "cell_type": "code",
   "execution_count": null,
   "id": "97064d44",
   "metadata": {},
   "outputs": [],
   "source": []
  },
  {
   "cell_type": "markdown",
   "id": "19475fa6",
   "metadata": {},
   "source": [
    "### Function prediction "
   ]
  },
  {
   "cell_type": "code",
   "execution_count": 90,
   "id": "bc0701b6",
   "metadata": {},
   "outputs": [],
   "source": []
  },
  {
   "cell_type": "code",
   "execution_count": null,
   "id": "9cb3a5f8",
   "metadata": {},
   "outputs": [],
   "source": []
  }
 ],
 "metadata": {
  "kernelspec": {
   "display_name": "Python 3 (ipykernel)",
   "language": "python",
   "name": "python3"
  },
  "language_info": {
   "codemirror_mode": {
    "name": "ipython",
    "version": 3
   },
   "file_extension": ".py",
   "mimetype": "text/x-python",
   "name": "python",
   "nbconvert_exporter": "python",
   "pygments_lexer": "ipython3",
   "version": "3.8.12"
  },
  "toc": {
   "base_numbering": 1,
   "nav_menu": {},
   "number_sections": true,
   "sideBar": true,
   "skip_h1_title": false,
   "title_cell": "Table of Contents",
   "title_sidebar": "Contents",
   "toc_cell": false,
   "toc_position": {},
   "toc_section_display": true,
   "toc_window_display": false
  }
 },
 "nbformat": 4,
 "nbformat_minor": 5
}
