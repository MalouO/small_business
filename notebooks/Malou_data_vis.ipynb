{
 "cells": [
  {
   "cell_type": "markdown",
   "id": "1d4f06f8",
   "metadata": {},
   "source": [
    "# Data Visualisation "
   ]
  },
  {
   "cell_type": "code",
   "execution_count": 4,
   "id": "108ac46f",
   "metadata": {},
   "outputs": [],
   "source": [
    "import pickle "
   ]
  },
  {
   "cell_type": "code",
   "execution_count": 45,
   "id": "8ae92b49",
   "metadata": {},
   "outputs": [],
   "source": [
    "file = open(\"all_data.pickle\",'rb')\n",
    "data = pickle.load(file)\n",
    "file.close()"
   ]
  },
  {
   "cell_type": "code",
   "execution_count": 37,
   "id": "2741cc2a",
   "metadata": {},
   "outputs": [
    {
     "ename": "TypeError",
     "evalue": "unhashable type: 'list'",
     "output_type": "error",
     "traceback": [
      "\u001b[0;31m---------------------------------------------------------------------------\u001b[0m",
      "\u001b[0;31mTypeError\u001b[0m                                 Traceback (most recent call last)",
      "\u001b[0;32mpandas/_libs/hashtable_class_helper.pxi\u001b[0m in \u001b[0;36mpandas._libs.hashtable.PyObjectHashTable.map_locations\u001b[0;34m()\u001b[0m\n",
      "\u001b[0;31mTypeError\u001b[0m: unhashable type: 'list'"
     ]
    },
    {
     "name": "stderr",
     "output_type": "stream",
     "text": [
      "Exception ignored in: 'pandas._libs.index.IndexEngine._call_map_locations'\n",
      "Traceback (most recent call last):\n",
      "  File \"pandas/_libs/hashtable_class_helper.pxi\", line 5231, in pandas._libs.hashtable.PyObjectHashTable.map_locations\n",
      "TypeError: unhashable type: 'list'\n"
     ]
    },
    {
     "data": {
      "text/plain": [
       "[]    8495\n",
       "Name: transactions, dtype: int64"
      ]
     },
     "execution_count": 37,
     "metadata": {},
     "output_type": "execute_result"
    }
   ],
   "source": [
    "data['transactions'].value_counts()"
   ]
  },
  {
   "cell_type": "markdown",
   "id": "95be4663",
   "metadata": {},
   "source": [
    "To delete: \n",
    "    transactions\n",
    "    phone\n",
    "    is_closed\n",
    "    distance\n",
    "    response\n",
    "    user.name\n",
    "    user.image_url \n",
    "    time_created\n",
    "    image url \n",
    "    "
   ]
  },
  {
   "cell_type": "code",
   "execution_count": 46,
   "id": "c55f3b4c",
   "metadata": {},
   "outputs": [],
   "source": [
    "data.reset_index(inplace=True)"
   ]
  },
  {
   "cell_type": "code",
   "execution_count": 55,
   "id": "c14e9235",
   "metadata": {},
   "outputs": [],
   "source": [
    "data = data[['id', 'alias', 'name','url',\n",
    "       'review_count', 'rating','price', 'latitude', 'longitude', 'address1', 'address2',\n",
    "       'address3', 'city', 'zip_code','display_address',\n",
    "       'alias_1', 'title_1', 'alias_2', 'title_2', 'alias_3', 'title_3','id_review1', 'url_review1', 'text_review1',\n",
    "       'rating_review1', 'user.id_review1', 'id_review2', 'url_review2', 'text_review2',\n",
    "       'rating_review2', 'user.id_review2','id_review3', 'url_review3', 'text_review3',\n",
    "       'rating_review3', 'user.id_review3']]"
   ]
  },
  {
   "cell_type": "code",
   "execution_count": 72,
   "id": "b4e1e769",
   "metadata": {},
   "outputs": [
    {
     "data": {
      "text/plain": [
       "'Delicious fresh juices including sugarcane juice. Yummy brazilian empanadas. Staff we very accommodating and made us some custom combinations. Vegetarian...'"
      ]
     },
     "execution_count": 72,
     "metadata": {},
     "output_type": "execute_result"
    }
   ],
   "source": [
    "data['text_review2'][1]"
   ]
  },
  {
   "cell_type": "code",
   "execution_count": 58,
   "id": "de59a1cc",
   "metadata": {},
   "outputs": [
    {
     "data": {
      "text/html": [
       "<div>\n",
       "<style scoped>\n",
       "    .dataframe tbody tr th:only-of-type {\n",
       "        vertical-align: middle;\n",
       "    }\n",
       "\n",
       "    .dataframe tbody tr th {\n",
       "        vertical-align: top;\n",
       "    }\n",
       "\n",
       "    .dataframe thead th {\n",
       "        text-align: right;\n",
       "    }\n",
       "</style>\n",
       "<table border=\"1\" class=\"dataframe\">\n",
       "  <thead>\n",
       "    <tr style=\"text-align: right;\">\n",
       "      <th></th>\n",
       "      <th>review_count</th>\n",
       "      <th>rating</th>\n",
       "      <th>latitude</th>\n",
       "      <th>longitude</th>\n",
       "      <th>rating_review1</th>\n",
       "      <th>rating_review2</th>\n",
       "      <th>rating_review3</th>\n",
       "    </tr>\n",
       "  </thead>\n",
       "  <tbody>\n",
       "    <tr>\n",
       "      <th>count</th>\n",
       "      <td>8495.000000</td>\n",
       "      <td>8495.000000</td>\n",
       "      <td>5589.000000</td>\n",
       "      <td>5589.000000</td>\n",
       "      <td>1198.000000</td>\n",
       "      <td>733.000000</td>\n",
       "      <td>553.000000</td>\n",
       "    </tr>\n",
       "    <tr>\n",
       "      <th>mean</th>\n",
       "      <td>4.553384</td>\n",
       "      <td>3.745851</td>\n",
       "      <td>38.728204</td>\n",
       "      <td>-9.152651</td>\n",
       "      <td>4.184474</td>\n",
       "      <td>4.012278</td>\n",
       "      <td>3.947559</td>\n",
       "    </tr>\n",
       "    <tr>\n",
       "      <th>std</th>\n",
       "      <td>17.983928</td>\n",
       "      <td>0.787999</td>\n",
       "      <td>0.031806</td>\n",
       "      <td>0.039705</td>\n",
       "      <td>1.173443</td>\n",
       "      <td>1.225241</td>\n",
       "      <td>1.315652</td>\n",
       "    </tr>\n",
       "    <tr>\n",
       "      <th>min</th>\n",
       "      <td>0.000000</td>\n",
       "      <td>0.000000</td>\n",
       "      <td>38.517813</td>\n",
       "      <td>-9.470845</td>\n",
       "      <td>1.000000</td>\n",
       "      <td>1.000000</td>\n",
       "      <td>1.000000</td>\n",
       "    </tr>\n",
       "    <tr>\n",
       "      <th>25%</th>\n",
       "      <td>1.000000</td>\n",
       "      <td>3.000000</td>\n",
       "      <td>38.711739</td>\n",
       "      <td>-9.160555</td>\n",
       "      <td>4.000000</td>\n",
       "      <td>3.000000</td>\n",
       "      <td>3.000000</td>\n",
       "    </tr>\n",
       "    <tr>\n",
       "      <th>50%</th>\n",
       "      <td>2.000000</td>\n",
       "      <td>4.000000</td>\n",
       "      <td>38.721919</td>\n",
       "      <td>-9.145665</td>\n",
       "      <td>5.000000</td>\n",
       "      <td>4.000000</td>\n",
       "      <td>4.000000</td>\n",
       "    </tr>\n",
       "    <tr>\n",
       "      <th>75%</th>\n",
       "      <td>3.000000</td>\n",
       "      <td>4.000000</td>\n",
       "      <td>38.741618</td>\n",
       "      <td>-9.137290</td>\n",
       "      <td>5.000000</td>\n",
       "      <td>5.000000</td>\n",
       "      <td>5.000000</td>\n",
       "    </tr>\n",
       "    <tr>\n",
       "      <th>max</th>\n",
       "      <td>928.000000</td>\n",
       "      <td>5.000000</td>\n",
       "      <td>39.679909</td>\n",
       "      <td>-7.968665</td>\n",
       "      <td>5.000000</td>\n",
       "      <td>5.000000</td>\n",
       "      <td>5.000000</td>\n",
       "    </tr>\n",
       "  </tbody>\n",
       "</table>\n",
       "</div>"
      ],
      "text/plain": [
       "       review_count       rating     latitude    longitude  rating_review1  \\\n",
       "count   8495.000000  8495.000000  5589.000000  5589.000000     1198.000000   \n",
       "mean       4.553384     3.745851    38.728204    -9.152651        4.184474   \n",
       "std       17.983928     0.787999     0.031806     0.039705        1.173443   \n",
       "min        0.000000     0.000000    38.517813    -9.470845        1.000000   \n",
       "25%        1.000000     3.000000    38.711739    -9.160555        4.000000   \n",
       "50%        2.000000     4.000000    38.721919    -9.145665        5.000000   \n",
       "75%        3.000000     4.000000    38.741618    -9.137290        5.000000   \n",
       "max      928.000000     5.000000    39.679909    -7.968665        5.000000   \n",
       "\n",
       "       rating_review2  rating_review3  \n",
       "count      733.000000      553.000000  \n",
       "mean         4.012278        3.947559  \n",
       "std          1.225241        1.315652  \n",
       "min          1.000000        1.000000  \n",
       "25%          3.000000        3.000000  \n",
       "50%          4.000000        4.000000  \n",
       "75%          5.000000        5.000000  \n",
       "max          5.000000        5.000000  "
      ]
     },
     "execution_count": 58,
     "metadata": {},
     "output_type": "execute_result"
    }
   ],
   "source": [
    "data.describe()"
   ]
  },
  {
   "cell_type": "code",
   "execution_count": 62,
   "id": "958226a4",
   "metadata": {},
   "outputs": [
    {
     "data": {
      "text/plain": [
       "7297"
      ]
     },
     "execution_count": 62,
     "metadata": {},
     "output_type": "execute_result"
    }
   ],
   "source": [
    "data['id_review1'].isna().sum()"
   ]
  },
  {
   "cell_type": "code",
   "execution_count": 66,
   "id": "e9e9dda7",
   "metadata": {},
   "outputs": [
    {
     "data": {
      "text/plain": [
       "2906"
      ]
     },
     "execution_count": 66,
     "metadata": {},
     "output_type": "execute_result"
    }
   ],
   "source": [
    "data['longitude'].isna().sum()"
   ]
  },
  {
   "cell_type": "code",
   "execution_count": 69,
   "id": "fdbc50d1",
   "metadata": {},
   "outputs": [
    {
     "data": {
      "text/plain": [
       "2905"
      ]
     },
     "execution_count": 69,
     "metadata": {},
     "output_type": "execute_result"
    }
   ],
   "source": [
    "data['display_address'].isna().sum()"
   ]
  },
  {
   "cell_type": "code",
   "execution_count": 70,
   "id": "fa7da3e4",
   "metadata": {},
   "outputs": [
    {
     "data": {
      "text/plain": [
       "5549"
      ]
     },
     "execution_count": 70,
     "metadata": {},
     "output_type": "execute_result"
    }
   ],
   "source": [
    "data['price'].isna().sum()"
   ]
  },
  {
   "cell_type": "code",
   "execution_count": 71,
   "id": "9707b77a",
   "metadata": {},
   "outputs": [
    {
     "data": {
      "text/plain": [
       "€€      1558\n",
       "€        785\n",
       "€€€      539\n",
       "€€€€      64\n",
       "Name: price, dtype: int64"
      ]
     },
     "execution_count": 71,
     "metadata": {},
     "output_type": "execute_result"
    }
   ],
   "source": [
    "data['price'].value_counts()"
   ]
  },
  {
   "cell_type": "code",
   "execution_count": null,
   "id": "0a8eda03",
   "metadata": {},
   "outputs": [],
   "source": []
  }
 ],
 "metadata": {
  "kernelspec": {
   "display_name": "Python 3 (ipykernel)",
   "language": "python",
   "name": "python3"
  },
  "language_info": {
   "codemirror_mode": {
    "name": "ipython",
    "version": 3
   },
   "file_extension": ".py",
   "mimetype": "text/x-python",
   "name": "python",
   "nbconvert_exporter": "python",
   "pygments_lexer": "ipython3",
   "version": "3.8.12"
  },
  "toc": {
   "base_numbering": 1,
   "nav_menu": {},
   "number_sections": true,
   "sideBar": true,
   "skip_h1_title": false,
   "title_cell": "Table of Contents",
   "title_sidebar": "Contents",
   "toc_cell": false,
   "toc_position": {},
   "toc_section_display": true,
   "toc_window_display": false
  }
 },
 "nbformat": 4,
 "nbformat_minor": 5
}
