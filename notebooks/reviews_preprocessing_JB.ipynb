{
 "cells": [
  {
   "cell_type": "markdown",
   "id": "1d82781b-7181-4075-9b07-a6d249fdda0e",
   "metadata": {},
   "source": [
    "## Analysis of google reviews"
   ]
  },
  {
   "cell_type": "code",
   "execution_count": 250,
   "id": "03bc4296-64af-4954-b779-2492127a4b98",
   "metadata": {},
   "outputs": [],
   "source": [
    "import pandas as pd\n",
    "import pickle\n",
    "import pandas as pd\n",
    "from nltk.tokenize import word_tokenize\n",
    "from nltk.corpus import stopwords \n",
    "import string\n",
    "from sklearn.naive_bayes import MultinomialNB\n",
    "import matplotlib.pyplot as plt\n",
    "from deep_translator import GoogleTranslator"
   ]
  },
  {
   "cell_type": "markdown",
   "id": "3fd2fa61-f488-4811-b0e2-3301c0c5fce3",
   "metadata": {},
   "source": [
    "## import data and drop columns"
   ]
  },
  {
   "cell_type": "code",
   "execution_count": 251,
   "id": "5a30fb0d-13e6-4ecb-841a-9dd9b2c37e04",
   "metadata": {},
   "outputs": [],
   "source": [
    "df = pd.read_csv(\"../raw_data/reviews_clean_2_12_21.csv\")"
   ]
  },
  {
   "cell_type": "code",
   "execution_count": 252,
   "id": "73ec1258-7e8a-441b-8720-a23f636f6d0c",
   "metadata": {},
   "outputs": [
    {
     "data": {
      "text/plain": [
       "(81881, 4)"
      ]
     },
     "execution_count": 252,
     "metadata": {},
     "output_type": "execute_result"
    }
   ],
   "source": [
    "df.drop(columns=[\"index\",\"Unnamed: 0\", \"comment_names\"], inplace=True)\n",
    "df.shape"
   ]
  },
  {
   "cell_type": "code",
   "execution_count": 253,
   "id": "4c3b0ef6-c4d2-49df-8f60-2583d7bf78e3",
   "metadata": {},
   "outputs": [
    {
     "data": {
      "text/html": [
       "<div>\n",
       "<style scoped>\n",
       "    .dataframe tbody tr th:only-of-type {\n",
       "        vertical-align: middle;\n",
       "    }\n",
       "\n",
       "    .dataframe tbody tr th {\n",
       "        vertical-align: top;\n",
       "    }\n",
       "\n",
       "    .dataframe thead th {\n",
       "        text-align: right;\n",
       "    }\n",
       "</style>\n",
       "<table border=\"1\" class=\"dataframe\">\n",
       "  <thead>\n",
       "    <tr style=\"text-align: right;\">\n",
       "      <th></th>\n",
       "      <th>restaurant_name</th>\n",
       "      <th>comment_ratings</th>\n",
       "      <th>comment_dates</th>\n",
       "      <th>comment_comments</th>\n",
       "    </tr>\n",
       "  </thead>\n",
       "  <tbody>\n",
       "    <tr>\n",
       "      <th>0</th>\n",
       "      <td>Augusto Lisboa</td>\n",
       "      <td>Rated 5.0 out of 5.</td>\n",
       "      <td>2 weeks ago</td>\n",
       "      <td>Well worth the small wait to get in of around ...</td>\n",
       "    </tr>\n",
       "    <tr>\n",
       "      <th>1</th>\n",
       "      <td>Augusto Lisboa</td>\n",
       "      <td>Rated 5.0 out of 5.</td>\n",
       "      <td>5 days ago</td>\n",
       "      <td>Two words: Homemade excellence. This place set...</td>\n",
       "    </tr>\n",
       "    <tr>\n",
       "      <th>2</th>\n",
       "      <td>Augusto Lisboa</td>\n",
       "      <td>Rated 5.0 out of 5.</td>\n",
       "      <td>6 days ago</td>\n",
       "      <td>Chic vibe, excellent service, and delicious fo...</td>\n",
       "    </tr>\n",
       "    <tr>\n",
       "      <th>3</th>\n",
       "      <td>Augusto Lisboa</td>\n",
       "      <td>Rated 5.0 out of 5.</td>\n",
       "      <td>2 weeks ago</td>\n",
       "      <td>Some of the best brunch I’ve had! Cheery and c...</td>\n",
       "    </tr>\n",
       "    <tr>\n",
       "      <th>4</th>\n",
       "      <td>Augusto Lisboa</td>\n",
       "      <td>Rated 4.0 out of 5.</td>\n",
       "      <td>a week ago</td>\n",
       "      <td>Love the avocado toast! Best cappuccino and th...</td>\n",
       "    </tr>\n",
       "  </tbody>\n",
       "</table>\n",
       "</div>"
      ],
      "text/plain": [
       "  restaurant_name      comment_ratings comment_dates  \\\n",
       "0  Augusto Lisboa  Rated 5.0 out of 5.   2 weeks ago   \n",
       "1  Augusto Lisboa  Rated 5.0 out of 5.    5 days ago   \n",
       "2  Augusto Lisboa  Rated 5.0 out of 5.    6 days ago   \n",
       "3  Augusto Lisboa  Rated 5.0 out of 5.   2 weeks ago   \n",
       "4  Augusto Lisboa  Rated 4.0 out of 5.    a week ago   \n",
       "\n",
       "                                    comment_comments  \n",
       "0  Well worth the small wait to get in of around ...  \n",
       "1  Two words: Homemade excellence. This place set...  \n",
       "2  Chic vibe, excellent service, and delicious fo...  \n",
       "3  Some of the best brunch I’ve had! Cheery and c...  \n",
       "4  Love the avocado toast! Best cappuccino and th...  "
      ]
     },
     "execution_count": 253,
     "metadata": {},
     "output_type": "execute_result"
    }
   ],
   "source": [
    "df.drop_duplicates(inplace=True)\n",
    "\n",
    "df.head()"
   ]
  },
  {
   "cell_type": "code",
   "execution_count": 254,
   "id": "ba866ef1-31c0-43d6-a767-2c5d9a474c7c",
   "metadata": {},
   "outputs": [
    {
     "data": {
      "text/plain": [
       "(81881, 4)"
      ]
     },
     "execution_count": 254,
     "metadata": {},
     "output_type": "execute_result"
    }
   ],
   "source": [
    "df.shape"
   ]
  },
  {
   "cell_type": "code",
   "execution_count": 255,
   "id": "1c922325-4588-48cf-be52-bb97c09231db",
   "metadata": {},
   "outputs": [
    {
     "data": {
      "text/plain": [
       "(81536, 4)"
      ]
     },
     "execution_count": 255,
     "metadata": {},
     "output_type": "execute_result"
    }
   ],
   "source": [
    "cleaned_df = df.dropna()\n",
    "cleaned_df = cleaned_df.reset_index(drop=True)\n",
    "cleaned_df.shape"
   ]
  },
  {
   "cell_type": "markdown",
   "id": "199eefd7-290f-4967-bf20-e47539470f8d",
   "metadata": {},
   "source": [
    "### Clean score column"
   ]
  },
  {
   "cell_type": "code",
   "execution_count": 256,
   "id": "f6ef8765-7636-450f-835e-33d499935376",
   "metadata": {},
   "outputs": [
    {
     "data": {
      "text/plain": [
       "array(['Rated 5.0 out of 5.', 'Rated 4.0 out of 5.',\n",
       "       'Rated 1.0 out of 5.', 'Rated 3.0 out of 5.',\n",
       "       'Rated 2.0 out of 5.'], dtype=object)"
      ]
     },
     "execution_count": 256,
     "metadata": {},
     "output_type": "execute_result"
    }
   ],
   "source": [
    "cleaned_df.comment_ratings.unique()"
   ]
  },
  {
   "cell_type": "code",
   "execution_count": 257,
   "id": "7928d65f-f49f-496d-ac06-5657d42bae4c",
   "metadata": {},
   "outputs": [],
   "source": [
    "def extract_score(series):\n",
    "    return float(series[6:9])"
   ]
  },
  {
   "cell_type": "code",
   "execution_count": 258,
   "id": "14f24cd6-b604-4a9b-8741-e8b49f36e819",
   "metadata": {},
   "outputs": [],
   "source": [
    "cleaned_df['comment_ratings'] = cleaned_df['comment_ratings'].apply(extract_score)"
   ]
  },
  {
   "cell_type": "code",
   "execution_count": 259,
   "id": "c11a333e-3258-4546-ba88-e67ea725a7fb",
   "metadata": {
    "tags": []
   },
   "outputs": [
    {
     "data": {
      "text/plain": [
       "array([5., 4., 1., 3., 2.])"
      ]
     },
     "execution_count": 259,
     "metadata": {},
     "output_type": "execute_result"
    }
   ],
   "source": [
    "cleaned_df.comment_ratings.unique()"
   ]
  },
  {
   "cell_type": "code",
   "execution_count": 260,
   "id": "79ddcebf-64b7-41c2-a58e-0c1a30a99018",
   "metadata": {},
   "outputs": [
    {
     "data": {
      "text/plain": [
       "restaurant_name      object\n",
       "comment_ratings     float64\n",
       "comment_dates        object\n",
       "comment_comments     object\n",
       "dtype: object"
      ]
     },
     "execution_count": 260,
     "metadata": {},
     "output_type": "execute_result"
    }
   ],
   "source": [
    "cleaned_df.dtypes"
   ]
  },
  {
   "cell_type": "code",
   "execution_count": 261,
   "id": "056b646d-2e36-48a9-8c97-2d99e1739bb0",
   "metadata": {},
   "outputs": [
    {
     "data": {
      "image/png": "[encoded data removed]",
      "text/plain": [
       "<Figure size 432x360 with 1 Axes>"
      ]
     },
     "metadata": {
      "needs_background": "light"
     },
     "output_type": "display_data"
    }
   ],
   "source": [
    "plt.figure(figsize=(6,5))\n",
    "plt.title(\"Comment_ratings\")\n",
    "plt.grid()\n",
    "plt.hist(cleaned_df.comment_ratings);"
   ]
  },
  {
   "cell_type": "markdown",
   "id": "d6595199-993d-43dc-be51-37891ed5f64a",
   "metadata": {},
   "source": [
    "### Clean comment dates column"
   ]
  },
  {
   "cell_type": "code",
   "execution_count": 262,
   "id": "2f074200-f41f-4ee3-adf7-dabee1cda5cb",
   "metadata": {},
   "outputs": [
    {
     "data": {
      "text/plain": [
       "array(['2 weeks ago', '5 days ago', '6 days ago', 'a week ago',\n",
       "       '3 weeks ago', '2 months ago', 'a month ago', '2 days ago',\n",
       "       '3 months ago', '5 months ago', '3 days ago', '6 months ago',\n",
       "       '4 months ago', 'a year ago', '4 days ago', '2 years ago',\n",
       "       '11 months ago', '4 years ago', '10 months ago', '7 months ago',\n",
       "       '8 months ago', '4 weeks ago', '3 years ago', '5 years ago',\n",
       "       '9 years ago', '8 years ago', 'a day ago', '6 years ago',\n",
       "       '9 months ago', '10 years ago', '15 hours ago', '35 minutes ago',\n",
       "       '14 hours ago', '7 years ago', '11 years ago', '16 hours ago',\n",
       "       '23 hours ago', '4 hours ago', '3 hours ago', '17 hours ago',\n",
       "       '19 hours ago', '22 hours ago', '11 hours ago', '6 hours ago',\n",
       "       '46 minutes ago', '2 hours ago', '7 hours ago', '5 hours ago',\n",
       "       '18 hours ago', 'há 9 anos', '13 minutes ago', '20 hours ago',\n",
       "       'há 23 horas', 'há 19 horas'], dtype=object)"
      ]
     },
     "execution_count": 262,
     "metadata": {},
     "output_type": "execute_result"
    }
   ],
   "source": [
    "cleaned_df.comment_dates.unique()"
   ]
  },
  {
   "cell_type": "code",
   "execution_count": 263,
   "id": "4367013d-b789-4161-92f2-07de75af4788",
   "metadata": {},
   "outputs": [
    {
     "data": {
      "text/plain": [
       "0         2 weeks ago\n",
       "1          5 days ago\n",
       "2          6 days ago\n",
       "3         2 weeks ago\n",
       "4          a week ago\n",
       "             ...     \n",
       "81531     2 years ago\n",
       "81532     2 years ago\n",
       "81533      a year ago\n",
       "81534    6 months ago\n",
       "81535      a year ago\n",
       "Name: comment_dates, Length: 81536, dtype: object"
      ]
     },
     "execution_count": 263,
     "metadata": {},
     "output_type": "execute_result"
    }
   ],
   "source": [
    "cleaned_df.comment_dates"
   ]
  },
  {
   "cell_type": "code",
   "execution_count": 264,
   "id": "e0710dcf-cff1-4690-965a-148a192b640b",
   "metadata": {},
   "outputs": [],
   "source": [
    "def clean_comment_dates(text):\n",
    "    text = text.replace(\"há\",\"\")\n",
    "    text = text.replace(\"ago\",\"\")\n",
    "    text = text.replace(\"ago\",\"\")\n",
    "    text = text.replace(\"ago\",\"\")\n",
    "    text = text.replace(\"s\",\"\")\n",
    "    text = text.replace(\" day\",\"*1\")\n",
    "    text = text.replace(\" week\",\"*7\")\n",
    "    text = text.replace(\" month\",\"*30\")\n",
    "    text = text.replace(\" year\",\"*365\")\n",
    "    text = text.replace(\" ano\",\"*365\")\n",
    "    if \"minute\" in text or  \"hour\" in text or \"hora\" in text:\n",
    "        text = \"1\"\n",
    "    if \"a\" in text:\n",
    "        text = text.replace(\"a\", \"1\")\n",
    "    return eval(text)"
   ]
  },
  {
   "cell_type": "code",
   "execution_count": 265,
   "id": "33f04ccc-4156-46ee-b057-361eb8843326",
   "metadata": {},
   "outputs": [],
   "source": [
    "cleaned_df.comment_dates = cleaned_df.comment_dates.apply(clean_comment_dates)"
   ]
  },
  {
   "cell_type": "code",
   "execution_count": 276,
   "id": "18ee9db9-ac48-4bf6-8c5d-046d28a9df43",
   "metadata": {},
   "outputs": [
    {
     "data": {
      "text/html": [
       "<div>\n",
       "<style scoped>\n",
       "    .dataframe tbody tr th:only-of-type {\n",
       "        vertical-align: middle;\n",
       "    }\n",
       "\n",
       "    .dataframe tbody tr th {\n",
       "        vertical-align: top;\n",
       "    }\n",
       "\n",
       "    .dataframe thead th {\n",
       "        text-align: right;\n",
       "    }\n",
       "</style>\n",
       "<table border=\"1\" class=\"dataframe\">\n",
       "  <thead>\n",
       "    <tr style=\"text-align: right;\">\n",
       "      <th></th>\n",
       "      <th>restaurant_name</th>\n",
       "      <th>comment_ratings</th>\n",
       "      <th>when_written_days_ago</th>\n",
       "      <th>comment_comments</th>\n",
       "    </tr>\n",
       "  </thead>\n",
       "  <tbody>\n",
       "    <tr>\n",
       "      <th>0</th>\n",
       "      <td>Augusto Lisboa</td>\n",
       "      <td>5.0</td>\n",
       "      <td>14</td>\n",
       "      <td>Well worth the small wait to get in of around ...</td>\n",
       "    </tr>\n",
       "    <tr>\n",
       "      <th>1</th>\n",
       "      <td>Augusto Lisboa</td>\n",
       "      <td>5.0</td>\n",
       "      <td>5</td>\n",
       "      <td>Two words: Homemade excellence. This place set...</td>\n",
       "    </tr>\n",
       "    <tr>\n",
       "      <th>2</th>\n",
       "      <td>Augusto Lisboa</td>\n",
       "      <td>5.0</td>\n",
       "      <td>6</td>\n",
       "      <td>Chic vibe, excellent service, and delicious fo...</td>\n",
       "    </tr>\n",
       "    <tr>\n",
       "      <th>3</th>\n",
       "      <td>Augusto Lisboa</td>\n",
       "      <td>5.0</td>\n",
       "      <td>14</td>\n",
       "      <td>Some of the best brunch I’ve had! Cheery and c...</td>\n",
       "    </tr>\n",
       "    <tr>\n",
       "      <th>4</th>\n",
       "      <td>Augusto Lisboa</td>\n",
       "      <td>4.0</td>\n",
       "      <td>7</td>\n",
       "      <td>Love the avocado toast! Best cappuccino and th...</td>\n",
       "    </tr>\n",
       "  </tbody>\n",
       "</table>\n",
       "</div>"
      ],
      "text/plain": [
       "  restaurant_name  comment_ratings  when_written_days_ago  \\\n",
       "0  Augusto Lisboa              5.0                     14   \n",
       "1  Augusto Lisboa              5.0                      5   \n",
       "2  Augusto Lisboa              5.0                      6   \n",
       "3  Augusto Lisboa              5.0                     14   \n",
       "4  Augusto Lisboa              4.0                      7   \n",
       "\n",
       "                                    comment_comments  \n",
       "0  Well worth the small wait to get in of around ...  \n",
       "1  Two words: Homemade excellence. This place set...  \n",
       "2  Chic vibe, excellent service, and delicious fo...  \n",
       "3  Some of the best brunch I’ve had! Cheery and c...  \n",
       "4  Love the avocado toast! Best cappuccino and th...  "
      ]
     },
     "execution_count": 276,
     "metadata": {},
     "output_type": "execute_result"
    }
   ],
   "source": [
    "cleaned_df.head()"
   ]
  },
  {
   "cell_type": "code",
   "execution_count": 267,
   "id": "b5ff230d-5a4c-4f12-a54d-ab2340b18846",
   "metadata": {},
   "outputs": [],
   "source": [
    "cleaned_df.rename(columns={'comment_dates':'when_written_days_ago'}, inplace=True)"
   ]
  },
  {
   "cell_type": "markdown",
   "id": "a94d07b5-6ad6-4dfe-b870-f1b2d5dc7aa8",
   "metadata": {},
   "source": [
    "## Translation TBD"
   ]
  },
  {
   "cell_type": "code",
   "execution_count": 271,
   "id": "9e73bdaa-d1fd-44d9-830d-c910df07b787",
   "metadata": {},
   "outputs": [],
   "source": [
    "# def translate(df):\n",
    "#     for i in df.comment_comments:\n",
    "#         translator = google_translator()\n",
    "#         i = translator.translate(i, lang_src = \"auto\", lang_tgt = \"en\")\n",
    "#         df['translated_comment'] = i"
   ]
  },
  {
   "cell_type": "code",
   "execution_count": 287,
   "id": "f3c1ab70-5a3e-4b06-9e2b-23d54d95111a",
   "metadata": {},
   "outputs": [],
   "source": [
    "# def translate_language(text):\n",
    "#     if str(text.find(\"pelo \")).isdigit() == True: # note using pelo is not catching all the words, ideally we need to detect language then translate\n",
    "#         # translated = GoogleTranslator(source='auto', target='en').translate(text) \n",
    "#         # print(translated)\n",
    "#         return text\n",
    "#     else:\n",
    "#         return 0"
   ]
  },
  {
   "cell_type": "code",
   "execution_count": null,
   "id": "1cde38a4-fe12-4085-bcd1-72a453e93d9b",
   "metadata": {},
   "outputs": [
    {
     "ename": "NameError",
     "evalue": "name 'LimeTextExplainer' is not defined",
     "output_type": "error",
     "traceback": [
      "\u001b[0;31m---------------------------------------------------------------------------\u001b[0m",
      "\u001b[0;31mNameError\u001b[0m                                 Traceback (most recent call last)",
      "\u001b[0;32m/tmp/ipykernel_902/28856043.py\u001b[0m in \u001b[0;36m<module>\u001b[0;34m\u001b[0m\n\u001b[1;32m      1\u001b[0m \u001b[0;31m# create the LIME explainer\u001b[0m\u001b[0;34m\u001b[0m\u001b[0;34m\u001b[0m\u001b[0;34m\u001b[0m\u001b[0m\n\u001b[1;32m      2\u001b[0m \u001b[0;31m# add the class names for interpretability\u001b[0m\u001b[0;34m\u001b[0m\u001b[0;34m\u001b[0m\u001b[0;34m\u001b[0m\u001b[0m\n\u001b[0;32m----> 3\u001b[0;31m \u001b[0mLIME_explainer\u001b[0m \u001b[0;34m=\u001b[0m \u001b[0mLimeTextExplainer\u001b[0m\u001b[0;34m(\u001b[0m\u001b[0mclass_names\u001b[0m\u001b[0;34m=\u001b[0m\u001b[0mclass_names\u001b[0m\u001b[0;34m)\u001b[0m\u001b[0;34m\u001b[0m\u001b[0;34m\u001b[0m\u001b[0m\n\u001b[0m\u001b[1;32m      4\u001b[0m \u001b[0;34m\u001b[0m\u001b[0m\n\u001b[1;32m      5\u001b[0m \u001b[0;31m# choose a random single prediction\u001b[0m\u001b[0;34m\u001b[0m\u001b[0;34m\u001b[0m\u001b[0;34m\u001b[0m\u001b[0m\n",
      "\u001b[0;31mNameError\u001b[0m: name 'LimeTextExplainer' is not defined"
     ]
    }
   ],
   "source": []
  },
  {
   "cell_type": "code",
   "execution_count": null,
   "id": "c77b953f-37f0-4d4e-b6b2-91ad05c2e810",
   "metadata": {},
   "outputs": [],
   "source": [
    "# cleaned_df = translate(cleaned_df)"
   ]
  },
  {
   "cell_type": "code",
   "execution_count": 288,
   "id": "a0ccef70-188d-497c-9eec-d7d091eb68a9",
   "metadata": {},
   "outputs": [],
   "source": [
    "# cleaned_df['translated_'] = cleaned_df.comment_comments.apply(translate_language)"
   ]
  },
  {
   "cell_type": "markdown",
   "id": "fb31f0c9-4fc8-43b3-b8d6-c51a94687b83",
   "metadata": {
    "tags": []
   },
   "source": [
    "### Clean Reviews"
   ]
  },
  {
   "cell_type": "code",
   "execution_count": 304,
   "id": "0cc6b844-6762-4110-8944-3624ddecaf85",
   "metadata": {},
   "outputs": [
    {
     "data": {
      "text/plain": [
       "81531    (Traduzido pelo Google) O restaurante parece b...\n",
       "81532    (Traduzido pelo Google) Veio para bebidas e so...\n",
       "81533    Jantar incrível, serviço super atencioso e cla...\n",
       "81534    (Traduzido pelo Google) Bom lugar amigável\\n\\n...\n",
       "81535    Preço um pouco alto, mas atendimento excepcion...\n",
       "Name: comment_comments, dtype: object"
      ]
     },
     "execution_count": 304,
     "metadata": {},
     "output_type": "execute_result"
    }
   ],
   "source": [
    "cleaned_df.comment_comments.tail()"
   ]
  },
  {
   "cell_type": "code",
   "execution_count": 305,
   "id": "cf1fbc20-6b1c-4389-99af-8226dd235ac7",
   "metadata": {},
   "outputs": [],
   "source": [
    "def remove_google_trans_comment(series):\n",
    "    if \"(Translated by Google)\" in series:\n",
    "        return series.replace(\"(Translated by Google) \",\"\")\n",
    "    else:\n",
    "        return series    "
   ]
  },
  {
   "cell_type": "code",
   "execution_count": 306,
   "id": "3873cac9-a5e9-49bc-9040-8f7dc6342975",
   "metadata": {},
   "outputs": [],
   "source": [
    "def remove_original_translation(series):\n",
    "    if \"\\n\\n(Original)\" in series:\n",
    "        index = series.find(\"\\n\\n(Original)\")\n",
    "        return series[:index]\n",
    "    else:\n",
    "        return series    "
   ]
  },
  {
   "cell_type": "code",
   "execution_count": 307,
   "id": "29c5d307-b8c2-4ce8-a477-5131faf4be5e",
   "metadata": {},
   "outputs": [],
   "source": [
    "cleaned_df.comment_comments = cleaned_df.comment_comments.apply(remove_google_trans_comment)"
   ]
  },
  {
   "cell_type": "code",
   "execution_count": 308,
   "id": "21dd9fe4-4fdd-4ee9-9d3e-c3211ae26893",
   "metadata": {},
   "outputs": [],
   "source": [
    "cleaned_df.comment_comments = cleaned_df.comment_comments.apply(remove_original_translation)"
   ]
  },
  {
   "cell_type": "code",
   "execution_count": 309,
   "id": "e75826d3-9a6c-4467-ad28-f63ed44ba169",
   "metadata": {},
   "outputs": [
    {
     "data": {
      "text/plain": [
       "81531    (Traduzido pelo Google) O restaurante parece b...\n",
       "81532    (Traduzido pelo Google) Veio para bebidas e so...\n",
       "81533    Jantar incrível, serviço super atencioso e cla...\n",
       "81534           (Traduzido pelo Google) Bom lugar amigável\n",
       "81535    Preço um pouco alto, mas atendimento excepcion...\n",
       "Name: comment_comments, dtype: object"
      ]
     },
     "execution_count": 309,
     "metadata": {},
     "output_type": "execute_result"
    }
   ],
   "source": [
    "cleaned_df.comment_comments.tail()"
   ]
  },
  {
   "cell_type": "code",
   "execution_count": 310,
   "id": "e033ce07-f25b-4282-b8e9-7c32320e3abb",
   "metadata": {},
   "outputs": [
    {
     "data": {
      "text/plain": [
       "(81536, 5)"
      ]
     },
     "execution_count": 310,
     "metadata": {},
     "output_type": "execute_result"
    }
   ],
   "source": [
    "cleaned_df.shape"
   ]
  },
  {
   "cell_type": "markdown",
   "id": "80ad718c-3e25-4a94-a5ed-6b992219ad0c",
   "metadata": {
    "tags": []
   },
   "source": [
    "## DataFrame Selection"
   ]
  },
  {
   "cell_type": "markdown",
   "id": "567c50b3-8bc7-4cb4-97d9-c7fcac24dc68",
   "metadata": {},
   "source": [
    "### Importing restaurants"
   ]
  },
  {
   "cell_type": "code",
   "execution_count": 311,
   "id": "1527ba92-9c9d-4c3c-b6df-b85feb6e44eb",
   "metadata": {},
   "outputs": [],
   "source": [
    "df_restaurants = pd.read_csv(\"../raw_data/Clean_data_1_12_v2.csv\")"
   ]
  },
  {
   "cell_type": "code",
   "execution_count": 312,
   "id": "1907ef6a-0ace-482e-b170-3b5baf675bf8",
   "metadata": {},
   "outputs": [
    {
     "data": {
      "text/html": [
       "<div>\n",
       "<style scoped>\n",
       "    .dataframe tbody tr th:only-of-type {\n",
       "        vertical-align: middle;\n",
       "    }\n",
       "\n",
       "    .dataframe tbody tr th {\n",
       "        vertical-align: top;\n",
       "    }\n",
       "\n",
       "    .dataframe thead th {\n",
       "        text-align: right;\n",
       "    }\n",
       "</style>\n",
       "<table border=\"1\" class=\"dataframe\">\n",
       "  <thead>\n",
       "    <tr style=\"text-align: right;\">\n",
       "      <th></th>\n",
       "      <th>Unnamed: 0</th>\n",
       "      <th>name</th>\n",
       "      <th>type</th>\n",
       "      <th>description</th>\n",
       "      <th>rating</th>\n",
       "      <th>review_count</th>\n",
       "      <th>price</th>\n",
       "      <th>address</th>\n",
       "      <th>label</th>\n",
       "      <th>dine_in</th>\n",
       "      <th>takeaway</th>\n",
       "      <th>delivery</th>\n",
       "      <th>drive_through</th>\n",
       "      <th>no_del_exp</th>\n",
       "      <th>curb_pickup</th>\n",
       "      <th>postal_code</th>\n",
       "      <th>municipality</th>\n",
       "      <th>neighborhood</th>\n",
       "    </tr>\n",
       "  </thead>\n",
       "  <tbody>\n",
       "    <tr>\n",
       "      <th>0</th>\n",
       "      <td>0</td>\n",
       "      <td>Augusto Lisboa</td>\n",
       "      <td>brunch</td>\n",
       "      <td>Hip brunch eatery serving savory toasts, banan...</td>\n",
       "      <td>4.8</td>\n",
       "      <td>1032.0</td>\n",
       "      <td>2.0</td>\n",
       "      <td>Rua Santa M.nha 26, 1100-491 Lisboa, Portugal</td>\n",
       "      <td>['dine-in', 'takeaway', 'no delivery']</td>\n",
       "      <td>1</td>\n",
       "      <td>1</td>\n",
       "      <td>0</td>\n",
       "      <td>0</td>\n",
       "      <td>1</td>\n",
       "      <td>0</td>\n",
       "      <td>1100-491</td>\n",
       "      <td>Lisboa</td>\n",
       "      <td>Graça</td>\n",
       "    </tr>\n",
       "    <tr>\n",
       "      <th>1</th>\n",
       "      <td>1</td>\n",
       "      <td>Tiffin Cafe &amp; Restaurant Lisboa</td>\n",
       "      <td>brunch</td>\n",
       "      <td>NaN</td>\n",
       "      <td>4.9</td>\n",
       "      <td>139.0</td>\n",
       "      <td>2.0</td>\n",
       "      <td>R. do Conde 32, 1200-637 Lisboa, Portugal</td>\n",
       "      <td>['dine-in', 'takeaway', 'delivery']</td>\n",
       "      <td>1</td>\n",
       "      <td>1</td>\n",
       "      <td>1</td>\n",
       "      <td>0</td>\n",
       "      <td>0</td>\n",
       "      <td>0</td>\n",
       "      <td>1200-637</td>\n",
       "      <td>Lisboa</td>\n",
       "      <td>Prazeres</td>\n",
       "    </tr>\n",
       "    <tr>\n",
       "      <th>2</th>\n",
       "      <td>2</td>\n",
       "      <td>Crisfama</td>\n",
       "      <td>restaurant</td>\n",
       "      <td>NaN</td>\n",
       "      <td>4.8</td>\n",
       "      <td>649.0</td>\n",
       "      <td>1.0</td>\n",
       "      <td>Rua da Cruz de Santa Apolónia 56, 1100-188 Lis...</td>\n",
       "      <td>['dine-in', 'takeaway', 'no delivery']</td>\n",
       "      <td>1</td>\n",
       "      <td>1</td>\n",
       "      <td>0</td>\n",
       "      <td>0</td>\n",
       "      <td>1</td>\n",
       "      <td>0</td>\n",
       "      <td>1100-188</td>\n",
       "      <td>Lisboa</td>\n",
       "      <td>Santa Engrácia</td>\n",
       "    </tr>\n",
       "    <tr>\n",
       "      <th>3</th>\n",
       "      <td>3</td>\n",
       "      <td>Alma</td>\n",
       "      <td>fine dining</td>\n",
       "      <td>High-end restaurant with avant-garde local mea...</td>\n",
       "      <td>4.8</td>\n",
       "      <td>953.0</td>\n",
       "      <td>4.0</td>\n",
       "      <td>R. Anchieta 15, 1200-224 Lisboa, Portugal</td>\n",
       "      <td>['dine-in', 'no takeaway', 'no delivery']</td>\n",
       "      <td>1</td>\n",
       "      <td>1</td>\n",
       "      <td>0</td>\n",
       "      <td>0</td>\n",
       "      <td>1</td>\n",
       "      <td>0</td>\n",
       "      <td>1200-224</td>\n",
       "      <td>Lisboa</td>\n",
       "      <td>São Paulo</td>\n",
       "    </tr>\n",
       "    <tr>\n",
       "      <th>4</th>\n",
       "      <td>4</td>\n",
       "      <td>Restaurant CHULHO &amp; Bar</td>\n",
       "      <td>restaurant</td>\n",
       "      <td>NaN</td>\n",
       "      <td>4.9</td>\n",
       "      <td>180.0</td>\n",
       "      <td>NaN</td>\n",
       "      <td>R. de São João da Mata 82, 1200-850 Lisboa, Po...</td>\n",
       "      <td>['dine-in', 'takeaway', 'delivery']</td>\n",
       "      <td>1</td>\n",
       "      <td>1</td>\n",
       "      <td>1</td>\n",
       "      <td>0</td>\n",
       "      <td>0</td>\n",
       "      <td>0</td>\n",
       "      <td>1200-850</td>\n",
       "      <td>Lisboa</td>\n",
       "      <td>Lapa</td>\n",
       "    </tr>\n",
       "  </tbody>\n",
       "</table>\n",
       "</div>"
      ],
      "text/plain": [
       "   Unnamed: 0                             name          type  \\\n",
       "0           0                   Augusto Lisboa       brunch    \n",
       "1           1  Tiffin Cafe & Restaurant Lisboa       brunch    \n",
       "2           2                         Crisfama    restaurant   \n",
       "3           3                             Alma  fine dining    \n",
       "4           4          Restaurant CHULHO & Bar    restaurant   \n",
       "\n",
       "                                         description  rating  review_count  \\\n",
       "0  Hip brunch eatery serving savory toasts, banan...     4.8        1032.0   \n",
       "1                                                NaN     4.9         139.0   \n",
       "2                                                NaN     4.8         649.0   \n",
       "3  High-end restaurant with avant-garde local mea...     4.8         953.0   \n",
       "4                                                NaN     4.9         180.0   \n",
       "\n",
       "   price                                            address  \\\n",
       "0    2.0      Rua Santa M.nha 26, 1100-491 Lisboa, Portugal   \n",
       "1    2.0          R. do Conde 32, 1200-637 Lisboa, Portugal   \n",
       "2    1.0  Rua da Cruz de Santa Apolónia 56, 1100-188 Lis...   \n",
       "3    4.0          R. Anchieta 15, 1200-224 Lisboa, Portugal   \n",
       "4    NaN  R. de São João da Mata 82, 1200-850 Lisboa, Po...   \n",
       "\n",
       "                                       label  dine_in  takeaway  delivery  \\\n",
       "0     ['dine-in', 'takeaway', 'no delivery']        1         1         0   \n",
       "1        ['dine-in', 'takeaway', 'delivery']        1         1         1   \n",
       "2     ['dine-in', 'takeaway', 'no delivery']        1         1         0   \n",
       "3  ['dine-in', 'no takeaway', 'no delivery']        1         1         0   \n",
       "4        ['dine-in', 'takeaway', 'delivery']        1         1         1   \n",
       "\n",
       "   drive_through  no_del_exp  curb_pickup postal_code municipality  \\\n",
       "0              0           1            0    1100-491       Lisboa   \n",
       "1              0           0            0    1200-637       Lisboa   \n",
       "2              0           1            0    1100-188       Lisboa   \n",
       "3              0           1            0    1200-224       Lisboa   \n",
       "4              0           0            0    1200-850       Lisboa   \n",
       "\n",
       "     neighborhood  \n",
       "0           Graça  \n",
       "1        Prazeres  \n",
       "2  Santa Engrácia  \n",
       "3       São Paulo  \n",
       "4            Lapa  "
      ]
     },
     "execution_count": 312,
     "metadata": {},
     "output_type": "execute_result"
    }
   ],
   "source": [
    "df_restaurants.head()"
   ]
  },
  {
   "cell_type": "code",
   "execution_count": 313,
   "id": "133ec33f-edcf-4bf8-9edf-2119bbe9a455",
   "metadata": {},
   "outputs": [],
   "source": [
    "df_restaurants.drop(columns=[\"Unnamed: 0\", \"rating\"], inplace=True)"
   ]
  },
  {
   "cell_type": "code",
   "execution_count": 314,
   "id": "bbb452f6-2d6a-46ae-bd21-c608982157e6",
   "metadata": {},
   "outputs": [],
   "source": [
    "df_restaurants.rename(columns={'name':'restaurant_name', 'type':'restaurant_type'}, inplace=True)"
   ]
  },
  {
   "cell_type": "code",
   "execution_count": 315,
   "id": "0382b776-a3fd-4df9-9da8-7a30b8fee891",
   "metadata": {},
   "outputs": [
    {
     "data": {
      "text/html": [
       "<div>\n",
       "<style scoped>\n",
       "    .dataframe tbody tr th:only-of-type {\n",
       "        vertical-align: middle;\n",
       "    }\n",
       "\n",
       "    .dataframe tbody tr th {\n",
       "        vertical-align: top;\n",
       "    }\n",
       "\n",
       "    .dataframe thead th {\n",
       "        text-align: right;\n",
       "    }\n",
       "</style>\n",
       "<table border=\"1\" class=\"dataframe\">\n",
       "  <thead>\n",
       "    <tr style=\"text-align: right;\">\n",
       "      <th></th>\n",
       "      <th>restaurant_name</th>\n",
       "      <th>restaurant_type</th>\n",
       "      <th>description</th>\n",
       "      <th>review_count</th>\n",
       "      <th>price</th>\n",
       "      <th>address</th>\n",
       "      <th>label</th>\n",
       "      <th>dine_in</th>\n",
       "      <th>takeaway</th>\n",
       "      <th>delivery</th>\n",
       "      <th>drive_through</th>\n",
       "      <th>no_del_exp</th>\n",
       "      <th>curb_pickup</th>\n",
       "      <th>postal_code</th>\n",
       "      <th>municipality</th>\n",
       "      <th>neighborhood</th>\n",
       "    </tr>\n",
       "  </thead>\n",
       "  <tbody>\n",
       "    <tr>\n",
       "      <th>0</th>\n",
       "      <td>Augusto Lisboa</td>\n",
       "      <td>brunch</td>\n",
       "      <td>Hip brunch eatery serving savory toasts, banan...</td>\n",
       "      <td>1032.0</td>\n",
       "      <td>2.0</td>\n",
       "      <td>Rua Santa M.nha 26, 1100-491 Lisboa, Portugal</td>\n",
       "      <td>['dine-in', 'takeaway', 'no delivery']</td>\n",
       "      <td>1</td>\n",
       "      <td>1</td>\n",
       "      <td>0</td>\n",
       "      <td>0</td>\n",
       "      <td>1</td>\n",
       "      <td>0</td>\n",
       "      <td>1100-491</td>\n",
       "      <td>Lisboa</td>\n",
       "      <td>Graça</td>\n",
       "    </tr>\n",
       "    <tr>\n",
       "      <th>1</th>\n",
       "      <td>Tiffin Cafe &amp; Restaurant Lisboa</td>\n",
       "      <td>brunch</td>\n",
       "      <td>NaN</td>\n",
       "      <td>139.0</td>\n",
       "      <td>2.0</td>\n",
       "      <td>R. do Conde 32, 1200-637 Lisboa, Portugal</td>\n",
       "      <td>['dine-in', 'takeaway', 'delivery']</td>\n",
       "      <td>1</td>\n",
       "      <td>1</td>\n",
       "      <td>1</td>\n",
       "      <td>0</td>\n",
       "      <td>0</td>\n",
       "      <td>0</td>\n",
       "      <td>1200-637</td>\n",
       "      <td>Lisboa</td>\n",
       "      <td>Prazeres</td>\n",
       "    </tr>\n",
       "    <tr>\n",
       "      <th>2</th>\n",
       "      <td>Crisfama</td>\n",
       "      <td>restaurant</td>\n",
       "      <td>NaN</td>\n",
       "      <td>649.0</td>\n",
       "      <td>1.0</td>\n",
       "      <td>Rua da Cruz de Santa Apolónia 56, 1100-188 Lis...</td>\n",
       "      <td>['dine-in', 'takeaway', 'no delivery']</td>\n",
       "      <td>1</td>\n",
       "      <td>1</td>\n",
       "      <td>0</td>\n",
       "      <td>0</td>\n",
       "      <td>1</td>\n",
       "      <td>0</td>\n",
       "      <td>1100-188</td>\n",
       "      <td>Lisboa</td>\n",
       "      <td>Santa Engrácia</td>\n",
       "    </tr>\n",
       "    <tr>\n",
       "      <th>3</th>\n",
       "      <td>Alma</td>\n",
       "      <td>fine dining</td>\n",
       "      <td>High-end restaurant with avant-garde local mea...</td>\n",
       "      <td>953.0</td>\n",
       "      <td>4.0</td>\n",
       "      <td>R. Anchieta 15, 1200-224 Lisboa, Portugal</td>\n",
       "      <td>['dine-in', 'no takeaway', 'no delivery']</td>\n",
       "      <td>1</td>\n",
       "      <td>1</td>\n",
       "      <td>0</td>\n",
       "      <td>0</td>\n",
       "      <td>1</td>\n",
       "      <td>0</td>\n",
       "      <td>1200-224</td>\n",
       "      <td>Lisboa</td>\n",
       "      <td>São Paulo</td>\n",
       "    </tr>\n",
       "    <tr>\n",
       "      <th>4</th>\n",
       "      <td>Restaurant CHULHO &amp; Bar</td>\n",
       "      <td>restaurant</td>\n",
       "      <td>NaN</td>\n",
       "      <td>180.0</td>\n",
       "      <td>NaN</td>\n",
       "      <td>R. de São João da Mata 82, 1200-850 Lisboa, Po...</td>\n",
       "      <td>['dine-in', 'takeaway', 'delivery']</td>\n",
       "      <td>1</td>\n",
       "      <td>1</td>\n",
       "      <td>1</td>\n",
       "      <td>0</td>\n",
       "      <td>0</td>\n",
       "      <td>0</td>\n",
       "      <td>1200-850</td>\n",
       "      <td>Lisboa</td>\n",
       "      <td>Lapa</td>\n",
       "    </tr>\n",
       "  </tbody>\n",
       "</table>\n",
       "</div>"
      ],
      "text/plain": [
       "                   restaurant_name restaurant_type  \\\n",
       "0                   Augusto Lisboa         brunch    \n",
       "1  Tiffin Cafe & Restaurant Lisboa         brunch    \n",
       "2                         Crisfama      restaurant   \n",
       "3                             Alma    fine dining    \n",
       "4          Restaurant CHULHO & Bar      restaurant   \n",
       "\n",
       "                                         description  review_count  price  \\\n",
       "0  Hip brunch eatery serving savory toasts, banan...        1032.0    2.0   \n",
       "1                                                NaN         139.0    2.0   \n",
       "2                                                NaN         649.0    1.0   \n",
       "3  High-end restaurant with avant-garde local mea...         953.0    4.0   \n",
       "4                                                NaN         180.0    NaN   \n",
       "\n",
       "                                             address  \\\n",
       "0      Rua Santa M.nha 26, 1100-491 Lisboa, Portugal   \n",
       "1          R. do Conde 32, 1200-637 Lisboa, Portugal   \n",
       "2  Rua da Cruz de Santa Apolónia 56, 1100-188 Lis...   \n",
       "3          R. Anchieta 15, 1200-224 Lisboa, Portugal   \n",
       "4  R. de São João da Mata 82, 1200-850 Lisboa, Po...   \n",
       "\n",
       "                                       label  dine_in  takeaway  delivery  \\\n",
       "0     ['dine-in', 'takeaway', 'no delivery']        1         1         0   \n",
       "1        ['dine-in', 'takeaway', 'delivery']        1         1         1   \n",
       "2     ['dine-in', 'takeaway', 'no delivery']        1         1         0   \n",
       "3  ['dine-in', 'no takeaway', 'no delivery']        1         1         0   \n",
       "4        ['dine-in', 'takeaway', 'delivery']        1         1         1   \n",
       "\n",
       "   drive_through  no_del_exp  curb_pickup postal_code municipality  \\\n",
       "0              0           1            0    1100-491       Lisboa   \n",
       "1              0           0            0    1200-637       Lisboa   \n",
       "2              0           1            0    1100-188       Lisboa   \n",
       "3              0           1            0    1200-224       Lisboa   \n",
       "4              0           0            0    1200-850       Lisboa   \n",
       "\n",
       "     neighborhood  \n",
       "0           Graça  \n",
       "1        Prazeres  \n",
       "2  Santa Engrácia  \n",
       "3       São Paulo  \n",
       "4            Lapa  "
      ]
     },
     "execution_count": 315,
     "metadata": {},
     "output_type": "execute_result"
    }
   ],
   "source": [
    "df_restaurants.head()"
   ]
  },
  {
   "cell_type": "code",
   "execution_count": 316,
   "id": "d03485d6-b8b5-4735-8fef-a2002cdc8111",
   "metadata": {},
   "outputs": [
    {
     "data": {
      "text/plain": [
       "(585, 16)"
      ]
     },
     "execution_count": 316,
     "metadata": {},
     "output_type": "execute_result"
    }
   ],
   "source": [
    "df_restaurants.shape"
   ]
  },
  {
   "cell_type": "code",
   "execution_count": 317,
   "id": "4009a72b-8273-4c06-abcc-45d8fa772d9a",
   "metadata": {},
   "outputs": [
    {
     "data": {
      "text/plain": [
       "233"
      ]
     },
     "execution_count": 317,
     "metadata": {},
     "output_type": "execute_result"
    }
   ],
   "source": [
    "df_restaurants.price.isna().sum()"
   ]
  },
  {
   "cell_type": "markdown",
   "id": "eb94cc03-e050-429c-87a6-30154441f3c3",
   "metadata": {},
   "source": [
    "### Merging dfs"
   ]
  },
  {
   "cell_type": "code",
   "execution_count": 318,
   "id": "16f7fd62-6aac-4c82-af2b-16789722d8d7",
   "metadata": {},
   "outputs": [
    {
     "data": {
      "text/html": [
       "<div>\n",
       "<style scoped>\n",
       "    .dataframe tbody tr th:only-of-type {\n",
       "        vertical-align: middle;\n",
       "    }\n",
       "\n",
       "    .dataframe tbody tr th {\n",
       "        vertical-align: top;\n",
       "    }\n",
       "\n",
       "    .dataframe thead th {\n",
       "        text-align: right;\n",
       "    }\n",
       "</style>\n",
       "<table border=\"1\" class=\"dataframe\">\n",
       "  <thead>\n",
       "    <tr style=\"text-align: right;\">\n",
       "      <th></th>\n",
       "      <th>restaurant_name</th>\n",
       "      <th>comment_ratings</th>\n",
       "      <th>when_written_days_ago</th>\n",
       "      <th>comment_comments</th>\n",
       "      <th>translated_</th>\n",
       "      <th>restaurant_type</th>\n",
       "      <th>description</th>\n",
       "      <th>review_count</th>\n",
       "      <th>price</th>\n",
       "      <th>address</th>\n",
       "      <th>label</th>\n",
       "      <th>dine_in</th>\n",
       "      <th>takeaway</th>\n",
       "      <th>delivery</th>\n",
       "      <th>drive_through</th>\n",
       "      <th>no_del_exp</th>\n",
       "      <th>curb_pickup</th>\n",
       "      <th>postal_code</th>\n",
       "      <th>municipality</th>\n",
       "      <th>neighborhood</th>\n",
       "    </tr>\n",
       "  </thead>\n",
       "  <tbody>\n",
       "    <tr>\n",
       "      <th>0</th>\n",
       "      <td>Augusto Lisboa</td>\n",
       "      <td>5.0</td>\n",
       "      <td>14</td>\n",
       "      <td>Well worth the small wait to get in of around ...</td>\n",
       "      <td>0</td>\n",
       "      <td>brunch</td>\n",
       "      <td>Hip brunch eatery serving savory toasts, banan...</td>\n",
       "      <td>1032.0</td>\n",
       "      <td>2.0</td>\n",
       "      <td>Rua Santa M.nha 26, 1100-491 Lisboa, Portugal</td>\n",
       "      <td>['dine-in', 'takeaway', 'no delivery']</td>\n",
       "      <td>1.0</td>\n",
       "      <td>1.0</td>\n",
       "      <td>0.0</td>\n",
       "      <td>0.0</td>\n",
       "      <td>1.0</td>\n",
       "      <td>0.0</td>\n",
       "      <td>1100-491</td>\n",
       "      <td>Lisboa</td>\n",
       "      <td>Graça</td>\n",
       "    </tr>\n",
       "  </tbody>\n",
       "</table>\n",
       "</div>"
      ],
      "text/plain": [
       "  restaurant_name  comment_ratings  when_written_days_ago  \\\n",
       "0  Augusto Lisboa              5.0                     14   \n",
       "\n",
       "                                    comment_comments translated_  \\\n",
       "0  Well worth the small wait to get in of around ...           0   \n",
       "\n",
       "  restaurant_type                                        description  \\\n",
       "0         brunch   Hip brunch eatery serving savory toasts, banan...   \n",
       "\n",
       "   review_count  price                                        address  \\\n",
       "0        1032.0    2.0  Rua Santa M.nha 26, 1100-491 Lisboa, Portugal   \n",
       "\n",
       "                                    label  dine_in  takeaway  delivery  \\\n",
       "0  ['dine-in', 'takeaway', 'no delivery']      1.0       1.0       0.0   \n",
       "\n",
       "   drive_through  no_del_exp  curb_pickup postal_code municipality  \\\n",
       "0            0.0         1.0          0.0    1100-491       Lisboa   \n",
       "\n",
       "  neighborhood  \n",
       "0        Graça  "
      ]
     },
     "execution_count": 318,
     "metadata": {},
     "output_type": "execute_result"
    }
   ],
   "source": [
    "merged_df = cleaned_df.merge(df_restaurants, on=\"restaurant_name\", how=\"left\")\n",
    "merged_df.head(1)"
   ]
  },
  {
   "cell_type": "code",
   "execution_count": 319,
   "id": "60698369-279b-4c0d-930b-e4f5c4525af2",
   "metadata": {},
   "outputs": [
    {
     "data": {
      "text/plain": [
       "(81536, 20)"
      ]
     },
     "execution_count": 319,
     "metadata": {},
     "output_type": "execute_result"
    }
   ],
   "source": [
    "merged_df.shape"
   ]
  },
  {
   "cell_type": "code",
   "execution_count": 320,
   "id": "17f43ecd-0c6a-4e94-aac2-72380b39c1cf",
   "metadata": {},
   "outputs": [
    {
     "data": {
      "text/plain": [
       "restaurant_name           object\n",
       "comment_ratings          float64\n",
       "when_written_days_ago      int64\n",
       "comment_comments          object\n",
       "translated_               object\n",
       "restaurant_type           object\n",
       "description               object\n",
       "review_count             float64\n",
       "price                    float64\n",
       "address                   object\n",
       "label                     object\n",
       "dine_in                  float64\n",
       "takeaway                 float64\n",
       "delivery                 float64\n",
       "drive_through            float64\n",
       "no_del_exp               float64\n",
       "curb_pickup              float64\n",
       "postal_code               object\n",
       "municipality              object\n",
       "neighborhood              object\n",
       "dtype: object"
      ]
     },
     "execution_count": 320,
     "metadata": {},
     "output_type": "execute_result"
    }
   ],
   "source": [
    "merged_df.dtypes"
   ]
  },
  {
   "cell_type": "markdown",
   "id": "a83e1844-36ff-45ed-95c5-d77dacbc0119",
   "metadata": {
    "tags": []
   },
   "source": [
    "## filtering merged dataset"
   ]
  },
  {
   "cell_type": "code",
   "execution_count": null,
   "id": "77b31c40-f63f-4a10-bf6d-263fe785aa54",
   "metadata": {},
   "outputs": [],
   "source": [
    "restaurant_type = 'brunch '\n",
    "price = 2.0\n",
    "neighborhood = 'Graça'\n",
    "min_rating = 0.0\n",
    "max_rating = 3.0"
   ]
  },
  {
   "cell_type": "code",
   "execution_count": null,
   "id": "fb4d0d92-4c71-4dfc-8ca9-8e9ec9359185",
   "metadata": {},
   "outputs": [],
   "source": [
    "filtered_df = merged_df\n",
    "#filtered_df = filtered_df[filtered_df['restaurant_type'] == restaurant_type]\n",
    "# filtered_df = filtered_df[filtered_df['price'] == price]\n",
    "# filtered_df = filtered_df[filtered_df['neighborhood'] == neighborhood]\n",
    "filtered_df = filtered_df[filtered_df['comment_ratings'] >= min_rating]\n",
    "filtered_df = filtered_df[filtered_df['comment_ratings'] <= max_rating]\n",
    "\n",
    "# filtered_df = filtered_df[filtered_df['dine_in'] == 1]\n",
    "# filtered_df = filtered_df[filtered_df['takeaway'] == 1]\n",
    "# filtered_df = filtered_df[filtered_df['delivery'] == 1]\n",
    "# filtered_df = filtered_df[filtered_df['drive_through'] == 1]\n",
    "# filtered_df = filtered_df[filtered_df['no_del_exp'] == 1]\n",
    "# filtered_df = filtered_df[filtered_df['curb_pickup'] == 1]"
   ]
  },
  {
   "cell_type": "code",
   "execution_count": null,
   "id": "b37dc1cb-90f4-483e-8113-5ddc5190febd",
   "metadata": {},
   "outputs": [],
   "source": [
    "filtered_df.head()"
   ]
  }
 ],
 "metadata": {
  "kernelspec": {
   "display_name": "Python 3 (ipykernel)",
   "language": "python",
   "name": "python3"
  },
  "language_info": {
   "codemirror_mode": {
    "name": "ipython",
    "version": 3
   },
   "file_extension": ".py",
   "mimetype": "text/x-python",
   "name": "python",
   "nbconvert_exporter": "python",
   "pygments_lexer": "ipython3",
   "version": "3.8.12"
  }
 },
 "nbformat": 4,
 "nbformat_minor": 5
}
