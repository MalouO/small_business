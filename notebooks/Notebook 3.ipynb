{
 "cells": [
  {
   "cell_type": "code",
   "execution_count": 49,
   "id": "0283491b",
   "metadata": {},
   "outputs": [],
   "source": [
    "import pandas as pd\n",
    "import numpy as np\n",
    "import re\n",
    "import matplotlib.pyplot as plt\n",
    "import seaborn as sns"
   ]
  },
  {
   "cell_type": "markdown",
   "id": "07d8f44b",
   "metadata": {},
   "source": [
    "## FUNCTIONS "
   ]
  },
  {
   "cell_type": "code",
   "execution_count": 50,
   "id": "7d05dce1",
   "metadata": {},
   "outputs": [],
   "source": [
    "def keep_numeric(x):\n",
    "    return re.sub(\"[^0-9]\", \"\", x)"
   ]
  },
  {
   "cell_type": "code",
   "execution_count": 51,
   "id": "49a9f24f",
   "metadata": {},
   "outputs": [],
   "source": [
    "def replace_price(x):\n",
    "    if x == \"£\":\n",
    "        return 1\n",
    "    if x == \"££\": \n",
    "        return 2 \n",
    "    if x == \"£££\": \n",
    "        return 3 \n",
    "    if x == \"££££\": \n",
    "        return 4 "
   ]
  },
  {
   "cell_type": "code",
   "execution_count": 52,
   "id": "39d2cff5",
   "metadata": {},
   "outputs": [],
   "source": [
    "#function Long_lat \n",
    "def transform_lat(x):\n",
    "    try:\n",
    "        geolocator = Nominatim(user_agent=\"aaaa\")\n",
    "        location = geolocator.geocode(x)\n",
    "        return (location.latitude)\n",
    "    except: AttributeError\n",
    "    pass\n",
    "\n",
    "\n",
    "def transform_lon(x):\n",
    "    try:\n",
    "        geolocator = Nominatim(user_agent=\"aaaa\")\n",
    "        location = geolocator.geocode(x)\n",
    "        return (location.longitude)\n",
    "    except: AttributeError\n",
    "    pass"
   ]
  },
  {
   "cell_type": "code",
   "execution_count": 53,
   "id": "b743e322",
   "metadata": {},
   "outputs": [],
   "source": [
    "def get_postal_code(x):\n",
    "    return re.findall(r'\\d{4}-\\d{3}', x)"
   ]
  },
  {
   "cell_type": "code",
   "execution_count": 54,
   "id": "9fd8403e",
   "metadata": {},
   "outputs": [],
   "source": [
    "#Function labels \n",
    "def labels_eat_on_site (x):\n",
    "    if 'dine-in' in x:\n",
    "        return 1 \n",
    "    else: \n",
    "        return 0\n",
    "    \n",
    "def labels_delivery (x):\n",
    "    if ('delivery' in x) or ('no-contact delivery' in x):\n",
    "        return 1\n",
    "    else: \n",
    "        return 0\n",
    "    \n",
    "def labels_takeaway (x):\n",
    "    if ('takeaway' in x):\n",
    "        return 1\n",
    "    else: \n",
    "        return 0\n",
    "\n",
    "def labels_drive_thru (x):\n",
    "    if ('drive-through' in x):\n",
    "        return 1\n",
    "    else: \n",
    "        return 0\n",
    "    \n",
    "def labels_no_del(x):\n",
    "    if ( 'no delivery' in (x)):\n",
    "        return 1\n",
    "    else: \n",
    "        return 0    "
   ]
  },
  {
   "cell_type": "markdown",
   "id": "f9806cbe",
   "metadata": {},
   "source": [
    "## Preprocessing of columns"
   ]
  },
  {
   "cell_type": "code",
   "execution_count": 55,
   "id": "71dab165",
   "metadata": {},
   "outputs": [],
   "source": [
    "# Importing the data, and basic preprocessing \n",
    "data= pd.read_csv(\"../raw_data/restaurants2 - Copy.csv\", header= None)\n",
    "data=data.rename(columns={0:\"Index\", 1:\"name\" , 2:\"type\", 3:\"description\", 4:\"rating\", 5:\"review_count\", 6: \"price\", 7:\"address\", 8:\"label\"})\n",
    "data=data.drop(columns='Index') # Check whether to keep it or not "
   ]
  },
  {
   "cell_type": "code",
   "execution_count": 56,
   "id": "9983e4ff",
   "metadata": {},
   "outputs": [],
   "source": [
    "# Column rating \n",
    "data.rating=pd.to_numeric(data.rating, downcast=\"float\")\n",
    "\n",
    "# Column review_count \n",
    "data.review_count=data.review_count.map(keep_numeric)\n",
    "data.review_count=pd.to_numeric(data.review_count, downcast=\"float\")\n",
    "\n",
    "#Column price \n",
    "data.price = data.price.map(replace_price)\n",
    "\n",
    "#Adress into latitude and longitude \n",
    "data['latitude']=data.address.map(transform_lat)\n",
    "data['longitude']=data.address.map(transform_lon) # have to do something for all the na \n",
    "\n",
    "data.label= data['label'].str.lower()\n",
    "\n",
    "# handling the label \n",
    "data.label= data['label'].str.lower()\n",
    "data['dine_in']=data.label.map(labels_eat_on_site)\n",
    "data['takeaway']=data.label.map(labels_takeaway)\n",
    "data['delivery']=data.label.map(labels_delivery)\n",
    "data['drive_through']=data.label.map(labels_drive_thru)\n",
    "data['no_del_exp']=data.label.map(labels_no_del)\n",
    "\n",
    "# handling the type\n",
    "data.type= data.type.str.lower()\n",
    "data.type=data.type.replace('restaurant', '', regex=True)\n",
    "\n",
    "#add postal code\n",
    "#data['postal_code']=data.address.map(get_postal_code)"
   ]
  },
  {
   "cell_type": "code",
   "execution_count": 57,
   "id": "660a4982",
   "metadata": {},
   "outputs": [
    {
     "data": {
      "text/html": [
       "<div>\n",
       "<style scoped>\n",
       "    .dataframe tbody tr th:only-of-type {\n",
       "        vertical-align: middle;\n",
       "    }\n",
       "\n",
       "    .dataframe tbody tr th {\n",
       "        vertical-align: top;\n",
       "    }\n",
       "\n",
       "    .dataframe thead th {\n",
       "        text-align: right;\n",
       "    }\n",
       "</style>\n",
       "<table border=\"1\" class=\"dataframe\">\n",
       "  <thead>\n",
       "    <tr style=\"text-align: right;\">\n",
       "      <th></th>\n",
       "      <th>name</th>\n",
       "      <th>type</th>\n",
       "      <th>description</th>\n",
       "      <th>rating</th>\n",
       "      <th>review_count</th>\n",
       "      <th>price</th>\n",
       "      <th>address</th>\n",
       "      <th>label</th>\n",
       "      <th>latitude</th>\n",
       "      <th>longitude</th>\n",
       "      <th>dine_in</th>\n",
       "      <th>takeaway</th>\n",
       "      <th>delivery</th>\n",
       "      <th>drive_through</th>\n",
       "      <th>no_del_exp</th>\n",
       "    </tr>\n",
       "  </thead>\n",
       "  <tbody>\n",
       "    <tr>\n",
       "      <th>0</th>\n",
       "      <td>Augusto Lisboa</td>\n",
       "      <td>brunch</td>\n",
       "      <td>Hip brunch eatery serving savory toasts, banan...</td>\n",
       "      <td>4.8</td>\n",
       "      <td>1032.0</td>\n",
       "      <td>2.0</td>\n",
       "      <td>Rua Santa M.nha 26, 1100-491 Lisboa, Portugal</td>\n",
       "      <td>['dine-in', 'takeaway', 'no delivery']</td>\n",
       "      <td>None</td>\n",
       "      <td>None</td>\n",
       "      <td>1</td>\n",
       "      <td>1</td>\n",
       "      <td>1</td>\n",
       "      <td>0</td>\n",
       "      <td>1</td>\n",
       "    </tr>\n",
       "    <tr>\n",
       "      <th>1</th>\n",
       "      <td>Tiffin Cafe &amp; Restaurant Lisboa</td>\n",
       "      <td>brunch</td>\n",
       "      <td>NaN</td>\n",
       "      <td>4.9</td>\n",
       "      <td>139.0</td>\n",
       "      <td>2.0</td>\n",
       "      <td>R. do Conde 32, 1200-637 Lisboa, Portugal</td>\n",
       "      <td>['dine-in', 'takeaway', 'delivery']</td>\n",
       "      <td>None</td>\n",
       "      <td>None</td>\n",
       "      <td>1</td>\n",
       "      <td>1</td>\n",
       "      <td>1</td>\n",
       "      <td>0</td>\n",
       "      <td>0</td>\n",
       "    </tr>\n",
       "    <tr>\n",
       "      <th>2</th>\n",
       "      <td>Crisfama</td>\n",
       "      <td></td>\n",
       "      <td>NaN</td>\n",
       "      <td>4.8</td>\n",
       "      <td>649.0</td>\n",
       "      <td>1.0</td>\n",
       "      <td>Rua da Cruz de Santa Apolónia 56, 1100-188 Lis...</td>\n",
       "      <td>['dine-in', 'takeaway', 'no delivery']</td>\n",
       "      <td>None</td>\n",
       "      <td>None</td>\n",
       "      <td>1</td>\n",
       "      <td>1</td>\n",
       "      <td>1</td>\n",
       "      <td>0</td>\n",
       "      <td>1</td>\n",
       "    </tr>\n",
       "    <tr>\n",
       "      <th>3</th>\n",
       "      <td>Alma</td>\n",
       "      <td>fine dining</td>\n",
       "      <td>High-end restaurant with avant-garde local mea...</td>\n",
       "      <td>4.8</td>\n",
       "      <td>953.0</td>\n",
       "      <td>4.0</td>\n",
       "      <td>R. Anchieta 15, 1200-224 Lisboa, Portugal</td>\n",
       "      <td>['dine-in', 'no takeaway', 'no delivery']</td>\n",
       "      <td>None</td>\n",
       "      <td>None</td>\n",
       "      <td>1</td>\n",
       "      <td>1</td>\n",
       "      <td>1</td>\n",
       "      <td>0</td>\n",
       "      <td>1</td>\n",
       "    </tr>\n",
       "    <tr>\n",
       "      <th>4</th>\n",
       "      <td>Restaurant CHULHO &amp; Bar</td>\n",
       "      <td></td>\n",
       "      <td>NaN</td>\n",
       "      <td>4.9</td>\n",
       "      <td>180.0</td>\n",
       "      <td>NaN</td>\n",
       "      <td>R. de São João da Mata 82, 1200-850 Lisboa, Po...</td>\n",
       "      <td>['dine-in', 'takeaway', 'delivery']</td>\n",
       "      <td>None</td>\n",
       "      <td>None</td>\n",
       "      <td>1</td>\n",
       "      <td>1</td>\n",
       "      <td>1</td>\n",
       "      <td>0</td>\n",
       "      <td>0</td>\n",
       "    </tr>\n",
       "  </tbody>\n",
       "</table>\n",
       "</div>"
      ],
      "text/plain": [
       "                              name          type  \\\n",
       "0                   Augusto Lisboa       brunch    \n",
       "1  Tiffin Cafe & Restaurant Lisboa       brunch    \n",
       "2                         Crisfama                 \n",
       "3                             Alma  fine dining    \n",
       "4          Restaurant CHULHO & Bar                 \n",
       "\n",
       "                                         description  rating  review_count  \\\n",
       "0  Hip brunch eatery serving savory toasts, banan...     4.8        1032.0   \n",
       "1                                                NaN     4.9         139.0   \n",
       "2                                                NaN     4.8         649.0   \n",
       "3  High-end restaurant with avant-garde local mea...     4.8         953.0   \n",
       "4                                                NaN     4.9         180.0   \n",
       "\n",
       "   price                                            address  \\\n",
       "0    2.0      Rua Santa M.nha 26, 1100-491 Lisboa, Portugal   \n",
       "1    2.0          R. do Conde 32, 1200-637 Lisboa, Portugal   \n",
       "2    1.0  Rua da Cruz de Santa Apolónia 56, 1100-188 Lis...   \n",
       "3    4.0          R. Anchieta 15, 1200-224 Lisboa, Portugal   \n",
       "4    NaN  R. de São João da Mata 82, 1200-850 Lisboa, Po...   \n",
       "\n",
       "                                       label latitude longitude  dine_in  \\\n",
       "0     ['dine-in', 'takeaway', 'no delivery']     None      None        1   \n",
       "1        ['dine-in', 'takeaway', 'delivery']     None      None        1   \n",
       "2     ['dine-in', 'takeaway', 'no delivery']     None      None        1   \n",
       "3  ['dine-in', 'no takeaway', 'no delivery']     None      None        1   \n",
       "4        ['dine-in', 'takeaway', 'delivery']     None      None        1   \n",
       "\n",
       "   takeaway  delivery  drive_through  no_del_exp  \n",
       "0         1         1              0           1  \n",
       "1         1         1              0           0  \n",
       "2         1         1              0           1  \n",
       "3         1         1              0           1  \n",
       "4         1         1              0           0  "
      ]
     },
     "execution_count": 57,
     "metadata": {},
     "output_type": "execute_result"
    }
   ],
   "source": [
    "data.head()"
   ]
  },
  {
   "cell_type": "code",
   "execution_count": 58,
   "id": "4d101e08",
   "metadata": {
    "scrolled": true
   },
   "outputs": [
    {
     "data": {
      "text/plain": [
       "                11\n",
       "brunch           2\n",
       "fine dining      1\n",
       "seafood          1\n",
       "portuguese       1\n",
       "peruvian         1\n",
       "basque           1\n",
       "bistro           1\n",
       "tapas            1\n",
       "european         1\n",
       "Name: type, dtype: int64"
      ]
     },
     "execution_count": 58,
     "metadata": {},
     "output_type": "execute_result"
    }
   ],
   "source": [
    "data.type.value_counts()"
   ]
  },
  {
   "cell_type": "code",
   "execution_count": 59,
   "id": "630a0b20",
   "metadata": {
    "scrolled": true
   },
   "outputs": [
    {
     "data": {
      "text/html": [
       "<div>\n",
       "<style scoped>\n",
       "    .dataframe tbody tr th:only-of-type {\n",
       "        vertical-align: middle;\n",
       "    }\n",
       "\n",
       "    .dataframe tbody tr th {\n",
       "        vertical-align: top;\n",
       "    }\n",
       "\n",
       "    .dataframe thead th {\n",
       "        text-align: right;\n",
       "    }\n",
       "</style>\n",
       "<table border=\"1\" class=\"dataframe\">\n",
       "  <thead>\n",
       "    <tr style=\"text-align: right;\">\n",
       "      <th></th>\n",
       "      <th>name</th>\n",
       "      <th>type</th>\n",
       "      <th>description</th>\n",
       "      <th>rating</th>\n",
       "      <th>review_count</th>\n",
       "      <th>price</th>\n",
       "      <th>address</th>\n",
       "      <th>label</th>\n",
       "      <th>latitude</th>\n",
       "      <th>longitude</th>\n",
       "      <th>dine_in</th>\n",
       "      <th>takeaway</th>\n",
       "      <th>delivery</th>\n",
       "      <th>drive_through</th>\n",
       "      <th>no_del_exp</th>\n",
       "    </tr>\n",
       "  </thead>\n",
       "  <tbody>\n",
       "    <tr>\n",
       "      <th>0</th>\n",
       "      <td>Augusto Lisboa</td>\n",
       "      <td>brunch</td>\n",
       "      <td>Hip brunch eatery serving savory toasts, banan...</td>\n",
       "      <td>4.8</td>\n",
       "      <td>1032.0</td>\n",
       "      <td>2.0</td>\n",
       "      <td>Rua Santa M.nha 26, 1100-491 Lisboa, Portugal</td>\n",
       "      <td>['dine-in', 'takeaway', 'no delivery']</td>\n",
       "      <td>None</td>\n",
       "      <td>None</td>\n",
       "      <td>1</td>\n",
       "      <td>1</td>\n",
       "      <td>1</td>\n",
       "      <td>0</td>\n",
       "      <td>1</td>\n",
       "    </tr>\n",
       "    <tr>\n",
       "      <th>1</th>\n",
       "      <td>Tiffin Cafe &amp; Restaurant Lisboa</td>\n",
       "      <td>brunch</td>\n",
       "      <td>NaN</td>\n",
       "      <td>4.9</td>\n",
       "      <td>139.0</td>\n",
       "      <td>2.0</td>\n",
       "      <td>R. do Conde 32, 1200-637 Lisboa, Portugal</td>\n",
       "      <td>['dine-in', 'takeaway', 'delivery']</td>\n",
       "      <td>None</td>\n",
       "      <td>None</td>\n",
       "      <td>1</td>\n",
       "      <td>1</td>\n",
       "      <td>1</td>\n",
       "      <td>0</td>\n",
       "      <td>0</td>\n",
       "    </tr>\n",
       "    <tr>\n",
       "      <th>2</th>\n",
       "      <td>Crisfama</td>\n",
       "      <td></td>\n",
       "      <td>NaN</td>\n",
       "      <td>4.8</td>\n",
       "      <td>649.0</td>\n",
       "      <td>1.0</td>\n",
       "      <td>Rua da Cruz de Santa Apolónia 56, 1100-188 Lis...</td>\n",
       "      <td>['dine-in', 'takeaway', 'no delivery']</td>\n",
       "      <td>None</td>\n",
       "      <td>None</td>\n",
       "      <td>1</td>\n",
       "      <td>1</td>\n",
       "      <td>1</td>\n",
       "      <td>0</td>\n",
       "      <td>1</td>\n",
       "    </tr>\n",
       "    <tr>\n",
       "      <th>3</th>\n",
       "      <td>Alma</td>\n",
       "      <td>fine dining</td>\n",
       "      <td>High-end restaurant with avant-garde local mea...</td>\n",
       "      <td>4.8</td>\n",
       "      <td>953.0</td>\n",
       "      <td>4.0</td>\n",
       "      <td>R. Anchieta 15, 1200-224 Lisboa, Portugal</td>\n",
       "      <td>['dine-in', 'no takeaway', 'no delivery']</td>\n",
       "      <td>None</td>\n",
       "      <td>None</td>\n",
       "      <td>1</td>\n",
       "      <td>1</td>\n",
       "      <td>1</td>\n",
       "      <td>0</td>\n",
       "      <td>1</td>\n",
       "    </tr>\n",
       "    <tr>\n",
       "      <th>4</th>\n",
       "      <td>Restaurant CHULHO &amp; Bar</td>\n",
       "      <td></td>\n",
       "      <td>NaN</td>\n",
       "      <td>4.9</td>\n",
       "      <td>180.0</td>\n",
       "      <td>NaN</td>\n",
       "      <td>R. de São João da Mata 82, 1200-850 Lisboa, Po...</td>\n",
       "      <td>['dine-in', 'takeaway', 'delivery']</td>\n",
       "      <td>None</td>\n",
       "      <td>None</td>\n",
       "      <td>1</td>\n",
       "      <td>1</td>\n",
       "      <td>1</td>\n",
       "      <td>0</td>\n",
       "      <td>0</td>\n",
       "    </tr>\n",
       "  </tbody>\n",
       "</table>\n",
       "</div>"
      ],
      "text/plain": [
       "                              name          type  \\\n",
       "0                   Augusto Lisboa       brunch    \n",
       "1  Tiffin Cafe & Restaurant Lisboa       brunch    \n",
       "2                         Crisfama                 \n",
       "3                             Alma  fine dining    \n",
       "4          Restaurant CHULHO & Bar                 \n",
       "\n",
       "                                         description  rating  review_count  \\\n",
       "0  Hip brunch eatery serving savory toasts, banan...     4.8        1032.0   \n",
       "1                                                NaN     4.9         139.0   \n",
       "2                                                NaN     4.8         649.0   \n",
       "3  High-end restaurant with avant-garde local mea...     4.8         953.0   \n",
       "4                                                NaN     4.9         180.0   \n",
       "\n",
       "   price                                            address  \\\n",
       "0    2.0      Rua Santa M.nha 26, 1100-491 Lisboa, Portugal   \n",
       "1    2.0          R. do Conde 32, 1200-637 Lisboa, Portugal   \n",
       "2    1.0  Rua da Cruz de Santa Apolónia 56, 1100-188 Lis...   \n",
       "3    4.0          R. Anchieta 15, 1200-224 Lisboa, Portugal   \n",
       "4    NaN  R. de São João da Mata 82, 1200-850 Lisboa, Po...   \n",
       "\n",
       "                                       label latitude longitude  dine_in  \\\n",
       "0     ['dine-in', 'takeaway', 'no delivery']     None      None        1   \n",
       "1        ['dine-in', 'takeaway', 'delivery']     None      None        1   \n",
       "2     ['dine-in', 'takeaway', 'no delivery']     None      None        1   \n",
       "3  ['dine-in', 'no takeaway', 'no delivery']     None      None        1   \n",
       "4        ['dine-in', 'takeaway', 'delivery']     None      None        1   \n",
       "\n",
       "   takeaway  delivery  drive_through  no_del_exp  \n",
       "0         1         1              0           1  \n",
       "1         1         1              0           0  \n",
       "2         1         1              0           1  \n",
       "3         1         1              0           1  \n",
       "4         1         1              0           0  "
      ]
     },
     "execution_count": 59,
     "metadata": {},
     "output_type": "execute_result"
    }
   ],
   "source": [
    "data.head()"
   ]
  },
  {
   "cell_type": "markdown",
   "id": "51de3ca1",
   "metadata": {},
   "source": [
    "## Exploration"
   ]
  },
  {
   "cell_type": "code",
   "execution_count": 60,
   "id": "82c370a9",
   "metadata": {},
   "outputs": [
    {
     "data": {
      "text/plain": [
       "(array([2., 0., 2., 0., 3., 0., 0., 0., 9., 5.]),\n",
       " array([4.4      , 4.4500003, 4.5      , 4.55     , 4.6      , 4.65     ,\n",
       "        4.7000003, 4.75     , 4.8      , 4.85     , 4.9      ],\n",
       "       dtype=float32),\n",
       " <BarContainer object of 10 artists>)"
      ]
     },
     "execution_count": 60,
     "metadata": {},
     "output_type": "execute_result"
    },
    {
     "data": {
      "image/png": "[encoded data removed]",
      "text/plain": [
       "<Figure size 432x288 with 1 Axes>"
      ]
     },
     "metadata": {
      "needs_background": "light"
     },
     "output_type": "display_data"
    }
   ],
   "source": [
    "# Repartition of reviews\n",
    "plt.hist(data.rating)"
   ]
  },
  {
   "cell_type": "code",
   "execution_count": 61,
   "id": "2889df02",
   "metadata": {},
   "outputs": [
    {
     "name": "stdout",
     "output_type": "stream",
     "text": [
      "average number of reviews per store: 1135.9048\n",
      "Some outliers with many reviews: \n"
     ]
    },
    {
     "data": {
      "image/png": "[encoded data removed]",
      "text/plain": [
       "<Figure size 432x288 with 1 Axes>"
      ]
     },
     "metadata": {
      "needs_background": "light"
     },
     "output_type": "display_data"
    }
   ],
   "source": [
    "# number of reviews per store: \n",
    "plt.boxplot(data.review_count)\n",
    "\n",
    "print('average number of reviews per store:', data.review_count.mean())\n",
    "print('Some outliers with many reviews: ')"
   ]
  },
  {
   "cell_type": "code",
   "execution_count": 62,
   "id": "0f1e5a9d",
   "metadata": {},
   "outputs": [
    {
     "data": {
      "text/plain": [
       "<seaborn.axisgrid.PairGrid at 0x127dbde20>"
      ]
     },
     "execution_count": 62,
     "metadata": {},
     "output_type": "execute_result"
    },
    {
     "data": {
      "image/png": "[encoded data removed]",
      "text/plain": [
       "<Figure size 540x540 with 12 Axes>"
      ]
     },
     "metadata": {
      "needs_background": "light"
     },
     "output_type": "display_data"
    }
   ],
   "source": [
    "sns.pairplot(data[['rating', 'review_count', 'price']])"
   ]
  },
  {
   "cell_type": "markdown",
   "id": "34353810",
   "metadata": {},
   "source": [
    "### Relationship between number of reviews and review score: \n"
   ]
  },
  {
   "cell_type": "code",
   "execution_count": 63,
   "id": "26497c88",
   "metadata": {},
   "outputs": [
    {
     "data": {
      "text/plain": [
       "<matplotlib.collections.PathCollection at 0x1283d6d90>"
      ]
     },
     "execution_count": 63,
     "metadata": {},
     "output_type": "execute_result"
    },
    {
     "data": {
      "image/png": "[encoded data removed]",
      "text/plain": [
       "<Figure size 432x288 with 1 Axes>"
      ]
     },
     "metadata": {
      "needs_background": "light"
     },
     "output_type": "display_data"
    }
   ],
   "source": [
    "plt.scatter(data.rating, data.review_count,  edgecolor='#333333', alpha=0.75)"
   ]
  },
  {
   "cell_type": "markdown",
   "id": "11cc89c3",
   "metadata": {},
   "source": [
    "## Labels"
   ]
  },
  {
   "cell_type": "code",
   "execution_count": 64,
   "id": "012c65cb",
   "metadata": {},
   "outputs": [
    {
     "data": {
      "text/plain": [
       "['dine-in', 'takeaway', 'no delivery']                 5\n",
       "['dine-in', 'no delivery']                             5\n",
       "['dine-in', 'takeaway', 'delivery']                    4\n",
       "['dine-in', 'no takeaway', 'no delivery']              3\n",
       "['dine-in', 'drive-through', 'no-contact delivery']    1\n",
       "['dine-in', 'takeaway', 'no-contact delivery']         1\n",
       "['dine-in', 'takeaway']                                1\n",
       "['dine-in']                                            1\n",
       "Name: label, dtype: int64"
      ]
     },
     "execution_count": 64,
     "metadata": {},
     "output_type": "execute_result"
    }
   ],
   "source": [
    "data.label.value_counts()"
   ]
  },
  {
   "cell_type": "code",
   "execution_count": 65,
   "id": "b0fa64e4",
   "metadata": {},
   "outputs": [
    {
     "data": {
      "text/html": [
       "<div>\n",
       "<style scoped>\n",
       "    .dataframe tbody tr th:only-of-type {\n",
       "        vertical-align: middle;\n",
       "    }\n",
       "\n",
       "    .dataframe tbody tr th {\n",
       "        vertical-align: top;\n",
       "    }\n",
       "\n",
       "    .dataframe thead th {\n",
       "        text-align: right;\n",
       "    }\n",
       "</style>\n",
       "<table border=\"1\" class=\"dataframe\">\n",
       "  <thead>\n",
       "    <tr style=\"text-align: right;\">\n",
       "      <th></th>\n",
       "      <th>rating</th>\n",
       "      <th>review_count</th>\n",
       "      <th>price</th>\n",
       "      <th>dine_in</th>\n",
       "      <th>takeaway</th>\n",
       "      <th>delivery</th>\n",
       "      <th>drive_through</th>\n",
       "      <th>no_del_exp</th>\n",
       "    </tr>\n",
       "    <tr>\n",
       "      <th>label</th>\n",
       "      <th></th>\n",
       "      <th></th>\n",
       "      <th></th>\n",
       "      <th></th>\n",
       "      <th></th>\n",
       "      <th></th>\n",
       "      <th></th>\n",
       "      <th></th>\n",
       "    </tr>\n",
       "  </thead>\n",
       "  <tbody>\n",
       "    <tr>\n",
       "      <th>['dine-in', 'drive-through', 'no-contact delivery']</th>\n",
       "      <td>4.500000</td>\n",
       "      <td>11612.000000</td>\n",
       "      <td>3.000000</td>\n",
       "      <td>1.0</td>\n",
       "      <td>0.0</td>\n",
       "      <td>1.0</td>\n",
       "      <td>1.0</td>\n",
       "      <td>0.0</td>\n",
       "    </tr>\n",
       "    <tr>\n",
       "      <th>['dine-in', 'no delivery']</th>\n",
       "      <td>4.740000</td>\n",
       "      <td>414.799988</td>\n",
       "      <td>2.250000</td>\n",
       "      <td>1.0</td>\n",
       "      <td>0.0</td>\n",
       "      <td>1.0</td>\n",
       "      <td>0.0</td>\n",
       "      <td>1.0</td>\n",
       "    </tr>\n",
       "    <tr>\n",
       "      <th>['dine-in', 'no takeaway', 'no delivery']</th>\n",
       "      <td>4.633333</td>\n",
       "      <td>821.333313</td>\n",
       "      <td>3.333333</td>\n",
       "      <td>1.0</td>\n",
       "      <td>1.0</td>\n",
       "      <td>1.0</td>\n",
       "      <td>0.0</td>\n",
       "      <td>1.0</td>\n",
       "    </tr>\n",
       "    <tr>\n",
       "      <th>['dine-in', 'takeaway', 'delivery']</th>\n",
       "      <td>4.775000</td>\n",
       "      <td>757.500000</td>\n",
       "      <td>2.000000</td>\n",
       "      <td>1.0</td>\n",
       "      <td>1.0</td>\n",
       "      <td>1.0</td>\n",
       "      <td>0.0</td>\n",
       "      <td>0.0</td>\n",
       "    </tr>\n",
       "    <tr>\n",
       "      <th>['dine-in', 'takeaway', 'no delivery']</th>\n",
       "      <td>4.760000</td>\n",
       "      <td>617.000000</td>\n",
       "      <td>1.750000</td>\n",
       "      <td>1.0</td>\n",
       "      <td>1.0</td>\n",
       "      <td>1.0</td>\n",
       "      <td>0.0</td>\n",
       "      <td>1.0</td>\n",
       "    </tr>\n",
       "    <tr>\n",
       "      <th>['dine-in', 'takeaway', 'no-contact delivery']</th>\n",
       "      <td>4.600000</td>\n",
       "      <td>1256.000000</td>\n",
       "      <td>2.000000</td>\n",
       "      <td>1.0</td>\n",
       "      <td>1.0</td>\n",
       "      <td>1.0</td>\n",
       "      <td>0.0</td>\n",
       "      <td>0.0</td>\n",
       "    </tr>\n",
       "    <tr>\n",
       "      <th>['dine-in', 'takeaway']</th>\n",
       "      <td>4.800000</td>\n",
       "      <td>287.000000</td>\n",
       "      <td>NaN</td>\n",
       "      <td>1.0</td>\n",
       "      <td>1.0</td>\n",
       "      <td>0.0</td>\n",
       "      <td>0.0</td>\n",
       "      <td>0.0</td>\n",
       "    </tr>\n",
       "    <tr>\n",
       "      <th>['dine-in']</th>\n",
       "      <td>4.900000</td>\n",
       "      <td>46.000000</td>\n",
       "      <td>NaN</td>\n",
       "      <td>1.0</td>\n",
       "      <td>0.0</td>\n",
       "      <td>0.0</td>\n",
       "      <td>0.0</td>\n",
       "      <td>0.0</td>\n",
       "    </tr>\n",
       "  </tbody>\n",
       "</table>\n",
       "</div>"
      ],
      "text/plain": [
       "                                                      rating  review_count  \\\n",
       "label                                                                        \n",
       "['dine-in', 'drive-through', 'no-contact delive...  4.500000  11612.000000   \n",
       "['dine-in', 'no delivery']                          4.740000    414.799988   \n",
       "['dine-in', 'no takeaway', 'no delivery']           4.633333    821.333313   \n",
       "['dine-in', 'takeaway', 'delivery']                 4.775000    757.500000   \n",
       "['dine-in', 'takeaway', 'no delivery']              4.760000    617.000000   \n",
       "['dine-in', 'takeaway', 'no-contact delivery']      4.600000   1256.000000   \n",
       "['dine-in', 'takeaway']                             4.800000    287.000000   \n",
       "['dine-in']                                         4.900000     46.000000   \n",
       "\n",
       "                                                       price  dine_in  \\\n",
       "label                                                                   \n",
       "['dine-in', 'drive-through', 'no-contact delive...  3.000000      1.0   \n",
       "['dine-in', 'no delivery']                          2.250000      1.0   \n",
       "['dine-in', 'no takeaway', 'no delivery']           3.333333      1.0   \n",
       "['dine-in', 'takeaway', 'delivery']                 2.000000      1.0   \n",
       "['dine-in', 'takeaway', 'no delivery']              1.750000      1.0   \n",
       "['dine-in', 'takeaway', 'no-contact delivery']      2.000000      1.0   \n",
       "['dine-in', 'takeaway']                                  NaN      1.0   \n",
       "['dine-in']                                              NaN      1.0   \n",
       "\n",
       "                                                    takeaway  delivery  \\\n",
       "label                                                                    \n",
       "['dine-in', 'drive-through', 'no-contact delive...       0.0       1.0   \n",
       "['dine-in', 'no delivery']                               0.0       1.0   \n",
       "['dine-in', 'no takeaway', 'no delivery']                1.0       1.0   \n",
       "['dine-in', 'takeaway', 'delivery']                      1.0       1.0   \n",
       "['dine-in', 'takeaway', 'no delivery']                   1.0       1.0   \n",
       "['dine-in', 'takeaway', 'no-contact delivery']           1.0       1.0   \n",
       "['dine-in', 'takeaway']                                  1.0       0.0   \n",
       "['dine-in']                                              0.0       0.0   \n",
       "\n",
       "                                                    drive_through  no_del_exp  \n",
       "label                                                                          \n",
       "['dine-in', 'drive-through', 'no-contact delive...            1.0         0.0  \n",
       "['dine-in', 'no delivery']                                    0.0         1.0  \n",
       "['dine-in', 'no takeaway', 'no delivery']                     0.0         1.0  \n",
       "['dine-in', 'takeaway', 'delivery']                           0.0         0.0  \n",
       "['dine-in', 'takeaway', 'no delivery']                        0.0         1.0  \n",
       "['dine-in', 'takeaway', 'no-contact delivery']                0.0         0.0  \n",
       "['dine-in', 'takeaway']                                       0.0         0.0  \n",
       "['dine-in']                                                   0.0         0.0  "
      ]
     },
     "execution_count": 65,
     "metadata": {},
     "output_type": "execute_result"
    }
   ],
   "source": [
    "data.groupby('label').mean()\n",
    "#regions = countries_df.groupby('Region')"
   ]
  },
  {
   "cell_type": "code",
   "execution_count": 66,
   "id": "e49e645c",
   "metadata": {},
   "outputs": [
    {
     "ename": "KeyError",
     "evalue": "'no_delivery'",
     "output_type": "error",
     "traceback": [
      "\u001b[0;31m---------------------------------------------------------------------------\u001b[0m",
      "\u001b[0;31mKeyError\u001b[0m                                  Traceback (most recent call last)",
      "\u001b[0;32m/var/folders/l2/23y9j6c53jg7nsfljwz87mqm0000gn/T/ipykernel_16887/3124680461.py\u001b[0m in \u001b[0;36m<module>\u001b[0;34m\u001b[0m\n\u001b[0;32m----> 1\u001b[0;31m \u001b[0mdata\u001b[0m\u001b[0;34m.\u001b[0m\u001b[0mgroupby\u001b[0m\u001b[0;34m(\u001b[0m\u001b[0;34m'no_delivery'\u001b[0m\u001b[0;34m)\u001b[0m\u001b[0;34m.\u001b[0m\u001b[0mmean\u001b[0m\u001b[0;34m(\u001b[0m\u001b[0;34m)\u001b[0m\u001b[0;34m\u001b[0m\u001b[0;34m\u001b[0m\u001b[0m\n\u001b[0m\u001b[1;32m      2\u001b[0m \u001b[0;31m#regions = countries_df.groupby('Region')\u001b[0m\u001b[0;34m\u001b[0m\u001b[0;34m\u001b[0m\u001b[0;34m\u001b[0m\u001b[0m\n",
      "\u001b[0;32m~/.pyenv/versions/3.8.12/envs/small_business/lib/python3.8/site-packages/pandas/core/frame.py\u001b[0m in \u001b[0;36mgroupby\u001b[0;34m(self, by, axis, level, as_index, sort, group_keys, squeeze, observed, dropna)\u001b[0m\n\u001b[1;32m   7629\u001b[0m         \u001b[0;31m# error: Argument \"squeeze\" to \"DataFrameGroupBy\" has incompatible type\u001b[0m\u001b[0;34m\u001b[0m\u001b[0;34m\u001b[0m\u001b[0;34m\u001b[0m\u001b[0m\n\u001b[1;32m   7630\u001b[0m         \u001b[0;31m# \"Union[bool, NoDefault]\"; expected \"bool\"\u001b[0m\u001b[0;34m\u001b[0m\u001b[0;34m\u001b[0m\u001b[0;34m\u001b[0m\u001b[0m\n\u001b[0;32m-> 7631\u001b[0;31m         return DataFrameGroupBy(\n\u001b[0m\u001b[1;32m   7632\u001b[0m             \u001b[0mobj\u001b[0m\u001b[0;34m=\u001b[0m\u001b[0mself\u001b[0m\u001b[0;34m,\u001b[0m\u001b[0;34m\u001b[0m\u001b[0;34m\u001b[0m\u001b[0m\n\u001b[1;32m   7633\u001b[0m             \u001b[0mkeys\u001b[0m\u001b[0;34m=\u001b[0m\u001b[0mby\u001b[0m\u001b[0;34m,\u001b[0m\u001b[0;34m\u001b[0m\u001b[0;34m\u001b[0m\u001b[0m\n",
      "\u001b[0;32m~/.pyenv/versions/3.8.12/envs/small_business/lib/python3.8/site-packages/pandas/core/groupby/groupby.py\u001b[0m in \u001b[0;36m__init__\u001b[0;34m(self, obj, keys, axis, level, grouper, exclusions, selection, as_index, sort, group_keys, squeeze, observed, mutated, dropna)\u001b[0m\n\u001b[1;32m    887\u001b[0m             \u001b[0;32mfrom\u001b[0m \u001b[0mpandas\u001b[0m\u001b[0;34m.\u001b[0m\u001b[0mcore\u001b[0m\u001b[0;34m.\u001b[0m\u001b[0mgroupby\u001b[0m\u001b[0;34m.\u001b[0m\u001b[0mgrouper\u001b[0m \u001b[0;32mimport\u001b[0m \u001b[0mget_grouper\u001b[0m\u001b[0;34m\u001b[0m\u001b[0;34m\u001b[0m\u001b[0m\n\u001b[1;32m    888\u001b[0m \u001b[0;34m\u001b[0m\u001b[0m\n\u001b[0;32m--> 889\u001b[0;31m             grouper, exclusions, obj = get_grouper(\n\u001b[0m\u001b[1;32m    890\u001b[0m                 \u001b[0mobj\u001b[0m\u001b[0;34m,\u001b[0m\u001b[0;34m\u001b[0m\u001b[0;34m\u001b[0m\u001b[0m\n\u001b[1;32m    891\u001b[0m                 \u001b[0mkeys\u001b[0m\u001b[0;34m,\u001b[0m\u001b[0;34m\u001b[0m\u001b[0;34m\u001b[0m\u001b[0m\n",
      "\u001b[0;32m~/.pyenv/versions/3.8.12/envs/small_business/lib/python3.8/site-packages/pandas/core/groupby/grouper.py\u001b[0m in \u001b[0;36mget_grouper\u001b[0;34m(obj, key, axis, level, sort, observed, mutated, validate, dropna)\u001b[0m\n\u001b[1;32m    860\u001b[0m                 \u001b[0min_axis\u001b[0m\u001b[0;34m,\u001b[0m \u001b[0mlevel\u001b[0m\u001b[0;34m,\u001b[0m \u001b[0mgpr\u001b[0m \u001b[0;34m=\u001b[0m \u001b[0;32mFalse\u001b[0m\u001b[0;34m,\u001b[0m \u001b[0mgpr\u001b[0m\u001b[0;34m,\u001b[0m \u001b[0;32mNone\u001b[0m\u001b[0;34m\u001b[0m\u001b[0;34m\u001b[0m\u001b[0m\n\u001b[1;32m    861\u001b[0m             \u001b[0;32melse\u001b[0m\u001b[0;34m:\u001b[0m\u001b[0;34m\u001b[0m\u001b[0;34m\u001b[0m\u001b[0m\n\u001b[0;32m--> 862\u001b[0;31m                 \u001b[0;32mraise\u001b[0m \u001b[0mKeyError\u001b[0m\u001b[0;34m(\u001b[0m\u001b[0mgpr\u001b[0m\u001b[0;34m)\u001b[0m\u001b[0;34m\u001b[0m\u001b[0;34m\u001b[0m\u001b[0m\n\u001b[0m\u001b[1;32m    863\u001b[0m         \u001b[0;32melif\u001b[0m \u001b[0misinstance\u001b[0m\u001b[0;34m(\u001b[0m\u001b[0mgpr\u001b[0m\u001b[0;34m,\u001b[0m \u001b[0mGrouper\u001b[0m\u001b[0;34m)\u001b[0m \u001b[0;32mand\u001b[0m \u001b[0mgpr\u001b[0m\u001b[0;34m.\u001b[0m\u001b[0mkey\u001b[0m \u001b[0;32mis\u001b[0m \u001b[0;32mnot\u001b[0m \u001b[0;32mNone\u001b[0m\u001b[0;34m:\u001b[0m\u001b[0;34m\u001b[0m\u001b[0;34m\u001b[0m\u001b[0m\n\u001b[1;32m    864\u001b[0m             \u001b[0;31m# Add key to exclusions\u001b[0m\u001b[0;34m\u001b[0m\u001b[0;34m\u001b[0m\u001b[0;34m\u001b[0m\u001b[0m\n",
      "\u001b[0;31mKeyError\u001b[0m: 'no_delivery'"
     ]
    }
   ],
   "source": [
    "data.groupby('no_delivery').mean()\n",
    "#regions = countries_df.groupby('Region')"
   ]
  },
  {
   "cell_type": "markdown",
   "id": "578facca",
   "metadata": {},
   "source": [
    "## Mapping of coordinates of restaurant with folium "
   ]
  },
  {
   "cell_type": "code",
   "execution_count": null,
   "id": "a6ead9ff",
   "metadata": {},
   "outputs": [],
   "source": [
    "import os \n",
    "import folium"
   ]
  },
  {
   "cell_type": "code",
   "execution_count": null,
   "id": "deac6a99",
   "metadata": {
    "scrolled": false
   },
   "outputs": [],
   "source": [
    "data_2=data.dropna()\n",
    "\n",
    "latlonname= zip(data_2['latitude'],data_2['longitude'], data_2['name'], data_2['price'], data_2['rating'])\n",
    "\n",
    "m = folium.Map(location=[38.7166,  -9.1483], titles='small businesses', zoom_start=14)\n",
    "\n",
    "for coord in latlonname:\n",
    "    folium.Marker(location=[coord[0], coord[1]], popup= (coord[2:5]), fill_color='#43d9de', radius=8 ).add_to(m)\n",
    "    \n",
    "m"
   ]
  },
  {
   "cell_type": "code",
   "execution_count": null,
   "id": "5be27ae1",
   "metadata": {
    "scrolled": false
   },
   "outputs": [],
   "source": [
    "codigos[codigos['cod_concelho']==11]"
   ]
  },
  {
   "cell_type": "code",
   "execution_count": null,
   "id": "99c5fa53",
   "metadata": {},
   "outputs": [],
   "source": [
    "data.head()"
   ]
  },
  {
   "cell_type": "markdown",
   "id": "ebcb40fc",
   "metadata": {},
   "source": [
    "# Regression"
   ]
  },
  {
   "cell_type": "markdown",
   "id": "3c93d6bb",
   "metadata": {},
   "source": [
    "## imports"
   ]
  },
  {
   "cell_type": "code",
   "execution_count": 80,
   "id": "e5f1e92e",
   "metadata": {},
   "outputs": [],
   "source": [
    "from sklearn.linear_model import LinearRegression\n",
    "from sklearn.model_selection import cross_validate\n",
    "import statsmodels.api as sm\n",
    "from sklearn.preprocessing import OneHotEncoder\n",
    "from sklearn.model_selection import train_test_split\n",
    "from sklearn.dummy import DummyRegressor"
   ]
  },
  {
   "cell_type": "code",
   "execution_count": 71,
   "id": "01954227",
   "metadata": {},
   "outputs": [],
   "source": [
    "X = data[['review_count', 'takeaway', 'delivery', 'drive_through', 'no_del_exp']] #price\n",
    "y =data['rating']"
   ]
  },
  {
   "cell_type": "code",
   "execution_count": 72,
   "id": "05064ded",
   "metadata": {},
   "outputs": [],
   "source": [
    "#enc = OneHotEncoder(handle_unknown='ignore') encode type and price"
   ]
  },
  {
   "cell_type": "code",
   "execution_count": 73,
   "id": "c6724746",
   "metadata": {},
   "outputs": [],
   "source": [
    "#enc(data.type)"
   ]
  },
  {
   "cell_type": "markdown",
   "id": "ac404c82",
   "metadata": {},
   "source": [
    "## Linear Regression"
   ]
  },
  {
   "cell_type": "code",
   "execution_count": 74,
   "id": "e2451dc2",
   "metadata": {},
   "outputs": [],
   "source": [
    "model = LinearRegression()\n"
   ]
  },
  {
   "cell_type": "code",
   "execution_count": 75,
   "id": "f25a0d50",
   "metadata": {},
   "outputs": [
    {
     "data": {
      "text/html": [
       "<div>\n",
       "<style scoped>\n",
       "    .dataframe tbody tr th:only-of-type {\n",
       "        vertical-align: middle;\n",
       "    }\n",
       "\n",
       "    .dataframe tbody tr th {\n",
       "        vertical-align: top;\n",
       "    }\n",
       "\n",
       "    .dataframe thead th {\n",
       "        text-align: right;\n",
       "    }\n",
       "</style>\n",
       "<table border=\"1\" class=\"dataframe\">\n",
       "  <thead>\n",
       "    <tr style=\"text-align: right;\">\n",
       "      <th></th>\n",
       "      <th>rating</th>\n",
       "      <th>review_count</th>\n",
       "      <th>price</th>\n",
       "      <th>dine_in</th>\n",
       "      <th>takeaway</th>\n",
       "      <th>delivery</th>\n",
       "      <th>drive_through</th>\n",
       "      <th>no_del_exp</th>\n",
       "    </tr>\n",
       "  </thead>\n",
       "  <tbody>\n",
       "    <tr>\n",
       "      <th>rating</th>\n",
       "      <td>1.000000e+00</td>\n",
       "      <td>-0.450945</td>\n",
       "      <td>-0.109142</td>\n",
       "      <td>NaN</td>\n",
       "      <td>-9.807227e-08</td>\n",
       "      <td>-0.240641</td>\n",
       "      <td>-0.312189</td>\n",
       "      <td>-0.042782</td>\n",
       "    </tr>\n",
       "    <tr>\n",
       "      <th>review_count</th>\n",
       "      <td>-4.509454e-01</td>\n",
       "      <td>1.000000</td>\n",
       "      <td>0.162065</td>\n",
       "      <td>NaN</td>\n",
       "      <td>-2.422337e-01</td>\n",
       "      <td>0.130471</td>\n",
       "      <td>0.971749</td>\n",
       "      <td>-0.290590</td>\n",
       "    </tr>\n",
       "    <tr>\n",
       "      <th>price</th>\n",
       "      <td>-1.091416e-01</td>\n",
       "      <td>0.162065</td>\n",
       "      <td>1.000000</td>\n",
       "      <td>NaN</td>\n",
       "      <td>-4.662524e-02</td>\n",
       "      <td>NaN</td>\n",
       "      <td>0.176227</td>\n",
       "      <td>0.049703</td>\n",
       "    </tr>\n",
       "    <tr>\n",
       "      <th>dine_in</th>\n",
       "      <td>NaN</td>\n",
       "      <td>NaN</td>\n",
       "      <td>NaN</td>\n",
       "      <td>NaN</td>\n",
       "      <td>NaN</td>\n",
       "      <td>NaN</td>\n",
       "      <td>NaN</td>\n",
       "      <td>NaN</td>\n",
       "    </tr>\n",
       "    <tr>\n",
       "      <th>takeaway</th>\n",
       "      <td>-9.807227e-08</td>\n",
       "      <td>-0.242234</td>\n",
       "      <td>-0.046625</td>\n",
       "      <td>NaN</td>\n",
       "      <td>1.000000e+00</td>\n",
       "      <td>0.114708</td>\n",
       "      <td>-0.316228</td>\n",
       "      <td>-0.138675</td>\n",
       "    </tr>\n",
       "    <tr>\n",
       "      <th>delivery</th>\n",
       "      <td>-2.406410e-01</td>\n",
       "      <td>0.130471</td>\n",
       "      <td>NaN</td>\n",
       "      <td>NaN</td>\n",
       "      <td>1.147079e-01</td>\n",
       "      <td>1.000000</td>\n",
       "      <td>0.072548</td>\n",
       "      <td>0.413585</td>\n",
       "    </tr>\n",
       "    <tr>\n",
       "      <th>drive_through</th>\n",
       "      <td>-3.121890e-01</td>\n",
       "      <td>0.971749</td>\n",
       "      <td>0.176227</td>\n",
       "      <td>NaN</td>\n",
       "      <td>-3.162278e-01</td>\n",
       "      <td>0.072548</td>\n",
       "      <td>1.000000</td>\n",
       "      <td>-0.285044</td>\n",
       "    </tr>\n",
       "    <tr>\n",
       "      <th>no_del_exp</th>\n",
       "      <td>-4.278232e-02</td>\n",
       "      <td>-0.290590</td>\n",
       "      <td>0.049703</td>\n",
       "      <td>NaN</td>\n",
       "      <td>-1.386750e-01</td>\n",
       "      <td>0.413585</td>\n",
       "      <td>-0.285044</td>\n",
       "      <td>1.000000</td>\n",
       "    </tr>\n",
       "  </tbody>\n",
       "</table>\n",
       "</div>"
      ],
      "text/plain": [
       "                     rating  review_count     price  dine_in      takeaway  \\\n",
       "rating         1.000000e+00     -0.450945 -0.109142      NaN -9.807227e-08   \n",
       "review_count  -4.509454e-01      1.000000  0.162065      NaN -2.422337e-01   \n",
       "price         -1.091416e-01      0.162065  1.000000      NaN -4.662524e-02   \n",
       "dine_in                 NaN           NaN       NaN      NaN           NaN   \n",
       "takeaway      -9.807227e-08     -0.242234 -0.046625      NaN  1.000000e+00   \n",
       "delivery      -2.406410e-01      0.130471       NaN      NaN  1.147079e-01   \n",
       "drive_through -3.121890e-01      0.971749  0.176227      NaN -3.162278e-01   \n",
       "no_del_exp    -4.278232e-02     -0.290590  0.049703      NaN -1.386750e-01   \n",
       "\n",
       "               delivery  drive_through  no_del_exp  \n",
       "rating        -0.240641      -0.312189   -0.042782  \n",
       "review_count   0.130471       0.971749   -0.290590  \n",
       "price               NaN       0.176227    0.049703  \n",
       "dine_in             NaN            NaN         NaN  \n",
       "takeaway       0.114708      -0.316228   -0.138675  \n",
       "delivery       1.000000       0.072548    0.413585  \n",
       "drive_through  0.072548       1.000000   -0.285044  \n",
       "no_del_exp     0.413585      -0.285044    1.000000  "
      ]
     },
     "execution_count": 75,
     "metadata": {},
     "output_type": "execute_result"
    }
   ],
   "source": [
    "data.corr()"
   ]
  },
  {
   "cell_type": "code",
   "execution_count": 76,
   "id": "47b03f93",
   "metadata": {},
   "outputs": [
    {
     "data": {
      "text/plain": [
       "<AxesSubplot:xlabel='review_count', ylabel='rating'>"
      ]
     },
     "execution_count": 76,
     "metadata": {},
     "output_type": "execute_result"
    },
    {
     "data": {
      "image/png": "[encoded data removed]",
      "text/plain": [
       "<Figure size 432x288 with 1 Axes>"
      ]
     },
     "metadata": {
      "needs_background": "light"
     },
     "output_type": "display_data"
    }
   ],
   "source": [
    "sns.regplot(x='review_count', y='rating', data=data)"
   ]
  },
  {
   "cell_type": "code",
   "execution_count": 78,
   "id": "9edaaf86",
   "metadata": {},
   "outputs": [
    {
     "data": {
      "text/html": [
       "<table class=\"simpletable\">\n",
       "<caption>OLS Regression Results</caption>\n",
       "<tr>\n",
       "  <th>Dep. Variable:</th>         <td>rating</td>      <th>  R-squared (uncentered):</th>      <td>   0.911</td>\n",
       "</tr>\n",
       "<tr>\n",
       "  <th>Model:</th>                   <td>OLS</td>       <th>  Adj. R-squared (uncentered):</th> <td>   0.883</td>\n",
       "</tr>\n",
       "<tr>\n",
       "  <th>Method:</th>             <td>Least Squares</td>  <th>  F-statistic:       </th>          <td>   32.66</td>\n",
       "</tr>\n",
       "<tr>\n",
       "  <th>Date:</th>             <td>Tue, 30 Nov 2021</td> <th>  Prob (F-statistic):</th>          <td>7.51e-08</td>\n",
       "</tr>\n",
       "<tr>\n",
       "  <th>Time:</th>                 <td>16:30:20</td>     <th>  Log-Likelihood:    </th>          <td> -37.063</td>\n",
       "</tr>\n",
       "<tr>\n",
       "  <th>No. Observations:</th>      <td>    21</td>      <th>  AIC:               </th>          <td>   84.13</td>\n",
       "</tr>\n",
       "<tr>\n",
       "  <th>Df Residuals:</th>          <td>    16</td>      <th>  BIC:               </th>          <td>   89.35</td>\n",
       "</tr>\n",
       "<tr>\n",
       "  <th>Df Model:</th>              <td>     5</td>      <th>                     </th>              <td> </td>   \n",
       "</tr>\n",
       "<tr>\n",
       "  <th>Covariance Type:</th>      <td>nonrobust</td>    <th>                     </th>              <td> </td>   \n",
       "</tr>\n",
       "</table>\n",
       "<table class=\"simpletable\">\n",
       "<tr>\n",
       "        <td></td>           <th>coef</th>     <th>std err</th>      <th>t</th>      <th>P>|t|</th>  <th>[0.025</th>    <th>0.975]</th>  \n",
       "</tr>\n",
       "<tr>\n",
       "  <th>review_count</th>  <td>   -0.0001</td> <td>    0.001</td> <td>   -0.215</td> <td> 0.833</td> <td>   -0.002</td> <td>    0.001</td>\n",
       "</tr>\n",
       "<tr>\n",
       "  <th>takeaway</th>      <td>    1.1971</td> <td>    0.824</td> <td>    1.453</td> <td> 0.166</td> <td>   -0.549</td> <td>    2.943</td>\n",
       "</tr>\n",
       "<tr>\n",
       "  <th>delivery</th>      <td>    3.6665</td> <td>    1.148</td> <td>    3.195</td> <td> 0.006</td> <td>    1.234</td> <td>    6.099</td>\n",
       "</tr>\n",
       "<tr>\n",
       "  <th>drive_through</th> <td>    2.5076</td> <td>    7.655</td> <td>    0.328</td> <td> 0.747</td> <td>  -13.720</td> <td>   18.736</td>\n",
       "</tr>\n",
       "<tr>\n",
       "  <th>no_del_exp</th>    <td>    0.4045</td> <td>    0.913</td> <td>    0.443</td> <td> 0.664</td> <td>   -1.531</td> <td>    2.339</td>\n",
       "</tr>\n",
       "</table>\n",
       "<table class=\"simpletable\">\n",
       "<tr>\n",
       "  <th>Omnibus:</th>       <td>25.117</td> <th>  Durbin-Watson:     </th> <td>   1.989</td>\n",
       "</tr>\n",
       "<tr>\n",
       "  <th>Prob(Omnibus):</th> <td> 0.000</td> <th>  Jarque-Bera (JB):  </th> <td>  35.727</td>\n",
       "</tr>\n",
       "<tr>\n",
       "  <th>Skew:</th>          <td> 2.293</td> <th>  Prob(JB):          </th> <td>1.75e-08</td>\n",
       "</tr>\n",
       "<tr>\n",
       "  <th>Kurtosis:</th>      <td> 7.450</td> <th>  Cond. No.          </th> <td>5.78e+04</td>\n",
       "</tr>\n",
       "</table><br/><br/>Notes:<br/>[1] R² is computed without centering (uncentered) since the model does not contain a constant.<br/>[2] Standard Errors assume that the covariance matrix of the errors is correctly specified.<br/>[3] The condition number is large, 5.78e+04. This might indicate that there are<br/>strong multicollinearity or other numerical problems."
      ],
      "text/plain": [
       "<class 'statsmodels.iolib.summary.Summary'>\n",
       "\"\"\"\n",
       "                                 OLS Regression Results                                \n",
       "=======================================================================================\n",
       "Dep. Variable:                 rating   R-squared (uncentered):                   0.911\n",
       "Model:                            OLS   Adj. R-squared (uncentered):              0.883\n",
       "Method:                 Least Squares   F-statistic:                              32.66\n",
       "Date:                Tue, 30 Nov 2021   Prob (F-statistic):                    7.51e-08\n",
       "Time:                        16:30:20   Log-Likelihood:                         -37.063\n",
       "No. Observations:                  21   AIC:                                      84.13\n",
       "Df Residuals:                      16   BIC:                                      89.35\n",
       "Df Model:                           5                                                  \n",
       "Covariance Type:            nonrobust                                                  \n",
       "=================================================================================\n",
       "                    coef    std err          t      P>|t|      [0.025      0.975]\n",
       "---------------------------------------------------------------------------------\n",
       "review_count     -0.0001      0.001     -0.215      0.833      -0.002       0.001\n",
       "takeaway          1.1971      0.824      1.453      0.166      -0.549       2.943\n",
       "delivery          3.6665      1.148      3.195      0.006       1.234       6.099\n",
       "drive_through     2.5076      7.655      0.328      0.747     -13.720      18.736\n",
       "no_del_exp        0.4045      0.913      0.443      0.664      -1.531       2.339\n",
       "==============================================================================\n",
       "Omnibus:                       25.117   Durbin-Watson:                   1.989\n",
       "Prob(Omnibus):                  0.000   Jarque-Bera (JB):               35.727\n",
       "Skew:                           2.293   Prob(JB):                     1.75e-08\n",
       "Kurtosis:                       7.450   Cond. No.                     5.78e+04\n",
       "==============================================================================\n",
       "\n",
       "Notes:\n",
       "[1] R² is computed without centering (uncentered) since the model does not contain a constant.\n",
       "[2] Standard Errors assume that the covariance matrix of the errors is correctly specified.\n",
       "[3] The condition number is large, 5.78e+04. This might indicate that there are\n",
       "strong multicollinearity or other numerical problems.\n",
       "\"\"\""
      ]
     },
     "execution_count": 78,
     "metadata": {},
     "output_type": "execute_result"
    }
   ],
   "source": [
    "model = sm.OLS(y, X).fit() # Finds the best beta\n",
    "model.summary()"
   ]
  },
  {
   "cell_type": "code",
   "execution_count": 81,
   "id": "9f85435e",
   "metadata": {},
   "outputs": [
    {
     "data": {
      "text/plain": [
       "-0.22499899503976106"
      ]
     },
     "execution_count": 81,
     "metadata": {},
     "output_type": "execute_result"
    }
   ],
   "source": [
    "X_train, X_test, y_train, y_test = train_test_split(X, y,\n",
    "                                                    test_size = 0.3, \n",
    "                                                    random_state = 6) # Holdout\n",
    "\n",
    "\n",
    "baseline_model = DummyRegressor(strategy=\"mean\") # Baseline\n",
    "baseline_model.fit(X_train, y_train) # Calculate value for stratgy\n",
    "baseline_model.score(X_test, y_test) # Score model based on consistently predicting the strategy"
   ]
  },
  {
   "cell_type": "code",
   "execution_count": 82,
   "id": "e37a5c70",
   "metadata": {},
   "outputs": [
    {
     "ename": "NameError",
     "evalue": "name 'y_pred' is not defined",
     "output_type": "error",
     "traceback": [
      "\u001b[0;31m---------------------------------------------------------------------------\u001b[0m",
      "\u001b[0;31mNameError\u001b[0m                                 Traceback (most recent call last)",
      "\u001b[0;32m/var/folders/l2/23y9j6c53jg7nsfljwz87mqm0000gn/T/ipykernel_16887/3990109649.py\u001b[0m in \u001b[0;36m<module>\u001b[0;34m\u001b[0m\n\u001b[1;32m      2\u001b[0m \u001b[0;32mimport\u001b[0m \u001b[0mmath\u001b[0m\u001b[0;34m\u001b[0m\u001b[0;34m\u001b[0m\u001b[0m\n\u001b[1;32m      3\u001b[0m \u001b[0;34m\u001b[0m\u001b[0m\n\u001b[0;32m----> 4\u001b[0;31m \u001b[0mmse\u001b[0m \u001b[0;34m=\u001b[0m \u001b[0mmean_squared_error\u001b[0m\u001b[0;34m(\u001b[0m\u001b[0my\u001b[0m\u001b[0;34m,\u001b[0m \u001b[0my_pred\u001b[0m\u001b[0;34m)\u001b[0m\u001b[0;34m\u001b[0m\u001b[0;34m\u001b[0m\u001b[0m\n\u001b[0m\u001b[1;32m      5\u001b[0m \u001b[0;34m\u001b[0m\u001b[0m\n\u001b[1;32m      6\u001b[0m \u001b[0mrmse\u001b[0m \u001b[0;34m=\u001b[0m \u001b[0mmath\u001b[0m\u001b[0;34m.\u001b[0m\u001b[0msqrt\u001b[0m\u001b[0;34m(\u001b[0m\u001b[0mmse\u001b[0m\u001b[0;34m)\u001b[0m\u001b[0;34m\u001b[0m\u001b[0;34m\u001b[0m\u001b[0m\n",
      "\u001b[0;31mNameError\u001b[0m: name 'y_pred' is not defined"
     ]
    }
   ],
   "source": [
    "#from sklearn.metrics import mean_squared_error, mean_absolute_error, r2_score, max_error\n",
    "#import math\n",
    "#def metrics(y, y_pred):\n",
    "    #mse = mean_squared_error(y, y_pred)\n",
    "\n",
    "    #rmse = math.sqrt(mse)\n",
    "\n",
    "    #mae = mean_absolute_error(y, y_pred)\n",
    "\n",
    "    #rsquared = r2_score(y, y_pred)\n",
    "\n",
    "    #max_error = max_error(y, y_pred)\n",
    "\n",
    "    #print('MSE =', round(mse, 2))\n",
    "    #print('RMSE =', round(rmse, 2))\n",
    "    #print('MAE =', round(mae, 2))\n",
    "    #print('R2 =', round(rsquared, 2))\n",
    "    #print('Max Error =', round(max_error, 2))"
   ]
  },
  {
   "cell_type": "code",
   "execution_count": 129,
   "id": "09d3710d",
   "metadata": {},
   "outputs": [
    {
     "data": {
      "text/plain": [
       "{'fit_time': array([0.0074141 , 0.00862503, 0.00297785, 0.00517797, 0.00784588]),\n",
       " 'score_time': array([0.00480628, 0.00255489, 0.007195  , 0.01474309, 0.00732422]),\n",
       " 'test_max_error': array([-0.23132395, -1.76612403, -0.52268053, -0.18162981, -0.39802577]),\n",
       " 'test_r2': array([ -9.46048087, -45.44857449,  -1.25672651,   0.        ,\n",
       "         -1.03818473]),\n",
       " 'test_neg_mean_absolute_error': array([-0.13260695, -0.49529816, -0.25649613, -0.11304939, -0.23749518]),\n",
       " 'test_neg_mean_squared_error': array([-0.02510511, -0.78382098, -0.10155272, -0.01705144, -0.07133648])}"
      ]
     },
     "execution_count": 129,
     "metadata": {},
     "output_type": "execute_result"
    }
   ],
   "source": [
    "from sklearn.model_selection import cross_validate\n",
    "# 5-Fold Cross validate model\n",
    "model = LinearRegression()\n",
    "cv_results = cross_validate(model, X, y, cv=5, \n",
    "                            scoring=['max_error',\n",
    "                                     'r2', \n",
    "                                     'neg_mean_absolute_error',\n",
    "                                     'neg_mean_squared_error']\n",
    "                           )\n",
    "#pd.DataFrame(cv_results)\n",
    "cv_results"
   ]
  },
  {
   "cell_type": "markdown",
   "id": "153a95f1",
   "metadata": {},
   "source": [
    "## SGD Regressor"
   ]
  },
  {
   "cell_type": "code",
   "execution_count": 84,
   "id": "74c8523c",
   "metadata": {},
   "outputs": [],
   "source": [
    "from sklearn.linear_model import SGDRegressor"
   ]
  },
  {
   "cell_type": "code",
   "execution_count": 136,
   "id": "40814dc9",
   "metadata": {},
   "outputs": [],
   "source": [
    "lin_reg = SGDRegressor(loss='squared_loss', penalty='l2', alpha=0.0001, l1_ratio=0.15,\n",
    "    max_iter = 1000, random_state= 42) #learning_rate=1)#, learning_rate=00.1, eta0=0.01)"
   ]
  },
  {
   "cell_type": "code",
   "execution_count": 137,
   "id": "e92d2a64",
   "metadata": {},
   "outputs": [
    {
     "name": "stderr",
     "output_type": "stream",
     "text": [
      "/Users/malou/.pyenv/versions/3.8.12/envs/small_business/lib/python3.8/site-packages/sklearn/linear_model/_stochastic_gradient.py:165: FutureWarning: The loss 'squared_loss' was deprecated in v1.0 and will be removed in version 1.2. Use `loss='squared_error'` which is equivalent.\n",
      "  warnings.warn(\n"
     ]
    },
    {
     "data": {
      "text/plain": [
       "SGDRegressor(loss='squared_loss', random_state=42)"
      ]
     },
     "execution_count": 137,
     "metadata": {},
     "output_type": "execute_result"
    }
   ],
   "source": [
    "lin_reg.fit(X_train, y_train)"
   ]
  },
  {
   "cell_type": "markdown",
   "id": "b7abb879",
   "metadata": {},
   "source": [
    "## KNN Regressor"
   ]
  },
  {
   "cell_type": "code",
   "execution_count": 99,
   "id": "7c887612",
   "metadata": {},
   "outputs": [],
   "source": [
    "from sklearn.neighbors import KNeighborsRegressor\n"
   ]
  },
  {
   "cell_type": "code",
   "execution_count": 102,
   "id": "59b19d77",
   "metadata": {},
   "outputs": [],
   "source": [
    "knn_reg = KNeighborsRegressor(n_neighbors=5)"
   ]
  },
  {
   "cell_type": "code",
   "execution_count": 103,
   "id": "ff86e72f",
   "metadata": {},
   "outputs": [
    {
     "data": {
      "text/plain": [
       "KNeighborsRegressor()"
      ]
     },
     "execution_count": 103,
     "metadata": {},
     "output_type": "execute_result"
    }
   ],
   "source": [
    "knn_reg.fit(X_train, y_train)"
   ]
  },
  {
   "cell_type": "markdown",
   "id": "47150a42",
   "metadata": {},
   "source": [
    "## Ridge and Lasso"
   ]
  },
  {
   "cell_type": "code",
   "execution_count": 120,
   "id": "6091c8c7",
   "metadata": {},
   "outputs": [
    {
     "data": {
      "text/html": [
       "<style type=\"text/css\">\n",
       "#T_76f08_row0_col0, #T_76f08_row0_col1, #T_76f08_row0_col2, #T_76f08_row1_col0, #T_76f08_row1_col1, #T_76f08_row1_col2, #T_76f08_row2_col0, #T_76f08_row2_col1, #T_76f08_row2_col2, #T_76f08_row3_col1, #T_76f08_row3_col2, #T_76f08_row4_col0, #T_76f08_row4_col1, #T_76f08_row4_col2 {\n",
       "  color: red;\n",
       "}\n",
       "#T_76f08_row3_col0 {\n",
       "  color: black;\n",
       "}\n",
       "</style>\n",
       "<table id=\"T_76f08_\">\n",
       "  <thead>\n",
       "    <tr>\n",
       "      <th class=\"blank level0\" >&nbsp;</th>\n",
       "      <th class=\"col_heading level0 col0\" >coef_linreg</th>\n",
       "      <th class=\"col_heading level0 col1\" >coef_ridge</th>\n",
       "      <th class=\"col_heading level0 col2\" >coef_lasso</th>\n",
       "    </tr>\n",
       "  </thead>\n",
       "  <tbody>\n",
       "    <tr>\n",
       "      <th id=\"T_76f08_level0_row0\" class=\"row_heading level0 row0\" >review_count</th>\n",
       "      <td id=\"T_76f08_row0_col0\" class=\"data row0 col0\" >0</td>\n",
       "      <td id=\"T_76f08_row0_col1\" class=\"data row0 col1\" >0</td>\n",
       "      <td id=\"T_76f08_row0_col2\" class=\"data row0 col2\" >0</td>\n",
       "    </tr>\n",
       "    <tr>\n",
       "      <th id=\"T_76f08_level0_row1\" class=\"row_heading level0 row1\" >takeaway</th>\n",
       "      <td id=\"T_76f08_row1_col0\" class=\"data row1 col0\" >0</td>\n",
       "      <td id=\"T_76f08_row1_col1\" class=\"data row1 col1\" >0</td>\n",
       "      <td id=\"T_76f08_row1_col2\" class=\"data row1 col2\" >0</td>\n",
       "    </tr>\n",
       "    <tr>\n",
       "      <th id=\"T_76f08_level0_row2\" class=\"row_heading level0 row2\" >delivery</th>\n",
       "      <td id=\"T_76f08_row2_col0\" class=\"data row2 col0\" >0</td>\n",
       "      <td id=\"T_76f08_row2_col1\" class=\"data row2 col1\" >0</td>\n",
       "      <td id=\"T_76f08_row2_col2\" class=\"data row2 col2\" >0</td>\n",
       "    </tr>\n",
       "    <tr>\n",
       "      <th id=\"T_76f08_level0_row3\" class=\"row_heading level0 row3\" >drive_through</th>\n",
       "      <td id=\"T_76f08_row3_col0\" class=\"data row3 col0\" >1</td>\n",
       "      <td id=\"T_76f08_row3_col1\" class=\"data row3 col1\" >0</td>\n",
       "      <td id=\"T_76f08_row3_col2\" class=\"data row3 col2\" >0</td>\n",
       "    </tr>\n",
       "    <tr>\n",
       "      <th id=\"T_76f08_level0_row4\" class=\"row_heading level0 row4\" >no_del_exp</th>\n",
       "      <td id=\"T_76f08_row4_col0\" class=\"data row4 col0\" >0</td>\n",
       "      <td id=\"T_76f08_row4_col1\" class=\"data row4 col1\" >0</td>\n",
       "      <td id=\"T_76f08_row4_col2\" class=\"data row4 col2\" >0</td>\n",
       "    </tr>\n",
       "  </tbody>\n",
       "</table>\n"
      ],
      "text/plain": [
       "<pandas.io.formats.style.Styler at 0x12a828af0>"
      ]
     },
     "execution_count": 120,
     "metadata": {},
     "output_type": "execute_result"
    }
   ],
   "source": [
    "from sklearn.linear_model import Ridge, Lasso \n",
    "\n",
    "linreg = LinearRegression().fit(X, y)\n",
    "ridge = Ridge(alpha=0.2).fit(X, y)\n",
    "lasso = Lasso(alpha=0.2).fit(X, y)\n",
    "\n",
    "coefs = pd.DataFrame({\n",
    "    \"coef_linreg\": pd.Series(linreg.coef_, index = X.columns),\n",
    "    \"coef_ridge\": pd.Series(ridge.coef_, index = X.columns),\n",
    "    \"coef_lasso\": pd.Series(lasso.coef_, index= X.columns)})\\\n",
    "\n",
    "coefs\\\n",
    "    .applymap(lambda x: int(x))\\\n",
    "    .style.applymap(lambda x: 'color: red' if x == 0 else 'color: black')\n"
   ]
  },
  {
   "cell_type": "code",
   "execution_count": 106,
   "id": "8b193441",
   "metadata": {},
   "outputs": [],
   "source": [
    "#finetune \n",
    "alphas = [0.01, 0.1, 1] # L1 + L2 \n",
    "l1_ratios = [0.2, 0.5, 0.8] # L1 / L2 ratio\n",
    "\n",
    "# create all combinations [(0.01, 0.2), (0.01, 0.5), (...)]\n",
    "import itertools\n",
    "hyperparams = itertools.product(alphas, l1_ratios) "
   ]
  },
  {
   "cell_type": "code",
   "execution_count": 108,
   "id": "53ab4fb4",
   "metadata": {
    "scrolled": true
   },
   "outputs": [
    {
     "name": "stdout",
     "output_type": "stream",
     "text": [
      "alpha: 0.01, l1_ratio: 0.2,   r2: -0.34652147233822717\n",
      "alpha: 0.01, l1_ratio: 0.5,   r2: -0.033761378515447846\n",
      "alpha: 0.01, l1_ratio: 0.8,   r2: 0.03874543156796857\n",
      "alpha: 0.1, l1_ratio: 0.2,   r2: -0.12648026289254338\n",
      "alpha: 0.1, l1_ratio: 0.5,   r2: -0.11238126481610963\n",
      "alpha: 0.1, l1_ratio: 0.8,   r2: -0.11265967907528371\n",
      "alpha: 1, l1_ratio: 0.2,   r2: -0.1137829628449238\n",
      "alpha: 1, l1_ratio: 0.5,   r2: -0.11664610903257108\n",
      "alpha: 1, l1_ratio: 0.8,   r2: -0.11959237369491664\n"
     ]
    }
   ],
   "source": [
    "import itertools\n",
    "from sklearn.linear_model import ElasticNet\n",
    "from sklearn.metrics import r2_score\n",
    "from sklearn.model_selection import cross_val_score\n",
    "\n",
    "for hyperparam in hyperparams:\n",
    "    alpha = hyperparam[0]\n",
    "    l1_ratio = hyperparam[1]\n",
    "    model = ElasticNet(alpha=alpha, l1_ratio=l1_ratio)\n",
    "    r2 = cross_val_score( X_train, y_train, cv=5).mean()\n",
    "    print(f\"alpha: {alpha}, l1_ratio: {l1_ratio},   r2: {r2}\")"
   ]
  },
  {
   "cell_type": "markdown",
   "id": "461a19b8",
   "metadata": {},
   "source": [
    "### Gridsearch "
   ]
  },
  {
   "cell_type": "code",
   "execution_count": 110,
   "id": "8d00a7dd",
   "metadata": {},
   "outputs": [],
   "source": [
    "from sklearn.model_selection import GridSearchCV\n",
    "\n",
    "# Instanciate model\n",
    "model = ElasticNet()\n",
    "\n",
    "# Hyperparameter Grid\n",
    "grid = {'alpha': [0.01, 0.1, 1], \n",
    "        'l1_ratio': [0.2, 0.5, 0.8]}\n",
    "\n",
    "# Instanciate Grid Search\n",
    "search = GridSearchCV(model, grid, \n",
    "                           scoring = 'r2',\n",
    "                           cv = 5,\n",
    "                           n_jobs=-1 # paralellize computation\n",
    "                          ) \n",
    "\n",
    "# Fit data to Grid Search\n",
    "search.fit(X_train,y_train);"
   ]
  },
  {
   "cell_type": "code",
   "execution_count": 111,
   "id": "8bc23446",
   "metadata": {},
   "outputs": [
    {
     "data": {
      "text/plain": [
       "ElasticNet(alpha=0.01, l1_ratio=0.8)"
      ]
     },
     "execution_count": 111,
     "metadata": {},
     "output_type": "execute_result"
    }
   ],
   "source": [
    "# Best score\n",
    "search.best_score_\n",
    "\n",
    "# Best Params\n",
    "search.best_params_\n",
    "\n",
    "# Best estimator\n",
    "search.best_estimator_"
   ]
  },
  {
   "cell_type": "markdown",
   "id": "29e909c2",
   "metadata": {},
   "source": [
    "## SVM"
   ]
  },
  {
   "cell_type": "code",
   "execution_count": 113,
   "id": "a2621d60",
   "metadata": {},
   "outputs": [],
   "source": [
    "from sklearn.svm import SVC\n",
    "svc = SVC(kernel='linear', C=10)\n",
    "#grid search Kernel \n",
    "\n",
    "# equivalent but with SGD solver\n",
    "from sklearn.linear_model import SGDClassifier\n",
    "svc_bis = SGDClassifier(loss='hinge', penalty='l2', alpha=1/10)"
   ]
  },
  {
   "cell_type": "markdown",
   "id": "567f2bd2",
   "metadata": {},
   "source": [
    "## Decision Tree"
   ]
  },
  {
   "cell_type": "code",
   "execution_count": 116,
   "id": "4e1d952f",
   "metadata": {},
   "outputs": [],
   "source": [
    "from sklearn.tree import DecisionTreeRegressor\n",
    "from sklearn.model_selection import cross_validate\n",
    "\n",
    "tree = DecisionTreeRegressor()\n",
    "\n",
    "cv_results = cross_validate(tree, X_train, y_train, scoring = \"r2\", cv=5)\n"
   ]
  },
  {
   "cell_type": "markdown",
   "id": "5c8e2167",
   "metadata": {},
   "source": [
    "## RandomForest"
   ]
  },
  {
   "cell_type": "code",
   "execution_count": 117,
   "id": "58aa709b",
   "metadata": {},
   "outputs": [],
   "source": [
    "from sklearn.ensemble import RandomForestRegressor\n",
    "\n",
    "forest = RandomForestRegressor(n_estimators=100)\n",
    "\n",
    "cv_results = cross_validate(forest, X_train, y_train, scoring = \"r2\", cv=5)\n"
   ]
  },
  {
   "cell_type": "markdown",
   "id": "13013d10",
   "metadata": {},
   "source": [
    "## Boosting"
   ]
  },
  {
   "cell_type": "markdown",
   "id": "0a29666a",
   "metadata": {},
   "source": [
    "### AdaBoost"
   ]
  },
  {
   "cell_type": "code",
   "execution_count": 122,
   "id": "fcbaeac7",
   "metadata": {},
   "outputs": [],
   "source": [
    "from sklearn.ensemble import AdaBoostRegressor\n",
    "\n",
    "adaboost = AdaBoostRegressor(\n",
    "    DecisionTreeRegressor(max_depth=3),\n",
    "    n_estimators=50)\n",
    "\n",
    "cv_results = cross_validate(adaboost, X, y, scoring = \"r2\", cv=5)"
   ]
  },
  {
   "cell_type": "markdown",
   "id": "9fce0732",
   "metadata": {},
   "source": [
    "### Gradient Boost"
   ]
  },
  {
   "cell_type": "code",
   "execution_count": 123,
   "id": "47a0a07d",
   "metadata": {},
   "outputs": [],
   "source": [
    "from sklearn.ensemble import GradientBoostingRegressor\n",
    "model = GradientBoostingRegressor(\n",
    "    n_estimators=100, \n",
    "    learning_rate=0.1,\n",
    "    max_depth=3\n",
    ")"
   ]
  },
  {
   "cell_type": "code",
   "execution_count": 124,
   "id": "d4923106",
   "metadata": {},
   "outputs": [],
   "source": [
    "### XGBoost"
   ]
  },
  {
   "cell_type": "code",
   "execution_count": 127,
   "id": "5e5b5a2d",
   "metadata": {},
   "outputs": [
    {
     "ename": "ModuleNotFoundError",
     "evalue": "No module named 'sklearn.xgboost'",
     "output_type": "error",
     "traceback": [
      "\u001b[0;31m---------------------------------------------------------------------------\u001b[0m",
      "\u001b[0;31mModuleNotFoundError\u001b[0m                       Traceback (most recent call last)",
      "\u001b[0;32m/var/folders/l2/23y9j6c53jg7nsfljwz87mqm0000gn/T/ipykernel_16887/3116510056.py\u001b[0m in \u001b[0;36m<module>\u001b[0;34m\u001b[0m\n\u001b[0;32m----> 1\u001b[0;31m \u001b[0;32mfrom\u001b[0m \u001b[0msklearn\u001b[0m\u001b[0;34m.\u001b[0m\u001b[0mxgboost\u001b[0m \u001b[0;32mimport\u001b[0m \u001b[0mXGBRegressor\u001b[0m\u001b[0;34m\u001b[0m\u001b[0;34m\u001b[0m\u001b[0m\n\u001b[0m\u001b[1;32m      2\u001b[0m \u001b[0;34m\u001b[0m\u001b[0m\n\u001b[1;32m      3\u001b[0m xgb_reg.fit(X_train, y_train,\n\u001b[1;32m      4\u001b[0m     \u001b[0;31m# evaluate loss at each iteration\u001b[0m\u001b[0;34m\u001b[0m\u001b[0;34m\u001b[0m\u001b[0;34m\u001b[0m\u001b[0m\n\u001b[1;32m      5\u001b[0m     \u001b[0meval_set\u001b[0m\u001b[0;34m=\u001b[0m\u001b[0;34m[\u001b[0m\u001b[0;34m(\u001b[0m\u001b[0mX_train\u001b[0m\u001b[0;34m,\u001b[0m \u001b[0my_train\u001b[0m\u001b[0;34m)\u001b[0m\u001b[0;34m,\u001b[0m \u001b[0;34m(\u001b[0m\u001b[0mX_val\u001b[0m\u001b[0;34m,\u001b[0m \u001b[0my_val\u001b[0m\u001b[0;34m)\u001b[0m\u001b[0;34m]\u001b[0m\u001b[0;34m,\u001b[0m\u001b[0;34m\u001b[0m\u001b[0;34m\u001b[0m\u001b[0m\n",
      "\u001b[0;31mModuleNotFoundError\u001b[0m: No module named 'sklearn.xgboost'"
     ]
    }
   ],
   "source": [
    "from sklearn.xgboost import XGBRegressor\n",
    "\n",
    "xgb_reg = XGBRegressor(max_depth=10, n_estimators=100, learning_rate=0.1)\n",
    "xgb_reg.fit(X_train, y_train,\n",
    "    # evaluate loss at each iteration\n",
    "    eval_set=[(X_train, y_train), (X_val, y_val)],  \n",
    "    # stop iterating when eval loss increases 5 times in a row\n",
    "    early_stopping_rounds=5\n",
    ")\n",
    "\n",
    "y_pred = xgb_reg.predict(X_val)"
   ]
  },
  {
   "cell_type": "code",
   "execution_count": null,
   "id": "584e0664",
   "metadata": {},
   "outputs": [],
   "source": []
  }
 ],
 "metadata": {
  "kernelspec": {
   "display_name": "Python 3 (ipykernel)",
   "language": "python",
   "name": "python3"
  },
  "language_info": {
   "codemirror_mode": {
    "name": "ipython",
    "version": 3
   },
   "file_extension": ".py",
   "mimetype": "text/x-python",
   "name": "python",
   "nbconvert_exporter": "python",
   "pygments_lexer": "ipython3",
   "version": "3.8.12"
  },
  "toc": {
   "base_numbering": 1,
   "nav_menu": {},
   "number_sections": true,
   "sideBar": true,
   "skip_h1_title": false,
   "title_cell": "Table of Contents",
   "title_sidebar": "Contents",
   "toc_cell": false,
   "toc_position": {},
   "toc_section_display": true,
   "toc_window_display": false
  }
 },
 "nbformat": 4,
 "nbformat_minor": 5
}
