{
 "cells": [
  {
   "cell_type": "code",
   "execution_count": 12,
   "id": "85b2fdd2",
   "metadata": {},
   "outputs": [],
   "source": [
    "import pandas as pd\n",
    "import numpy as np\n",
    "import re\n",
    "import matplotlib.pyplot as plt\n",
    "import seaborn as sns"
   ]
  },
  {
   "cell_type": "code",
   "execution_count": 27,
   "id": "34f677bf",
   "metadata": {},
   "outputs": [],
   "source": []
  },
  {
   "cell_type": "code",
   "execution_count": 8,
   "id": "2fa52e8a",
   "metadata": {},
   "outputs": [
    {
     "data": {
      "text/html": [
       "<div>\n",
       "<style scoped>\n",
       "    .dataframe tbody tr th:only-of-type {\n",
       "        vertical-align: middle;\n",
       "    }\n",
       "\n",
       "    .dataframe tbody tr th {\n",
       "        vertical-align: top;\n",
       "    }\n",
       "\n",
       "    .dataframe thead th {\n",
       "        text-align: right;\n",
       "    }\n",
       "</style>\n",
       "<table border=\"1\" class=\"dataframe\">\n",
       "  <thead>\n",
       "    <tr style=\"text-align: right;\">\n",
       "      <th></th>\n",
       "      <th>type</th>\n",
       "      <th>name</th>\n",
       "      <th>description</th>\n",
       "      <th>rating</th>\n",
       "      <th>review_count</th>\n",
       "      <th>price</th>\n",
       "      <th>address</th>\n",
       "      <th>label</th>\n",
       "    </tr>\n",
       "  </thead>\n",
       "  <tbody>\n",
       "    <tr>\n",
       "      <th>0</th>\n",
       "      <td>Augusto Lisboa</td>\n",
       "      <td>Brunch restaurant</td>\n",
       "      <td>Hip brunch eatery serving savory toasts, banan...</td>\n",
       "      <td>4.8</td>\n",
       "      <td>1,032 Google reviews</td>\n",
       "      <td>££</td>\n",
       "      <td>Rua Santa M.nha 26, 1100-491 Lisboa, Portugal</td>\n",
       "      <td>['Dine-in', 'Takeaway', 'No delivery']</td>\n",
       "    </tr>\n",
       "    <tr>\n",
       "      <th>1</th>\n",
       "      <td>Tiffin Cafe &amp; Restaurant Lisboa</td>\n",
       "      <td>Brunch restaurant</td>\n",
       "      <td>NaN</td>\n",
       "      <td>4.9</td>\n",
       "      <td>139 Google reviews</td>\n",
       "      <td>££</td>\n",
       "      <td>R. do Conde 32, 1200-637 Lisboa, Portugal</td>\n",
       "      <td>['Dine-in', 'Takeaway', 'Delivery']</td>\n",
       "    </tr>\n",
       "    <tr>\n",
       "      <th>2</th>\n",
       "      <td>Crisfama</td>\n",
       "      <td>Restaurant</td>\n",
       "      <td>NaN</td>\n",
       "      <td>4.8</td>\n",
       "      <td>649 Google reviews</td>\n",
       "      <td>£</td>\n",
       "      <td>Rua da Cruz de Santa Apolónia 56, 1100-188 Lis...</td>\n",
       "      <td>['Dine-in', 'Takeaway', 'No delivery']</td>\n",
       "    </tr>\n",
       "    <tr>\n",
       "      <th>3</th>\n",
       "      <td>Alma</td>\n",
       "      <td>Fine dining restaurant</td>\n",
       "      <td>High-end restaurant with avant-garde local mea...</td>\n",
       "      <td>4.8</td>\n",
       "      <td>953 Google reviews</td>\n",
       "      <td>££££</td>\n",
       "      <td>R. Anchieta 15, 1200-224 Lisboa, Portugal</td>\n",
       "      <td>['Dine-in', 'No takeaway', 'No delivery']</td>\n",
       "    </tr>\n",
       "    <tr>\n",
       "      <th>4</th>\n",
       "      <td>Restaurant CHULHO &amp; Bar</td>\n",
       "      <td>Restaurant</td>\n",
       "      <td>NaN</td>\n",
       "      <td>4.9</td>\n",
       "      <td>180 Google reviews</td>\n",
       "      <td>NaN</td>\n",
       "      <td>R. de São João da Mata 82, 1200-850 Lisboa, Po...</td>\n",
       "      <td>['Dine-in', 'Takeaway', 'Delivery']</td>\n",
       "    </tr>\n",
       "  </tbody>\n",
       "</table>\n",
       "</div>"
      ],
      "text/plain": [
       "                              type                    name  \\\n",
       "0                   Augusto Lisboa       Brunch restaurant   \n",
       "1  Tiffin Cafe & Restaurant Lisboa       Brunch restaurant   \n",
       "2                         Crisfama              Restaurant   \n",
       "3                             Alma  Fine dining restaurant   \n",
       "4          Restaurant CHULHO & Bar              Restaurant   \n",
       "\n",
       "                                         description  rating  \\\n",
       "0  Hip brunch eatery serving savory toasts, banan...     4.8   \n",
       "1                                                NaN     4.9   \n",
       "2                                                NaN     4.8   \n",
       "3  High-end restaurant with avant-garde local mea...     4.8   \n",
       "4                                                NaN     4.9   \n",
       "\n",
       "           review_count price  \\\n",
       "0  1,032 Google reviews    ££   \n",
       "1    139 Google reviews    ££   \n",
       "2    649 Google reviews     £   \n",
       "3    953 Google reviews  ££££   \n",
       "4    180 Google reviews   NaN   \n",
       "\n",
       "                                             address  \\\n",
       "0      Rua Santa M.nha 26, 1100-491 Lisboa, Portugal   \n",
       "1          R. do Conde 32, 1200-637 Lisboa, Portugal   \n",
       "2  Rua da Cruz de Santa Apolónia 56, 1100-188 Lis...   \n",
       "3          R. Anchieta 15, 1200-224 Lisboa, Portugal   \n",
       "4  R. de São João da Mata 82, 1200-850 Lisboa, Po...   \n",
       "\n",
       "                                       label  \n",
       "0     ['Dine-in', 'Takeaway', 'No delivery']  \n",
       "1        ['Dine-in', 'Takeaway', 'Delivery']  \n",
       "2     ['Dine-in', 'Takeaway', 'No delivery']  \n",
       "3  ['Dine-in', 'No takeaway', 'No delivery']  \n",
       "4        ['Dine-in', 'Takeaway', 'Delivery']  "
      ]
     },
     "execution_count": 8,
     "metadata": {},
     "output_type": "execute_result"
    }
   ],
   "source": [
    "data.head()"
   ]
  },
  {
   "cell_type": "markdown",
   "id": "285fab4d",
   "metadata": {},
   "source": [
    "## FUNCTIONS "
   ]
  },
  {
   "cell_type": "code",
   "execution_count": 14,
   "id": "9623e802",
   "metadata": {},
   "outputs": [],
   "source": [
    "def keep_numeric(x):\n",
    "    return re.sub(\"[^0-9]\", \"\", x)"
   ]
  },
  {
   "cell_type": "code",
   "execution_count": 20,
   "id": "ff331bed",
   "metadata": {},
   "outputs": [],
   "source": [
    "def replace_price(x):\n",
    "    if x == \"£\":\n",
    "        return 1\n",
    "    if x == \"££\": \n",
    "        return 2 \n",
    "    if x == \"£££\": \n",
    "        return 3 \n",
    "    if x == \"££££\": \n",
    "        return 4 "
   ]
  },
  {
   "cell_type": "code",
   "execution_count": 16,
   "id": "3f6a7b25",
   "metadata": {},
   "outputs": [],
   "source": [
    "#function Long_lat \n",
    "def transform_lat(x):\n",
    "    try:\n",
    "        geolocator = Nominatim(user_agent=\"aaaa\")\n",
    "        location = geolocator.geocode(x)\n",
    "        return (location.latitude)\n",
    "    except: AttributeError\n",
    "    pass\n",
    "\n",
    "\n",
    "def transform_lon(x):\n",
    "    try:\n",
    "        geolocator = Nominatim(user_agent=\"aaaa\")\n",
    "        location = geolocator.geocode(x)\n",
    "        return (location.longitude)\n",
    "    except: AttributeError\n",
    "    pass"
   ]
  },
  {
   "cell_type": "code",
   "execution_count": 40,
   "id": "972513c7",
   "metadata": {},
   "outputs": [],
   "source": [
    "#Function labels \n",
    "def labels_eat_on_site (x):\n",
    "    if 'dine-in' in x:\n",
    "        return 1 \n",
    "    else: \n",
    "        return 0\n",
    "    \n",
    "def labels_delivery (x):\n",
    "    if ('delivery' in x) or ('no-contact delivery' in x):\n",
    "        return 1\n",
    "    else: \n",
    "        return 0\n",
    "    \n",
    "def labels_takeaway (x):\n",
    "    if ('takeaway' in x):\n",
    "        return 1\n",
    "    else: \n",
    "        return 0\n",
    "\n",
    "def labels_drive_thru (x):\n",
    "    if ('drive-through' in x):\n",
    "        return 1\n",
    "    else: \n",
    "        return 0\n",
    "    \n",
    "def labels_no_del(x):\n",
    "    if ( 'no delivery' in (x)):\n",
    "        return 1\n",
    "    else: \n",
    "        return 0    "
   ]
  },
  {
   "cell_type": "markdown",
   "id": "29ebaa74",
   "metadata": {},
   "source": [
    "## Preprocessing of columns"
   ]
  },
  {
   "cell_type": "code",
   "execution_count": 46,
   "id": "4d1f4fa3",
   "metadata": {},
   "outputs": [],
   "source": [
    "# Importing the data, and basic preprocessing \n",
    "data= pd.read_csv(\"../raw_data/restaurants2 - Copy.csv\", header= None)\n",
    "data=data.rename(columns={0:\"Index\", 1:\"type\" , 2:\"name\", 3:\"description\", 4:\"rating\", 5:\"review_count\", 6: \"price\", 7:\"address\", 8:\"label\"})\n",
    "data=data.drop(columns='Index') # Check whether to keep it or not "
   ]
  },
  {
   "cell_type": "code",
   "execution_count": 47,
   "id": "fa08032d",
   "metadata": {},
   "outputs": [],
   "source": [
    "# Column rating \n",
    "data.rating=pd.to_numeric(data.rating, downcast=\"float\")\n",
    "\n",
    "# Column review_count \n",
    "data.review_count=data.review_count.map(keep_numeric)\n",
    "data.review_count=pd.to_numeric(data.review_count, downcast=\"float\")\n",
    "\n",
    "#Column price \n",
    "data.price = data.price.map(replace_price)\n",
    "\n",
    "#Adress into latitude and longitude \n",
    "data['latitude']=data.address.map(transform_lat)\n",
    "data['longitude']=data.address.map(transform_lon) # have to do something for all the na \n",
    "\n",
    "data.label= data['label'].str.lower()\n",
    "\n",
    "data['dine_in']=data.label.map(labels_eat_on_site)\n",
    "data['takeaway']=data.label.map(labels_takeaway)\n",
    "data['delivery']=data.label.map(labels_delivery)\n",
    "data['drive_through']=data.label.map(labels_drive_thru)\n",
    "data['no_del_exp']=data.label.map(labels_no_del)"
   ]
  },
  {
   "cell_type": "code",
   "execution_count": 48,
   "id": "b7fdca81",
   "metadata": {},
   "outputs": [
    {
     "data": {
      "text/html": [
       "<div>\n",
       "<style scoped>\n",
       "    .dataframe tbody tr th:only-of-type {\n",
       "        vertical-align: middle;\n",
       "    }\n",
       "\n",
       "    .dataframe tbody tr th {\n",
       "        vertical-align: top;\n",
       "    }\n",
       "\n",
       "    .dataframe thead th {\n",
       "        text-align: right;\n",
       "    }\n",
       "</style>\n",
       "<table border=\"1\" class=\"dataframe\">\n",
       "  <thead>\n",
       "    <tr style=\"text-align: right;\">\n",
       "      <th></th>\n",
       "      <th>type</th>\n",
       "      <th>name</th>\n",
       "      <th>description</th>\n",
       "      <th>rating</th>\n",
       "      <th>review_count</th>\n",
       "      <th>price</th>\n",
       "      <th>address</th>\n",
       "      <th>label</th>\n",
       "      <th>latitude</th>\n",
       "      <th>longitude</th>\n",
       "      <th>dine_in</th>\n",
       "      <th>takeaway</th>\n",
       "      <th>delivery</th>\n",
       "      <th>drive_through</th>\n",
       "      <th>no_del_exp</th>\n",
       "    </tr>\n",
       "  </thead>\n",
       "  <tbody>\n",
       "    <tr>\n",
       "      <th>0</th>\n",
       "      <td>Augusto Lisboa</td>\n",
       "      <td>Brunch restaurant</td>\n",
       "      <td>Hip brunch eatery serving savory toasts, banan...</td>\n",
       "      <td>4.8</td>\n",
       "      <td>1032.0</td>\n",
       "      <td>2.0</td>\n",
       "      <td>Rua Santa M.nha 26, 1100-491 Lisboa, Portugal</td>\n",
       "      <td>['dine-in', 'takeaway', 'no delivery']</td>\n",
       "      <td>None</td>\n",
       "      <td>None</td>\n",
       "      <td>1</td>\n",
       "      <td>1</td>\n",
       "      <td>1</td>\n",
       "      <td>0</td>\n",
       "      <td>1</td>\n",
       "    </tr>\n",
       "    <tr>\n",
       "      <th>1</th>\n",
       "      <td>Tiffin Cafe &amp; Restaurant Lisboa</td>\n",
       "      <td>Brunch restaurant</td>\n",
       "      <td>NaN</td>\n",
       "      <td>4.9</td>\n",
       "      <td>139.0</td>\n",
       "      <td>2.0</td>\n",
       "      <td>R. do Conde 32, 1200-637 Lisboa, Portugal</td>\n",
       "      <td>['dine-in', 'takeaway', 'delivery']</td>\n",
       "      <td>None</td>\n",
       "      <td>None</td>\n",
       "      <td>1</td>\n",
       "      <td>1</td>\n",
       "      <td>1</td>\n",
       "      <td>0</td>\n",
       "      <td>0</td>\n",
       "    </tr>\n",
       "    <tr>\n",
       "      <th>2</th>\n",
       "      <td>Crisfama</td>\n",
       "      <td>Restaurant</td>\n",
       "      <td>NaN</td>\n",
       "      <td>4.8</td>\n",
       "      <td>649.0</td>\n",
       "      <td>1.0</td>\n",
       "      <td>Rua da Cruz de Santa Apolónia 56, 1100-188 Lis...</td>\n",
       "      <td>['dine-in', 'takeaway', 'no delivery']</td>\n",
       "      <td>None</td>\n",
       "      <td>None</td>\n",
       "      <td>1</td>\n",
       "      <td>1</td>\n",
       "      <td>1</td>\n",
       "      <td>0</td>\n",
       "      <td>1</td>\n",
       "    </tr>\n",
       "    <tr>\n",
       "      <th>3</th>\n",
       "      <td>Alma</td>\n",
       "      <td>Fine dining restaurant</td>\n",
       "      <td>High-end restaurant with avant-garde local mea...</td>\n",
       "      <td>4.8</td>\n",
       "      <td>953.0</td>\n",
       "      <td>4.0</td>\n",
       "      <td>R. Anchieta 15, 1200-224 Lisboa, Portugal</td>\n",
       "      <td>['dine-in', 'no takeaway', 'no delivery']</td>\n",
       "      <td>None</td>\n",
       "      <td>None</td>\n",
       "      <td>1</td>\n",
       "      <td>1</td>\n",
       "      <td>1</td>\n",
       "      <td>0</td>\n",
       "      <td>1</td>\n",
       "    </tr>\n",
       "    <tr>\n",
       "      <th>4</th>\n",
       "      <td>Restaurant CHULHO &amp; Bar</td>\n",
       "      <td>Restaurant</td>\n",
       "      <td>NaN</td>\n",
       "      <td>4.9</td>\n",
       "      <td>180.0</td>\n",
       "      <td>NaN</td>\n",
       "      <td>R. de São João da Mata 82, 1200-850 Lisboa, Po...</td>\n",
       "      <td>['dine-in', 'takeaway', 'delivery']</td>\n",
       "      <td>None</td>\n",
       "      <td>None</td>\n",
       "      <td>1</td>\n",
       "      <td>1</td>\n",
       "      <td>1</td>\n",
       "      <td>0</td>\n",
       "      <td>0</td>\n",
       "    </tr>\n",
       "  </tbody>\n",
       "</table>\n",
       "</div>"
      ],
      "text/plain": [
       "                              type                    name  \\\n",
       "0                   Augusto Lisboa       Brunch restaurant   \n",
       "1  Tiffin Cafe & Restaurant Lisboa       Brunch restaurant   \n",
       "2                         Crisfama              Restaurant   \n",
       "3                             Alma  Fine dining restaurant   \n",
       "4          Restaurant CHULHO & Bar              Restaurant   \n",
       "\n",
       "                                         description  rating  review_count  \\\n",
       "0  Hip brunch eatery serving savory toasts, banan...     4.8        1032.0   \n",
       "1                                                NaN     4.9         139.0   \n",
       "2                                                NaN     4.8         649.0   \n",
       "3  High-end restaurant with avant-garde local mea...     4.8         953.0   \n",
       "4                                                NaN     4.9         180.0   \n",
       "\n",
       "   price                                            address  \\\n",
       "0    2.0      Rua Santa M.nha 26, 1100-491 Lisboa, Portugal   \n",
       "1    2.0          R. do Conde 32, 1200-637 Lisboa, Portugal   \n",
       "2    1.0  Rua da Cruz de Santa Apolónia 56, 1100-188 Lis...   \n",
       "3    4.0          R. Anchieta 15, 1200-224 Lisboa, Portugal   \n",
       "4    NaN  R. de São João da Mata 82, 1200-850 Lisboa, Po...   \n",
       "\n",
       "                                       label latitude longitude  dine_in  \\\n",
       "0     ['dine-in', 'takeaway', 'no delivery']     None      None        1   \n",
       "1        ['dine-in', 'takeaway', 'delivery']     None      None        1   \n",
       "2     ['dine-in', 'takeaway', 'no delivery']     None      None        1   \n",
       "3  ['dine-in', 'no takeaway', 'no delivery']     None      None        1   \n",
       "4        ['dine-in', 'takeaway', 'delivery']     None      None        1   \n",
       "\n",
       "   takeaway  delivery  drive_through  no_del_exp  \n",
       "0         1         1              0           1  \n",
       "1         1         1              0           0  \n",
       "2         1         1              0           1  \n",
       "3         1         1              0           1  \n",
       "4         1         1              0           0  "
      ]
     },
     "execution_count": 48,
     "metadata": {},
     "output_type": "execute_result"
    }
   ],
   "source": [
    "data.head()"
   ]
  },
  {
   "cell_type": "code",
   "execution_count": 38,
   "id": "2a2dc990",
   "metadata": {
    "scrolled": true
   },
   "outputs": [
    {
     "data": {
      "text/plain": [
       "['dine-in', 'takeaway', 'no delivery']                 5\n",
       "['dine-in', 'no delivery']                             5\n",
       "['dine-in', 'takeaway', 'delivery']                    4\n",
       "['dine-in', 'no takeaway', 'no delivery']              3\n",
       "['dine-in', 'drive-through', 'no-contact delivery']    1\n",
       "['dine-in', 'takeaway', 'no-contact delivery']         1\n",
       "['dine-in', 'takeaway']                                1\n",
       "['dine-in']                                            1\n",
       "Name: label, dtype: int64"
      ]
     },
     "execution_count": 38,
     "metadata": {},
     "output_type": "execute_result"
    }
   ],
   "source": [
    "data.label.value_counts()"
   ]
  },
  {
   "cell_type": "code",
   "execution_count": 379,
   "id": "90374148",
   "metadata": {
    "scrolled": true
   },
   "outputs": [
    {
     "data": {
      "text/html": [
       "<div>\n",
       "<style scoped>\n",
       "    .dataframe tbody tr th:only-of-type {\n",
       "        vertical-align: middle;\n",
       "    }\n",
       "\n",
       "    .dataframe tbody tr th {\n",
       "        vertical-align: top;\n",
       "    }\n",
       "\n",
       "    .dataframe thead th {\n",
       "        text-align: right;\n",
       "    }\n",
       "</style>\n",
       "<table border=\"1\" class=\"dataframe\">\n",
       "  <thead>\n",
       "    <tr style=\"text-align: right;\">\n",
       "      <th></th>\n",
       "      <th>name</th>\n",
       "      <th>rating</th>\n",
       "      <th>review_count</th>\n",
       "      <th>price</th>\n",
       "      <th>address</th>\n",
       "      <th>label</th>\n",
       "      <th>latitude</th>\n",
       "      <th>longitude</th>\n",
       "      <th>eat_on_site</th>\n",
       "      <th>take_away</th>\n",
       "      <th>delivery</th>\n",
       "      <th>drive_thru</th>\n",
       "      <th>no_delivery</th>\n",
       "    </tr>\n",
       "  </thead>\n",
       "  <tbody>\n",
       "    <tr>\n",
       "      <th>0</th>\n",
       "      <td>Darshan Nepal</td>\n",
       "      <td>4.4</td>\n",
       "      <td>375.0</td>\n",
       "      <td>2.0</td>\n",
       "      <td>Av. Alm. Reis 48A, 1150-019 Lisboa</td>\n",
       "      <td>['comer no local', 'com recolha móvel', 'entre...</td>\n",
       "      <td>38.726221</td>\n",
       "      <td>-9.134897</td>\n",
       "      <td>1</td>\n",
       "      <td>1</td>\n",
       "      <td>1</td>\n",
       "      <td>0</td>\n",
       "      <td>0</td>\n",
       "    </tr>\n",
       "    <tr>\n",
       "      <th>1</th>\n",
       "      <td>Chillis Bangladesh Indian Restaurant Curry House</td>\n",
       "      <td>4.1</td>\n",
       "      <td>33.0</td>\n",
       "      <td>2.0</td>\n",
       "      <td>R. do Benformoso 256, 1100-088 Lisboa</td>\n",
       "      <td>['comer no local', 'take away']</td>\n",
       "      <td>NaN</td>\n",
       "      <td>NaN</td>\n",
       "      <td>1</td>\n",
       "      <td>1</td>\n",
       "      <td>0</td>\n",
       "      <td>0</td>\n",
       "      <td>0</td>\n",
       "    </tr>\n",
       "    <tr>\n",
       "      <th>2</th>\n",
       "      <td>Dreams Sushi Restaurant &amp; Take Away</td>\n",
       "      <td>4.1</td>\n",
       "      <td>33.0</td>\n",
       "      <td>2.0</td>\n",
       "      <td>Rua do Zaire 27, 1170-172 Lisboa</td>\n",
       "      <td>['comer no local', 'take away', 'entrega']</td>\n",
       "      <td>38.727935</td>\n",
       "      <td>-9.134149</td>\n",
       "      <td>1</td>\n",
       "      <td>1</td>\n",
       "      <td>1</td>\n",
       "      <td>0</td>\n",
       "      <td>0</td>\n",
       "    </tr>\n",
       "    <tr>\n",
       "      <th>3</th>\n",
       "      <td>Restaurante Santos (Comida de Nepalesa &amp; Portu...</td>\n",
       "      <td>5.0</td>\n",
       "      <td>25.0</td>\n",
       "      <td>2.0</td>\n",
       "      <td>Rua do Forno do Tijolo 60, 1170-138 Lisboa</td>\n",
       "      <td>['comer no local', 'take away']</td>\n",
       "      <td>NaN</td>\n",
       "      <td>NaN</td>\n",
       "      <td>1</td>\n",
       "      <td>1</td>\n",
       "      <td>0</td>\n",
       "      <td>0</td>\n",
       "      <td>0</td>\n",
       "    </tr>\n",
       "    <tr>\n",
       "      <th>4</th>\n",
       "      <td>Papa Chidera Nigeria Restaurant</td>\n",
       "      <td>4.6</td>\n",
       "      <td>20.0</td>\n",
       "      <td>2.0</td>\n",
       "      <td>1170-287 Lisboa</td>\n",
       "      <td>['comer no local', 'take away']</td>\n",
       "      <td>-34.629451</td>\n",
       "      <td>-58.519968</td>\n",
       "      <td>1</td>\n",
       "      <td>1</td>\n",
       "      <td>0</td>\n",
       "      <td>0</td>\n",
       "      <td>0</td>\n",
       "    </tr>\n",
       "  </tbody>\n",
       "</table>\n",
       "</div>"
      ],
      "text/plain": [
       "                                                name  rating  review_count  \\\n",
       "0                                      Darshan Nepal     4.4         375.0   \n",
       "1   Chillis Bangladesh Indian Restaurant Curry House     4.1          33.0   \n",
       "2                Dreams Sushi Restaurant & Take Away     4.1          33.0   \n",
       "3  Restaurante Santos (Comida de Nepalesa & Portu...     5.0          25.0   \n",
       "4                    Papa Chidera Nigeria Restaurant     4.6          20.0   \n",
       "\n",
       "   price                                     address  \\\n",
       "0    2.0          Av. Alm. Reis 48A, 1150-019 Lisboa   \n",
       "1    2.0       R. do Benformoso 256, 1100-088 Lisboa   \n",
       "2    2.0            Rua do Zaire 27, 1170-172 Lisboa   \n",
       "3    2.0  Rua do Forno do Tijolo 60, 1170-138 Lisboa   \n",
       "4    2.0                             1170-287 Lisboa   \n",
       "\n",
       "                                               label   latitude  longitude  \\\n",
       "0  ['comer no local', 'com recolha móvel', 'entre...  38.726221  -9.134897   \n",
       "1                    ['comer no local', 'take away']        NaN        NaN   \n",
       "2         ['comer no local', 'take away', 'entrega']  38.727935  -9.134149   \n",
       "3                    ['comer no local', 'take away']        NaN        NaN   \n",
       "4                    ['comer no local', 'take away'] -34.629451 -58.519968   \n",
       "\n",
       "   eat_on_site  take_away  delivery  drive_thru  no_delivery  \n",
       "0            1          1         1           0            0  \n",
       "1            1          1         0           0            0  \n",
       "2            1          1         1           0            0  \n",
       "3            1          1         0           0            0  \n",
       "4            1          1         0           0            0  "
      ]
     },
     "execution_count": 379,
     "metadata": {},
     "output_type": "execute_result"
    }
   ],
   "source": [
    "data.head()"
   ]
  },
  {
   "cell_type": "markdown",
   "id": "72c1850d",
   "metadata": {},
   "source": [
    "## Exploration"
   ]
  },
  {
   "cell_type": "code",
   "execution_count": 246,
   "id": "82c370a9",
   "metadata": {},
   "outputs": [
    {
     "data": {
      "text/plain": [
       "(array([ 1.,  2.,  1.,  3.,  5.,  4., 11.,  7.,  5.,  1.]),\n",
       " array([4. , 4.1, 4.2, 4.3, 4.4, 4.5, 4.6, 4.7, 4.8, 4.9, 5. ],\n",
       "       dtype=float32),\n",
       " <BarContainer object of 10 artists>)"
      ]
     },
     "execution_count": 246,
     "metadata": {},
     "output_type": "execute_result"
    },
    {
     "data": {
      "image/png": "[encoded data removed]",
      "text/plain": [
       "<Figure size 432x288 with 1 Axes>"
      ]
     },
     "metadata": {
      "needs_background": "light"
     },
     "output_type": "display_data"
    }
   ],
   "source": [
    "# Repartition of reviews\n",
    "plt.hist(data.rating)"
   ]
  },
  {
   "cell_type": "code",
   "execution_count": 250,
   "id": "2889df02",
   "metadata": {},
   "outputs": [
    {
     "name": "stdout",
     "output_type": "stream",
     "text": [
      "average number of review per store: 598.675\n",
      "Some outliers with many reviews: \n"
     ]
    },
    {
     "data": {
      "image/png": "[encoded data removed]",
      "text/plain": [
       "<Figure size 432x288 with 1 Axes>"
      ]
     },
     "metadata": {
      "needs_background": "light"
     },
     "output_type": "display_data"
    }
   ],
   "source": [
    "# number of reviews per store: \n",
    "plt.boxplot(data.review_count)\n",
    "\n",
    "print('average number of reviews per store:', data.review_count.mean())\n",
    "print('Some outliers with many reviews: ')"
   ]
  },
  {
   "cell_type": "code",
   "execution_count": 260,
   "id": "165183ce",
   "metadata": {},
   "outputs": [
    {
     "data": {
      "text/plain": [
       "<seaborn.axisgrid.PairGrid at 0x1411a4910>"
      ]
     },
     "execution_count": 260,
     "metadata": {},
     "output_type": "execute_result"
    },
    {
     "data": {
      "image/png": "[encoded data removed]",
      "text/plain": [
       "<Figure size 540x540 with 12 Axes>"
      ]
     },
     "metadata": {
      "needs_background": "light"
     },
     "output_type": "display_data"
    }
   ],
   "source": [
    "sns.pairplot(data[['rating', 'review_count', 'price']])"
   ]
  },
  {
   "cell_type": "markdown",
   "id": "34353810",
   "metadata": {},
   "source": [
    "### Relationship between number of reviews and review score: \n"
   ]
  },
  {
   "cell_type": "code",
   "execution_count": 251,
   "id": "26497c88",
   "metadata": {},
   "outputs": [
    {
     "data": {
      "text/plain": [
       "<matplotlib.collections.PathCollection at 0x11cfc7ee0>"
      ]
     },
     "execution_count": 251,
     "metadata": {},
     "output_type": "execute_result"
    },
    {
     "data": {
      "image/png": "[encoded data removed]",
      "text/plain": [
       "<Figure size 432x288 with 1 Axes>"
      ]
     },
     "metadata": {
      "needs_background": "light"
     },
     "output_type": "display_data"
    }
   ],
   "source": [
    "plt.scatter(data.rating, data.review_count,  edgecolor='#333333', alpha=0.75)"
   ]
  },
  {
   "cell_type": "markdown",
   "id": "e108ff08",
   "metadata": {},
   "source": [
    "## Labels"
   ]
  },
  {
   "cell_type": "code",
   "execution_count": 265,
   "id": "916c2a74",
   "metadata": {},
   "outputs": [
    {
     "data": {
      "text/plain": [
       "['Comer no local', 'Take away', 'Entrega']                         13\n",
       "['Comer no local', 'Take away']                                    10\n",
       "['Comer no local', 'Take away', 'Não faz entregas']                 4\n",
       "['Comer no local', 'Com recolha móvel', 'Entrega']                  3\n",
       "['Comer no local', 'Não faz entregas']                              3\n",
       "['Comer no local', 'Com recolha móvel', 'Entrega sem contacto']     2\n",
       "['Comer no local', 'Take away', 'Entrega sem contacto']             2\n",
       "['Comer no local', 'Drive-thru']                                    1\n",
       "['Comer no local', 'Drive-thru', 'Entrega sem contacto']            1\n",
       "['Comer no local', 'Com recolha móvel']                             1\n",
       "Name: label, dtype: int64"
      ]
     },
     "execution_count": 265,
     "metadata": {},
     "output_type": "execute_result"
    }
   ],
   "source": [
    "data.label.value_counts()"
   ]
  },
  {
   "cell_type": "code",
   "execution_count": 332,
   "id": "265e949f",
   "metadata": {},
   "outputs": [
    {
     "data": {
      "text/html": [
       "<div>\n",
       "<style scoped>\n",
       "    .dataframe tbody tr th:only-of-type {\n",
       "        vertical-align: middle;\n",
       "    }\n",
       "\n",
       "    .dataframe tbody tr th {\n",
       "        vertical-align: top;\n",
       "    }\n",
       "\n",
       "    .dataframe thead th {\n",
       "        text-align: right;\n",
       "    }\n",
       "</style>\n",
       "<table border=\"1\" class=\"dataframe\">\n",
       "  <thead>\n",
       "    <tr style=\"text-align: right;\">\n",
       "      <th></th>\n",
       "      <th>rating</th>\n",
       "      <th>review_count</th>\n",
       "      <th>price</th>\n",
       "      <th>latitude</th>\n",
       "      <th>longitude</th>\n",
       "    </tr>\n",
       "    <tr>\n",
       "      <th>label</th>\n",
       "      <th></th>\n",
       "      <th></th>\n",
       "      <th></th>\n",
       "      <th></th>\n",
       "      <th></th>\n",
       "    </tr>\n",
       "  </thead>\n",
       "  <tbody>\n",
       "    <tr>\n",
       "      <th>['comer no local', 'com recolha móvel', 'entrega sem contacto']</th>\n",
       "      <td>4.550000</td>\n",
       "      <td>391.500000</td>\n",
       "      <td>2.000000</td>\n",
       "      <td>38.726221</td>\n",
       "      <td>-9.134897</td>\n",
       "    </tr>\n",
       "    <tr>\n",
       "      <th>['comer no local', 'com recolha móvel', 'entrega']</th>\n",
       "      <td>4.500000</td>\n",
       "      <td>140.000000</td>\n",
       "      <td>1.333333</td>\n",
       "      <td>38.725149</td>\n",
       "      <td>-9.135340</td>\n",
       "    </tr>\n",
       "    <tr>\n",
       "      <th>['comer no local', 'com recolha móvel']</th>\n",
       "      <td>4.600000</td>\n",
       "      <td>340.000000</td>\n",
       "      <td>2.000000</td>\n",
       "      <td>38.719890</td>\n",
       "      <td>-9.142155</td>\n",
       "    </tr>\n",
       "    <tr>\n",
       "      <th>['comer no local', 'drive-thru', 'entrega sem contacto']</th>\n",
       "      <td>4.500000</td>\n",
       "      <td>11611.000000</td>\n",
       "      <td>3.000000</td>\n",
       "      <td>38.727859</td>\n",
       "      <td>-9.134819</td>\n",
       "    </tr>\n",
       "    <tr>\n",
       "      <th>['comer no local', 'drive-thru']</th>\n",
       "      <td>4.700000</td>\n",
       "      <td>239.000000</td>\n",
       "      <td>1.000000</td>\n",
       "      <td>NaN</td>\n",
       "      <td>NaN</td>\n",
       "    </tr>\n",
       "    <tr>\n",
       "      <th>['comer no local', 'não faz entregas']</th>\n",
       "      <td>4.500000</td>\n",
       "      <td>257.000000</td>\n",
       "      <td>1.333333</td>\n",
       "      <td>38.716665</td>\n",
       "      <td>-9.132458</td>\n",
       "    </tr>\n",
       "    <tr>\n",
       "      <th>['comer no local', 'take away', 'entrega sem contacto']</th>\n",
       "      <td>4.600000</td>\n",
       "      <td>414.500000</td>\n",
       "      <td>1.000000</td>\n",
       "      <td>38.726978</td>\n",
       "      <td>-9.133816</td>\n",
       "    </tr>\n",
       "    <tr>\n",
       "      <th>['comer no local', 'take away', 'entrega']</th>\n",
       "      <td>4.507692</td>\n",
       "      <td>330.307678</td>\n",
       "      <td>1.666667</td>\n",
       "      <td>38.724974</td>\n",
       "      <td>-9.133941</td>\n",
       "    </tr>\n",
       "    <tr>\n",
       "      <th>['comer no local', 'take away', 'não faz entregas']</th>\n",
       "      <td>4.675000</td>\n",
       "      <td>478.000000</td>\n",
       "      <td>2.500000</td>\n",
       "      <td>NaN</td>\n",
       "      <td>NaN</td>\n",
       "    </tr>\n",
       "    <tr>\n",
       "      <th>['comer no local', 'take away']</th>\n",
       "      <td>4.540000</td>\n",
       "      <td>274.799988</td>\n",
       "      <td>1.800000</td>\n",
       "      <td>-0.967881</td>\n",
       "      <td>-36.285270</td>\n",
       "    </tr>\n",
       "  </tbody>\n",
       "</table>\n",
       "</div>"
      ],
      "text/plain": [
       "                                                      rating  review_count  \\\n",
       "label                                                                        \n",
       "['comer no local', 'com recolha móvel', 'entreg...  4.550000    391.500000   \n",
       "['comer no local', 'com recolha móvel', 'entrega']  4.500000    140.000000   \n",
       "['comer no local', 'com recolha móvel']             4.600000    340.000000   \n",
       "['comer no local', 'drive-thru', 'entrega sem c...  4.500000  11611.000000   \n",
       "['comer no local', 'drive-thru']                    4.700000    239.000000   \n",
       "['comer no local', 'não faz entregas']              4.500000    257.000000   \n",
       "['comer no local', 'take away', 'entrega sem co...  4.600000    414.500000   \n",
       "['comer no local', 'take away', 'entrega']          4.507692    330.307678   \n",
       "['comer no local', 'take away', 'não faz entreg...  4.675000    478.000000   \n",
       "['comer no local', 'take away']                     4.540000    274.799988   \n",
       "\n",
       "                                                       price   latitude  \\\n",
       "label                                                                     \n",
       "['comer no local', 'com recolha móvel', 'entreg...  2.000000  38.726221   \n",
       "['comer no local', 'com recolha móvel', 'entrega']  1.333333  38.725149   \n",
       "['comer no local', 'com recolha móvel']             2.000000  38.719890   \n",
       "['comer no local', 'drive-thru', 'entrega sem c...  3.000000  38.727859   \n",
       "['comer no local', 'drive-thru']                    1.000000        NaN   \n",
       "['comer no local', 'não faz entregas']              1.333333  38.716665   \n",
       "['comer no local', 'take away', 'entrega sem co...  1.000000  38.726978   \n",
       "['comer no local', 'take away', 'entrega']          1.666667  38.724974   \n",
       "['comer no local', 'take away', 'não faz entreg...  2.500000        NaN   \n",
       "['comer no local', 'take away']                     1.800000  -0.967881   \n",
       "\n",
       "                                                    longitude  \n",
       "label                                                          \n",
       "['comer no local', 'com recolha móvel', 'entreg...  -9.134897  \n",
       "['comer no local', 'com recolha móvel', 'entrega']  -9.135340  \n",
       "['comer no local', 'com recolha móvel']             -9.142155  \n",
       "['comer no local', 'drive-thru', 'entrega sem c...  -9.134819  \n",
       "['comer no local', 'drive-thru']                          NaN  \n",
       "['comer no local', 'não faz entregas']              -9.132458  \n",
       "['comer no local', 'take away', 'entrega sem co...  -9.133816  \n",
       "['comer no local', 'take away', 'entrega']          -9.133941  \n",
       "['comer no local', 'take away', 'não faz entreg...        NaN  \n",
       "['comer no local', 'take away']                    -36.285270  "
      ]
     },
     "execution_count": 332,
     "metadata": {},
     "output_type": "execute_result"
    }
   ],
   "source": [
    "data.groupby('label').mean()\n",
    "#regions = countries_df.groupby('Region')"
   ]
  },
  {
   "cell_type": "code",
   "execution_count": 365,
   "id": "27f8ad61",
   "metadata": {},
   "outputs": [
    {
     "data": {
      "text/html": [
       "<div>\n",
       "<style scoped>\n",
       "    .dataframe tbody tr th:only-of-type {\n",
       "        vertical-align: middle;\n",
       "    }\n",
       "\n",
       "    .dataframe tbody tr th {\n",
       "        vertical-align: top;\n",
       "    }\n",
       "\n",
       "    .dataframe thead th {\n",
       "        text-align: right;\n",
       "    }\n",
       "</style>\n",
       "<table border=\"1\" class=\"dataframe\">\n",
       "  <thead>\n",
       "    <tr style=\"text-align: right;\">\n",
       "      <th></th>\n",
       "      <th>rating</th>\n",
       "      <th>review_count</th>\n",
       "      <th>price</th>\n",
       "      <th>latitude</th>\n",
       "      <th>longitude</th>\n",
       "      <th>eat_on_site</th>\n",
       "      <th>take_away</th>\n",
       "      <th>delivery</th>\n",
       "      <th>drive_thru</th>\n",
       "    </tr>\n",
       "    <tr>\n",
       "      <th>no_delivery</th>\n",
       "      <th></th>\n",
       "      <th></th>\n",
       "      <th></th>\n",
       "      <th></th>\n",
       "      <th></th>\n",
       "      <th></th>\n",
       "      <th></th>\n",
       "      <th></th>\n",
       "      <th></th>\n",
       "    </tr>\n",
       "  </thead>\n",
       "  <tbody>\n",
       "    <tr>\n",
       "      <th>0</th>\n",
       "      <td>4.533333</td>\n",
       "      <td>644.363647</td>\n",
       "      <td>1.6875</td>\n",
       "      <td>31.282663</td>\n",
       "      <td>-14.225697</td>\n",
       "      <td>1.0</td>\n",
       "      <td>0.939394</td>\n",
       "      <td>0.636364</td>\n",
       "      <td>0.060606</td>\n",
       "    </tr>\n",
       "    <tr>\n",
       "      <th>1</th>\n",
       "      <td>4.600000</td>\n",
       "      <td>383.285706</td>\n",
       "      <td>2.0000</td>\n",
       "      <td>38.716665</td>\n",
       "      <td>-9.132458</td>\n",
       "      <td>1.0</td>\n",
       "      <td>0.571429</td>\n",
       "      <td>1.000000</td>\n",
       "      <td>0.000000</td>\n",
       "    </tr>\n",
       "  </tbody>\n",
       "</table>\n",
       "</div>"
      ],
      "text/plain": [
       "               rating  review_count   price   latitude  longitude  \\\n",
       "no_delivery                                                         \n",
       "0            4.533333    644.363647  1.6875  31.282663 -14.225697   \n",
       "1            4.600000    383.285706  2.0000  38.716665  -9.132458   \n",
       "\n",
       "             eat_on_site  take_away  delivery  drive_thru  \n",
       "no_delivery                                                \n",
       "0                    1.0   0.939394  0.636364    0.060606  \n",
       "1                    1.0   0.571429  1.000000    0.000000  "
      ]
     },
     "execution_count": 365,
     "metadata": {},
     "output_type": "execute_result"
    }
   ],
   "source": [
    "data.groupby('no_delivery').mean()\n",
    "#regions = countries_df.groupby('Region')"
   ]
  },
  {
   "cell_type": "markdown",
   "id": "578facca",
   "metadata": {},
   "source": [
    "## Mapping of coordinates of restaurant with folium "
   ]
  },
  {
   "cell_type": "code",
   "execution_count": 252,
   "id": "a6ead9ff",
   "metadata": {},
   "outputs": [],
   "source": [
    "import os \n",
    "import folium"
   ]
  },
  {
   "cell_type": "code",
   "execution_count": 254,
   "id": "deac6a99",
   "metadata": {
    "scrolled": false
   },
   "outputs": [
    {
     "data": {
      "text/html": [
       "<div style=\"width:100%;\"><div style=\"position:relative;width:100%;height:0;padding-bottom:60%;\"><span style=\"color:#565656\">Make this Notebook Trusted to load map: File -> Trust Notebook</span><iframe src=\"about:blank\" style=\"position:absolute;width:100%;height:100%;left:0;top:0;border:none !important;\" data-html=%3C%21DOCTYPE%20html%3E%0A%3Chead%3E%20%20%20%20%0A%20%20%20%20%3Cmeta%20http-equiv%3D%22content-type%22%20content%3D%22text/html%3B%20charset%3DUTF-8%22%20/%3E%0A%20%20%20%20%0A%20%20%20%20%20%20%20%20%3Cscript%3E%0A%20%20%20%20%20%20%20%20%20%20%20%20L_NO_TOUCH%20%3D%20false%3B%0A%20%20%20%20%20%20%20%20%20%20%20%20L_DISABLE_3D%20%3D%20false%3B%0A%20%20%20%20%20%20%20%20%3C/script%3E%0A%20%20%20%20%0A%20%20%20%20%3Cstyle%3Ehtml%2C%20body%20%7Bwidth%3A%20100%25%3Bheight%3A%20100%25%3Bmargin%3A%200%3Bpadding%3A%200%3B%7D%3C/style%3E%0A%20%20%20%20%3Cstyle%3E%23map%20%7Bposition%3Aabsolute%3Btop%3A0%3Bbottom%3A0%3Bright%3A0%3Bleft%3A0%3B%7D%3C/style%3E%0A%20%20%20%20%3Cscript%20src%3D%22https%3A//cdn.jsdelivr.net/npm/leaflet%401.6.0/dist/leaflet.js%22%3E%3C/script%3E%0A%20%20%20%20%3Cscript%20src%3D%22https%3A//code.jquery.com/jquery-1.12.4.min.js%22%3E%3C/script%3E%0A%20%20%20%20%3Cscript%20src%3D%22https%3A//maxcdn.bootstrapcdn.com/bootstrap/3.2.0/js/bootstrap.min.js%22%3E%3C/script%3E%0A%20%20%20%20%3Cscript%20src%3D%22https%3A//cdnjs.cloudflare.com/ajax/libs/Leaflet.awesome-markers/2.0.2/leaflet.awesome-markers.js%22%3E%3C/script%3E%0A%20%20%20%20%3Clink%20rel%3D%22stylesheet%22%20href%3D%22https%3A//cdn.jsdelivr.net/npm/leaflet%401.6.0/dist/leaflet.css%22/%3E%0A%20%20%20%20%3Clink%20rel%3D%22stylesheet%22%20href%3D%22https%3A//maxcdn.bootstrapcdn.com/bootstrap/3.2.0/css/bootstrap.min.css%22/%3E%0A%20%20%20%20%3Clink%20rel%3D%22stylesheet%22%20href%3D%22https%3A//maxcdn.bootstrapcdn.com/bootstrap/3.2.0/css/bootstrap-theme.min.css%22/%3E%0A%20%20%20%20%3Clink%20rel%3D%22stylesheet%22%20href%3D%22https%3A//maxcdn.bootstrapcdn.com/font-awesome/4.6.3/css/font-awesome.min.css%22/%3E%0A%20%20%20%20%3Clink%20rel%3D%22stylesheet%22%20href%3D%22https%3A//cdnjs.cloudflare.com/ajax/libs/Leaflet.awesome-markers/2.0.2/leaflet.awesome-markers.css%22/%3E%0A%20%20%20%20%3Clink%20rel%3D%22stylesheet%22%20href%3D%22https%3A//cdn.jsdelivr.net/gh/python-visualization/folium/folium/templates/leaflet.awesome.rotate.min.css%22/%3E%0A%20%20%20%20%0A%20%20%20%20%20%20%20%20%20%20%20%20%3Cmeta%20name%3D%22viewport%22%20content%3D%22width%3Ddevice-width%2C%0A%20%20%20%20%20%20%20%20%20%20%20%20%20%20%20%20initial-scale%3D1.0%2C%20maximum-scale%3D1.0%2C%20user-scalable%3Dno%22%20/%3E%0A%20%20%20%20%20%20%20%20%20%20%20%20%3Cstyle%3E%0A%20%20%20%20%20%20%20%20%20%20%20%20%20%20%20%20%23map_f2990737d488488cbd1424e7899aff58%20%7B%0A%20%20%20%20%20%20%20%20%20%20%20%20%20%20%20%20%20%20%20%20position%3A%20relative%3B%0A%20%20%20%20%20%20%20%20%20%20%20%20%20%20%20%20%20%20%20%20width%3A%20100.0%25%3B%0A%20%20%20%20%20%20%20%20%20%20%20%20%20%20%20%20%20%20%20%20height%3A%20100.0%25%3B%0A%20%20%20%20%20%20%20%20%20%20%20%20%20%20%20%20%20%20%20%20left%3A%200.0%25%3B%0A%20%20%20%20%20%20%20%20%20%20%20%20%20%20%20%20%20%20%20%20top%3A%200.0%25%3B%0A%20%20%20%20%20%20%20%20%20%20%20%20%20%20%20%20%7D%0A%20%20%20%20%20%20%20%20%20%20%20%20%3C/style%3E%0A%20%20%20%20%20%20%20%20%0A%3C/head%3E%0A%3Cbody%3E%20%20%20%20%0A%20%20%20%20%0A%20%20%20%20%20%20%20%20%20%20%20%20%3Cdiv%20class%3D%22folium-map%22%20id%3D%22map_f2990737d488488cbd1424e7899aff58%22%20%3E%3C/div%3E%0A%20%20%20%20%20%20%20%20%0A%3C/body%3E%0A%3Cscript%3E%20%20%20%20%0A%20%20%20%20%0A%20%20%20%20%20%20%20%20%20%20%20%20var%20map_f2990737d488488cbd1424e7899aff58%20%3D%20L.map%28%0A%20%20%20%20%20%20%20%20%20%20%20%20%20%20%20%20%22map_f2990737d488488cbd1424e7899aff58%22%2C%0A%20%20%20%20%20%20%20%20%20%20%20%20%20%20%20%20%7B%0A%20%20%20%20%20%20%20%20%20%20%20%20%20%20%20%20%20%20%20%20center%3A%20%5B38.7166%2C%20-9.1483%5D%2C%0A%20%20%20%20%20%20%20%20%20%20%20%20%20%20%20%20%20%20%20%20crs%3A%20L.CRS.EPSG3857%2C%0A%20%20%20%20%20%20%20%20%20%20%20%20%20%20%20%20%20%20%20%20zoom%3A%2014%2C%0A%20%20%20%20%20%20%20%20%20%20%20%20%20%20%20%20%20%20%20%20zoomControl%3A%20true%2C%0A%20%20%20%20%20%20%20%20%20%20%20%20%20%20%20%20%20%20%20%20preferCanvas%3A%20false%2C%0A%20%20%20%20%20%20%20%20%20%20%20%20%20%20%20%20%20%20%20%20titles%3A%20%22small%20businesses%22%2C%0A%20%20%20%20%20%20%20%20%20%20%20%20%20%20%20%20%7D%0A%20%20%20%20%20%20%20%20%20%20%20%20%29%3B%0A%0A%20%20%20%20%20%20%20%20%20%20%20%20%0A%0A%20%20%20%20%20%20%20%20%0A%20%20%20%20%0A%20%20%20%20%20%20%20%20%20%20%20%20var%20tile_layer_b99a4f11602c457eaa0838e0df2fc71f%20%3D%20L.tileLayer%28%0A%20%20%20%20%20%20%20%20%20%20%20%20%20%20%20%20%22https%3A//%7Bs%7D.tile.openstreetmap.org/%7Bz%7D/%7Bx%7D/%7By%7D.png%22%2C%0A%20%20%20%20%20%20%20%20%20%20%20%20%20%20%20%20%7B%22attribution%22%3A%20%22Data%20by%20%5Cu0026copy%3B%20%5Cu003ca%20href%3D%5C%22http%3A//openstreetmap.org%5C%22%5Cu003eOpenStreetMap%5Cu003c/a%5Cu003e%2C%20under%20%5Cu003ca%20href%3D%5C%22http%3A//www.openstreetmap.org/copyright%5C%22%5Cu003eODbL%5Cu003c/a%5Cu003e.%22%2C%20%22detectRetina%22%3A%20false%2C%20%22maxNativeZoom%22%3A%2018%2C%20%22maxZoom%22%3A%2018%2C%20%22minZoom%22%3A%200%2C%20%22noWrap%22%3A%20false%2C%20%22opacity%22%3A%201%2C%20%22subdomains%22%3A%20%22abc%22%2C%20%22tms%22%3A%20false%7D%0A%20%20%20%20%20%20%20%20%20%20%20%20%29.addTo%28map_f2990737d488488cbd1424e7899aff58%29%3B%0A%20%20%20%20%20%20%20%20%0A%20%20%20%20%0A%20%20%20%20%20%20%20%20%20%20%20%20var%20marker_4f37e3e46e604f8c8baf57c0f14a30dd%20%3D%20L.marker%28%0A%20%20%20%20%20%20%20%20%20%20%20%20%20%20%20%20%5B38.7262209%2C%20-9.1348968%5D%2C%0A%20%20%20%20%20%20%20%20%20%20%20%20%20%20%20%20%7B%22fillColor%22%3A%20%22%2343d9de%22%2C%20%22radius%22%3A%208%7D%0A%20%20%20%20%20%20%20%20%20%20%20%20%29.addTo%28map_f2990737d488488cbd1424e7899aff58%29%3B%0A%20%20%20%20%20%20%20%20%0A%20%20%20%20%0A%20%20%20%20%20%20%20%20var%20popup_b8548e4c2b8a44aabb5bb81916db01ab%20%3D%20L.popup%28%7B%22maxWidth%22%3A%20%22100%25%22%7D%29%3B%0A%0A%20%20%20%20%20%20%20%20%0A%20%20%20%20%20%20%20%20%20%20%20%20var%20html_ee74b9672cbb43b0a83e918e94a701f7%20%3D%20%24%28%60%3Cdiv%20id%3D%22html_ee74b9672cbb43b0a83e918e94a701f7%22%20style%3D%22width%3A%20100.0%25%3B%20height%3A%20100.0%25%3B%22%3E%28%27Darshan%20Nepal%27%2C%202.0%2C%204.400000095367432%29%3C/div%3E%60%29%5B0%5D%3B%0A%20%20%20%20%20%20%20%20%20%20%20%20popup_b8548e4c2b8a44aabb5bb81916db01ab.setContent%28html_ee74b9672cbb43b0a83e918e94a701f7%29%3B%0A%20%20%20%20%20%20%20%20%0A%0A%20%20%20%20%20%20%20%20marker_4f37e3e46e604f8c8baf57c0f14a30dd.bindPopup%28popup_b8548e4c2b8a44aabb5bb81916db01ab%29%0A%20%20%20%20%20%20%20%20%3B%0A%0A%20%20%20%20%20%20%20%20%0A%20%20%20%20%0A%20%20%20%20%0A%20%20%20%20%20%20%20%20%20%20%20%20var%20marker_d077c30f3c754a619846b6fe1089793c%20%3D%20L.marker%28%0A%20%20%20%20%20%20%20%20%20%20%20%20%20%20%20%20%5B38.72793455%2C%20-9.134149355315365%5D%2C%0A%20%20%20%20%20%20%20%20%20%20%20%20%20%20%20%20%7B%22fillColor%22%3A%20%22%2343d9de%22%2C%20%22radius%22%3A%208%7D%0A%20%20%20%20%20%20%20%20%20%20%20%20%29.addTo%28map_f2990737d488488cbd1424e7899aff58%29%3B%0A%20%20%20%20%20%20%20%20%0A%20%20%20%20%0A%20%20%20%20%20%20%20%20var%20popup_23a6b5a357cb4e70a4c437ef5ff0706c%20%3D%20L.popup%28%7B%22maxWidth%22%3A%20%22100%25%22%7D%29%3B%0A%0A%20%20%20%20%20%20%20%20%0A%20%20%20%20%20%20%20%20%20%20%20%20var%20html_4820dacebbbe4d048ddc25508d0a8ed4%20%3D%20%24%28%60%3Cdiv%20id%3D%22html_4820dacebbbe4d048ddc25508d0a8ed4%22%20style%3D%22width%3A%20100.0%25%3B%20height%3A%20100.0%25%3B%22%3E%28%27Dreams%20Sushi%20Restaurant%20%26%20Take%20Away%27%2C%202.0%2C%204.099999904632568%29%3C/div%3E%60%29%5B0%5D%3B%0A%20%20%20%20%20%20%20%20%20%20%20%20popup_23a6b5a357cb4e70a4c437ef5ff0706c.setContent%28html_4820dacebbbe4d048ddc25508d0a8ed4%29%3B%0A%20%20%20%20%20%20%20%20%0A%0A%20%20%20%20%20%20%20%20marker_d077c30f3c754a619846b6fe1089793c.bindPopup%28popup_23a6b5a357cb4e70a4c437ef5ff0706c%29%0A%20%20%20%20%20%20%20%20%3B%0A%0A%20%20%20%20%20%20%20%20%0A%20%20%20%20%0A%20%20%20%20%0A%20%20%20%20%20%20%20%20%20%20%20%20var%20marker_7ab325936a4842baa7964152dea74657%20%3D%20L.marker%28%0A%20%20%20%20%20%20%20%20%20%20%20%20%20%20%20%20%5B-34.6294513%2C%20-58.5199681%5D%2C%0A%20%20%20%20%20%20%20%20%20%20%20%20%20%20%20%20%7B%22fillColor%22%3A%20%22%2343d9de%22%2C%20%22radius%22%3A%208%7D%0A%20%20%20%20%20%20%20%20%20%20%20%20%29.addTo%28map_f2990737d488488cbd1424e7899aff58%29%3B%0A%20%20%20%20%20%20%20%20%0A%20%20%20%20%0A%20%20%20%20%20%20%20%20var%20popup_c52d9100a77c4d11af2fa3073802ff2e%20%3D%20L.popup%28%7B%22maxWidth%22%3A%20%22100%25%22%7D%29%3B%0A%0A%20%20%20%20%20%20%20%20%0A%20%20%20%20%20%20%20%20%20%20%20%20var%20html_f1cd936be70e482bb7a9db52f4643ed9%20%3D%20%24%28%60%3Cdiv%20id%3D%22html_f1cd936be70e482bb7a9db52f4643ed9%22%20style%3D%22width%3A%20100.0%25%3B%20height%3A%20100.0%25%3B%22%3E%28%27Papa%20Chidera%20Nigeria%20Restaurant%27%2C%202.0%2C%204.599999904632568%29%3C/div%3E%60%29%5B0%5D%3B%0A%20%20%20%20%20%20%20%20%20%20%20%20popup_c52d9100a77c4d11af2fa3073802ff2e.setContent%28html_f1cd936be70e482bb7a9db52f4643ed9%29%3B%0A%20%20%20%20%20%20%20%20%0A%0A%20%20%20%20%20%20%20%20marker_7ab325936a4842baa7964152dea74657.bindPopup%28popup_c52d9100a77c4d11af2fa3073802ff2e%29%0A%20%20%20%20%20%20%20%20%3B%0A%0A%20%20%20%20%20%20%20%20%0A%20%20%20%20%0A%20%20%20%20%0A%20%20%20%20%20%20%20%20%20%20%20%20var%20marker_55dcdc9bb6cc4e59a110dd420c5a1734%20%3D%20L.marker%28%0A%20%20%20%20%20%20%20%20%20%20%20%20%20%20%20%20%5B38.7269777%2C%20-9.1338158%5D%2C%0A%20%20%20%20%20%20%20%20%20%20%20%20%20%20%20%20%7B%22fillColor%22%3A%20%22%2343d9de%22%2C%20%22radius%22%3A%208%7D%0A%20%20%20%20%20%20%20%20%20%20%20%20%29.addTo%28map_f2990737d488488cbd1424e7899aff58%29%3B%0A%20%20%20%20%20%20%20%20%0A%20%20%20%20%0A%20%20%20%20%20%20%20%20var%20popup_aa391f19a1eb4d679f5c28c7a5124fe6%20%3D%20L.popup%28%7B%22maxWidth%22%3A%20%22100%25%22%7D%29%3B%0A%0A%20%20%20%20%20%20%20%20%0A%20%20%20%20%20%20%20%20%20%20%20%20var%20html_8490cb9e7425408a888d51eb6864b7c4%20%3D%20%24%28%60%3Cdiv%20id%3D%22html_8490cb9e7425408a888d51eb6864b7c4%22%20style%3D%22width%3A%20100.0%25%3B%20height%3A%20100.0%25%3B%22%3E%28%27Leo%20Restaurant%27%2C%201.0%2C%204.599999904632568%29%3C/div%3E%60%29%5B0%5D%3B%0A%20%20%20%20%20%20%20%20%20%20%20%20popup_aa391f19a1eb4d679f5c28c7a5124fe6.setContent%28html_8490cb9e7425408a888d51eb6864b7c4%29%3B%0A%20%20%20%20%20%20%20%20%0A%0A%20%20%20%20%20%20%20%20marker_55dcdc9bb6cc4e59a110dd420c5a1734.bindPopup%28popup_aa391f19a1eb4d679f5c28c7a5124fe6%29%0A%20%20%20%20%20%20%20%20%3B%0A%0A%20%20%20%20%20%20%20%20%0A%20%20%20%20%0A%20%20%20%20%0A%20%20%20%20%20%20%20%20%20%20%20%20var%20marker_5bec2a45e18e4e1e8cab0a2b78a1c518%20%3D%20L.marker%28%0A%20%20%20%20%20%20%20%20%20%20%20%20%20%20%20%20%5B38.7274497%2C%20-9.1367197%5D%2C%0A%20%20%20%20%20%20%20%20%20%20%20%20%20%20%20%20%7B%22fillColor%22%3A%20%22%2343d9de%22%2C%20%22radius%22%3A%208%7D%0A%20%20%20%20%20%20%20%20%20%20%20%20%29.addTo%28map_f2990737d488488cbd1424e7899aff58%29%3B%0A%20%20%20%20%20%20%20%20%0A%20%20%20%20%0A%20%20%20%20%20%20%20%20var%20popup_86f6301cd4f14d9f92dc9dd9c00a3748%20%3D%20L.popup%28%7B%22maxWidth%22%3A%20%22100%25%22%7D%29%3B%0A%0A%20%20%20%20%20%20%20%20%0A%20%20%20%20%20%20%20%20%20%20%20%20var%20html_0356a18bfcaa4854b97acbb7c0f7c2e2%20%3D%20%24%28%60%3Cdiv%20id%3D%22html_0356a18bfcaa4854b97acbb7c0f7c2e2%22%20style%3D%22width%3A%20100.0%25%3B%20height%3A%20100.0%25%3B%22%3E%28%27Kerala%27%2C%202.0%2C%204.800000190734863%29%3C/div%3E%60%29%5B0%5D%3B%0A%20%20%20%20%20%20%20%20%20%20%20%20popup_86f6301cd4f14d9f92dc9dd9c00a3748.setContent%28html_0356a18bfcaa4854b97acbb7c0f7c2e2%29%3B%0A%20%20%20%20%20%20%20%20%0A%0A%20%20%20%20%20%20%20%20marker_5bec2a45e18e4e1e8cab0a2b78a1c518.bindPopup%28popup_86f6301cd4f14d9f92dc9dd9c00a3748%29%0A%20%20%20%20%20%20%20%20%3B%0A%0A%20%20%20%20%20%20%20%20%0A%20%20%20%20%0A%20%20%20%20%0A%20%20%20%20%20%20%20%20%20%20%20%20var%20marker_133c91113bc84dc79846216a37f258ec%20%3D%20L.marker%28%0A%20%20%20%20%20%20%20%20%20%20%20%20%20%20%20%20%5B38.7242961%2C%20-9.135938%5D%2C%0A%20%20%20%20%20%20%20%20%20%20%20%20%20%20%20%20%7B%22fillColor%22%3A%20%22%2343d9de%22%2C%20%22radius%22%3A%208%7D%0A%20%20%20%20%20%20%20%20%20%20%20%20%29.addTo%28map_f2990737d488488cbd1424e7899aff58%29%3B%0A%20%20%20%20%20%20%20%20%0A%20%20%20%20%0A%20%20%20%20%20%20%20%20var%20popup_f87245948b0e4db7a18dd06931c8c22f%20%3D%20L.popup%28%7B%22maxWidth%22%3A%20%22100%25%22%7D%29%3B%0A%0A%20%20%20%20%20%20%20%20%0A%20%20%20%20%20%20%20%20%20%20%20%20var%20html_9f06a535aecf48058c73ab43c5f09292%20%3D%20%24%28%60%3Cdiv%20id%3D%22html_9f06a535aecf48058c73ab43c5f09292%22%20style%3D%22width%3A%20100.0%25%3B%20height%3A%20100.0%25%3B%22%3E%28%27Trinca%27%2C%202.0%2C%204.800000190734863%29%3C/div%3E%60%29%5B0%5D%3B%0A%20%20%20%20%20%20%20%20%20%20%20%20popup_f87245948b0e4db7a18dd06931c8c22f.setContent%28html_9f06a535aecf48058c73ab43c5f09292%29%3B%0A%20%20%20%20%20%20%20%20%0A%0A%20%20%20%20%20%20%20%20marker_133c91113bc84dc79846216a37f258ec.bindPopup%28popup_f87245948b0e4db7a18dd06931c8c22f%29%0A%20%20%20%20%20%20%20%20%3B%0A%0A%20%20%20%20%20%20%20%20%0A%20%20%20%20%0A%20%20%20%20%0A%20%20%20%20%20%20%20%20%20%20%20%20var%20marker_8b77a12380fd4b3cb8d3476d77ac3dd9%20%3D%20L.marker%28%0A%20%20%20%20%20%20%20%20%20%20%20%20%20%20%20%20%5B38.7278593%2C%20-9.134819%5D%2C%0A%20%20%20%20%20%20%20%20%20%20%20%20%20%20%20%20%7B%22fillColor%22%3A%20%22%2343d9de%22%2C%20%22radius%22%3A%208%7D%0A%20%20%20%20%20%20%20%20%20%20%20%20%29.addTo%28map_f2990737d488488cbd1424e7899aff58%29%3B%0A%20%20%20%20%20%20%20%20%0A%20%20%20%20%0A%20%20%20%20%20%20%20%20var%20popup_22c2e0012c634755b76946f348419330%20%3D%20L.popup%28%7B%22maxWidth%22%3A%20%22100%25%22%7D%29%3B%0A%0A%20%20%20%20%20%20%20%20%0A%20%20%20%20%20%20%20%20%20%20%20%20var%20html_e92c875a1763429fadb2d048b9e33a70%20%3D%20%24%28%60%3Cdiv%20id%3D%22html_e92c875a1763429fadb2d048b9e33a70%22%20style%3D%22width%3A%20100.0%25%3B%20height%3A%20100.0%25%3B%22%3E%28%27Ramiro%27%2C%203.0%2C%204.5%29%3C/div%3E%60%29%5B0%5D%3B%0A%20%20%20%20%20%20%20%20%20%20%20%20popup_22c2e0012c634755b76946f348419330.setContent%28html_e92c875a1763429fadb2d048b9e33a70%29%3B%0A%20%20%20%20%20%20%20%20%0A%0A%20%20%20%20%20%20%20%20marker_8b77a12380fd4b3cb8d3476d77ac3dd9.bindPopup%28popup_22c2e0012c634755b76946f348419330%29%0A%20%20%20%20%20%20%20%20%3B%0A%0A%20%20%20%20%20%20%20%20%0A%20%20%20%20%0A%20%20%20%20%0A%20%20%20%20%20%20%20%20%20%20%20%20var%20marker_0ead343a5dfa41a9a9e5757e405b9536%20%3D%20L.marker%28%0A%20%20%20%20%20%20%20%20%20%20%20%20%20%20%20%20%5B38.732766%2C%20-9.1322561%5D%2C%0A%20%20%20%20%20%20%20%20%20%20%20%20%20%20%20%20%7B%22fillColor%22%3A%20%22%2343d9de%22%2C%20%22radius%22%3A%208%7D%0A%20%20%20%20%20%20%20%20%20%20%20%20%29.addTo%28map_f2990737d488488cbd1424e7899aff58%29%3B%0A%20%20%20%20%20%20%20%20%0A%20%20%20%20%0A%20%20%20%20%20%20%20%20var%20popup_7b190f06d4e44851a0a19f3969a519a5%20%3D%20L.popup%28%7B%22maxWidth%22%3A%20%22100%25%22%7D%29%3B%0A%0A%20%20%20%20%20%20%20%20%0A%20%20%20%20%20%20%20%20%20%20%20%20var%20html_f806abda66364835acbc7a2f63802a59%20%3D%20%24%28%60%3Cdiv%20id%3D%22html_f806abda66364835acbc7a2f63802a59%22%20style%3D%22width%3A%20100.0%25%3B%20height%3A%20100.0%25%3B%22%3E%28%27KASTHAMANDAP%20RESTAURANT%20AND%20CAFE%20HOUSE%27%2C%201.0%2C%204.5%29%3C/div%3E%60%29%5B0%5D%3B%0A%20%20%20%20%20%20%20%20%20%20%20%20popup_7b190f06d4e44851a0a19f3969a519a5.setContent%28html_f806abda66364835acbc7a2f63802a59%29%3B%0A%20%20%20%20%20%20%20%20%0A%0A%20%20%20%20%20%20%20%20marker_0ead343a5dfa41a9a9e5757e405b9536.bindPopup%28popup_7b190f06d4e44851a0a19f3969a519a5%29%0A%20%20%20%20%20%20%20%20%3B%0A%0A%20%20%20%20%20%20%20%20%0A%20%20%20%20%0A%20%20%20%20%0A%20%20%20%20%20%20%20%20%20%20%20%20var%20marker_98b71bffa2994482a3d864299e507216%20%3D%20L.marker%28%0A%20%20%20%20%20%20%20%20%20%20%20%20%20%20%20%20%5B38.7278593%2C%20-9.134819%5D%2C%0A%20%20%20%20%20%20%20%20%20%20%20%20%20%20%20%20%7B%22fillColor%22%3A%20%22%2343d9de%22%2C%20%22radius%22%3A%208%7D%0A%20%20%20%20%20%20%20%20%20%20%20%20%29.addTo%28map_f2990737d488488cbd1424e7899aff58%29%3B%0A%20%20%20%20%20%20%20%20%0A%20%20%20%20%0A%20%20%20%20%20%20%20%20var%20popup_96ca82bb4c2044738f8b42ad3bc540c4%20%3D%20L.popup%28%7B%22maxWidth%22%3A%20%22100%25%22%7D%29%3B%0A%0A%20%20%20%20%20%20%20%20%0A%20%20%20%20%20%20%20%20%20%20%20%20var%20html_d392e093c6b84acb9e12a29d165db6c0%20%3D%20%24%28%60%3Cdiv%20id%3D%22html_d392e093c6b84acb9e12a29d165db6c0%22%20style%3D%22width%3A%20100.0%25%3B%20height%3A%20100.0%25%3B%22%3E%28%27Pho%20Ha%20Noi%27%2C%201.0%2C%204.0%29%3C/div%3E%60%29%5B0%5D%3B%0A%20%20%20%20%20%20%20%20%20%20%20%20popup_96ca82bb4c2044738f8b42ad3bc540c4.setContent%28html_d392e093c6b84acb9e12a29d165db6c0%29%3B%0A%20%20%20%20%20%20%20%20%0A%0A%20%20%20%20%20%20%20%20marker_98b71bffa2994482a3d864299e507216.bindPopup%28popup_96ca82bb4c2044738f8b42ad3bc540c4%29%0A%20%20%20%20%20%20%20%20%3B%0A%0A%20%20%20%20%20%20%20%20%0A%20%20%20%20%0A%20%20%20%20%0A%20%20%20%20%20%20%20%20%20%20%20%20var%20marker_231b16ca1e0944a0b4f4314e3e7c2905%20%3D%20L.marker%28%0A%20%20%20%20%20%20%20%20%20%20%20%20%20%20%20%20%5B38.7232927%2C%20-9.1352628%5D%2C%0A%20%20%20%20%20%20%20%20%20%20%20%20%20%20%20%20%7B%22fillColor%22%3A%20%22%2343d9de%22%2C%20%22radius%22%3A%208%7D%0A%20%20%20%20%20%20%20%20%20%20%20%20%29.addTo%28map_f2990737d488488cbd1424e7899aff58%29%3B%0A%20%20%20%20%20%20%20%20%0A%20%20%20%20%0A%20%20%20%20%20%20%20%20var%20popup_bc9a9a3415594f9e8b648089c4c0b9d8%20%3D%20L.popup%28%7B%22maxWidth%22%3A%20%22100%25%22%7D%29%3B%0A%0A%20%20%20%20%20%20%20%20%0A%20%20%20%20%20%20%20%20%20%20%20%20var%20html_0dd91b3ed1a94966b86e4d728a4a10c2%20%3D%20%24%28%60%3Cdiv%20id%3D%22html_0dd91b3ed1a94966b86e4d728a4a10c2%22%20style%3D%22width%3A%20100.0%25%3B%20height%3A%20100.0%25%3B%22%3E%28%22Adiyat%27s%20Cozinha%20Restaurant%20Pizzaria-Kebab%20E%20Bar%22%2C%201.0%2C%204.699999809265137%29%3C/div%3E%60%29%5B0%5D%3B%0A%20%20%20%20%20%20%20%20%20%20%20%20popup_bc9a9a3415594f9e8b648089c4c0b9d8.setContent%28html_0dd91b3ed1a94966b86e4d728a4a10c2%29%3B%0A%20%20%20%20%20%20%20%20%0A%0A%20%20%20%20%20%20%20%20marker_231b16ca1e0944a0b4f4314e3e7c2905.bindPopup%28popup_bc9a9a3415594f9e8b648089c4c0b9d8%29%0A%20%20%20%20%20%20%20%20%3B%0A%0A%20%20%20%20%20%20%20%20%0A%20%20%20%20%0A%20%20%20%20%0A%20%20%20%20%20%20%20%20%20%20%20%20var%20marker_40ec234a71c247d5b7b2bf4ebc0835e9%20%3D%20L.marker%28%0A%20%20%20%20%20%20%20%20%20%20%20%20%20%20%20%20%5B38.7200451%2C%20-9.1349702%5D%2C%0A%20%20%20%20%20%20%20%20%20%20%20%20%20%20%20%20%7B%22fillColor%22%3A%20%22%2343d9de%22%2C%20%22radius%22%3A%208%7D%0A%20%20%20%20%20%20%20%20%20%20%20%20%29.addTo%28map_f2990737d488488cbd1424e7899aff58%29%3B%0A%20%20%20%20%20%20%20%20%0A%20%20%20%20%0A%20%20%20%20%20%20%20%20var%20popup_9c71e2e47c0d44ee8b2f4641cf777b03%20%3D%20L.popup%28%7B%22maxWidth%22%3A%20%22100%25%22%7D%29%3B%0A%0A%20%20%20%20%20%20%20%20%0A%20%20%20%20%20%20%20%20%20%20%20%20var%20html_84b3ddaa6ce1456f8979de7f0ac6cb23%20%3D%20%24%28%60%3Cdiv%20id%3D%22html_84b3ddaa6ce1456f8979de7f0ac6cb23%22%20style%3D%22width%3A%20100.0%25%3B%20height%3A%20100.0%25%3B%22%3E%28%27Spicy%20Restaurant%20%26%20Grill%27%2C%201.0%2C%204.300000190734863%29%3C/div%3E%60%29%5B0%5D%3B%0A%20%20%20%20%20%20%20%20%20%20%20%20popup_9c71e2e47c0d44ee8b2f4641cf777b03.setContent%28html_84b3ddaa6ce1456f8979de7f0ac6cb23%29%3B%0A%20%20%20%20%20%20%20%20%0A%0A%20%20%20%20%20%20%20%20marker_40ec234a71c247d5b7b2bf4ebc0835e9.bindPopup%28popup_9c71e2e47c0d44ee8b2f4641cf777b03%29%0A%20%20%20%20%20%20%20%20%3B%0A%0A%20%20%20%20%20%20%20%20%0A%20%20%20%20%0A%20%20%20%20%0A%20%20%20%20%20%20%20%20%20%20%20%20var%20marker_301c24621c164ddf91ed20432ec8acc4%20%3D%20L.marker%28%0A%20%20%20%20%20%20%20%20%20%20%20%20%20%20%20%20%5B38.7198899%2C%20-9.1421553%5D%2C%0A%20%20%20%20%20%20%20%20%20%20%20%20%20%20%20%20%7B%22fillColor%22%3A%20%22%2343d9de%22%2C%20%22radius%22%3A%208%7D%0A%20%20%20%20%20%20%20%20%20%20%20%20%29.addTo%28map_f2990737d488488cbd1424e7899aff58%29%3B%0A%20%20%20%20%20%20%20%20%0A%20%20%20%20%0A%20%20%20%20%20%20%20%20var%20popup_5898e1025bf04eceadeafaac2ca3adec%20%3D%20L.popup%28%7B%22maxWidth%22%3A%20%22100%25%22%7D%29%3B%0A%0A%20%20%20%20%20%20%20%20%0A%20%20%20%20%20%20%20%20%20%20%20%20var%20html_7de69965db8047ed938c4dcbf6cb0f36%20%3D%20%24%28%60%3Cdiv%20id%3D%22html_7de69965db8047ed938c4dcbf6cb0f36%22%20style%3D%22width%3A%20100.0%25%3B%20height%3A%20100.0%25%3B%22%3E%28%27A%20Venda%20Lusitana%27%2C%202.0%2C%204.599999904632568%29%3C/div%3E%60%29%5B0%5D%3B%0A%20%20%20%20%20%20%20%20%20%20%20%20popup_5898e1025bf04eceadeafaac2ca3adec.setContent%28html_7de69965db8047ed938c4dcbf6cb0f36%29%3B%0A%20%20%20%20%20%20%20%20%0A%0A%20%20%20%20%20%20%20%20marker_301c24621c164ddf91ed20432ec8acc4.bindPopup%28popup_5898e1025bf04eceadeafaac2ca3adec%29%0A%20%20%20%20%20%20%20%20%3B%0A%0A%20%20%20%20%20%20%20%20%0A%20%20%20%20%0A%20%20%20%20%0A%20%20%20%20%20%20%20%20%20%20%20%20var%20marker_d5c8e125ffd14cb0a81124cce86e3d3f%20%3D%20L.marker%28%0A%20%20%20%20%20%20%20%20%20%20%20%20%20%20%20%20%5B38.7149595%2C%20-9.1315787%5D%2C%0A%20%20%20%20%20%20%20%20%20%20%20%20%20%20%20%20%7B%22fillColor%22%3A%20%22%2343d9de%22%2C%20%22radius%22%3A%208%7D%0A%20%20%20%20%20%20%20%20%20%20%20%20%29.addTo%28map_f2990737d488488cbd1424e7899aff58%29%3B%0A%20%20%20%20%20%20%20%20%0A%20%20%20%20%0A%20%20%20%20%20%20%20%20var%20popup_13a96e3d332d45088ceb17ee9fe928f5%20%3D%20L.popup%28%7B%22maxWidth%22%3A%20%22100%25%22%7D%29%3B%0A%0A%20%20%20%20%20%20%20%20%0A%20%20%20%20%20%20%20%20%20%20%20%20var%20html_046fd736ba10410fac44e504558de0a2%20%3D%20%24%28%60%3Cdiv%20id%3D%22html_046fd736ba10410fac44e504558de0a2%22%20style%3D%22width%3A%20100.0%25%3B%20height%3A%20100.0%25%3B%22%3E%28%27Yak%20%26%20Yeti%27%2C%201.0%2C%204.599999904632568%29%3C/div%3E%60%29%5B0%5D%3B%0A%20%20%20%20%20%20%20%20%20%20%20%20popup_13a96e3d332d45088ceb17ee9fe928f5.setContent%28html_046fd736ba10410fac44e504558de0a2%29%3B%0A%20%20%20%20%20%20%20%20%0A%0A%20%20%20%20%20%20%20%20marker_d5c8e125ffd14cb0a81124cce86e3d3f.bindPopup%28popup_13a96e3d332d45088ceb17ee9fe928f5%29%0A%20%20%20%20%20%20%20%20%3B%0A%0A%20%20%20%20%20%20%20%20%0A%20%20%20%20%0A%20%20%20%20%0A%20%20%20%20%20%20%20%20%20%20%20%20var%20marker_e639a46de6e14628b96b1acfe86db0dc%20%3D%20L.marker%28%0A%20%20%20%20%20%20%20%20%20%20%20%20%20%20%20%20%5B38.72068085%2C%20-9.134971337407286%5D%2C%0A%20%20%20%20%20%20%20%20%20%20%20%20%20%20%20%20%7B%22fillColor%22%3A%20%22%2343d9de%22%2C%20%22radius%22%3A%208%7D%0A%20%20%20%20%20%20%20%20%20%20%20%20%29.addTo%28map_f2990737d488488cbd1424e7899aff58%29%3B%0A%20%20%20%20%20%20%20%20%0A%20%20%20%20%0A%20%20%20%20%20%20%20%20var%20popup_da384734c4b740c682f0e0286780ae79%20%3D%20L.popup%28%7B%22maxWidth%22%3A%20%22100%25%22%7D%29%3B%0A%0A%20%20%20%20%20%20%20%20%0A%20%20%20%20%20%20%20%20%20%20%20%20var%20html_b5919c56bf254abb8997049e8e53ad24%20%3D%20%24%28%60%3Cdiv%20id%3D%22html_b5919c56bf254abb8997049e8e53ad24%22%20style%3D%22width%3A%20100.0%25%3B%20height%3A%20100.0%25%3B%22%3E%28%27Infame%20Restaurant%20%26%20Lounge%20Bar%27%2C%202.0%2C%204.199999809265137%29%3C/div%3E%60%29%5B0%5D%3B%0A%20%20%20%20%20%20%20%20%20%20%20%20popup_da384734c4b740c682f0e0286780ae79.setContent%28html_b5919c56bf254abb8997049e8e53ad24%29%3B%0A%20%20%20%20%20%20%20%20%0A%0A%20%20%20%20%20%20%20%20marker_e639a46de6e14628b96b1acfe86db0dc.bindPopup%28popup_da384734c4b740c682f0e0286780ae79%29%0A%20%20%20%20%20%20%20%20%3B%0A%0A%20%20%20%20%20%20%20%20%0A%20%20%20%20%0A%20%20%20%20%0A%20%20%20%20%20%20%20%20%20%20%20%20var%20marker_8feb38f72f8140c1853a704c6a28b336%20%3D%20L.marker%28%0A%20%20%20%20%20%20%20%20%20%20%20%20%20%20%20%20%5B38.7174103%2C%20-9.130327228551465%5D%2C%0A%20%20%20%20%20%20%20%20%20%20%20%20%20%20%20%20%7B%22fillColor%22%3A%20%22%2343d9de%22%2C%20%22radius%22%3A%208%7D%0A%20%20%20%20%20%20%20%20%20%20%20%20%29.addTo%28map_f2990737d488488cbd1424e7899aff58%29%3B%0A%20%20%20%20%20%20%20%20%0A%20%20%20%20%0A%20%20%20%20%20%20%20%20var%20popup_4dc7e83ac20240728659276646e0b440%20%3D%20L.popup%28%7B%22maxWidth%22%3A%20%22100%25%22%7D%29%3B%0A%0A%20%20%20%20%20%20%20%20%0A%20%20%20%20%20%20%20%20%20%20%20%20var%20html_d5fc3a17bdd2432a872e1bc57d717a5e%20%3D%20%24%28%60%3Cdiv%20id%3D%22html_d5fc3a17bdd2432a872e1bc57d717a5e%22%20style%3D%22width%3A%20100.0%25%3B%20height%3A%20100.0%25%3B%22%3E%28%27O%20Pit%C3%A9u%20da%20Gra%C3%A7a%27%2C%202.0%2C%204.5%29%3C/div%3E%60%29%5B0%5D%3B%0A%20%20%20%20%20%20%20%20%20%20%20%20popup_4dc7e83ac20240728659276646e0b440.setContent%28html_d5fc3a17bdd2432a872e1bc57d717a5e%29%3B%0A%20%20%20%20%20%20%20%20%0A%0A%20%20%20%20%20%20%20%20marker_8feb38f72f8140c1853a704c6a28b336.bindPopup%28popup_4dc7e83ac20240728659276646e0b440%29%0A%20%20%20%20%20%20%20%20%3B%0A%0A%20%20%20%20%20%20%20%20%0A%20%20%20%20%0A%20%20%20%20%0A%20%20%20%20%20%20%20%20%20%20%20%20var%20marker_2912da77df04469dad08bdfcba7799ee%20%3D%20L.marker%28%0A%20%20%20%20%20%20%20%20%20%20%20%20%20%20%20%20%5B-6.9916012%2C%20-41.2055132%5D%2C%0A%20%20%20%20%20%20%20%20%20%20%20%20%20%20%20%20%7B%22fillColor%22%3A%20%22%2343d9de%22%2C%20%22radius%22%3A%208%7D%0A%20%20%20%20%20%20%20%20%20%20%20%20%29.addTo%28map_f2990737d488488cbd1424e7899aff58%29%3B%0A%20%20%20%20%20%20%20%20%0A%20%20%20%20%0A%20%20%20%20%20%20%20%20var%20popup_37894a1087d94402b8598a03dae82706%20%3D%20L.popup%28%7B%22maxWidth%22%3A%20%22100%25%22%7D%29%3B%0A%0A%20%20%20%20%20%20%20%20%0A%20%20%20%20%20%20%20%20%20%20%20%20var%20html_3c03a01046f7427aa334c5cd35b6e1e7%20%3D%20%24%28%60%3Cdiv%20id%3D%22html_3c03a01046f7427aa334c5cd35b6e1e7%22%20style%3D%22width%3A%20100.0%25%3B%20height%3A%20100.0%25%3B%22%3E%28%27Maria%20Mil%20Reis%27%2C%202.0%2C%204.400000095367432%29%3C/div%3E%60%29%5B0%5D%3B%0A%20%20%20%20%20%20%20%20%20%20%20%20popup_37894a1087d94402b8598a03dae82706.setContent%28html_3c03a01046f7427aa334c5cd35b6e1e7%29%3B%0A%20%20%20%20%20%20%20%20%0A%0A%20%20%20%20%20%20%20%20marker_2912da77df04469dad08bdfcba7799ee.bindPopup%28popup_37894a1087d94402b8598a03dae82706%29%0A%20%20%20%20%20%20%20%20%3B%0A%0A%20%20%20%20%20%20%20%20%0A%20%20%20%20%0A%20%20%20%20%0A%20%20%20%20%20%20%20%20%20%20%20%20var%20marker_1f4df2ff6b6d451da7dab9eaed91cc36%20%3D%20L.marker%28%0A%20%20%20%20%20%20%20%20%20%20%20%20%20%20%20%20%5B38.7266919%2C%20-9.1339705%5D%2C%0A%20%20%20%20%20%20%20%20%20%20%20%20%20%20%20%20%7B%22fillColor%22%3A%20%22%2343d9de%22%2C%20%22radius%22%3A%208%7D%0A%20%20%20%20%20%20%20%20%20%20%20%20%29.addTo%28map_f2990737d488488cbd1424e7899aff58%29%3B%0A%20%20%20%20%20%20%20%20%0A%20%20%20%20%0A%20%20%20%20%20%20%20%20var%20popup_305c2b561a4648f28080a6bdc867267f%20%3D%20L.popup%28%7B%22maxWidth%22%3A%20%22100%25%22%7D%29%3B%0A%0A%20%20%20%20%20%20%20%20%0A%20%20%20%20%20%20%20%20%20%20%20%20var%20html_e98b3f48017d47f98e5f55da45e72459%20%3D%20%24%28%60%3Cdiv%20id%3D%22html_e98b3f48017d47f98e5f55da45e72459%22%20style%3D%22width%3A%20100.0%25%3B%20height%3A%20100.0%25%3B%22%3E%28%27Miteri%20restaurant%27%2C%201.0%2C%204.400000095367432%29%3C/div%3E%60%29%5B0%5D%3B%0A%20%20%20%20%20%20%20%20%20%20%20%20popup_305c2b561a4648f28080a6bdc867267f.setContent%28html_e98b3f48017d47f98e5f55da45e72459%29%3B%0A%20%20%20%20%20%20%20%20%0A%0A%20%20%20%20%20%20%20%20marker_1f4df2ff6b6d451da7dab9eaed91cc36.bindPopup%28popup_305c2b561a4648f28080a6bdc867267f%29%0A%20%20%20%20%20%20%20%20%3B%0A%0A%20%20%20%20%20%20%20%20%0A%20%20%20%20%0A%20%20%20%20%0A%20%20%20%20%20%20%20%20%20%20%20%20var%20marker_a8d86b031ff2415aaeb301954a617736%20%3D%20L.marker%28%0A%20%20%20%20%20%20%20%20%20%20%20%20%20%20%20%20%5B38.7126494%2C%20-9.1299442%5D%2C%0A%20%20%20%20%20%20%20%20%20%20%20%20%20%20%20%20%7B%22fillColor%22%3A%20%22%2343d9de%22%2C%20%22radius%22%3A%208%7D%0A%20%20%20%20%20%20%20%20%20%20%20%20%29.addTo%28map_f2990737d488488cbd1424e7899aff58%29%3B%0A%20%20%20%20%20%20%20%20%0A%20%20%20%20%0A%20%20%20%20%20%20%20%20var%20popup_1b57aa5bd26b471ca3c10cf54f7701ea%20%3D%20L.popup%28%7B%22maxWidth%22%3A%20%22100%25%22%7D%29%3B%0A%0A%20%20%20%20%20%20%20%20%0A%20%20%20%20%20%20%20%20%20%20%20%20var%20html_89cd33902a764cbb8827f23beb0cfbe9%20%3D%20%24%28%60%3Cdiv%20id%3D%22html_89cd33902a764cbb8827f23beb0cfbe9%22%20style%3D%22width%3A%20100.0%25%3B%20height%3A%20100.0%25%3B%22%3E%28%27O%20Vinha%C3%A7a%27%2C%201.0%2C%204.699999809265137%29%3C/div%3E%60%29%5B0%5D%3B%0A%20%20%20%20%20%20%20%20%20%20%20%20popup_1b57aa5bd26b471ca3c10cf54f7701ea.setContent%28html_89cd33902a764cbb8827f23beb0cfbe9%29%3B%0A%20%20%20%20%20%20%20%20%0A%0A%20%20%20%20%20%20%20%20marker_a8d86b031ff2415aaeb301954a617736.bindPopup%28popup_1b57aa5bd26b471ca3c10cf54f7701ea%29%0A%20%20%20%20%20%20%20%20%3B%0A%0A%20%20%20%20%20%20%20%20%0A%20%20%20%20%0A%3C/script%3E onload=\"this.contentDocument.open();this.contentDocument.write(    decodeURIComponent(this.getAttribute('data-html')));this.contentDocument.close();\" allowfullscreen webkitallowfullscreen mozallowfullscreen></iframe></div></div>"
      ],
      "text/plain": [
       "<folium.folium.Map at 0x11cf9d250>"
      ]
     },
     "execution_count": 254,
     "metadata": {},
     "output_type": "execute_result"
    }
   ],
   "source": [
    "data_2=data.dropna()\n",
    "\n",
    "latlonname= zip(data_2['latitude'],data_2['longitude'], data_2['name'], data_2['price'], data_2['rating'])\n",
    "\n",
    "m = folium.Map(location=[38.7166,  -9.1483], titles='small businesses', zoom_start=14)\n",
    "\n",
    "for coord in latlonname:\n",
    "    folium.Marker(location=[coord[0], coord[1]], popup= (coord[2:5]), fill_color='#43d9de', radius=8 ).add_to(m)\n",
    "    \n",
    "m"
   ]
  },
  {
   "cell_type": "code",
   "execution_count": null,
   "id": "ef55791c",
   "metadata": {},
   "outputs": [],
   "source": []
  }
 ],
 "metadata": {
  "kernelspec": {
   "display_name": "Python 3 (ipykernel)",
   "language": "python",
   "name": "python3"
  },
  "language_info": {
   "codemirror_mode": {
    "name": "ipython",
    "version": 3
   },
   "file_extension": ".py",
   "mimetype": "text/x-python",
   "name": "python",
   "nbconvert_exporter": "python",
   "pygments_lexer": "ipython3",
   "version": "3.8.12"
  },
  "toc": {
   "base_numbering": 1,
   "nav_menu": {},
   "number_sections": true,
   "sideBar": true,
   "skip_h1_title": false,
   "title_cell": "Table of Contents",
   "title_sidebar": "Contents",
   "toc_cell": false,
   "toc_position": {},
   "toc_section_display": true,
   "toc_window_display": false
  }
 },
 "nbformat": 4,
 "nbformat_minor": 5
}
