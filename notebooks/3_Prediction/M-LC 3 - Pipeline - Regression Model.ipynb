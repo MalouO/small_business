{
 "cells": [
  {
   "cell_type": "markdown",
   "id": "ba5c47a0",
   "metadata": {},
   "source": [
    "# Regression"
   ]
  },
  {
   "cell_type": "code",
   "execution_count": 1,
   "id": "50d50c91",
   "metadata": {},
   "outputs": [],
   "source": [
    "import pandas as pd\n",
    "import numpy as np\n",
    "from sklearn.pipeline import make_pipeline\n",
    "from sklearn.pipeline import make_union\n",
    "from sklearn.compose import make_column_transformer\n",
    "from sklearn.impute import SimpleImputer\n",
    "from sklearn.preprocessing import OneHotEncoder\n",
    "from sklearn.linear_model import LinearRegression\n",
    "from sklearn.linear_model import SGDRegressor\n",
    "from sklearn.linear_model import Ridge, Lasso\n",
    "from sklearn.linear_model import ElasticNet\n",
    "from sklearn.svm import SVR\n",
    "from sklearn.neighbors import KNeighborsRegressor\n",
    "from sklearn.tree import DecisionTreeRegressor\n",
    "from sklearn.ensemble import RandomForestRegressor\n",
    "from sklearn.ensemble import AdaBoostRegressor\n",
    "from sklearn.ensemble import GradientBoostingRegressor\n",
    "from sklearn.model_selection import train_test_split\n",
    "from sklearn.model_selection import GridSearchCV\n",
    "from sklearn.metrics import mean_squared_error\n",
    "import math"
   ]
  },
  {
   "cell_type": "code",
   "execution_count": 2,
   "id": "0fabf860",
   "metadata": {
    "scrolled": true
   },
   "outputs": [],
   "source": [
    "# importing the newest data \n",
    "data=pd.read_csv('../small_business/data/restaurants.csv')\n",
    "data=data.drop(columns='Unnamed: 0')"
   ]
  },
  {
   "cell_type": "code",
   "execution_count": 3,
   "id": "d1c8bb93",
   "metadata": {},
   "outputs": [],
   "source": [
    "#Defining X and y and splitting between test and train \n",
    "\n",
    "X = data.drop(columns=['rating','name', 'address', 'label', 'postal_code', 'no_del_exp', 'municipality', 'review_count'])\n",
    "y = data['rating']\n",
    "\n",
    "X_train, X_test, y_train, y_test = train_test_split(X, y, test_size=0.20, random_state=2)"
   ]
  },
  {
   "cell_type": "code",
   "execution_count": 5,
   "id": "368e93fd",
   "metadata": {},
   "outputs": [],
   "source": [
    "#Creating a Pipeline with one One encoder + filling Na in prices \n",
    "\n",
    "price_transformer = SimpleImputer(strategy=\"most_frequent\")\n",
    "cat_transformer = OneHotEncoder(handle_unknown='ignore')\n",
    "\n",
    "preproc_basic = make_column_transformer((price_transformer, ['price']),\n",
    "                                       (cat_transformer, ['neighborhood', 'type']), remainder='passthrough')\n",
    "\n",
    "preproc = make_pipeline(preproc_basic)\n"
   ]
  },
  {
   "cell_type": "code",
   "execution_count": 6,
   "id": "27e2b88b",
   "metadata": {},
   "outputs": [],
   "source": [
    "X_train_t = preproc.fit_transform(X_train)"
   ]
  },
  {
   "cell_type": "code",
   "execution_count": 9,
   "id": "972e0e7a",
   "metadata": {
    "scrolled": true
   },
   "outputs": [
    {
     "name": "stdout",
     "output_type": "stream",
     "text": [
      "{'KNN': {'params': {'n_neighbors': 50}, 'score': 0.0035246325871077567}, 'SVR': {'params': {'kernel': 'poly'}, 'score': -0.008222787461872504}, 'DecTree': {'params': {'max_depth': 1}, 'score': -0.08188233673063632}}\n"
     ]
    }
   ],
   "source": [
    "# Make a Grid Search to find the best params of the regression model \n",
    "models= {'KNN':{'model':KNeighborsRegressor(),\n",
    "               'params':{'n_neighbors': [5, 10, 20, 50, 100]}},\n",
    "        'SVR':{'model':SVR(),\n",
    "                        'params':{'kernel':['rbf', 'poly']}},\n",
    "         'DecTree':{'model':DecisionTreeRegressor(), \n",
    "                'params':{'max_depth':[1, 2,3]}}\n",
    "        }\n",
    "\n",
    "best = {}      \n",
    "for key, value in models.items():\n",
    "    grid_search = GridSearchCV(value['model'], param_grid= value['params'],\n",
    "                               cv=5, scoring=\"r2\", n_jobs = -1)\n",
    "    grid_search.fit(X_train_t, y_train)\n",
    "    best[key] = {'params':grid_search.best_params_,\n",
    "                   'score':grid_search.best_score_}\n",
    "print(best)"
   ]
  },
  {
   "cell_type": "code",
   "execution_count": 11,
   "id": "90b7a4a0",
   "metadata": {},
   "outputs": [],
   "source": [
    "pipe = make_pipeline(preproc, KNeighborsRegressor(n_neighbors= 50))"
   ]
  },
  {
   "cell_type": "code",
   "execution_count": 19,
   "id": "54c523cc",
   "metadata": {},
   "outputs": [
    {
     "data": {
      "text/plain": [
       "0.06618303882377363"
      ]
     },
     "execution_count": 19,
     "metadata": {},
     "output_type": "execute_result"
    }
   ],
   "source": [
    "pipe.fit(X_train,y_train)\n",
    "pipe.score(X_test,y_test)"
   ]
  },
  {
   "cell_type": "code",
   "execution_count": 13,
   "id": "2e8f09a2",
   "metadata": {},
   "outputs": [],
   "source": [
    "y_pred = pipe.predict(X_test)"
   ]
  },
  {
   "cell_type": "code",
   "execution_count": 14,
   "id": "fde847f5",
   "metadata": {},
   "outputs": [],
   "source": [
    "def pos(x):\n",
    "    if x<0: \n",
    "        return 0 \n",
    "    else: \n",
    "        return x\n",
    "positive = np.vectorize(pos)"
   ]
  },
  {
   "cell_type": "code",
   "execution_count": 15,
   "id": "abb49018-5ea8-4124-be22-7b66f801761a",
   "metadata": {},
   "outputs": [],
   "source": [
    "y_pred = positive(y_pred)"
   ]
  },
  {
   "cell_type": "code",
   "execution_count": 16,
   "id": "481baaeb",
   "metadata": {},
   "outputs": [],
   "source": [
    "y_pred = y_pred.round(1)"
   ]
  },
  {
   "cell_type": "code",
   "execution_count": 17,
   "id": "38dca6b5",
   "metadata": {},
   "outputs": [
    {
     "name": "stdout",
     "output_type": "stream",
     "text": [
      "r2 :0.05616896815578143\n",
      "mse :0.15381679389312977\n",
      "rmse :0.39219484174722363\n"
     ]
    }
   ],
   "source": [
    "from sklearn.metrics import r2_score\n",
    "print(f'r2 :{r2_score(y_test, y_pred)}')\n",
    "print(f'mse :{mean_squared_error(y_test, y_pred)}')\n",
    "print(f'rmse :{math.sqrt(mean_squared_error(y_test, y_pred))}')"
   ]
  },
  {
   "cell_type": "code",
   "execution_count": 18,
   "id": "f3a9b9e1",
   "metadata": {},
   "outputs": [
    {
     "data": {
      "text/plain": [
       "-0.0079773820576583"
      ]
     },
     "execution_count": 18,
     "metadata": {},
     "output_type": "execute_result"
    }
   ],
   "source": [
    "from sklearn.dummy import DummyRegressor\n",
    "baseline_model = DummyRegressor(strategy=\"mean\") # Baseline\n",
    "baseline_model.fit(X_train, y_train) # Calculate value for stratgy\n",
    "baseline_model.score(X_test, y_test)"
   ]
  },
  {
   "cell_type": "code",
   "execution_count": null,
   "id": "03d2e7bf",
   "metadata": {},
   "outputs": [],
   "source": []
  }
 ],
 "metadata": {
  "kernelspec": {
   "display_name": "Python 3 (ipykernel)",
   "language": "python",
   "name": "python3"
  },
  "language_info": {
   "codemirror_mode": {
    "name": "ipython",
    "version": 3
   },
   "file_extension": ".py",
   "mimetype": "text/x-python",
   "name": "python",
   "nbconvert_exporter": "python",
   "pygments_lexer": "ipython3",
   "version": "3.8.12"
  },
  "toc": {
   "base_numbering": 1,
   "nav_menu": {},
   "number_sections": true,
   "sideBar": true,
   "skip_h1_title": false,
   "title_cell": "Table of Contents",
   "title_sidebar": "Contents",
   "toc_cell": false,
   "toc_position": {},
   "toc_section_display": true,
   "toc_window_display": false
  }
 },
 "nbformat": 4,
 "nbformat_minor": 5
}
