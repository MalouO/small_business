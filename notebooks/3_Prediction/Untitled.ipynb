{
 "cells": [
  {
   "cell_type": "code",
   "execution_count": 2,
   "id": "fdf304a9",
   "metadata": {},
   "outputs": [],
   "source": [
    "#import streamlit as st\n",
    "import pandas as pd\n",
    "import numpy as np\n",
    "from sklearn import neighbors\n",
    "from sklearn.pipeline import make_pipeline\n",
    "from sklearn.compose import make_column_transformer\n",
    "from sklearn.impute import SimpleImputer\n",
    "from sklearn.preprocessing import OneHotEncoder\n",
    "from sklearn.preprocessing import StandardScaler\n",
    "from sklearn.neighbors import KNeighborsClassifier\n",
    "import joblib\n",
    "import googlemaps\n"
   ]
  },
  {
   "cell_type": "code",
   "execution_count": 6,
   "id": "52071e67",
   "metadata": {
    "scrolled": true
   },
   "outputs": [
    {
     "name": "stdout",
     "output_type": "stream",
     "text": [
      "/Users/malou/code/MalouO/small_business/notebooks/3_Prediction\r\n"
     ]
    }
   ],
   "source": [
    "!pwd"
   ]
  },
  {
   "cell_type": "code",
   "execution_count": null,
   "id": "176dece4",
   "metadata": {},
   "outputs": [],
   "source": []
  },
  {
   "cell_type": "code",
   "execution_count": 14,
   "id": "d7a87421",
   "metadata": {},
   "outputs": [],
   "source": [
    "data = pd.read_csv('../../small_business/data/restaurants.csv')"
   ]
  },
  {
   "cell_type": "code",
   "execution_count": 15,
   "id": "f0c8cf49",
   "metadata": {},
   "outputs": [
    {
     "ename": "TypeError",
     "evalue": "get_fitted_pipe() takes 1 positional argument but 2 were given",
     "output_type": "error",
     "traceback": [
      "\u001b[0;31m---------------------------------------------------------------------------\u001b[0m",
      "\u001b[0;31mTypeError\u001b[0m                                 Traceback (most recent call last)",
      "\u001b[0;32m/var/folders/l2/23y9j6c53jg7nsfljwz87mqm0000gn/T/ipykernel_16845/2687122932.py\u001b[0m in \u001b[0;36m<module>\u001b[0;34m\u001b[0m\n\u001b[1;32m     94\u001b[0m \u001b[0;32mif\u001b[0m \u001b[0m__name__\u001b[0m \u001b[0;34m==\u001b[0m \u001b[0;34m'__main__'\u001b[0m\u001b[0;34m:\u001b[0m\u001b[0;34m\u001b[0m\u001b[0;34m\u001b[0m\u001b[0m\n\u001b[1;32m     95\u001b[0m     \u001b[0mX\u001b[0m\u001b[0;34m,\u001b[0m \u001b[0my\u001b[0m \u001b[0;34m=\u001b[0m \u001b[0mrestaurant_data\u001b[0m\u001b[0;34m(\u001b[0m\u001b[0;34m)\u001b[0m\u001b[0;34m\u001b[0m\u001b[0;34m\u001b[0m\u001b[0m\n\u001b[0;32m---> 96\u001b[0;31m     \u001b[0mpipeline\u001b[0m \u001b[0;34m=\u001b[0m \u001b[0mget_fitted_pipe\u001b[0m\u001b[0;34m(\u001b[0m\u001b[0mX\u001b[0m\u001b[0;34m,\u001b[0m \u001b[0my\u001b[0m\u001b[0;34m)\u001b[0m\u001b[0;34m\u001b[0m\u001b[0;34m\u001b[0m\u001b[0m\n\u001b[0m\u001b[1;32m     97\u001b[0m     \u001b[0mneighborhood\u001b[0m \u001b[0;34m=\u001b[0m \u001b[0mneighborhood\u001b[0m\u001b[0;34m\u001b[0m\u001b[0;34m\u001b[0m\u001b[0m\n\u001b[1;32m     98\u001b[0m     \u001b[0maddress\u001b[0m \u001b[0;34m=\u001b[0m \u001b[0maddress\u001b[0m\u001b[0;34m\u001b[0m\u001b[0;34m\u001b[0m\u001b[0m\n",
      "\u001b[0;31mTypeError\u001b[0m: get_fitted_pipe() takes 1 positional argument but 2 were given"
     ]
    }
   ],
   "source": [
    "\n",
    "def restaurant_data():\n",
    "\n",
    "    data = pd.read_csv('../../small_business/data/restaurants.csv')\n",
    "    data = data.drop(columns = 'Unnamed: 0')\n",
    "    X = data.drop(columns=['rating','name', 'address', 'label', 'curb_pickup', 'drive_through', 'postal_code', 'no_del_exp', 'municipality', 'review_count'])\n",
    "    y = data['rating']\n",
    "    return X, y\n",
    "\n",
    "def latitude(address):\n",
    "    key = pd.read_csv(\"../raw_data/api_key_vb.csv\", header=None)\n",
    "    key = key.loc[0][0]\n",
    "    gmaps = googlemaps.Client(key=key)\n",
    "    geocode_result = gmaps.geocode(address)\n",
    "    return float(geocode_result[0]['geometry']['location']['lat'])\n",
    "\n",
    "def longitude(address):\n",
    "    key = pd.read_csv(\"../raw_data/api_key_vb.csv\", header=None)\n",
    "    key = key.loc[0][0]\n",
    "    gmaps = googlemaps.Client(key=key)\n",
    "    geocode_result = gmaps.geocode(address)\n",
    "    return float(geocode_result[0]['geometry']['location']['lng'])\n",
    "\n",
    "def address_imputer(address, neighborhood, X):\n",
    "    if address == None:\n",
    "        all_latitude = pd.DataFrame(X['latitude'].groupby(X['neighborhood']).mean())\n",
    "        all_longitude = pd.DataFrame(X['longitude'].groupby(X['neighborhood']).mean())\n",
    "        for place in all_latitude.index:\n",
    "            if place == neighborhood:\n",
    "                lattitude_replace = all_latitude.loc[place].values[0]\n",
    "        for place in all_longitude.index:\n",
    "            if place == neighborhood:\n",
    "                longitude_replace = all_longitude.loc[place].values[0]\n",
    "        return lattitude_replace, longitude_replace\n",
    "    else:\n",
    "        longitude1 = longitude(address)\n",
    "        latitude1 = latitude(address)\n",
    "        return latitude1, longitude1\n",
    "\n",
    "def get_fitted_pipe(X):\n",
    "    num_transformer = StandardScaler()\n",
    "    price_transformer = SimpleImputer(strategy=\"mean\")\n",
    "    cat_transformer = OneHotEncoder(handle_unknown='ignore')\n",
    "    preproc = make_column_transformer((price_transformer, ['price']),\n",
    "                                       (num_transformer, ['latitude', 'longitude']),\n",
    "                                        (cat_transformer, ['neighborhood', 'type']), remainder='passthrough')\n",
    "    pipe = make_pipeline(preproc)\n",
    "    pipe.fit_transform(X)\n",
    "    return pipe\n",
    "\n",
    "def target_X(type_of_food, price, neighborhood, latitude, longitude):\n",
    "    new_df=pd.DataFrame(columns=['type','price','latitude','longitude', 'dine_in', 'takeaway','delivery', 'neighborhood'])\n",
    "    new_row = {'type':type_of_food, 'price': price, 'latitude':latitude,'longitude':longitude,'takeaway':1,'dine_in':1,'delivery':1,  'neighborhood': neighborhood}\n",
    "    X_user= new_df.append(new_row, ignore_index=True)\n",
    "    return X_user\n",
    "\n",
    "def build_y(y):\n",
    "    y_class=pd.cut(x=y, bins=[0,4.2, 5],\n",
    "                        labels=[\"bad idea!\", \"good idea!\"])\n",
    "    return y_class\n",
    "\n",
    "def train_model(pipeline, X, y_class):\n",
    "\n",
    "    knn = KNeighborsClassifier(n_neighbors = 5,weights= 'uniform')\n",
    "    knn.fit(pipeline.fit_transform(X), y_class)\n",
    "    filename = 'knn_model.joblib'\n",
    "    joblib.dump(knn, filename)\n",
    "\n",
    "\n",
    "def predict(X_user_transformed):\n",
    "\n",
    "    loaded_model = joblib.load('knn_model.joblib')\n",
    "    y_probxgb = loaded_model.predict_proba(X_user_transformed)\n",
    "    if y_probxgb[0][0]< 0.8:\n",
    "            pred =  'bad idea!'\n",
    "    else:\n",
    "            pred = 'good idea!'\n",
    "    return pred\n",
    "\n",
    "def return_predicted_probability(X_user_transformed):\n",
    "    loaded_model = joblib.load('knn_model.joblib')\n",
    "    y_probxgb = loaded_model.predict_proba(X_user_transformed)\n",
    "    return y_probxgb\n",
    "\n",
    "def all_results(type_of_food, price, neighborhood, latitude, longitude):\n",
    "        loaded_model = joblib.load('knn_model.joblib')\n",
    "        y_probxgb = loaded_model.predict_proba(X_user_transformed)\n",
    "\n",
    "\n",
    "def neighbours(X_user_transformed):\n",
    "    loaded_model = joblib.load('knn_model.joblib')\n",
    "    neighbors =  loaded_model.kneighbors(X_user_transformed, n_neighbors=10, return_distance=False)\n",
    "    return neighbors\n",
    "\n",
    "if __name__ == '__main__':\n",
    "    X, y = restaurant_data()\n",
    "    pipeline = get_fitted_pipe(X, y)\n",
    "    neighborhood = neighborhood\n",
    "    address = address\n",
    "    latitude1, longitude1 = address_imputer(address, neighborhood)\n",
    "    X_user = target_X(type_of_food = type_of_food, price = price, neighborhood = neighborhood, takeaway = 1, latitude = latitude1, longitude=longitude1)\n",
    "    X_user_transformed = pipeline.transform(X_user)\n",
    "    y_class = build_y(y)\n",
    "    #train_model(pipeline, X, y_class)\n",
    "    predict(X_user_transformed)\n",
    "    neighbours(X_user_transformed)\n",
    "\n",
    "def output_model(data, type_of_food, price, address, neighborhood):\n",
    "    X, y = restaurant_data()\n",
    "    pipeline = get_fitted_pipe(X, y)\n",
    "    neighborhood = neighborhood\n",
    "    address = address\n",
    "    latitude, longitude = address_imputer(address, neighborhood)\n",
    "    X_user = target_X(type_of_food = type_of_food, price = price, neighborhood = neighborhood, takeaway = 1, dine_in =1,delivery =1, latitude = latitude, longitude=longitude)\n",
    "    X_user_transformed = pipeline.transform(X_user)\n",
    "    y_class = build_y(y)\n",
    "    predict(X_user_transformed)\n",
    "    neighbours(X_user_transformed)\n"
   ]
  },
  {
   "cell_type": "code",
   "execution_count": null,
   "id": "218384dd",
   "metadata": {},
   "outputs": [],
   "source": []
  }
 ],
 "metadata": {
  "kernelspec": {
   "display_name": "Python 3 (ipykernel)",
   "language": "python",
   "name": "python3"
  },
  "language_info": {
   "codemirror_mode": {
    "name": "ipython",
    "version": 3
   },
   "file_extension": ".py",
   "mimetype": "text/x-python",
   "name": "python",
   "nbconvert_exporter": "python",
   "pygments_lexer": "ipython3",
   "version": "3.8.12"
  },
  "toc": {
   "base_numbering": 1,
   "nav_menu": {},
   "number_sections": true,
   "sideBar": true,
   "skip_h1_title": false,
   "title_cell": "Table of Contents",
   "title_sidebar": "Contents",
   "toc_cell": false,
   "toc_position": {},
   "toc_section_display": true,
   "toc_window_display": false
  }
 },
 "nbformat": 4,
 "nbformat_minor": 5
}
