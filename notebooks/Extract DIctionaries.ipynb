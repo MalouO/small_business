{
 "cells": [
  {
   "cell_type": "markdown",
   "id": "b0b8f9f9",
   "metadata": {},
   "source": [
    "# Extract Data"
   ]
  },
  {
   "cell_type": "markdown",
   "id": "1b01dc31",
   "metadata": {},
   "source": [
    "something along the lines of : "
   ]
  },
  {
   "cell_type": "markdown",
   "id": "b126998a",
   "metadata": {},
   "source": [
    "## Reviews"
   ]
  },
  {
   "cell_type": "code",
   "execution_count": 2,
   "id": "003fcbe0",
   "metadata": {},
   "outputs": [],
   "source": [
    "reviews = pd.json_normalize(reviews['response'])"
   ]
  },
  {
   "cell_type": "code",
   "execution_count": 3,
   "id": "52310316",
   "metadata": {},
   "outputs": [],
   "source": [
    "reviews = pd.json_normalize(reviews['reviews'])"
   ]
  },
  {
   "cell_type": "code",
   "execution_count": null,
   "id": "aedf88c1",
   "metadata": {},
   "outputs": [],
   "source": [
    "reviews_0 = pd.json_normalize(reviews[0])"
   ]
  },
  {
   "cell_type": "code",
   "execution_count": null,
   "id": "db5858b2",
   "metadata": {},
   "outputs": [],
   "source": [
    "reviews_1 =pd.json_normalize(reviews[1])"
   ]
  },
  {
   "cell_type": "code",
   "execution_count": null,
   "id": "7345c41a",
   "metadata": {},
   "outputs": [],
   "source": [
    "reviews_2 =pd.json_normalize(reviews[2])"
   ]
  },
  {
   "cell_type": "markdown",
   "id": "76ca5ee3",
   "metadata": {},
   "source": [
    "Next step : merge new categories with original reviews data set"
   ]
  },
  {
   "cell_type": "markdown",
   "id": "0e8a612e",
   "metadata": {},
   "source": [
    "Same for Business Details (Categories, Coordinates)"
   ]
  }
 ],
 "metadata": {
  "kernelspec": {
   "display_name": "Python 3 (ipykernel)",
   "language": "python",
   "name": "python3"
  },
  "language_info": {
   "codemirror_mode": {
    "name": "ipython",
    "version": 3
   },
   "file_extension": ".py",
   "mimetype": "text/x-python",
   "name": "python",
   "nbconvert_exporter": "python",
   "pygments_lexer": "ipython3",
   "version": "3.8.12"
  },
  "toc": {
   "base_numbering": 1,
   "nav_menu": {},
   "number_sections": true,
   "sideBar": true,
   "skip_h1_title": false,
   "title_cell": "Table of Contents",
   "title_sidebar": "Contents",
   "toc_cell": false,
   "toc_position": {},
   "toc_section_display": true,
   "toc_window_display": false
  }
 },
 "nbformat": 4,
 "nbformat_minor": 5
}
