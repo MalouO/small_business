{
 "cells": [
  {
   "cell_type": "code",
   "execution_count": null,
   "id": "bdde6edd-4c0e-41d1-919a-fb99467e48fd",
   "metadata": {},
   "outputs": [],
   "source": [
    "import pickle\n",
    "import pandas as pd\n",
    "from nltk.tokenize import word_tokenize\n",
    "from nltk.corpus import stopwords \n",
    "import string"
   ]
  },
  {
   "cell_type": "code",
   "execution_count": null,
   "id": "9185c384-d2b8-4e88-9a32-1357cdf02326",
   "metadata": {},
   "outputs": [],
   "source": [
    "file = open(\"../raw_data/cleaned_reviews.pickle\",'rb')\n",
    "data = pickle.load(file)\n",
    "file.close()"
   ]
  },
  {
   "cell_type": "code",
   "execution_count": 60,
   "id": "c7e71e88-4e22-4c3b-aa26-3921bfe7fddd",
   "metadata": {},
   "outputs": [
    {
     "data": {
      "text/plain": [
       "5.0    1468\n",
       "4.0     650\n",
       "3.0     253\n",
       "1.0     189\n",
       "2.0      91\n",
       "Name: rating_review1, dtype: int64"
      ]
     },
     "execution_count": 60,
     "metadata": {},
     "output_type": "execute_result"
    }
   ],
   "source": [
    "data.rating_review1\t.value_counts()"
   ]
  },
  {
   "cell_type": "code",
   "execution_count": 66,
   "id": "5d21bfc9-0844-4bc9-9d7b-78108eda54b2",
   "metadata": {},
   "outputs": [],
   "source": [
    "data.dropna(subset=['text_review1'], inplace=True)"
   ]
  },
  {
   "cell_type": "code",
   "execution_count": 64,
   "id": "db71160c-b549-4c65-943d-0ef1ef3de15a",
   "metadata": {
    "tags": []
   },
   "outputs": [],
   "source": [
    "def clean (text):\n",
    "    \n",
    "    for punctuation in string.punctuation:\n",
    "        text = text.replace(punctuation, ' ') # Remove Punctuation\n",
    "        \n",
    "    lowercased = text.lower() # Lower Case\n",
    "    \n",
    "    #unaccented_string = unidecode.unidecode(lowercased) # remove accents\n",
    "    \n",
    "    tokenized = word_tokenize(lowercased) # Tokenize\n",
    "    \n",
    "    words_only = [word for word in tokenized if word.isalpha()] # Remove numbers\n",
    "    \n",
    "    stop_words = set(stopwords.words('english')) # Make stopword list\n",
    "    \n",
    "    without_stopwords = [word for word in words_only if not word in stop_words] # Remove Stop Words\n",
    "    \n",
    "    return \" \".join(without_stopwords)"
   ]
  },
  {
   "cell_type": "code",
   "execution_count": 70,
   "id": "393137e8-1c7e-476b-9577-c052a53b18f9",
   "metadata": {},
   "outputs": [
    {
     "data": {
      "text/html": [
       "<div>\n",
       "<style scoped>\n",
       "    .dataframe tbody tr th:only-of-type {\n",
       "        vertical-align: middle;\n",
       "    }\n",
       "\n",
       "    .dataframe tbody tr th {\n",
       "        vertical-align: top;\n",
       "    }\n",
       "\n",
       "    .dataframe thead th {\n",
       "        text-align: right;\n",
       "    }\n",
       "</style>\n",
       "<table border=\"1\" class=\"dataframe\">\n",
       "  <thead>\n",
       "    <tr style=\"text-align: right;\">\n",
       "      <th></th>\n",
       "      <th>business_id</th>\n",
       "      <th>response</th>\n",
       "      <th>id_review1</th>\n",
       "      <th>url_review1</th>\n",
       "      <th>text_review1</th>\n",
       "      <th>rating_review1</th>\n",
       "      <th>time_created_review1</th>\n",
       "      <th>user.id_review1</th>\n",
       "      <th>user.profile_url_review1</th>\n",
       "      <th>user.image_url_review1</th>\n",
       "      <th>...</th>\n",
       "      <th>id_review3</th>\n",
       "      <th>url_review3</th>\n",
       "      <th>text_review3</th>\n",
       "      <th>rating_review3</th>\n",
       "      <th>time_created_review3</th>\n",
       "      <th>user.id_review3</th>\n",
       "      <th>user.profile_url_review3</th>\n",
       "      <th>user.image_url_review3</th>\n",
       "      <th>user.name_review3</th>\n",
       "      <th>clean_text</th>\n",
       "    </tr>\n",
       "  </thead>\n",
       "  <tbody>\n",
       "    <tr>\n",
       "      <th>1</th>\n",
       "      <td>FcXRFTG4mH9n_0K3GQXR9w</td>\n",
       "      <td>{'reviews': [{'id': 'aRt058EBVtgzQneA3aRV9w', ...</td>\n",
       "      <td>aRt058EBVtgzQneA3aRV9w</td>\n",
       "      <td>https://www.yelp.com/biz/feel-rio-lisboa?adjus...</td>\n",
       "      <td>Best acai bowl I've ever had, you can see them...</td>\n",
       "      <td>5.0</td>\n",
       "      <td>2017-10-18 11:46:25</td>\n",
       "      <td>ktGeCJnj55tY8CfpDtZnJA</td>\n",
       "      <td>https://www.yelp.com/user_details?userid=ktGeC...</td>\n",
       "      <td>None</td>\n",
       "      <td>...</td>\n",
       "      <td>NaN</td>\n",
       "      <td>NaN</td>\n",
       "      <td>NaN</td>\n",
       "      <td>NaN</td>\n",
       "      <td>NaN</td>\n",
       "      <td>NaN</td>\n",
       "      <td>NaN</td>\n",
       "      <td>NaN</td>\n",
       "      <td>NaN</td>\n",
       "      <td>best acai bowl ever see processing raw acai ri...</td>\n",
       "    </tr>\n",
       "    <tr>\n",
       "      <th>2</th>\n",
       "      <td>OC-bzpOIFvqjmk-3JMu23Q</td>\n",
       "      <td>{'reviews': [{'id': 'Zr_CH5uslW3yIGiD6koCug', ...</td>\n",
       "      <td>Zr_CH5uslW3yIGiD6koCug</td>\n",
       "      <td>https://www.yelp.com/biz/bowl-lisboa?adjust_cr...</td>\n",
       "      <td>SERIOUSLY the best smoothie bowl i've ever had...</td>\n",
       "      <td>5.0</td>\n",
       "      <td>2019-03-29 15:43:25</td>\n",
       "      <td>0_BKq8aO5gzEFd_NegrA9g</td>\n",
       "      <td>https://www.yelp.com/user_details?userid=0_BKq...</td>\n",
       "      <td>None</td>\n",
       "      <td>...</td>\n",
       "      <td>NaN</td>\n",
       "      <td>NaN</td>\n",
       "      <td>NaN</td>\n",
       "      <td>NaN</td>\n",
       "      <td>NaN</td>\n",
       "      <td>NaN</td>\n",
       "      <td>NaN</td>\n",
       "      <td>NaN</td>\n",
       "      <td>NaN</td>\n",
       "      <td>seriously best smoothie bowl ever would highly...</td>\n",
       "    </tr>\n",
       "    <tr>\n",
       "      <th>3</th>\n",
       "      <td>my5oNNumojOxC0BbCXRxhw</td>\n",
       "      <td>{'reviews': [{'id': 'fhsZrT_fJCOo54QmLIx51w', ...</td>\n",
       "      <td>fhsZrT_fJCOo54QmLIx51w</td>\n",
       "      <td>https://www.yelp.com/biz/luvaria-ulisses-lisbo...</td>\n",
       "      <td>\"The tiniest shop in Lisbon\" selling high qual...</td>\n",
       "      <td>5.0</td>\n",
       "      <td>2019-09-19 13:14:21</td>\n",
       "      <td>vL-7Z3rtMYLbY-L7Xd0JAw</td>\n",
       "      <td>https://www.yelp.com/user_details?userid=vL-7Z...</td>\n",
       "      <td>https://s3-media3.fl.yelpcdn.com/photo/pOOofm2...</td>\n",
       "      <td>...</td>\n",
       "      <td>1eyWO2I2RVnTt8gQwbtQuA</td>\n",
       "      <td>https://www.yelp.com/biz/luvaria-ulisses-lisbo...</td>\n",
       "      <td>Small quaint shop that a coworker of mine rave...</td>\n",
       "      <td>5.0</td>\n",
       "      <td>2019-03-23 10:35:06</td>\n",
       "      <td>q24tuTbr2MuvbYT5eHSG9g</td>\n",
       "      <td>https://www.yelp.com/user_details?userid=q24tu...</td>\n",
       "      <td>https://s3-media3.fl.yelpcdn.com/photo/Zv0Gt29...</td>\n",
       "      <td>Jay B.</td>\n",
       "      <td>tiniest shop lisbon selling high quality custo...</td>\n",
       "    </tr>\n",
       "    <tr>\n",
       "      <th>4</th>\n",
       "      <td>0DyhgfjZBeyPbU0VxdHkZg</td>\n",
       "      <td>{'reviews': [{'id': 'KLKteZY-h_7wCcWD2VWzFw', ...</td>\n",
       "      <td>KLKteZY-h_7wCcWD2VWzFw</td>\n",
       "      <td>https://www.yelp.com/biz/modistas-de-lisboa-li...</td>\n",
       "      <td>Amazing job every time by the nicest ladies.  ...</td>\n",
       "      <td>5.0</td>\n",
       "      <td>2015-05-26 01:15:40</td>\n",
       "      <td>sC9D9y9KS-vDFYG8elXADw</td>\n",
       "      <td>https://www.yelp.com/user_details?userid=sC9D9...</td>\n",
       "      <td>None</td>\n",
       "      <td>...</td>\n",
       "      <td>NaN</td>\n",
       "      <td>NaN</td>\n",
       "      <td>NaN</td>\n",
       "      <td>NaN</td>\n",
       "      <td>NaN</td>\n",
       "      <td>NaN</td>\n",
       "      <td>NaN</td>\n",
       "      <td>NaN</td>\n",
       "      <td>NaN</td>\n",
       "      <td>amazing job every time nicest ladies tailoring...</td>\n",
       "    </tr>\n",
       "    <tr>\n",
       "      <th>5</th>\n",
       "      <td>BKvJAyb_c9N2rDhlwmoAGg</td>\n",
       "      <td>{'reviews': [{'id': 'BPT2eu2VN8FJY09hn8kCMA', ...</td>\n",
       "      <td>BPT2eu2VN8FJY09hn8kCMA</td>\n",
       "      <td>https://www.yelp.com/biz/chicora%C3%A7%C3%A3o-...</td>\n",
       "      <td>Went in after seeing the online reviews. Great...</td>\n",
       "      <td>5.0</td>\n",
       "      <td>2020-02-06 13:54:51</td>\n",
       "      <td>IMtl4xiBni9Xb-LABk6NaQ</td>\n",
       "      <td>https://www.yelp.com/user_details?userid=IMtl4...</td>\n",
       "      <td>https://s3-media2.fl.yelpcdn.com/photo/9oaPXtI...</td>\n",
       "      <td>...</td>\n",
       "      <td>ZGJaT1t-q_WrKMPClUiZ-w</td>\n",
       "      <td>https://www.yelp.com/biz/chicora%C3%A7%C3%A3o-...</td>\n",
       "      <td>Passing be to St Jorge Castella and saw this l...</td>\n",
       "      <td>5.0</td>\n",
       "      <td>2019-01-23 10:48:20</td>\n",
       "      <td>Bi9FbQORM7qs4TJ3CeWuLA</td>\n",
       "      <td>https://www.yelp.com/user_details?userid=Bi9Fb...</td>\n",
       "      <td>None</td>\n",
       "      <td>Alan D.</td>\n",
       "      <td>went seeing online reviews great store array s...</td>\n",
       "    </tr>\n",
       "  </tbody>\n",
       "</table>\n",
       "<p>5 rows × 30 columns</p>\n",
       "</div>"
      ],
      "text/plain": [
       "              business_id                                           response  \\\n",
       "1  FcXRFTG4mH9n_0K3GQXR9w  {'reviews': [{'id': 'aRt058EBVtgzQneA3aRV9w', ...   \n",
       "2  OC-bzpOIFvqjmk-3JMu23Q  {'reviews': [{'id': 'Zr_CH5uslW3yIGiD6koCug', ...   \n",
       "3  my5oNNumojOxC0BbCXRxhw  {'reviews': [{'id': 'fhsZrT_fJCOo54QmLIx51w', ...   \n",
       "4  0DyhgfjZBeyPbU0VxdHkZg  {'reviews': [{'id': 'KLKteZY-h_7wCcWD2VWzFw', ...   \n",
       "5  BKvJAyb_c9N2rDhlwmoAGg  {'reviews': [{'id': 'BPT2eu2VN8FJY09hn8kCMA', ...   \n",
       "\n",
       "               id_review1                                        url_review1  \\\n",
       "1  aRt058EBVtgzQneA3aRV9w  https://www.yelp.com/biz/feel-rio-lisboa?adjus...   \n",
       "2  Zr_CH5uslW3yIGiD6koCug  https://www.yelp.com/biz/bowl-lisboa?adjust_cr...   \n",
       "3  fhsZrT_fJCOo54QmLIx51w  https://www.yelp.com/biz/luvaria-ulisses-lisbo...   \n",
       "4  KLKteZY-h_7wCcWD2VWzFw  https://www.yelp.com/biz/modistas-de-lisboa-li...   \n",
       "5  BPT2eu2VN8FJY09hn8kCMA  https://www.yelp.com/biz/chicora%C3%A7%C3%A3o-...   \n",
       "\n",
       "                                        text_review1  rating_review1  \\\n",
       "1  Best acai bowl I've ever had, you can see them...             5.0   \n",
       "2  SERIOUSLY the best smoothie bowl i've ever had...             5.0   \n",
       "3  \"The tiniest shop in Lisbon\" selling high qual...             5.0   \n",
       "4  Amazing job every time by the nicest ladies.  ...             5.0   \n",
       "5  Went in after seeing the online reviews. Great...             5.0   \n",
       "\n",
       "  time_created_review1         user.id_review1  \\\n",
       "1  2017-10-18 11:46:25  ktGeCJnj55tY8CfpDtZnJA   \n",
       "2  2019-03-29 15:43:25  0_BKq8aO5gzEFd_NegrA9g   \n",
       "3  2019-09-19 13:14:21  vL-7Z3rtMYLbY-L7Xd0JAw   \n",
       "4  2015-05-26 01:15:40  sC9D9y9KS-vDFYG8elXADw   \n",
       "5  2020-02-06 13:54:51  IMtl4xiBni9Xb-LABk6NaQ   \n",
       "\n",
       "                            user.profile_url_review1  \\\n",
       "1  https://www.yelp.com/user_details?userid=ktGeC...   \n",
       "2  https://www.yelp.com/user_details?userid=0_BKq...   \n",
       "3  https://www.yelp.com/user_details?userid=vL-7Z...   \n",
       "4  https://www.yelp.com/user_details?userid=sC9D9...   \n",
       "5  https://www.yelp.com/user_details?userid=IMtl4...   \n",
       "\n",
       "                              user.image_url_review1  ...  \\\n",
       "1                                               None  ...   \n",
       "2                                               None  ...   \n",
       "3  https://s3-media3.fl.yelpcdn.com/photo/pOOofm2...  ...   \n",
       "4                                               None  ...   \n",
       "5  https://s3-media2.fl.yelpcdn.com/photo/9oaPXtI...  ...   \n",
       "\n",
       "               id_review3                                        url_review3  \\\n",
       "1                     NaN                                                NaN   \n",
       "2                     NaN                                                NaN   \n",
       "3  1eyWO2I2RVnTt8gQwbtQuA  https://www.yelp.com/biz/luvaria-ulisses-lisbo...   \n",
       "4                     NaN                                                NaN   \n",
       "5  ZGJaT1t-q_WrKMPClUiZ-w  https://www.yelp.com/biz/chicora%C3%A7%C3%A3o-...   \n",
       "\n",
       "                                        text_review3 rating_review3  \\\n",
       "1                                                NaN            NaN   \n",
       "2                                                NaN            NaN   \n",
       "3  Small quaint shop that a coworker of mine rave...            5.0   \n",
       "4                                                NaN            NaN   \n",
       "5  Passing be to St Jorge Castella and saw this l...            5.0   \n",
       "\n",
       "   time_created_review3         user.id_review3  \\\n",
       "1                   NaN                     NaN   \n",
       "2                   NaN                     NaN   \n",
       "3   2019-03-23 10:35:06  q24tuTbr2MuvbYT5eHSG9g   \n",
       "4                   NaN                     NaN   \n",
       "5   2019-01-23 10:48:20  Bi9FbQORM7qs4TJ3CeWuLA   \n",
       "\n",
       "                            user.profile_url_review3  \\\n",
       "1                                                NaN   \n",
       "2                                                NaN   \n",
       "3  https://www.yelp.com/user_details?userid=q24tu...   \n",
       "4                                                NaN   \n",
       "5  https://www.yelp.com/user_details?userid=Bi9Fb...   \n",
       "\n",
       "                              user.image_url_review3 user.name_review3  \\\n",
       "1                                                NaN               NaN   \n",
       "2                                                NaN               NaN   \n",
       "3  https://s3-media3.fl.yelpcdn.com/photo/Zv0Gt29...            Jay B.   \n",
       "4                                                NaN               NaN   \n",
       "5                                               None           Alan D.   \n",
       "\n",
       "                                          clean_text  \n",
       "1  best acai bowl ever see processing raw acai ri...  \n",
       "2  seriously best smoothie bowl ever would highly...  \n",
       "3  tiniest shop lisbon selling high quality custo...  \n",
       "4  amazing job every time nicest ladies tailoring...  \n",
       "5  went seeing online reviews great store array s...  \n",
       "\n",
       "[5 rows x 30 columns]"
      ]
     },
     "execution_count": 77,
     "metadata": {},
     "output_type": "execute_result"
    }
   ],
   "source": [
    "data['clean_text'] = data['text_review1'].apply(clean)\n",
    "data.head()"
   ]
  },
  {
   "cell_type": "markdown",
   "id": "173c2996-23d6-4dc6-8790-f262da5f47c0",
   "metadata": {
    "tags": []
   },
   "source": [
    "## 5 star reviews"
   ]
  },
  {
   "cell_type": "code",
   "execution_count": null,
   "id": "66be7d1e-5d90-444b-bc87-b83791870e4e",
   "metadata": {},
   "outputs": [],
   "source": [
    "data[data['rating_review1']==5]"
   ]
  },
  {
   "cell_type": "code",
   "execution_count": null,
   "id": "f3e0c59d-9c6e-4964-bee3-a27b4297d92f",
   "metadata": {},
   "outputs": [],
   "source": [
    "data_5_star = data[data['rating_review1']==5.0].apply(clean)"
   ]
  },
  {
   "cell_type": "code",
   "execution_count": 97,
   "id": "29a66190-8238-4058-902c-6ac54bf067fd",
   "metadata": {},
   "outputs": [],
   "source": [
    "from sklearn.feature_extraction.text import TfidfVectorizer\n",
    "\n",
    "# Tuned TFidfvectorizer\n",
    "def Tfidf_fit(series):\n",
    "    vec = TfidfVectorizer(ngram_range = (2,2), min_df=0.01, max_df = 0.05).fit(series)\n",
    "    return vec\n",
    "\n",
    "def transform_create_list(series):\n",
    "    vectors = Tfidf_fit(series).transform(series) # Transform text to vectors\n",
    "\n",
    "    sum_tfidf = vectors.sum(axis=0) # Sum of tfidf weighting by word\n",
    "\n",
    "    tfidf_list = [(word, sum_tfidf[0, idx]) for word, idx in     vec.vocabulary_.items()]  # Get the word and associated weight\n",
    "\n",
    "    sorted_tfidf_list =sorted(tfidf_list, key = lambda x: x[1], reverse=True)  # Sort\n",
    "\n",
    "    return sorted_tfidf_list"
   ]
  },
  {
   "cell_type": "code",
   "execution_count": 98,
   "id": "e5fcadd5-e4c1-437b-8bc5-52b82be229b8",
   "metadata": {},
   "outputs": [
    {
     "data": {
      "text/plain": [
       "TfidfVectorizer(analyzer='word', binary=False, decode_error='strict',\n",
       "                dtype=<class 'numpy.float64'>, encoding='utf-8',\n",
       "                input='content', lowercase=True, max_df=0.05, max_features=None,\n",
       "                min_df=0.01, ngram_range=(2, 2), norm='l2', preprocessor=None,\n",
       "                smooth_idf=True, stop_words=None, strip_accents=None,\n",
       "                sublinear_tf=False, token_pattern='(?u)\\\\b\\\\w\\\\w+\\\\b',\n",
       "                tokenizer=None, use_idf=True, vocabulary=None)"
      ]
     },
     "execution_count": 98,
     "metadata": {},
     "output_type": "execute_result"
    }
   ],
   "source": [
    "Tfidf_fit(data.clean_text)"
   ]
  },
  {
   "cell_type": "code",
   "execution_count": 99,
   "id": "1d12987c-5bff-4905-9c27-8f3f88df8260",
   "metadata": {
    "tags": []
   },
   "outputs": [
    {
     "data": {
      "text/plain": [
       "[('great service', 36.617540338590494),\n",
       " ('de nata', 33.80013594826474),\n",
       " ('great food', 32.15374024604831),\n",
       " ('great place', 31.439687881145844),\n",
       " ('really good', 31.40603031666248),\n",
       " ('found place', 28.8234175712233),\n",
       " ('highly recommend', 25.88712174295713),\n",
       " ('staff super', 25.84145176904067),\n",
       " ('pastel de', 22.57333869170531)]"
      ]
     },
     "execution_count": 99,
     "metadata": {},
     "output_type": "execute_result"
    }
   ],
   "source": [
    "transform_create_list(data.clean_text)"
   ]
  },
  {
   "cell_type": "markdown",
   "id": "9aa8be80-7fa8-4528-b082-5cd9372fb7bb",
   "metadata": {},
   "source": [
    "## 1 star reviews"
   ]
  },
  {
   "cell_type": "code",
   "execution_count": null,
   "id": "9f1b15d3-5f1f-44e6-b8af-298083509690",
   "metadata": {},
   "outputs": [],
   "source": [
    "data[data['rating_review1']==5]"
   ]
  }
 ],
 "metadata": {
  "kernelspec": {
   "display_name": "Python 3 (ipykernel)",
   "language": "python",
   "name": "python3"
  },
  "language_info": {
   "codemirror_mode": {
    "name": "ipython",
    "version": 3
   },
   "file_extension": ".py",
   "mimetype": "text/x-python",
   "name": "python",
   "nbconvert_exporter": "python",
   "pygments_lexer": "ipython3",
   "version": "3.8.12"
  }
 },
 "nbformat": 4,
 "nbformat_minor": 5
}
